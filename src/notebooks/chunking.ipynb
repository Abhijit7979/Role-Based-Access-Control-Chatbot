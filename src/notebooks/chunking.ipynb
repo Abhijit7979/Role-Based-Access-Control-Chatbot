{
 "cells": [
  {
   "cell_type": "code",
   "execution_count": 81,
   "id": "bbae2e35",
   "metadata": {},
   "outputs": [],
   "source": [
    "from langchain.text_splitter import MarkdownHeaderTextSplitter\n",
    "import json\n",
    "import pandas as pd"
   ]
  },
  {
   "cell_type": "code",
   "execution_count": 82,
   "id": "5cbbb8d1",
   "metadata": {},
   "outputs": [],
   "source": [
    "splitter = MarkdownHeaderTextSplitter(headers_to_split_on=[\n",
    "    (\"#\", \"H1\"),\n",
    "    (\"##\", \"H2\"),\n",
    "    (\"###\", \"H3\"),\n",
    "    (\"####\", \"H4\"),\n",
    "])"
   ]
  },
  {
   "cell_type": "code",
   "execution_count": 83,
   "id": "a00ce057",
   "metadata": {},
   "outputs": [],
   "source": [
    "with open(\"/Users/abhijit/Desktop/DS-RPC-01/data/engineering/engineering_master_doc.md\", \"r\", encoding=\"utf-8\") as file:\n",
    "    md_content = file.read()\n"
   ]
  },
  {
   "cell_type": "code",
   "execution_count": 84,
   "id": "a281c680",
   "metadata": {},
   "outputs": [],
   "source": [
    "chunks = splitter.split_text(md_content)"
   ]
  },
  {
   "cell_type": "code",
   "execution_count": 85,
   "id": "8f43f162",
   "metadata": {},
   "outputs": [
    {
     "data": {
      "text/plain": [
       "[Document(metadata={'H1': 'FinSolve Technologies Engineering Document', 'H2': '1. Introduction', 'H3': '1.1 Company Overview'}, page_content='FinSolve Technologies is a leading FinTech company headquartered in Bangalore, India, with operations across North America, Europe, and Asia-Pacific. Founded in 2018, FinSolve provides innovative financial solutions, including digital banking, payment processing, wealth management, and enterprise financial analytics, serving over 2 million individual users and 10,000 businesses globally.'),\n",
       " Document(metadata={'H1': 'FinSolve Technologies Engineering Document', 'H2': '1. Introduction', 'H3': '1.2 Purpose'}, page_content='This engineering document outlines the technical architecture, development processes, and operational guidelines for FinSolve\\'s product ecosystem. It serves as a comprehensive guide for engineering teams, stakeholders, and partners to ensure alignment with FinSolve\\'s mission: \"To empower financial freedom through secure, scalable, and innovative technology solutions.\"'),\n",
       " Document(metadata={'H1': 'FinSolve Technologies Engineering Document', 'H2': '1. Introduction', 'H3': '1.3 Scope'}, page_content='This document covers:  \\n* System architecture and infrastructure\\n* Software development lifecycle (SDLC)\\n* Technology stack\\n* Security and compliance frameworks\\n* Testing and quality assurance methodologies\\n* Deployment and DevOps practices\\n* Monitoring and maintenance protocols\\n* Future technology roadmap'),\n",
       " Document(metadata={'H1': 'FinSolve Technologies Engineering Document', 'H2': '1. Introduction', 'H3': '1.4 Document Control'}, page_content='| Version | Date | Author | Changes |\\n|---------|------|--------|---------|\\n| 1.0 | 2025-05-01 | Engineering Team | Initial version |\\n| 1.1 | 2025-05-14 | Tech Architecture Council | Updated diagrams and monitoring section |'),\n",
       " Document(metadata={'H1': 'FinSolve Technologies Engineering Document', 'H2': '2. System Architecture', 'H3': '2.1 Overview'}, page_content=\"FinSolve's architecture is a microservices-based, cloud-native system designed for scalability, resilience, and security. It leverages a modular design to support rapid feature development and seamless integration with third-party financial systems (e.g., payment gateways, credit bureaus, regulatory reporting systems).\"),\n",
       " Document(metadata={'H1': 'FinSolve Technologies Engineering Document', 'H2': '2. System Architecture', 'H3': '2.2 High-Level Architecture'}, page_content='```\\n[Client Apps]\\n├── Mobile Apps (iOS, Android)\\n├── Web App (React)\\n└── APIs (REST, GraphQL)\\n\\n[API Gateway]\\n└── AWS API Gateway (Routing, Authentication, Rate Limiting)\\n\\n[Microservices Layer]\\n├── Authentication Service (OAuth 2.0, JWT)\\n├── Payment Processing Service\\n├── Wealth Management Service\\n├── Analytics Service\\n└── Notification Service\\n\\n[Data Layer]\\n├── PostgreSQL (Transactional Data)\\n├── MongoDB (User Profiles, Metadata)\\n├── Redis (Caching, Session Management)\\n└── Amazon S3 (Documents, Backups)\\n\\n[Infrastructure]\\n├── AWS (EC2, ECS, Lambda)\\n├── Kubernetes (Orchestration)\\n└── Cloudflare (CDN, DDoS Protection)\\n```'),\n",
       " Document(metadata={'H1': 'FinSolve Technologies Engineering Document', 'H2': '2. System Architecture', 'H3': '2.3 Key Components', 'H4': '2.3.1 Client Applications'}, page_content='* **Mobile Apps**: Native mobile applications developed using Swift (iOS) and Kotlin (Android), providing a seamless user experience with biometric authentication, push notifications, and offline capabilities.\\n* **Web Application**: A responsive Single Page Application (SPA) built with React, Redux, and Tailwind CSS, optimized for various screen sizes and compliant with WCAG 2.1 accessibility standards.\\n* **API Interfaces**: RESTful and GraphQL APIs enabling third-party integrations, partner systems, and future expansions.'),\n",
       " Document(metadata={'H1': 'FinSolve Technologies Engineering Document', 'H2': '2. System Architecture', 'H3': '2.3 Key Components', 'H4': '2.3.2 API Gateway'}, page_content='* Centralized entry point for all client requests\\n* Implements authentication, authorization, and rate limiting\\n* Provides API versioning and documentation via Swagger/OpenAPI\\n* Handles request logging and basic analytics\\n* AWS API Gateway with custom Lambda authorizers for sophisticated permission models'),\n",
       " Document(metadata={'H1': 'FinSolve Technologies Engineering Document', 'H2': '2. System Architecture', 'H3': '2.3 Key Components', 'H4': '2.3.3 Microservices'}, page_content='* **Authentication Service**: Manages user identity, authentication (OAuth 2.0), and authorization using JWT tokens. Supports multi-factor authentication and Single Sign-On (SSO).\\n* **Payment Processing Service**: Handles domestic and international payment transactions, recurring payments, and reconciliation with multiple payment gateways.\\n* **Wealth Management Service**: Provides portfolio management, investment recommendations, and financial goal tracking.\\n* **Analytics Service**: Processes user financial data to deliver insights, spending patterns, and budgeting recommendations.\\n* **Notification Service**: Manages push notifications, emails, and SMS alerts based on user preferences and system events.'),\n",
       " Document(metadata={'H1': 'FinSolve Technologies Engineering Document', 'H2': '2. System Architecture', 'H3': '2.3 Key Components', 'H4': '2.3.4 Data Layer'}, page_content='* **PostgreSQL**: Primary relational database for transactional data requiring ACID compliance.\\n* **MongoDB**: NoSQL database storing user profiles, preferences, and semi-structured data.\\n* **Redis**: In-memory data store for caching, session management, and pub/sub messaging between services.\\n* **Amazon S3**: Object storage for documents, statements, user uploads, and encrypted backups.'),\n",
       " Document(metadata={'H1': 'FinSolve Technologies Engineering Document', 'H2': '2. System Architecture', 'H3': '2.3 Key Components', 'H4': '2.3.5 Infrastructure'}, page_content='* **AWS**: Primary cloud provider utilizing EC2, ECS, Lambda, RDS, S3, CloudFront, and other managed services.\\n* **Kubernetes**: Container orchestration platform managing microservices deployment, scaling, and failover.\\n* **Cloudflare**: Content Delivery Network (CDN) and security layer providing DDoS protection, Web Application Firewall (WAF), and edge caching.'),\n",
       " Document(metadata={'H1': 'FinSolve Technologies Engineering Document', 'H2': '2. System Architecture', 'H3': '2.4 Scalability Architecture', 'H4': '2.4.1 Horizontal Scaling'}, page_content='* Kubernetes Horizontal Pod Autoscaler (HPA) automatically scales services based on CPU/memory metrics and custom metrics (e.g., queue length).\\n* Auto-scaling groups for EC2 instances in the underlying infrastructure.\\n* Microservices designed to be stateless, enabling seamless scaling.'),\n",
       " Document(metadata={'H1': 'FinSolve Technologies Engineering Document', 'H2': '2. System Architecture', 'H3': '2.4 Scalability Architecture', 'H4': '2.4.2 Database Scalability'}, page_content='* PostgreSQL uses range-based sharding for high-volume transactional tables.\\n* Read replicas for analytics and reporting workloads.\\n* MongoDB sharding for user data distribution across multiple clusters.\\n* Database connection pooling via PgBouncer to optimize connection management.'),\n",
       " Document(metadata={'H1': 'FinSolve Technologies Engineering Document', 'H2': '2. System Architecture', 'H3': '2.4 Scalability Architecture', 'H4': '2.4.3 Caching Strategy'}, page_content='* Multi-level caching architecture:\\n* Application-level caching with Redis\\n* API Gateway response caching\\n* CDN caching for static assets\\n* Database query result caching\\n* Cache invalidation using event-based triggers and time-to-live (TTL) policies.'),\n",
       " Document(metadata={'H1': 'FinSolve Technologies Engineering Document', 'H2': '2. System Architecture', 'H3': '2.5 Resilience and Fault Tolerance', 'H4': '2.5.1 High Availability'}, page_content='* Multi-Availability Zone (AZ) deployments in AWS regions.\\n* Active-active configurations for critical services.\\n* Database replication with automated failover capabilities.\\n* Global load balancing for geographic redundancy.'),\n",
       " Document(metadata={'H1': 'FinSolve Technologies Engineering Document', 'H2': '2. System Architecture', 'H3': '2.5 Resilience and Fault Tolerance', 'H4': '2.5.2 Circuit Breakers'}, page_content='* Implemented using Istio service mesh to prevent cascading failures.\\n* Configurable thresholds for error rates and latency.\\n* Fallback mechanisms for degraded service modes.'),\n",
       " Document(metadata={'H1': 'FinSolve Technologies Engineering Document', 'H2': '2. System Architecture', 'H3': '2.5 Resilience and Fault Tolerance', 'H4': '2.5.3 Disaster Recovery'}, page_content='* Regular backups to Amazon S3 with versioning enabled.\\n* Cross-region replication for critical data.\\n* Recovery Time Objective (RTO) of 4 hours.\\n* Recovery Point Objective (RPO) of 15 minutes.\\n* Quarterly disaster recovery drills and documentation.'),\n",
       " Document(metadata={'H1': 'FinSolve Technologies Engineering Document', 'H2': '2. System Architecture', 'H3': '2.5 Resilience and Fault Tolerance', 'H4': '2.5.4 Data Consistency'}, page_content='* Event sourcing patterns for critical financial transactions.\\n* Saga pattern for distributed transactions across microservices.\\n* Eventual consistency with compensation transactions where appropriate.'),\n",
       " Document(metadata={'H1': 'FinSolve Technologies Engineering Document', 'H2': '3. Technology Stack', 'H3': '3.1 Comprehensive Technology Matrix'}, page_content='| Layer | Primary Technologies | Supporting Technologies | Testing Tools |\\n|-------|----------------------|-------------------------|--------------|\\n| Frontend | React 18, Redux Toolkit, Tailwind CSS | TypeScript, React Query, D3.js | Jest, React Testing Library, Cypress |\\n| Mobile | Swift 5.5 (iOS), Kotlin 1.6 (Android) | SwiftUI, Jetpack Compose | XCTest, Espresso, Appium |\\n| Backend | Node.js 18 LTS, Python 3.11 (FastAPI), Go 1.19 | Express.js, Pydantic, Gin | Jest, Pytest, Go test |\\n| APIs | REST, GraphQL, gRPC | OpenAPI, Apollo Server, Protocol Buffers | Postman, GraphQL Playground |\\n| Database | PostgreSQL 15, MongoDB 6.0, Redis 7.0 | TimescaleDB, Mongoose, Jedis | TestContainers, MongoDB Memory Server |\\n| Infrastructure | AWS, Kubernetes 1.25+ | Terraform, Helm, Kustomize | InSpec, Terratest |\\n| CI/CD | Jenkins, GitHub Actions, ArgoCD | SonarQube, Nexus, Harbor | JUnit, pytest |\\n| Monitoring | Prometheus, Grafana, ELK Stack | Jaeger, Kiali, Fluentd | Synthetic monitoring, Chaos Monkey |\\n| Security | OAuth 2.0, JWT, AWS WAF, Cloudflare | Vault, CertManager, OPA | OWASP ZAP, Snyk |'),\n",
       " Document(metadata={'H1': 'FinSolve Technologies Engineering Document', 'H2': '3. Technology Stack', 'H3': '3.2 Technology Selection Criteria'}, page_content='* **Performance**: Technologies that deliver sub-200ms response times for critical paths.\\n* **Scalability**: Ability to handle projected growth (10x in 3 years).\\n* **Maturity**: Preference for well-established technologies with active communities.\\n* **Security**: Strong security models and regular security updates.\\n* **Developer Experience**: Tools that enhance productivity and reduce bugs.\\n* **Cost Efficiency**: Balance between performance and operational costs.'),\n",
       " Document(metadata={'H1': 'FinSolve Technologies Engineering Document', 'H2': '3. Technology Stack', 'H3': '3.3 Version Control and Management'}, page_content='* All dependencies are locked to specific versions.\\n* Dependency upgrade schedule: Security patches (immediate), Minor versions (monthly), Major versions (quarterly).\\n* Automated vulnerability scanning of dependencies using Snyk and Dependabot.'),\n",
       " Document(metadata={'H1': 'FinSolve Technologies Engineering Document', 'H2': '4. Software Development Lifecycle (SDLC)', 'H3': '4.1 Agile Methodology'}, page_content='FinSolve follows a Scrum-based Agile process with 2-week sprints:'),\n",
       " Document(metadata={'H1': 'FinSolve Technologies Engineering Document', 'H2': '4. Software Development Lifecycle (SDLC)', 'H3': '4.1 Agile Methodology', 'H4': '4.1.1 Scrum Ceremonies'}, page_content='* **Sprint Planning**: Product owners and engineering leads define sprint goals and prioritize tasks (4 hours).\\n* **Daily Standups**: 15-minute meetings to track progress and address blockers.\\n* **Sprint Review**: Demo of completed features to stakeholders (2 hours).\\n* **Sprint Retrospective**: Team discusses improvements for the next sprint (1.5 hours).'),\n",
       " Document(metadata={'H1': 'FinSolve Technologies Engineering Document', 'H2': '4. Software Development Lifecycle (SDLC)', 'H3': '4.1 Agile Methodology', 'H4': '4.1.2 Roles and Responsibilities'}, page_content='* **Product Owner**: Maintains product backlog, sets priorities, accepts stories.\\n* **Scrum Master**: Facilitates ceremonies, removes impediments, coaches team.\\n* **Development Team**: Self-organizes to deliver sprint commitments.\\n* **Technical Lead**: Ensures technical excellence and architectural consistency.'),\n",
       " Document(metadata={'H1': 'FinSolve Technologies Engineering Document', 'H2': '4. Software Development Lifecycle (SDLC)', 'H3': '4.2 Development Workflow', 'H4': '4.2.1 Requirements Engineering'}, page_content='* Product managers create user stories in Jira following the format: \"As a [user role], I want [feature] so that [benefit].\"\\n* Acceptance criteria defined using Gherkin syntax (Given-When-Then).\\n* Engineering leads validate technical feasibility and estimate complexity using story points (Fibonacci sequence).\\n* Definition of Ready (DoR) checklist ensures stories are fully specified before development.'),\n",
       " Document(metadata={'H1': 'FinSolve Technologies Engineering Document', 'H2': '4. Software Development Lifecycle (SDLC)', 'H3': '4.2 Development Workflow', 'H4': '4.2.2 Design Phase'}, page_content='* Architects create technical designs using UML diagrams and C4 model documentation.\\n* API specifications defined using OpenAPI/Swagger with clear request/response examples.\\n* UI/UX designs created in Figma with component-based architecture.\\n* Design reviews conducted with senior engineers and stakeholders.'),\n",
       " Document(metadata={'H1': 'FinSolve Technologies Engineering Document', 'H2': '4. Software Development Lifecycle (SDLC)', 'H3': '4.2 Development Workflow', 'H4': '4.2.3 Coding Standards'}, page_content='* Language-specific style guides enforced via linters:\\n* JavaScript/TypeScript: ESLint with Airbnb configuration\\n* Python: Black formatter and Flake8\\n* Go: gofmt and golint\\n* SQL: pgFormatter\\n* Documentation requirements:\\n* Public APIs must have complete documentation\\n* Complex algorithms require explanatory comments\\n* README.md files for all microservices'),\n",
       " Document(metadata={'H1': 'FinSolve Technologies Engineering Document', 'H2': '4. Software Development Lifecycle (SDLC)', 'H3': '4.2 Development Workflow', 'H4': '4.2.4 Code Review Process'}, page_content='* Pull requests require at least two approvals:\\n* One from a peer engineer\\n* One from a senior engineer or technical lead\\n* Automated checks must pass before code review:\\n* Linting and style validation\\n* Unit test coverage (minimum 85%)\\n* No security vulnerabilities (via Snyk)\\n* Review guidelines focus on:\\n* Correctness\\n* Performance\\n* Security\\n* Maintainability\\n* Test coverage'),\n",
       " Document(metadata={'H1': 'FinSolve Technologies Engineering Document', 'H2': '4. Software Development Lifecycle (SDLC)', 'H3': '4.2 Development Workflow', 'H4': '4.2.5 Testing Process'}, page_content='* Automated tests run in the following sequence:\\n* Unit tests\\n* Integration tests\\n* End-to-end tests\\n* Performance tests\\n* Test environments:\\n* Development (automated deployment of feature branches)\\n* Staging (production-like for QA testing)\\n* Pre-production (exact replica of production)'),\n",
       " Document(metadata={'H1': 'FinSolve Technologies Engineering Document', 'H2': '4. Software Development Lifecycle (SDLC)', 'H3': '4.2 Development Workflow', 'H4': '4.2.6 Deployment Pipeline'}, page_content='* Continuous integration via Jenkins or GitHub Actions:\\n* Build and package\\n* Run tests\\n* Static code analysis\\n* Security scanning\\n* Continuous deployment to development and staging environments\\n* Production releases:\\n* Scheduled bi-weekly\\n* Require manual approval\\n* Use blue-green or canary deployment strategies'),\n",
       " Document(metadata={'H1': 'FinSolve Technologies Engineering Document', 'H2': '4. Software Development Lifecycle (SDLC)', 'H3': '4.3 Version Control Strategy', 'H4': '4.3.1 Git Workflow'}, page_content='* Tool: Git (hosted on GitHub Enterprise)\\n* Branch Strategy: Gitflow\\n* `main`: Production-ready code\\n* `develop`: Integration branch for features\\n* `feature/*`: New features and non-emergency fixes\\n* `release/*`: Release preparation\\n* `hotfix/*`: Emergency production fixes'),\n",
       " Document(metadata={'H1': 'FinSolve Technologies Engineering Document', 'H2': '4. Software Development Lifecycle (SDLC)', 'H3': '4.3 Version Control Strategy', 'H4': '4.3.2 Commit Guidelines'}, page_content='* Semantic commit messages:\\n* `feat:` New features\\n* `fix:` Bug fixes\\n* `docs:` Documentation changes\\n* `style:` Code formatting\\n* `refactor:` Code restructuring\\n* `perf:` Performance improvements\\n* `test:` Test additions or corrections\\n* `chore:` Maintenance tasks\\n* Conventional commits linked to Jira tickets (e.g., `feat(AUTH-123): add biometric authentication`)'),\n",
       " Document(metadata={'H1': 'FinSolve Technologies Engineering Document', 'H2': '4. Software Development Lifecycle (SDLC)', 'H3': '4.3 Version Control Strategy', 'H4': '4.3.3 Release Management'}, page_content='* Semantic versioning (MAJOR.MINOR.PATCH)\\n* Automated changelog generation from commit messages\\n* Release notes published to internal documentation portal\\n* Post-release monitoring period with on-call support'),\n",
       " Document(metadata={'H1': 'FinSolve Technologies Engineering Document', 'H2': '5. Security and Compliance', 'H3': '5.1 Security Architecture', 'H4': '5.1.1 Authentication and Authorization'}, page_content='* **User Authentication**:\\n* OAuth 2.0 implementation with JWT tokens\\n* Multi-factor authentication (MFA) via SMS, email, or authenticator apps\\n* Biometric authentication for mobile devices\\n* Session management with configurable timeouts\\n* **Authorization**:\\n* Role-Based Access Control (RBAC) for administrative functions\\n* Attribute-Based Access Control (ABAC) for fine-grained permissions\\n* Regular permission audits and least-privilege enforcement'),\n",
       " Document(metadata={'H1': 'FinSolve Technologies Engineering Document', 'H2': '5. Security and Compliance', 'H3': '5.1 Security Architecture', 'H4': '5.1.2 Data Protection'}, page_content='* **Encryption**:\\n* Data in transit: TLS 1.3 for all communications\\n* Data at rest: AES-256 encryption using AWS KMS\\n* Field-level encryption for PII and financial data\\n* Database column-level encryption for sensitive fields\\n* **Data Classification**:\\n* Level 1: Public data\\n* Level 2: Internal use only\\n* Level 3: Confidential (PII, account data)\\n* Level 4: Restricted (payment credentials, authentication tokens)'),\n",
       " Document(metadata={'H1': 'FinSolve Technologies Engineering Document', 'H2': '5. Security and Compliance', 'H3': '5.1 Security Architecture', 'H4': '5.1.3 Network Security'}, page_content='* **Perimeter Protection**:\\n* AWS WAF for web application protection\\n* Cloudflare for DDoS mitigation\\n* IP whitelisting for administrative endpoints\\n* **Network Segmentation**:\\n* VPC with public, private, and restricted subnets\\n* Security groups with least-privilege rules\\n* Network ACLs as a secondary defense layer\\n* **API Security**:\\n* Rate limiting to prevent abuse\\n* Input validation and sanitization\\n* Request signing for partner APIs'),\n",
       " Document(metadata={'H1': 'FinSolve Technologies Engineering Document', 'H2': '5. Security and Compliance', 'H3': '5.2 Compliance Frameworks', 'H4': '5.2.1 Regulatory Compliance'}, page_content='* **Digital Personal Data Protection Act, 2023 (DPDP)**:\\n* Data localization requirements\\n* User consent management\\n* Right to access and delete personal data\\n* **General Data Protection Regulation (GDPR)**:\\n* Data subject rights\\n* Data Protection Impact Assessments\\n* Breach notification procedures\\n* **Payment Card Industry Data Security Standard (PCI-DSS)**:\\n* Level 1 compliance for payment processing\\n* Regular penetration testing\\n* Cardholder data environment isolation'),\n",
       " Document(metadata={'H1': 'FinSolve Technologies Engineering Document', 'H2': '5. Security and Compliance', 'H3': '5.2 Compliance Frameworks', 'H4': '5.2.2 Industry Standards'}, page_content='* **ISO 27001**: Information security management system\\n* **OWASP Top 10**: Protection against common web vulnerabilities\\n* **NIST Cybersecurity Framework**: Security control implementation'),\n",
       " Document(metadata={'H1': 'FinSolve Technologies Engineering Document', 'H2': '5. Security and Compliance', 'H3': '5.2 Compliance Frameworks', 'H4': '5.2.3 Compliance Monitoring'}, page_content='* Quarterly internal audits\\n* Annual external audits\\n* Automated compliance checks in CI/CD pipeline\\n* Continuous control monitoring via AWS Config'),\n",
       " Document(metadata={'H1': 'FinSolve Technologies Engineering Document', 'H2': '5. Security and Compliance', 'H3': '5.3 Security Operations', 'H4': '5.3.1 Vulnerability Management'}, page_content='* Regular scanning using:\\n* OWASP ZAP for dynamic application security testing\\n* Snyk for dependency vulnerabilities\\n* Custom scripts for business logic vulnerabilities\\n* Severity classification:\\n* Critical: Immediate remediation (24 hours)\\n* High: Remediation within 7 days\\n* Medium: Remediation within 30 days\\n* Low: Next planned release'),\n",
       " Document(metadata={'H1': 'FinSolve Technologies Engineering Document', 'H2': '5. Security and Compliance', 'H3': '5.3 Security Operations', 'H4': '5.3.2 Incident Response'}, page_content='* **Security Operations Center (SOC)**:\\n* 24/7 monitoring via Splunk\\n* Automated alerts based on MITRE ATT&CK framework\\n* Threat intelligence integration\\n* **Incident Classification**:\\n* P0: Critical (data breach, service outage)\\n* P1: High (potential breach, significant impact)\\n* P2: Medium (limited impact)\\n* P3: Low (minimal impact)\\n* **Response Procedure**:\\n* Identification and containment\\n* Evidence collection\\n* Remediation and recovery\\n* Post-incident analysis and lessons learned'),\n",
       " Document(metadata={'H1': 'FinSolve Technologies Engineering Document', 'H2': '5. Security and Compliance', 'H3': '5.3 Security Operations', 'H4': '5.3.3 Security Training'}, page_content='* Mandatory security awareness training for all employees\\n* Role-specific security training for developers, administrators\\n* Quarterly phishing simulations\\n* Security champions program within engineering teams'),\n",
       " Document(metadata={'H1': 'FinSolve Technologies Engineering Document', 'H2': '6. Testing and Quality Assurance', 'H3': '6.1 Testing Strategy', 'H4': '6.1.1 Test Pyramid'}, page_content='* **Unit Tests**:\\n* Cover 90% of code base\\n* Focus on business logic and edge cases\\n* Implemented using Jest (Node.js), Pytest (Python), Go testing\\n* **Integration Tests**:\\n* Validate microservice interactions\\n* Test database operations and external service integrations\\n* Implemented using Postman/Newman and custom test harnesses\\n* **End-to-End Tests**:\\n* Simulate complete user journeys\\n* Cover critical business flows\\n* Implemented with Cypress (web) and Appium (mobile)'),\n",
       " Document(metadata={'H1': 'FinSolve Technologies Engineering Document', 'H2': '6. Testing and Quality Assurance', 'H3': '6.1 Testing Strategy', 'H4': '6.1.2 Specialized Testing'}, page_content='* **Performance Testing**:\\n* Load testing with JMeter (target: 2,000 concurrent users)\\n* Stress testing to identify breaking points\\n* Endurance testing (24-hour continuous operation)\\n* Performance targets:\\n* API response time: P95 < 200ms\\n* Page load time: < 2 seconds\\n* **Security Testing**:\\n* OWASP ZAP for vulnerability scanning\\n* Manual penetration testing quarterly\\n* Secure code reviews for critical components\\n* **Accessibility Testing**:\\n* WCAG 2.1 AA compliance\\n* Screen reader compatibility\\n* Keyboard navigation support'),\n",
       " Document(metadata={'H1': 'FinSolve Technologies Engineering Document', 'H2': '6. Testing and Quality Assurance', 'H3': '6.1 Testing Strategy', 'H4': '6.1.3 Mobile Testing'}, page_content='* Testing across multiple iOS and Android versions\\n* Device farm for physical device testing\\n* Mobile-specific scenarios (offline mode, interruptions)'),\n",
       " Document(metadata={'H1': 'FinSolve Technologies Engineering Document', 'H2': '6. Testing and Quality Assurance', 'H3': '6.2 Test Automation', 'H4': '6.2.1 CI/CD Integration'}, page_content='* All tests integrated into Jenkins pipelines\\n* Parallelized test execution for faster feedback\\n* Automatic retry for flaky tests (maximum 3 attempts)'),\n",
       " Document(metadata={'H1': 'FinSolve Technologies Engineering Document', 'H2': '6. Testing and Quality Assurance', 'H3': '6.2 Test Automation', 'H4': '6.2.2 Test Data Management'}, page_content='* Anonymized production data for realistic testing\\n* Data generators for edge cases and stress testing\\n* On-demand test environment provisioning'),\n",
       " Document(metadata={'H1': 'FinSolve Technologies Engineering Document', 'H2': '6. Testing and Quality Assurance', 'H3': '6.2 Test Automation', 'H4': '6.2.3 Quality Gates'}, page_content='* Codecov enforces minimum 85% test coverage\\n* SonarQube quality gates for code smells and bugs\\n* Performance regression detection (< 10% degradation)'),\n",
       " Document(metadata={'H1': 'FinSolve Technologies Engineering Document', 'H2': '6. Testing and Quality Assurance', 'H3': '6.3 Defect Management', 'H4': '6.3.1 Bug Tracking'}, page_content='* Jira for logging and tracking defects\\n* Required fields: steps to reproduce, expected vs. actual results, environment\\n* Severity classification:\\n* S1 (Critical): System unusable, data corruption, security vulnerability\\n* S2 (Major): Major function impacted, no workaround\\n* S3 (Minor): Minor impact, workaround available\\n* S4 (Cosmetic): UI issues, typos, non-functional issues'),\n",
       " Document(metadata={'H1': 'FinSolve Technologies Engineering Document', 'H2': '6. Testing and Quality Assurance', 'H3': '6.3 Defect Management', 'H4': '6.3.2 Defect SLAs'}, page_content='* S1: Resolution within 24 hours, immediate patch release if needed\\n* S2: Resolution within 72 hours, included in next scheduled release\\n* S3: Resolution within 2 weeks\\n* S4: Prioritized based on business impact'),\n",
       " Document(metadata={'H1': 'FinSolve Technologies Engineering Document', 'H2': '6. Testing and Quality Assurance', 'H3': '6.3 Defect Management', 'H4': '6.3.3 Bug Triage Process'}, page_content='* Daily triage meeting for new bugs\\n* Weekly bug review for outstanding issues\\n* Monthly quality metrics review'),\n",
       " Document(metadata={'H1': 'FinSolve Technologies Engineering Document', 'H2': '7. Deployment and DevOps Practices', 'H3': '7.1 CI/CD Pipeline', 'H4': '7.1.1 Continuous Integration'}, page_content='* Every commit triggers:\\n* Code compilation and static analysis\\n* Unit and integration tests\\n* Security scanning\\n* Code quality checks\\n* Feature branches built and deployed to ephemeral environments'),\n",
       " Document(metadata={'H1': 'FinSolve Technologies Engineering Document', 'H2': '7. Deployment and DevOps Practices', 'H3': '7.1 CI/CD Pipeline', 'H4': '7.1.2 Continuous Deployment'}, page_content='* **Staging Environment**:\\n* Automatic deployment from the `develop` branch\\n* Full test suite execution\\n* Performance testing\\n* **Production Environment**:\\n* Scheduled deployments (bi-weekly)\\n* Blue-green deployment strategy\\n* Automated smoke tests post-deployment\\n* Automated rollback on failure'),\n",
       " Document(metadata={'H1': 'FinSolve Technologies Engineering Document', 'H2': '7. Deployment and DevOps Practices', 'H3': '7.1 CI/CD Pipeline', 'H4': '7.1.3 Pipeline Technologies'}, page_content='* Jenkins for build orchestration\\n* ArgoCD for GitOps-based deployment\\n* Nexus Repository for artifact storage\\n* Prometheus and Grafana for deployment monitoring'),\n",
       " Document(metadata={'H1': 'FinSolve Technologies Engineering Document', 'H2': '7. Deployment and DevOps Practices', 'H3': '7.2 Infrastructure as Code (IaC)', 'H4': '7.2.1 Cloud Infrastructure'}, page_content='* **Terraform Modules**:\\n* Network infrastructure (VPC, subnets, security groups)\\n* Compute resources (EC2, ECS, Lambda)\\n* Database services (RDS, DynamoDB)\\n* Storage and CDN (S3, CloudFront)\\n* **Version Control**:\\n* Infrastructure code in Git repository\\n* PR-based changes with peer review\\n* Change approval process for production infrastructure'),\n",
       " Document(metadata={'H1': 'FinSolve Technologies Engineering Document', 'H2': '7. Deployment and DevOps Practices', 'H3': '7.2 Infrastructure as Code (IaC)', 'H4': '7.2.2 Application Configuration'}, page_content='* **Kubernetes Resources**:\\n* Helm charts for all microservices\\n* Kustomize for environment-specific configurations\\n* ConfigMaps and Secrets for application settings\\n* **Config Management**:\\n* Environment variables for non-sensitive configuration\\n* AWS Parameter Store for sensitive configuration\\n* Feature flags via LaunchDarkly'),\n",
       " Document(metadata={'H1': 'FinSolve Technologies Engineering Document', 'H2': '7. Deployment and DevOps Practices', 'H3': '7.2 Infrastructure as Code (IaC)', 'H4': '7.2.3 IaC Security'}, page_content='* Terraform scanning with Checkov\\n* IAM permissions audit with CloudTracker\\n* Kubernetes security scanning with Kubesec'),\n",
       " Document(metadata={'H1': 'FinSolve Technologies Engineering Document', 'H2': '7. Deployment and DevOps Practices', 'H3': '7.3 Containerization Strategy', 'H4': '7.3.1 Docker Standards'}, page_content='* Minimal base images (Alpine where possible)\\n* Multi-stage builds to minimize image size\\n* Non-root user execution\\n* Image scanning with Trivy'),\n",
       " Document(metadata={'H1': 'FinSolve Technologies Engineering Document', 'H2': '7. Deployment and DevOps Practices', 'H3': '7.3 Containerization Strategy', 'H4': '7.3.2 Kubernetes Configuration'}, page_content='* Resource limits and requests for all containers\\n* Pod security policies enforced\\n* Network policies controlling pod-to-pod communication\\n* Horizontal Pod Autoscalers based on custom metrics'),\n",
       " Document(metadata={'H1': 'FinSolve Technologies Engineering Document', 'H2': '7. Deployment and DevOps Practices', 'H3': '7.3 Containerization Strategy', 'H4': '7.3.3 Registry and Artifact Management'}, page_content='* Private Docker registry with vulnerability scanning\\n* Image promotion process across environments\\n* Immutable tags with git commit hashes\\n* Image retention policies'),\n",
       " Document(metadata={'H1': 'FinSolve Technologies Engineering Document', 'H2': '7. Deployment and DevOps Practices', 'H3': '7.4 Release Management', 'H4': '7.4.1 Release Planning'}, page_content='* Bi-weekly release schedule\\n* Release planning meeting at sprint start\\n* Release readiness review before deployment'),\n",
       " Document(metadata={'H1': 'FinSolve Technologies Engineering Document', 'H2': '7. Deployment and DevOps Practices', 'H3': '7.4 Release Management', 'H4': '7.4.2 Release Process'}, page_content='* Release branch created from `develop`\\n* Regression testing on release branch\\n* Release notes compiled from Jira tickets\\n* Change Advisory Board approval for production deployment'),\n",
       " Document(metadata={'H1': 'FinSolve Technologies Engineering Document', 'H2': '7. Deployment and DevOps Practices', 'H3': '7.4 Release Management', 'H4': '7.4.3 Hotfix Process'}, page_content='* Critical issues patched directly from `main`\\n* Abbreviated testing focused on the specific issue\\n* Immediate deployment with post-deployment verification\\n* Patch merged back to `develop` branch'),\n",
       " Document(metadata={'H1': 'FinSolve Technologies Engineering Document', 'H2': '8. Monitoring and Maintenance', 'H3': '8.1 Monitoring Strategy', 'H4': '8.1.1 Metrics and Dashboards'}, page_content='* **Infrastructure Metrics**:\\n* CPU, memory, disk usage\\n* Network throughput and latency\\n* Container health and resource utilization\\n* **Application Metrics**:\\n* Request rate, errors, duration (RED)\\n* Business KPIs (transactions, user signups)\\n* Database performance (query times, connection counts)\\n* **Dashboards**:\\n* Executive summary\\n* Service health\\n* User experience\\n* Business metrics'),\n",
       " Document(metadata={'H1': 'FinSolve Technologies Engineering Document', 'H2': '8. Monitoring and Maintenance', 'H3': '8.1 Monitoring Strategy', 'H4': '8.1.2 Key Performance Indicators'}, page_content='* **Technical KPIs**:\\n* API latency (P95 < 200ms)\\n* Error rate (< 0.1% of requests)\\n* Uptime (99.99%)\\n* CPU/Memory utilization (< 80%)\\n* **Business KPIs**:\\n* Transaction success rate (> 99.9%)\\n* User session duration\\n* Feature adoption rates\\n* Conversion funnel metrics'),\n",
       " Document(metadata={'H1': 'FinSolve Technologies Engineering Document', 'H2': '8. Monitoring and Maintenance', 'H3': '8.1 Monitoring Strategy', 'H4': '8.1.3 Alerting Strategy'}, page_content='* **Alert Channels**:\\n* PagerDuty for critical incidents (24/7 response)\\n* Slack for non-critical notifications\\n* Email for informational alerts\\n* **Alert Configuration**:\\n* Avoid alert fatigue through tuned thresholds\\n* Multi-stage alerts (warning → critical)\\n* Auto-remediation where possible\\n* Clear ownership and escalation paths'),\n",
       " Document(metadata={'H1': 'FinSolve Technologies Engineering Document', 'H2': '8. Monitoring and Maintenance', 'H3': '8.2 Logging Framework', 'H4': '8.2.1 Log Architecture'}, page_content='* **Centralized Logging**:\\n* ELK Stack (Elasticsearch, Logstash, Kibana)\\n* Structured logging format (JSON)\\n* Consistent correlation IDs across services\\n* **Log Categories**:\\n* Application logs\\n* Access logs\\n* Audit logs\\n* System logs'),\n",
       " Document(metadata={'H1': 'FinSolve Technologies Engineering Document', 'H2': '8. Monitoring and Maintenance', 'H3': '8.2 Logging Framework', 'H4': '8.2.2 Log Management'}, page_content='* **Retention Policies**:\\n* Hot storage: 30 days (full resolution)\\n* Warm storage: 90 days (aggregated)\\n* Cold storage: 1 year (archival in S3)\\n* **Log Security**:\\n* PII redaction in logs\\n* Encrypted transport and storage\\n* Access control on log viewing'),\n",
       " Document(metadata={'H1': 'FinSolve Technologies Engineering Document', 'H2': '8. Monitoring and Maintenance', 'H3': '8.2 Logging Framework', 'H4': '8.2.3 Log Analysis'}, page_content='* Automated pattern detection\\n* Anomaly detection using machine learning\\n* Business insights extraction'),\n",
       " Document(metadata={'H1': 'FinSolve Technologies Engineering Document', 'H2': '8. Monitoring and Maintenance', 'H3': '8.3 Maintenance Procedures', 'H4': '8.3.1 Routine Maintenance'}, page_content='* **Patching Schedule**:\\n* OS updates: Monthly\\n* Dependency updates: Bi-weekly\\n* Critical security patches: Within 48 hours\\n* **Database Maintenance**:\\n* Index optimization: Weekly\\n* Vacuum and analyze: Daily\\n* Statistics update: Daily'),\n",
       " Document(metadata={'H1': 'FinSolve Technologies Engineering Document', 'H2': '8. Monitoring and Maintenance', 'H3': '8.3 Maintenance Procedures', 'H4': '8.3.2 Capacity Planning'}, page_content='* Quarterly infrastructure review\\n* Growth projections and scaling recommendations\\n* Cost optimization analysis'),\n",
       " Document(metadata={'H1': 'FinSolve Technologies Engineering Document', 'H2': '8. Monitoring and Maintenance', 'H3': '8.3 Maintenance Procedures', 'H4': '8.3.3 Technical Debt Management'}, page_content='* Dedicated 20% of sprint capacity to technical debt\\n* Quarterly architectural review\\n* Deprecation strategy for legacy components'),\n",
       " Document(metadata={'H1': 'FinSolve Technologies Engineering Document', 'H2': '9. Future Roadmap', 'H3': '9.1 Short-Term Initiatives (Q2–Q4 2025)', 'H4': '9.1.1 AI and Machine Learning Integration'}, page_content='* **Personalized Financial Insights**:\\n* Spending pattern recognition\\n* Anomaly detection for fraud prevention\\n* Budget recommendations based on user behavior\\n* **Chatbot Implementation**:\\n* Natural language processing for customer support\\n* Financial advisor virtual assistant\\n* Multi-language support'),\n",
       " Document(metadata={'H1': 'FinSolve Technologies Engineering Document', 'H2': '9. Future Roadmap', 'H3': '9.1 Short-Term Initiatives (Q2–Q4 2025)', 'H4': '9.1.2 Blockchain and Cryptocurrency'}, page_content='* **Digital Assets Support**:\\n* Cryptocurrency wallet integration\\n* Support for major cryptocurrencies (Bitcoin, Ethereum)\\n* Blockchain-based transaction verification\\n* **Smart Contracts**:\\n* Automated lending agreements\\n* Programmatic escrow services\\n* Transparent audit trails'),\n",
       " Document(metadata={'H1': 'FinSolve Technologies Engineering Document', 'H2': '9. Future Roadmap', 'H3': '9.1 Short-Term Initiatives (Q2–Q4 2025)', 'H4': '9.1.3 Localization and Internationalization'}, page_content='* **Language Support Expansion**:\\n* Hindi, Spanish, Mandarin, Arabic\\n* Right-to-left (RTL) language support\\n* Culturally sensitive financial terminology\\n* **Regional Compliance**:\\n* Regulatory adapters for new markets\\n* Regional payment method integration'),\n",
       " Document(metadata={'H1': 'FinSolve Technologies Engineering Document', 'H2': '9. Future Roadmap', 'H3': '9.2 Long-Term Strategic Direction (2026–2027)', 'H4': '9.2.1 Global Market Expansion'}, page_content='* **Geographic Targets**:\\n* Latin America (Brazil, Mexico)\\n* Africa (Nigeria, Kenya)\\n* Southeast Asia (Vietnam, Philippines)\\n* **Infrastructure**:\\n* Regional data centers\\n* Edge computing for lower latency\\n* Multi-region high availability'),\n",
       " Document(metadata={'H1': 'FinSolve Technologies Engineering Document', 'H2': '9. Future Roadmap', 'H3': '9.2 Long-Term Strategic Direction (2026–2027)', 'H4': '9.2.2 Open Banking Ecosystem'}, page_content='* **API Marketplace**:\\n* Developer portal and SDK\\n* Partner integration platform\\n* Revenue sharing model\\n* **Regulatory Compliance**:\\n* PSD2 and equivalent standards\\n* Strong Customer Authentication (SCA)\\n* Consent management framework'),\n",
       " Document(metadata={'H1': 'FinSolve Technologies Engineering Document', 'H2': '9. Future Roadmap', 'H3': '9.2 Long-Term Strategic Direction (2026–2027)', 'H4': '9.2.3 Next-Generation Infrastructure'}, page_content='* **Serverless Architecture**:\\n* Function-as-a-Service for suitable workloads\\n* Event-driven processing\\n* Pay-per-use cost model\\n* **Zero-Downtime Operations**:\\n* Advanced canary deployments with Istio\\n* Self-healing infrastructure\\n* Chaos engineering practice'),\n",
       " Document(metadata={'H1': 'FinSolve Technologies Engineering Document', 'H2': '10. Appendices', 'H3': '10.1 Glossary of Terms'}, page_content='| Term | Definition |\\n|------|------------|\\n| ACID | Atomicity, Consistency, Isolation, Durability - properties of database transactions |\\n| API | Application Programming Interface |\\n| CIDR | Classless Inter-Domain Routing - IP address allocation method |\\n| FinTech | Financial Technology |\\n| JWT | JSON Web Token - compact, URL-safe means of representing claims between two parties |\\n| Microservices | Architectural style structuring an application as a collection of loosely coupled services |\\n| OAuth 2.0 | Industry-standard protocol for authorization |\\n| PII | Personally Identifiable Information |\\n| REST | Representational State Transfer - architectural style for distributed systems |\\n| SPA | Single Page Application |'),\n",
       " Document(metadata={'H1': 'FinSolve Technologies Engineering Document', 'H2': '10. Appendices', 'H3': '10.2 Reference Documents'}, page_content='| Document | Location | Purpose |\\n|----------|----------|---------|\\n| AWS Well-Architected Framework | Internal Wiki | Cloud architecture best practices |\\n| PCI-DSS Guidelines | Security Portal | Payment security compliance |\\n| Kubernetes Documentation | kubernetes.io | Container orchestration reference |\\n| OWASP Security Standards | Internal Wiki | Web application security |\\n| Data Protection Policy | Legal Repository | Data handling requirements |'),\n",
       " Document(metadata={'H1': 'FinSolve Technologies Engineering Document', 'H2': '10. Appendices', 'H3': '10.3 Contact Information'}, page_content='| Team | Email | Response SLA |\\n|------|-------|--------------|\\n| Engineering Lead | engineering@finsolve.com | 4 hours |\\n| Security Team | security@finsolve.com | 1 hour |\\n| DevOps Support | devops@finsolve.com | 2 hours |\\n| Data Protection Officer | dpo@finsolve.com | 24 hours |\\n| API Support | api-support@finsolve.com | 8 hours |  \\n---  \\n*Note: This document is a living artifact and will be updated quarterly to reflect changes in architecture, processes, or technologies. For clarifications, contact the Engineering Lead at engineering@finsolve.com.*  \\n*Last Updated: May 14, 2025*')]"
      ]
     },
     "execution_count": 85,
     "metadata": {},
     "output_type": "execute_result"
    }
   ],
   "source": [
    "chunks"
   ]
  },
  {
   "cell_type": "code",
   "execution_count": 86,
   "id": "3093504a",
   "metadata": {},
   "outputs": [
    {
     "data": {
      "text/plain": [
       "81"
      ]
     },
     "execution_count": 86,
     "metadata": {},
     "output_type": "execute_result"
    }
   ],
   "source": [
    "len(chunks)"
   ]
  },
  {
   "cell_type": "code",
   "execution_count": 87,
   "id": "b7dfe54c",
   "metadata": {},
   "outputs": [],
   "source": [
    "from langchain.vectorstores import Chroma\n",
    "from langchain.schema import Document\n",
    "from langchain.embeddings import HuggingFaceEmbeddings\n",
    "\n",
    "embedding = HuggingFaceEmbeddings(model_name=\"BAAI/bge-base-en\") # 748 \n"
   ]
  },
  {
   "cell_type": "code",
   "execution_count": 88,
   "id": "523f4d65",
   "metadata": {},
   "outputs": [],
   "source": [
    "vectorstore = Chroma.from_documents(\n",
    "    documents=chunks,\n",
    "    embedding=embedding,\n",
    "    persist_directory=\"/Users/abhijit/Desktop/DS-RPC-01/src/vector_data/chroma_db\"  # change path if needed\n",
    ")\n"
   ]
  },
  {
   "cell_type": "code",
   "execution_count": 89,
   "id": "b5f900a7",
   "metadata": {},
   "outputs": [],
   "source": [
    "vectorstore.persist()"
   ]
  },
  {
   "cell_type": "code",
   "execution_count": 90,
   "id": "916ae60d",
   "metadata": {},
   "outputs": [],
   "source": [
    "db = Chroma(\n",
    "    persist_directory=\"/Users/abhijit/Desktop/DS-RPC-01/src/vector_data/chroma_db\",  # your folder path\n",
    "    embedding_function=embedding  # or HuggingFaceEmbeddings(model_name=\"all-MiniLM-L6-v2\")\n",
    ")"
   ]
  },
  {
   "cell_type": "code",
   "execution_count": 91,
   "id": "462dee26",
   "metadata": {},
   "outputs": [],
   "source": [
    "query = \"How does FinSolve ensure high availability in production?\"\n",
    "\n",
    "# Retrieve top 5 chunks\n",
    "results = db.similarity_search(query, k=5)\n"
   ]
  },
  {
   "cell_type": "code",
   "execution_count": 92,
   "id": "7485e3b4",
   "metadata": {},
   "outputs": [
    {
     "data": {
      "text/plain": [
       "[Document(metadata={'H1': 'FinSolve Technologies Engineering Document', 'H2': '4. Software Development Lifecycle (SDLC)', 'H3': '4.1 Agile Methodology'}, page_content='FinSolve follows a Scrum-based Agile process with 2-week sprints:'),\n",
       " Document(metadata={'H1': 'FinSolve Technologies Engineering Document', 'H2': '4. Software Development Lifecycle (SDLC)', 'H3': '4.1 Agile Methodology'}, page_content='FinSolve follows a Scrum-based Agile process with 2-week sprints:'),\n",
       " Document(metadata={'H1': 'FinSolve Technologies Engineering Document', 'H2': '2. System Architecture', 'H3': '2.1 Overview'}, page_content=\"FinSolve's architecture is a microservices-based, cloud-native system designed for scalability, resilience, and security. It leverages a modular design to support rapid feature development and seamless integration with third-party financial systems (e.g., payment gateways, credit bureaus, regulatory reporting systems).\"),\n",
       " Document(metadata={'H1': 'FinSolve Technologies Engineering Document', 'H2': '2. System Architecture', 'H3': '2.1 Overview'}, page_content=\"FinSolve's architecture is a microservices-based, cloud-native system designed for scalability, resilience, and security. It leverages a modular design to support rapid feature development and seamless integration with third-party financial systems (e.g., payment gateways, credit bureaus, regulatory reporting systems).\"),\n",
       " Document(metadata={'H1': 'FinSolve Technologies Engineering Document', 'H2': '10. Appendices', 'H3': '10.3 Contact Information'}, page_content='| Team | Email | Response SLA |\\n|------|-------|--------------|\\n| Engineering Lead | engineering@finsolve.com | 4 hours |\\n| Security Team | security@finsolve.com | 1 hour |\\n| DevOps Support | devops@finsolve.com | 2 hours |\\n| Data Protection Officer | dpo@finsolve.com | 24 hours |\\n| API Support | api-support@finsolve.com | 8 hours |  \\n---  \\n*Note: This document is a living artifact and will be updated quarterly to reflect changes in architecture, processes, or technologies. For clarifications, contact the Engineering Lead at engineering@finsolve.com.*  \\n*Last Updated: May 14, 2025*')]"
      ]
     },
     "execution_count": 92,
     "metadata": {},
     "output_type": "execute_result"
    }
   ],
   "source": [
    "results"
   ]
  },
  {
   "cell_type": "code",
   "execution_count": 93,
   "id": "f408c6a6",
   "metadata": {},
   "outputs": [
    {
     "data": {
      "text/html": [
       "<pre style=\"white-space:pre;overflow-x:auto;line-height:normal;font-family:Menlo,'DejaVu Sans Mono',consolas,'Courier New',monospace\">\n",
       "--- Result <span style=\"color: #008080; text-decoration-color: #008080; font-weight: bold\">1</span> ---\n",
       "</pre>\n"
      ],
      "text/plain": [
       "\n",
       "--- Result \u001b[1;36m1\u001b[0m ---\n"
      ]
     },
     "metadata": {},
     "output_type": "display_data"
    },
    {
     "data": {
      "text/html": [
       "<pre style=\"white-space:pre;overflow-x:auto;line-height:normal;font-family:Menlo,'DejaVu Sans Mono',consolas,'Courier New',monospace\">Content:\n",
       "FinSolve follows a Scrum-based Agile process with <span style=\"color: #008080; text-decoration-color: #008080; font-weight: bold\">2</span>-week sprints:\n",
       "</pre>\n"
      ],
      "text/plain": [
       "Content:\n",
       "FinSolve follows a Scrum-based Agile process with \u001b[1;36m2\u001b[0m-week sprints:\n"
      ]
     },
     "metadata": {},
     "output_type": "display_data"
    },
    {
     "data": {
      "text/html": [
       "<pre style=\"white-space:pre;overflow-x:auto;line-height:normal;font-family:Menlo,'DejaVu Sans Mono',consolas,'Courier New',monospace\">Metadata:\n",
       "<span style=\"font-weight: bold\">{</span><span style=\"color: #008000; text-decoration-color: #008000\">'H1'</span>: <span style=\"color: #008000; text-decoration-color: #008000\">'FinSolve Technologies Engineering Document'</span>, <span style=\"color: #008000; text-decoration-color: #008000\">'H2'</span>: <span style=\"color: #008000; text-decoration-color: #008000\">'4. Software Development Lifecycle (SDLC)'</span>, <span style=\"color: #008000; text-decoration-color: #008000\">'H3'</span>: <span style=\"color: #008000; text-decoration-color: #008000\">'4.1 </span>\n",
       "<span style=\"color: #008000; text-decoration-color: #008000\">Agile Methodology'</span><span style=\"font-weight: bold\">}</span>\n",
       "</pre>\n"
      ],
      "text/plain": [
       "Metadata:\n",
       "\u001b[1m{\u001b[0m\u001b[32m'H1'\u001b[0m: \u001b[32m'FinSolve Technologies Engineering Document'\u001b[0m, \u001b[32m'H2'\u001b[0m: \u001b[32m'4. Software Development Lifecycle \u001b[0m\u001b[32m(\u001b[0m\u001b[32mSDLC\u001b[0m\u001b[32m)\u001b[0m\u001b[32m'\u001b[0m, \u001b[32m'H3'\u001b[0m: \u001b[32m'4.1 \u001b[0m\n",
       "\u001b[32mAgile Methodology'\u001b[0m\u001b[1m}\u001b[0m\n"
      ]
     },
     "metadata": {},
     "output_type": "display_data"
    },
    {
     "data": {
      "text/html": [
       "<pre style=\"white-space:pre;overflow-x:auto;line-height:normal;font-family:Menlo,'DejaVu Sans Mono',consolas,'Courier New',monospace\">\n",
       "--- Result <span style=\"color: #008080; text-decoration-color: #008080; font-weight: bold\">2</span> ---\n",
       "</pre>\n"
      ],
      "text/plain": [
       "\n",
       "--- Result \u001b[1;36m2\u001b[0m ---\n"
      ]
     },
     "metadata": {},
     "output_type": "display_data"
    },
    {
     "data": {
      "text/html": [
       "<pre style=\"white-space:pre;overflow-x:auto;line-height:normal;font-family:Menlo,'DejaVu Sans Mono',consolas,'Courier New',monospace\">Content:\n",
       "FinSolve follows a Scrum-based Agile process with <span style=\"color: #008080; text-decoration-color: #008080; font-weight: bold\">2</span>-week sprints:\n",
       "</pre>\n"
      ],
      "text/plain": [
       "Content:\n",
       "FinSolve follows a Scrum-based Agile process with \u001b[1;36m2\u001b[0m-week sprints:\n"
      ]
     },
     "metadata": {},
     "output_type": "display_data"
    },
    {
     "data": {
      "text/html": [
       "<pre style=\"white-space:pre;overflow-x:auto;line-height:normal;font-family:Menlo,'DejaVu Sans Mono',consolas,'Courier New',monospace\">Metadata:\n",
       "<span style=\"font-weight: bold\">{</span><span style=\"color: #008000; text-decoration-color: #008000\">'H1'</span>: <span style=\"color: #008000; text-decoration-color: #008000\">'FinSolve Technologies Engineering Document'</span>, <span style=\"color: #008000; text-decoration-color: #008000\">'H2'</span>: <span style=\"color: #008000; text-decoration-color: #008000\">'4. Software Development Lifecycle (SDLC)'</span>, <span style=\"color: #008000; text-decoration-color: #008000\">'H3'</span>: <span style=\"color: #008000; text-decoration-color: #008000\">'4.1 </span>\n",
       "<span style=\"color: #008000; text-decoration-color: #008000\">Agile Methodology'</span><span style=\"font-weight: bold\">}</span>\n",
       "</pre>\n"
      ],
      "text/plain": [
       "Metadata:\n",
       "\u001b[1m{\u001b[0m\u001b[32m'H1'\u001b[0m: \u001b[32m'FinSolve Technologies Engineering Document'\u001b[0m, \u001b[32m'H2'\u001b[0m: \u001b[32m'4. Software Development Lifecycle \u001b[0m\u001b[32m(\u001b[0m\u001b[32mSDLC\u001b[0m\u001b[32m)\u001b[0m\u001b[32m'\u001b[0m, \u001b[32m'H3'\u001b[0m: \u001b[32m'4.1 \u001b[0m\n",
       "\u001b[32mAgile Methodology'\u001b[0m\u001b[1m}\u001b[0m\n"
      ]
     },
     "metadata": {},
     "output_type": "display_data"
    },
    {
     "data": {
      "text/html": [
       "<pre style=\"white-space:pre;overflow-x:auto;line-height:normal;font-family:Menlo,'DejaVu Sans Mono',consolas,'Courier New',monospace\">\n",
       "--- Result <span style=\"color: #008080; text-decoration-color: #008080; font-weight: bold\">3</span> ---\n",
       "</pre>\n"
      ],
      "text/plain": [
       "\n",
       "--- Result \u001b[1;36m3\u001b[0m ---\n"
      ]
     },
     "metadata": {},
     "output_type": "display_data"
    },
    {
     "data": {
      "text/html": [
       "<pre style=\"white-space:pre;overflow-x:auto;line-height:normal;font-family:Menlo,'DejaVu Sans Mono',consolas,'Courier New',monospace\">Content:\n",
       "FinSolve's architecture is a microservices-based, cloud-native system designed for scalability, resilience, and \n",
       "security. It leverages a modular design to support rapid feature development and seamless integration with \n",
       "third-party financial systems <span style=\"font-weight: bold\">(</span>e.g., payment gateways, credit bureaus, regulatory reporting systems<span style=\"font-weight: bold\">)</span>.\n",
       "</pre>\n"
      ],
      "text/plain": [
       "Content:\n",
       "FinSolve's architecture is a microservices-based, cloud-native system designed for scalability, resilience, and \n",
       "security. It leverages a modular design to support rapid feature development and seamless integration with \n",
       "third-party financial systems \u001b[1m(\u001b[0me.g., payment gateways, credit bureaus, regulatory reporting systems\u001b[1m)\u001b[0m.\n"
      ]
     },
     "metadata": {},
     "output_type": "display_data"
    },
    {
     "data": {
      "text/html": [
       "<pre style=\"white-space:pre;overflow-x:auto;line-height:normal;font-family:Menlo,'DejaVu Sans Mono',consolas,'Courier New',monospace\">Metadata:\n",
       "<span style=\"font-weight: bold\">{</span><span style=\"color: #008000; text-decoration-color: #008000\">'H1'</span>: <span style=\"color: #008000; text-decoration-color: #008000\">'FinSolve Technologies Engineering Document'</span>, <span style=\"color: #008000; text-decoration-color: #008000\">'H2'</span>: <span style=\"color: #008000; text-decoration-color: #008000\">'2. System Architecture'</span>, <span style=\"color: #008000; text-decoration-color: #008000\">'H3'</span>: <span style=\"color: #008000; text-decoration-color: #008000\">'2.1 Overview'</span><span style=\"font-weight: bold\">}</span>\n",
       "</pre>\n"
      ],
      "text/plain": [
       "Metadata:\n",
       "\u001b[1m{\u001b[0m\u001b[32m'H1'\u001b[0m: \u001b[32m'FinSolve Technologies Engineering Document'\u001b[0m, \u001b[32m'H2'\u001b[0m: \u001b[32m'2. System Architecture'\u001b[0m, \u001b[32m'H3'\u001b[0m: \u001b[32m'2.1 Overview'\u001b[0m\u001b[1m}\u001b[0m\n"
      ]
     },
     "metadata": {},
     "output_type": "display_data"
    },
    {
     "data": {
      "text/html": [
       "<pre style=\"white-space:pre;overflow-x:auto;line-height:normal;font-family:Menlo,'DejaVu Sans Mono',consolas,'Courier New',monospace\">\n",
       "--- Result <span style=\"color: #008080; text-decoration-color: #008080; font-weight: bold\">4</span> ---\n",
       "</pre>\n"
      ],
      "text/plain": [
       "\n",
       "--- Result \u001b[1;36m4\u001b[0m ---\n"
      ]
     },
     "metadata": {},
     "output_type": "display_data"
    },
    {
     "data": {
      "text/html": [
       "<pre style=\"white-space:pre;overflow-x:auto;line-height:normal;font-family:Menlo,'DejaVu Sans Mono',consolas,'Courier New',monospace\">Content:\n",
       "FinSolve's architecture is a microservices-based, cloud-native system designed for scalability, resilience, and \n",
       "security. It leverages a modular design to support rapid feature development and seamless integration with \n",
       "third-party financial systems <span style=\"font-weight: bold\">(</span>e.g., payment gateways, credit bureaus, regulatory reporting systems<span style=\"font-weight: bold\">)</span>.\n",
       "</pre>\n"
      ],
      "text/plain": [
       "Content:\n",
       "FinSolve's architecture is a microservices-based, cloud-native system designed for scalability, resilience, and \n",
       "security. It leverages a modular design to support rapid feature development and seamless integration with \n",
       "third-party financial systems \u001b[1m(\u001b[0me.g., payment gateways, credit bureaus, regulatory reporting systems\u001b[1m)\u001b[0m.\n"
      ]
     },
     "metadata": {},
     "output_type": "display_data"
    },
    {
     "data": {
      "text/html": [
       "<pre style=\"white-space:pre;overflow-x:auto;line-height:normal;font-family:Menlo,'DejaVu Sans Mono',consolas,'Courier New',monospace\">Metadata:\n",
       "<span style=\"font-weight: bold\">{</span><span style=\"color: #008000; text-decoration-color: #008000\">'H1'</span>: <span style=\"color: #008000; text-decoration-color: #008000\">'FinSolve Technologies Engineering Document'</span>, <span style=\"color: #008000; text-decoration-color: #008000\">'H2'</span>: <span style=\"color: #008000; text-decoration-color: #008000\">'2. System Architecture'</span>, <span style=\"color: #008000; text-decoration-color: #008000\">'H3'</span>: <span style=\"color: #008000; text-decoration-color: #008000\">'2.1 Overview'</span><span style=\"font-weight: bold\">}</span>\n",
       "</pre>\n"
      ],
      "text/plain": [
       "Metadata:\n",
       "\u001b[1m{\u001b[0m\u001b[32m'H1'\u001b[0m: \u001b[32m'FinSolve Technologies Engineering Document'\u001b[0m, \u001b[32m'H2'\u001b[0m: \u001b[32m'2. System Architecture'\u001b[0m, \u001b[32m'H3'\u001b[0m: \u001b[32m'2.1 Overview'\u001b[0m\u001b[1m}\u001b[0m\n"
      ]
     },
     "metadata": {},
     "output_type": "display_data"
    },
    {
     "data": {
      "text/html": [
       "<pre style=\"white-space:pre;overflow-x:auto;line-height:normal;font-family:Menlo,'DejaVu Sans Mono',consolas,'Courier New',monospace\">\n",
       "--- Result <span style=\"color: #008080; text-decoration-color: #008080; font-weight: bold\">5</span> ---\n",
       "</pre>\n"
      ],
      "text/plain": [
       "\n",
       "--- Result \u001b[1;36m5\u001b[0m ---\n"
      ]
     },
     "metadata": {},
     "output_type": "display_data"
    },
    {
     "data": {
      "text/html": [
       "<pre style=\"white-space:pre;overflow-x:auto;line-height:normal;font-family:Menlo,'DejaVu Sans Mono',consolas,'Courier New',monospace\">Content:\n",
       "| Team | Email | Response SLA |\n",
       "|------|-------|--------------|\n",
       "| Engineering Lead | engineering@finsolve.com | <span style=\"color: #008080; text-decoration-color: #008080; font-weight: bold\">4</span> hours |\n",
       "| Security Team | security@finsolve.com | <span style=\"color: #008080; text-decoration-color: #008080; font-weight: bold\">1</span> hour |\n",
       "| DevOps Support | devops@finsolve.com | <span style=\"color: #008080; text-decoration-color: #008080; font-weight: bold\">2</span> hours |\n",
       "| Data Protection Officer | dpo@finsolve.com | <span style=\"color: #008080; text-decoration-color: #008080; font-weight: bold\">24</span> hours |\n",
       "| API Support | api-support@finsolve.com | <span style=\"color: #008080; text-decoration-color: #008080; font-weight: bold\">8</span> hours |  \n",
       "---  \n",
       "*Note: This document is a living artifact and will be updated quarterly to reflect changes in architecture, \n",
       "processes, or technologies. For clarifications, c\n",
       "</pre>\n"
      ],
      "text/plain": [
       "Content:\n",
       "| Team | Email | Response SLA |\n",
       "|------|-------|--------------|\n",
       "| Engineering Lead | engineering@finsolve.com | \u001b[1;36m4\u001b[0m hours |\n",
       "| Security Team | security@finsolve.com | \u001b[1;36m1\u001b[0m hour |\n",
       "| DevOps Support | devops@finsolve.com | \u001b[1;36m2\u001b[0m hours |\n",
       "| Data Protection Officer | dpo@finsolve.com | \u001b[1;36m24\u001b[0m hours |\n",
       "| API Support | api-support@finsolve.com | \u001b[1;36m8\u001b[0m hours |  \n",
       "---  \n",
       "*Note: This document is a living artifact and will be updated quarterly to reflect changes in architecture, \n",
       "processes, or technologies. For clarifications, c\n"
      ]
     },
     "metadata": {},
     "output_type": "display_data"
    },
    {
     "data": {
      "text/html": [
       "<pre style=\"white-space:pre;overflow-x:auto;line-height:normal;font-family:Menlo,'DejaVu Sans Mono',consolas,'Courier New',monospace\">Metadata:\n",
       "<span style=\"font-weight: bold\">{</span><span style=\"color: #008000; text-decoration-color: #008000\">'H1'</span>: <span style=\"color: #008000; text-decoration-color: #008000\">'FinSolve Technologies Engineering Document'</span>, <span style=\"color: #008000; text-decoration-color: #008000\">'H2'</span>: <span style=\"color: #008000; text-decoration-color: #008000\">'10. Appendices'</span>, <span style=\"color: #008000; text-decoration-color: #008000\">'H3'</span>: <span style=\"color: #008000; text-decoration-color: #008000\">'10.3 Contact Information'</span><span style=\"font-weight: bold\">}</span>\n",
       "</pre>\n"
      ],
      "text/plain": [
       "Metadata:\n",
       "\u001b[1m{\u001b[0m\u001b[32m'H1'\u001b[0m: \u001b[32m'FinSolve Technologies Engineering Document'\u001b[0m, \u001b[32m'H2'\u001b[0m: \u001b[32m'10. Appendices'\u001b[0m, \u001b[32m'H3'\u001b[0m: \u001b[32m'10.3 Contact Information'\u001b[0m\u001b[1m}\u001b[0m\n"
      ]
     },
     "metadata": {},
     "output_type": "display_data"
    }
   ],
   "source": [
    "for i, doc in enumerate(results, 1):\n",
    "    print(f\"\\n--- Result {i} ---\")\n",
    "    print(f\"Content:\\n{doc.page_content[:500]}\")  # Show first 500 characters\n",
    "    print(f\"Metadata:\\n{doc.metadata}\")"
   ]
  },
  {
   "cell_type": "code",
   "execution_count": 94,
   "id": "a7ebbe63",
   "metadata": {},
   "outputs": [],
   "source": [
    "from groq import Groq\n",
    "\n",
    "client = Groq(api_key=\"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\")\n"
   ]
  },
  {
   "cell_type": "code",
   "execution_count": 38,
   "id": "b4bcff6c",
   "metadata": {},
   "outputs": [],
   "source": [
    "user_RAG=db.as_retriever(search_kwargs={\"k\": 5})"
   ]
  },
  {
   "cell_type": "code",
   "execution_count": 96,
   "id": "18219bbd",
   "metadata": {},
   "outputs": [],
   "source": [
    "from langchain.tools import Tool\n",
    "\n",
    "def retrieve_context_from_db(query: str, db) -> str:\n",
    "    \"\"\"\n",
    "    Retrieve relevant documents from a ChromaDB retriever and return their contents\n",
    "    as a single formatted string to be used in an LLM prompt.\n",
    "\n",
    "    Args:\n",
    "        query (str): The user query.\n",
    "        db: A LangChain retriever object (e.g., ChromaDB.as_retriever()).\n",
    "\n",
    "    Returns:\n",
    "        str: Concatenated string of relevant document contents.\n",
    "    \"\"\"\n",
    "    # Step 1: Retrieve documents from the retriever\n",
    "    retriever = vectorstore.as_retriever(search_kwargs={\"k\": 5})\n",
    "\n",
    "    # Now you can use:\n",
    "    documents = retriever.get_relevant_documents(query)\n",
    "    \n",
    "    \n",
    "    # Step 2: Extract just the text content from each Document\n",
    "    page_contents = [doc.page_content for doc in documents]\n",
    "\n",
    "    # Step 3: Join them with double line breaks for clarity\n",
    "    context = \"\\n\\n\".join(page_contents)\n",
    "    # print(context)\n",
    "    return context\n",
    "\n",
    "rag_tool = Tool(\n",
    "    name=\"RAGRetriever\",\n",
    "    func=lambda q: retrieve_context_from_db(q, db),\n",
    "    description=\"Useful for answering questions by retrieving context from vector DB\"\n",
    ")"
   ]
  },
  {
   "cell_type": "code",
   "execution_count": 97,
   "id": "e16bff28",
   "metadata": {},
   "outputs": [],
   "source": [
    "from langchain_groq import ChatGroq"
   ]
  },
  {
   "cell_type": "code",
   "execution_count": null,
   "id": "f1635d5c",
   "metadata": {},
   "outputs": [],
   "source": [
    "llm = ChatGroq(\n",
    "    temperature=0.2,\n",
    "    model_name=\"llama-3.3-70b-versatile\",  # or \"llama3-70b-8192\", \"gemma-7b-it\"\n",
    "    api_key=\"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\"      # or set as env variable GROQ_API_KEY\n",
    ")"
   ]
  },
  {
   "cell_type": "code",
   "execution_count": 116,
   "id": "74a693c1",
   "metadata": {},
   "outputs": [],
   "source": [
    "from langchain.agents import initialize_agent, AgentType\n",
    "\n",
    "agent = initialize_agent(\n",
    "    tools=[rag_tool],\n",
    "    llm=llm,\n",
    "    agent=AgentType.ZERO_SHOT_REACT_DESCRIPTION,\n",
    "    verbose=True\n",
    ")"
   ]
  },
  {
   "cell_type": "code",
   "execution_count": 117,
   "id": "e530b49e",
   "metadata": {},
   "outputs": [
    {
     "name": "stdout",
     "output_type": "stream",
     "text": [
      "\n",
      "\n",
      "\u001b[1m> Entering new AgentExecutor chain...\u001b[0m\n"
     ]
    },
    {
     "ename": "APIConnectionError",
     "evalue": "Connection error.",
     "output_type": "error",
     "traceback": [
      "\u001b[0;31m---------------------------------------------------------------------------\u001b[0m",
      "\u001b[0;31mConnectError\u001b[0m                              Traceback (most recent call last)",
      "File \u001b[0;32m~/miniforge3/envs/chatbot/lib/python3.13/site-packages/httpx/_transports/default.py:101\u001b[0m, in \u001b[0;36mmap_httpcore_exceptions\u001b[0;34m()\u001b[0m\n\u001b[1;32m    100\u001b[0m \u001b[38;5;28;01mtry\u001b[39;00m:\n\u001b[0;32m--> 101\u001b[0m     \u001b[38;5;28;01myield\u001b[39;00m\n\u001b[1;32m    102\u001b[0m \u001b[38;5;28;01mexcept\u001b[39;00m \u001b[38;5;167;01mException\u001b[39;00m \u001b[38;5;28;01mas\u001b[39;00m exc:\n",
      "File \u001b[0;32m~/miniforge3/envs/chatbot/lib/python3.13/site-packages/httpx/_transports/default.py:250\u001b[0m, in \u001b[0;36mHTTPTransport.handle_request\u001b[0;34m(self, request)\u001b[0m\n\u001b[1;32m    249\u001b[0m \u001b[38;5;28;01mwith\u001b[39;00m map_httpcore_exceptions():\n\u001b[0;32m--> 250\u001b[0m     resp \u001b[38;5;241m=\u001b[39m \u001b[38;5;28;43mself\u001b[39;49m\u001b[38;5;241;43m.\u001b[39;49m\u001b[43m_pool\u001b[49m\u001b[38;5;241;43m.\u001b[39;49m\u001b[43mhandle_request\u001b[49m\u001b[43m(\u001b[49m\u001b[43mreq\u001b[49m\u001b[43m)\u001b[49m\n\u001b[1;32m    252\u001b[0m \u001b[38;5;28;01massert\u001b[39;00m \u001b[38;5;28misinstance\u001b[39m(resp\u001b[38;5;241m.\u001b[39mstream, typing\u001b[38;5;241m.\u001b[39mIterable)\n",
      "File \u001b[0;32m~/miniforge3/envs/chatbot/lib/python3.13/site-packages/httpcore/_sync/connection_pool.py:256\u001b[0m, in \u001b[0;36mConnectionPool.handle_request\u001b[0;34m(self, request)\u001b[0m\n\u001b[1;32m    255\u001b[0m     \u001b[38;5;28mself\u001b[39m\u001b[38;5;241m.\u001b[39m_close_connections(closing)\n\u001b[0;32m--> 256\u001b[0m     \u001b[38;5;28;01mraise\u001b[39;00m exc \u001b[38;5;28;01mfrom\u001b[39;00m\u001b[38;5;250m \u001b[39m\u001b[38;5;28;01mNone\u001b[39;00m\n\u001b[1;32m    258\u001b[0m \u001b[38;5;66;03m# Return the response. Note that in this case we still have to manage\u001b[39;00m\n\u001b[1;32m    259\u001b[0m \u001b[38;5;66;03m# the point at which the response is closed.\u001b[39;00m\n",
      "File \u001b[0;32m~/miniforge3/envs/chatbot/lib/python3.13/site-packages/httpcore/_sync/connection_pool.py:236\u001b[0m, in \u001b[0;36mConnectionPool.handle_request\u001b[0;34m(self, request)\u001b[0m\n\u001b[1;32m    234\u001b[0m \u001b[38;5;28;01mtry\u001b[39;00m:\n\u001b[1;32m    235\u001b[0m     \u001b[38;5;66;03m# Send the request on the assigned connection.\u001b[39;00m\n\u001b[0;32m--> 236\u001b[0m     response \u001b[38;5;241m=\u001b[39m \u001b[43mconnection\u001b[49m\u001b[38;5;241;43m.\u001b[39;49m\u001b[43mhandle_request\u001b[49m\u001b[43m(\u001b[49m\n\u001b[1;32m    237\u001b[0m \u001b[43m        \u001b[49m\u001b[43mpool_request\u001b[49m\u001b[38;5;241;43m.\u001b[39;49m\u001b[43mrequest\u001b[49m\n\u001b[1;32m    238\u001b[0m \u001b[43m    \u001b[49m\u001b[43m)\u001b[49m\n\u001b[1;32m    239\u001b[0m \u001b[38;5;28;01mexcept\u001b[39;00m ConnectionNotAvailable:\n\u001b[1;32m    240\u001b[0m     \u001b[38;5;66;03m# In some cases a connection may initially be available to\u001b[39;00m\n\u001b[1;32m    241\u001b[0m     \u001b[38;5;66;03m# handle a request, but then become unavailable.\u001b[39;00m\n\u001b[1;32m    242\u001b[0m     \u001b[38;5;66;03m#\u001b[39;00m\n\u001b[1;32m    243\u001b[0m     \u001b[38;5;66;03m# In this case we clear the connection and try again.\u001b[39;00m\n",
      "File \u001b[0;32m~/miniforge3/envs/chatbot/lib/python3.13/site-packages/httpcore/_sync/connection.py:101\u001b[0m, in \u001b[0;36mHTTPConnection.handle_request\u001b[0;34m(self, request)\u001b[0m\n\u001b[1;32m    100\u001b[0m     \u001b[38;5;28mself\u001b[39m\u001b[38;5;241m.\u001b[39m_connect_failed \u001b[38;5;241m=\u001b[39m \u001b[38;5;28;01mTrue\u001b[39;00m\n\u001b[0;32m--> 101\u001b[0m     \u001b[38;5;28;01mraise\u001b[39;00m exc\n\u001b[1;32m    103\u001b[0m \u001b[38;5;28;01mreturn\u001b[39;00m \u001b[38;5;28mself\u001b[39m\u001b[38;5;241m.\u001b[39m_connection\u001b[38;5;241m.\u001b[39mhandle_request(request)\n",
      "File \u001b[0;32m~/miniforge3/envs/chatbot/lib/python3.13/site-packages/httpcore/_sync/connection.py:78\u001b[0m, in \u001b[0;36mHTTPConnection.handle_request\u001b[0;34m(self, request)\u001b[0m\n\u001b[1;32m     77\u001b[0m \u001b[38;5;28;01mif\u001b[39;00m \u001b[38;5;28mself\u001b[39m\u001b[38;5;241m.\u001b[39m_connection \u001b[38;5;129;01mis\u001b[39;00m \u001b[38;5;28;01mNone\u001b[39;00m:\n\u001b[0;32m---> 78\u001b[0m     stream \u001b[38;5;241m=\u001b[39m \u001b[38;5;28;43mself\u001b[39;49m\u001b[38;5;241;43m.\u001b[39;49m\u001b[43m_connect\u001b[49m\u001b[43m(\u001b[49m\u001b[43mrequest\u001b[49m\u001b[43m)\u001b[49m\n\u001b[1;32m     80\u001b[0m     ssl_object \u001b[38;5;241m=\u001b[39m stream\u001b[38;5;241m.\u001b[39mget_extra_info(\u001b[38;5;124m\"\u001b[39m\u001b[38;5;124mssl_object\u001b[39m\u001b[38;5;124m\"\u001b[39m)\n",
      "File \u001b[0;32m~/miniforge3/envs/chatbot/lib/python3.13/site-packages/httpcore/_sync/connection.py:124\u001b[0m, in \u001b[0;36mHTTPConnection._connect\u001b[0;34m(self, request)\u001b[0m\n\u001b[1;32m    123\u001b[0m \u001b[38;5;28;01mwith\u001b[39;00m Trace(\u001b[38;5;124m\"\u001b[39m\u001b[38;5;124mconnect_tcp\u001b[39m\u001b[38;5;124m\"\u001b[39m, logger, request, kwargs) \u001b[38;5;28;01mas\u001b[39;00m trace:\n\u001b[0;32m--> 124\u001b[0m     stream \u001b[38;5;241m=\u001b[39m \u001b[38;5;28;43mself\u001b[39;49m\u001b[38;5;241;43m.\u001b[39;49m\u001b[43m_network_backend\u001b[49m\u001b[38;5;241;43m.\u001b[39;49m\u001b[43mconnect_tcp\u001b[49m\u001b[43m(\u001b[49m\u001b[38;5;241;43m*\u001b[39;49m\u001b[38;5;241;43m*\u001b[39;49m\u001b[43mkwargs\u001b[49m\u001b[43m)\u001b[49m\n\u001b[1;32m    125\u001b[0m     trace\u001b[38;5;241m.\u001b[39mreturn_value \u001b[38;5;241m=\u001b[39m stream\n",
      "File \u001b[0;32m~/miniforge3/envs/chatbot/lib/python3.13/site-packages/httpcore/_backends/sync.py:207\u001b[0m, in \u001b[0;36mSyncBackend.connect_tcp\u001b[0;34m(self, host, port, timeout, local_address, socket_options)\u001b[0m\n\u001b[1;32m    202\u001b[0m exc_map: ExceptionMapping \u001b[38;5;241m=\u001b[39m {\n\u001b[1;32m    203\u001b[0m     socket\u001b[38;5;241m.\u001b[39mtimeout: ConnectTimeout,\n\u001b[1;32m    204\u001b[0m     \u001b[38;5;167;01mOSError\u001b[39;00m: ConnectError,\n\u001b[1;32m    205\u001b[0m }\n\u001b[0;32m--> 207\u001b[0m \u001b[38;5;28;01mwith\u001b[39;00m map_exceptions(exc_map):\n\u001b[1;32m    208\u001b[0m     sock \u001b[38;5;241m=\u001b[39m socket\u001b[38;5;241m.\u001b[39mcreate_connection(\n\u001b[1;32m    209\u001b[0m         address,\n\u001b[1;32m    210\u001b[0m         timeout,\n\u001b[1;32m    211\u001b[0m         source_address\u001b[38;5;241m=\u001b[39msource_address,\n\u001b[1;32m    212\u001b[0m     )\n",
      "File \u001b[0;32m~/miniforge3/envs/chatbot/lib/python3.13/contextlib.py:162\u001b[0m, in \u001b[0;36m_GeneratorContextManager.__exit__\u001b[0;34m(self, typ, value, traceback)\u001b[0m\n\u001b[1;32m    161\u001b[0m \u001b[38;5;28;01mtry\u001b[39;00m:\n\u001b[0;32m--> 162\u001b[0m     \u001b[38;5;28;43mself\u001b[39;49m\u001b[38;5;241;43m.\u001b[39;49m\u001b[43mgen\u001b[49m\u001b[38;5;241;43m.\u001b[39;49m\u001b[43mthrow\u001b[49m\u001b[43m(\u001b[49m\u001b[43mvalue\u001b[49m\u001b[43m)\u001b[49m\n\u001b[1;32m    163\u001b[0m \u001b[38;5;28;01mexcept\u001b[39;00m \u001b[38;5;167;01mStopIteration\u001b[39;00m \u001b[38;5;28;01mas\u001b[39;00m exc:\n\u001b[1;32m    164\u001b[0m     \u001b[38;5;66;03m# Suppress StopIteration *unless* it's the same exception that\u001b[39;00m\n\u001b[1;32m    165\u001b[0m     \u001b[38;5;66;03m# was passed to throw().  This prevents a StopIteration\u001b[39;00m\n\u001b[1;32m    166\u001b[0m     \u001b[38;5;66;03m# raised inside the \"with\" statement from being suppressed.\u001b[39;00m\n",
      "File \u001b[0;32m~/miniforge3/envs/chatbot/lib/python3.13/site-packages/httpcore/_exceptions.py:14\u001b[0m, in \u001b[0;36mmap_exceptions\u001b[0;34m(map)\u001b[0m\n\u001b[1;32m     13\u001b[0m     \u001b[38;5;28;01mif\u001b[39;00m \u001b[38;5;28misinstance\u001b[39m(exc, from_exc):\n\u001b[0;32m---> 14\u001b[0m         \u001b[38;5;28;01mraise\u001b[39;00m to_exc(exc) \u001b[38;5;28;01mfrom\u001b[39;00m\u001b[38;5;250m \u001b[39m\u001b[38;5;21;01mexc\u001b[39;00m\n\u001b[1;32m     15\u001b[0m \u001b[38;5;28;01mraise\u001b[39;00m\n",
      "\u001b[0;31mConnectError\u001b[0m: [Errno 8] nodename nor servname provided, or not known",
      "\nThe above exception was the direct cause of the following exception:\n",
      "\u001b[0;31mConnectError\u001b[0m                              Traceback (most recent call last)",
      "File \u001b[0;32m~/miniforge3/envs/chatbot/lib/python3.13/site-packages/groq/_base_client.py:967\u001b[0m, in \u001b[0;36mSyncAPIClient.request\u001b[0;34m(self, cast_to, options, stream, stream_cls)\u001b[0m\n\u001b[1;32m    966\u001b[0m \u001b[38;5;28;01mtry\u001b[39;00m:\n\u001b[0;32m--> 967\u001b[0m     response \u001b[38;5;241m=\u001b[39m \u001b[38;5;28;43mself\u001b[39;49m\u001b[38;5;241;43m.\u001b[39;49m\u001b[43m_client\u001b[49m\u001b[38;5;241;43m.\u001b[39;49m\u001b[43msend\u001b[49m\u001b[43m(\u001b[49m\n\u001b[1;32m    968\u001b[0m \u001b[43m        \u001b[49m\u001b[43mrequest\u001b[49m\u001b[43m,\u001b[49m\n\u001b[1;32m    969\u001b[0m \u001b[43m        \u001b[49m\u001b[43mstream\u001b[49m\u001b[38;5;241;43m=\u001b[39;49m\u001b[43mstream\u001b[49m\u001b[43m \u001b[49m\u001b[38;5;129;43;01mor\u001b[39;49;00m\u001b[43m \u001b[49m\u001b[38;5;28;43mself\u001b[39;49m\u001b[38;5;241;43m.\u001b[39;49m\u001b[43m_should_stream_response_body\u001b[49m\u001b[43m(\u001b[49m\u001b[43mrequest\u001b[49m\u001b[38;5;241;43m=\u001b[39;49m\u001b[43mrequest\u001b[49m\u001b[43m)\u001b[49m\u001b[43m,\u001b[49m\n\u001b[1;32m    970\u001b[0m \u001b[43m        \u001b[49m\u001b[38;5;241;43m*\u001b[39;49m\u001b[38;5;241;43m*\u001b[39;49m\u001b[43mkwargs\u001b[49m\u001b[43m,\u001b[49m\n\u001b[1;32m    971\u001b[0m \u001b[43m    \u001b[49m\u001b[43m)\u001b[49m\n\u001b[1;32m    972\u001b[0m \u001b[38;5;28;01mexcept\u001b[39;00m httpx\u001b[38;5;241m.\u001b[39mTimeoutException \u001b[38;5;28;01mas\u001b[39;00m err:\n",
      "File \u001b[0;32m~/miniforge3/envs/chatbot/lib/python3.13/site-packages/httpx/_client.py:914\u001b[0m, in \u001b[0;36mClient.send\u001b[0;34m(self, request, stream, auth, follow_redirects)\u001b[0m\n\u001b[1;32m    912\u001b[0m auth \u001b[38;5;241m=\u001b[39m \u001b[38;5;28mself\u001b[39m\u001b[38;5;241m.\u001b[39m_build_request_auth(request, auth)\n\u001b[0;32m--> 914\u001b[0m response \u001b[38;5;241m=\u001b[39m \u001b[38;5;28;43mself\u001b[39;49m\u001b[38;5;241;43m.\u001b[39;49m\u001b[43m_send_handling_auth\u001b[49m\u001b[43m(\u001b[49m\n\u001b[1;32m    915\u001b[0m \u001b[43m    \u001b[49m\u001b[43mrequest\u001b[49m\u001b[43m,\u001b[49m\n\u001b[1;32m    916\u001b[0m \u001b[43m    \u001b[49m\u001b[43mauth\u001b[49m\u001b[38;5;241;43m=\u001b[39;49m\u001b[43mauth\u001b[49m\u001b[43m,\u001b[49m\n\u001b[1;32m    917\u001b[0m \u001b[43m    \u001b[49m\u001b[43mfollow_redirects\u001b[49m\u001b[38;5;241;43m=\u001b[39;49m\u001b[43mfollow_redirects\u001b[49m\u001b[43m,\u001b[49m\n\u001b[1;32m    918\u001b[0m \u001b[43m    \u001b[49m\u001b[43mhistory\u001b[49m\u001b[38;5;241;43m=\u001b[39;49m\u001b[43m[\u001b[49m\u001b[43m]\u001b[49m\u001b[43m,\u001b[49m\n\u001b[1;32m    919\u001b[0m \u001b[43m\u001b[49m\u001b[43m)\u001b[49m\n\u001b[1;32m    920\u001b[0m \u001b[38;5;28;01mtry\u001b[39;00m:\n",
      "File \u001b[0;32m~/miniforge3/envs/chatbot/lib/python3.13/site-packages/httpx/_client.py:942\u001b[0m, in \u001b[0;36mClient._send_handling_auth\u001b[0;34m(self, request, auth, follow_redirects, history)\u001b[0m\n\u001b[1;32m    941\u001b[0m \u001b[38;5;28;01mwhile\u001b[39;00m \u001b[38;5;28;01mTrue\u001b[39;00m:\n\u001b[0;32m--> 942\u001b[0m     response \u001b[38;5;241m=\u001b[39m \u001b[38;5;28;43mself\u001b[39;49m\u001b[38;5;241;43m.\u001b[39;49m\u001b[43m_send_handling_redirects\u001b[49m\u001b[43m(\u001b[49m\n\u001b[1;32m    943\u001b[0m \u001b[43m        \u001b[49m\u001b[43mrequest\u001b[49m\u001b[43m,\u001b[49m\n\u001b[1;32m    944\u001b[0m \u001b[43m        \u001b[49m\u001b[43mfollow_redirects\u001b[49m\u001b[38;5;241;43m=\u001b[39;49m\u001b[43mfollow_redirects\u001b[49m\u001b[43m,\u001b[49m\n\u001b[1;32m    945\u001b[0m \u001b[43m        \u001b[49m\u001b[43mhistory\u001b[49m\u001b[38;5;241;43m=\u001b[39;49m\u001b[43mhistory\u001b[49m\u001b[43m,\u001b[49m\n\u001b[1;32m    946\u001b[0m \u001b[43m    \u001b[49m\u001b[43m)\u001b[49m\n\u001b[1;32m    947\u001b[0m     \u001b[38;5;28;01mtry\u001b[39;00m:\n",
      "File \u001b[0;32m~/miniforge3/envs/chatbot/lib/python3.13/site-packages/httpx/_client.py:979\u001b[0m, in \u001b[0;36mClient._send_handling_redirects\u001b[0;34m(self, request, follow_redirects, history)\u001b[0m\n\u001b[1;32m    977\u001b[0m     hook(request)\n\u001b[0;32m--> 979\u001b[0m response \u001b[38;5;241m=\u001b[39m \u001b[38;5;28;43mself\u001b[39;49m\u001b[38;5;241;43m.\u001b[39;49m\u001b[43m_send_single_request\u001b[49m\u001b[43m(\u001b[49m\u001b[43mrequest\u001b[49m\u001b[43m)\u001b[49m\n\u001b[1;32m    980\u001b[0m \u001b[38;5;28;01mtry\u001b[39;00m:\n",
      "File \u001b[0;32m~/miniforge3/envs/chatbot/lib/python3.13/site-packages/httpx/_client.py:1014\u001b[0m, in \u001b[0;36mClient._send_single_request\u001b[0;34m(self, request)\u001b[0m\n\u001b[1;32m   1013\u001b[0m \u001b[38;5;28;01mwith\u001b[39;00m request_context(request\u001b[38;5;241m=\u001b[39mrequest):\n\u001b[0;32m-> 1014\u001b[0m     response \u001b[38;5;241m=\u001b[39m \u001b[43mtransport\u001b[49m\u001b[38;5;241;43m.\u001b[39;49m\u001b[43mhandle_request\u001b[49m\u001b[43m(\u001b[49m\u001b[43mrequest\u001b[49m\u001b[43m)\u001b[49m\n\u001b[1;32m   1016\u001b[0m \u001b[38;5;28;01massert\u001b[39;00m \u001b[38;5;28misinstance\u001b[39m(response\u001b[38;5;241m.\u001b[39mstream, SyncByteStream)\n",
      "File \u001b[0;32m~/miniforge3/envs/chatbot/lib/python3.13/site-packages/httpx/_transports/default.py:249\u001b[0m, in \u001b[0;36mHTTPTransport.handle_request\u001b[0;34m(self, request)\u001b[0m\n\u001b[1;32m    237\u001b[0m req \u001b[38;5;241m=\u001b[39m httpcore\u001b[38;5;241m.\u001b[39mRequest(\n\u001b[1;32m    238\u001b[0m     method\u001b[38;5;241m=\u001b[39mrequest\u001b[38;5;241m.\u001b[39mmethod,\n\u001b[1;32m    239\u001b[0m     url\u001b[38;5;241m=\u001b[39mhttpcore\u001b[38;5;241m.\u001b[39mURL(\n\u001b[0;32m   (...)\u001b[0m\n\u001b[1;32m    247\u001b[0m     extensions\u001b[38;5;241m=\u001b[39mrequest\u001b[38;5;241m.\u001b[39mextensions,\n\u001b[1;32m    248\u001b[0m )\n\u001b[0;32m--> 249\u001b[0m \u001b[38;5;28;01mwith\u001b[39;00m map_httpcore_exceptions():\n\u001b[1;32m    250\u001b[0m     resp \u001b[38;5;241m=\u001b[39m \u001b[38;5;28mself\u001b[39m\u001b[38;5;241m.\u001b[39m_pool\u001b[38;5;241m.\u001b[39mhandle_request(req)\n",
      "File \u001b[0;32m~/miniforge3/envs/chatbot/lib/python3.13/contextlib.py:162\u001b[0m, in \u001b[0;36m_GeneratorContextManager.__exit__\u001b[0;34m(self, typ, value, traceback)\u001b[0m\n\u001b[1;32m    161\u001b[0m \u001b[38;5;28;01mtry\u001b[39;00m:\n\u001b[0;32m--> 162\u001b[0m     \u001b[38;5;28;43mself\u001b[39;49m\u001b[38;5;241;43m.\u001b[39;49m\u001b[43mgen\u001b[49m\u001b[38;5;241;43m.\u001b[39;49m\u001b[43mthrow\u001b[49m\u001b[43m(\u001b[49m\u001b[43mvalue\u001b[49m\u001b[43m)\u001b[49m\n\u001b[1;32m    163\u001b[0m \u001b[38;5;28;01mexcept\u001b[39;00m \u001b[38;5;167;01mStopIteration\u001b[39;00m \u001b[38;5;28;01mas\u001b[39;00m exc:\n\u001b[1;32m    164\u001b[0m     \u001b[38;5;66;03m# Suppress StopIteration *unless* it's the same exception that\u001b[39;00m\n\u001b[1;32m    165\u001b[0m     \u001b[38;5;66;03m# was passed to throw().  This prevents a StopIteration\u001b[39;00m\n\u001b[1;32m    166\u001b[0m     \u001b[38;5;66;03m# raised inside the \"with\" statement from being suppressed.\u001b[39;00m\n",
      "File \u001b[0;32m~/miniforge3/envs/chatbot/lib/python3.13/site-packages/httpx/_transports/default.py:118\u001b[0m, in \u001b[0;36mmap_httpcore_exceptions\u001b[0;34m()\u001b[0m\n\u001b[1;32m    117\u001b[0m message \u001b[38;5;241m=\u001b[39m \u001b[38;5;28mstr\u001b[39m(exc)\n\u001b[0;32m--> 118\u001b[0m \u001b[38;5;28;01mraise\u001b[39;00m mapped_exc(message) \u001b[38;5;28;01mfrom\u001b[39;00m\u001b[38;5;250m \u001b[39m\u001b[38;5;21;01mexc\u001b[39;00m\n",
      "\u001b[0;31mConnectError\u001b[0m: [Errno 8] nodename nor servname provided, or not known",
      "\nThe above exception was the direct cause of the following exception:\n",
      "\u001b[0;31mAPIConnectionError\u001b[0m                        Traceback (most recent call last)",
      "Cell \u001b[0;32mIn[117], line 1\u001b[0m\n\u001b[0;32m----> 1\u001b[0m response \u001b[38;5;241m=\u001b[39m \u001b[43magent\u001b[49m\u001b[38;5;241;43m.\u001b[39;49m\u001b[43mrun\u001b[49m\u001b[43m(\u001b[49m\u001b[38;5;124;43m\"\u001b[39;49m\u001b[38;5;124;43mHow does FinSolve ensure high availability in production?\u001b[39;49m\u001b[38;5;124;43m\"\u001b[39;49m\u001b[43m)\u001b[49m\n\u001b[1;32m      2\u001b[0m response\n",
      "File \u001b[0;32m~/miniforge3/envs/chatbot/lib/python3.13/site-packages/langchain_core/_api/deprecation.py:181\u001b[0m, in \u001b[0;36mdeprecated.<locals>.deprecate.<locals>.warning_emitting_wrapper\u001b[0;34m(*args, **kwargs)\u001b[0m\n\u001b[1;32m    179\u001b[0m     warned \u001b[38;5;241m=\u001b[39m \u001b[38;5;28;01mTrue\u001b[39;00m\n\u001b[1;32m    180\u001b[0m     emit_warning()\n\u001b[0;32m--> 181\u001b[0m \u001b[38;5;28;01mreturn\u001b[39;00m \u001b[43mwrapped\u001b[49m\u001b[43m(\u001b[49m\u001b[38;5;241;43m*\u001b[39;49m\u001b[43margs\u001b[49m\u001b[43m,\u001b[49m\u001b[43m \u001b[49m\u001b[38;5;241;43m*\u001b[39;49m\u001b[38;5;241;43m*\u001b[39;49m\u001b[43mkwargs\u001b[49m\u001b[43m)\u001b[49m\n",
      "File \u001b[0;32m~/miniforge3/envs/chatbot/lib/python3.13/site-packages/langchain/chains/base.py:606\u001b[0m, in \u001b[0;36mChain.run\u001b[0;34m(self, callbacks, tags, metadata, *args, **kwargs)\u001b[0m\n\u001b[1;32m    604\u001b[0m     \u001b[38;5;28;01mif\u001b[39;00m \u001b[38;5;28mlen\u001b[39m(args) \u001b[38;5;241m!=\u001b[39m \u001b[38;5;241m1\u001b[39m:\n\u001b[1;32m    605\u001b[0m         \u001b[38;5;28;01mraise\u001b[39;00m \u001b[38;5;167;01mValueError\u001b[39;00m(\u001b[38;5;124m\"\u001b[39m\u001b[38;5;124m`run` supports only one positional argument.\u001b[39m\u001b[38;5;124m\"\u001b[39m)\n\u001b[0;32m--> 606\u001b[0m     \u001b[38;5;28;01mreturn\u001b[39;00m \u001b[38;5;28;43mself\u001b[39;49m\u001b[43m(\u001b[49m\u001b[43margs\u001b[49m\u001b[43m[\u001b[49m\u001b[38;5;241;43m0\u001b[39;49m\u001b[43m]\u001b[49m\u001b[43m,\u001b[49m\u001b[43m \u001b[49m\u001b[43mcallbacks\u001b[49m\u001b[38;5;241;43m=\u001b[39;49m\u001b[43mcallbacks\u001b[49m\u001b[43m,\u001b[49m\u001b[43m \u001b[49m\u001b[43mtags\u001b[49m\u001b[38;5;241;43m=\u001b[39;49m\u001b[43mtags\u001b[49m\u001b[43m,\u001b[49m\u001b[43m \u001b[49m\u001b[43mmetadata\u001b[49m\u001b[38;5;241;43m=\u001b[39;49m\u001b[43mmetadata\u001b[49m\u001b[43m)\u001b[49m[\n\u001b[1;32m    607\u001b[0m         _output_key\n\u001b[1;32m    608\u001b[0m     ]\n\u001b[1;32m    610\u001b[0m \u001b[38;5;28;01mif\u001b[39;00m kwargs \u001b[38;5;129;01mand\u001b[39;00m \u001b[38;5;129;01mnot\u001b[39;00m args:\n\u001b[1;32m    611\u001b[0m     \u001b[38;5;28;01mreturn\u001b[39;00m \u001b[38;5;28mself\u001b[39m(kwargs, callbacks\u001b[38;5;241m=\u001b[39mcallbacks, tags\u001b[38;5;241m=\u001b[39mtags, metadata\u001b[38;5;241m=\u001b[39mmetadata)[\n\u001b[1;32m    612\u001b[0m         _output_key\n\u001b[1;32m    613\u001b[0m     ]\n",
      "File \u001b[0;32m~/miniforge3/envs/chatbot/lib/python3.13/site-packages/langchain_core/_api/deprecation.py:181\u001b[0m, in \u001b[0;36mdeprecated.<locals>.deprecate.<locals>.warning_emitting_wrapper\u001b[0;34m(*args, **kwargs)\u001b[0m\n\u001b[1;32m    179\u001b[0m     warned \u001b[38;5;241m=\u001b[39m \u001b[38;5;28;01mTrue\u001b[39;00m\n\u001b[1;32m    180\u001b[0m     emit_warning()\n\u001b[0;32m--> 181\u001b[0m \u001b[38;5;28;01mreturn\u001b[39;00m \u001b[43mwrapped\u001b[49m\u001b[43m(\u001b[49m\u001b[38;5;241;43m*\u001b[39;49m\u001b[43margs\u001b[49m\u001b[43m,\u001b[49m\u001b[43m \u001b[49m\u001b[38;5;241;43m*\u001b[39;49m\u001b[38;5;241;43m*\u001b[39;49m\u001b[43mkwargs\u001b[49m\u001b[43m)\u001b[49m\n",
      "File \u001b[0;32m~/miniforge3/envs/chatbot/lib/python3.13/site-packages/langchain/chains/base.py:389\u001b[0m, in \u001b[0;36mChain.__call__\u001b[0;34m(self, inputs, return_only_outputs, callbacks, tags, metadata, run_name, include_run_info)\u001b[0m\n\u001b[1;32m    357\u001b[0m \u001b[38;5;250m\u001b[39m\u001b[38;5;124;03m\"\"\"Execute the chain.\u001b[39;00m\n\u001b[1;32m    358\u001b[0m \n\u001b[1;32m    359\u001b[0m \u001b[38;5;124;03mArgs:\u001b[39;00m\n\u001b[0;32m   (...)\u001b[0m\n\u001b[1;32m    380\u001b[0m \u001b[38;5;124;03m        `Chain.output_keys`.\u001b[39;00m\n\u001b[1;32m    381\u001b[0m \u001b[38;5;124;03m\"\"\"\u001b[39;00m\n\u001b[1;32m    382\u001b[0m config \u001b[38;5;241m=\u001b[39m {\n\u001b[1;32m    383\u001b[0m     \u001b[38;5;124m\"\u001b[39m\u001b[38;5;124mcallbacks\u001b[39m\u001b[38;5;124m\"\u001b[39m: callbacks,\n\u001b[1;32m    384\u001b[0m     \u001b[38;5;124m\"\u001b[39m\u001b[38;5;124mtags\u001b[39m\u001b[38;5;124m\"\u001b[39m: tags,\n\u001b[1;32m    385\u001b[0m     \u001b[38;5;124m\"\u001b[39m\u001b[38;5;124mmetadata\u001b[39m\u001b[38;5;124m\"\u001b[39m: metadata,\n\u001b[1;32m    386\u001b[0m     \u001b[38;5;124m\"\u001b[39m\u001b[38;5;124mrun_name\u001b[39m\u001b[38;5;124m\"\u001b[39m: run_name,\n\u001b[1;32m    387\u001b[0m }\n\u001b[0;32m--> 389\u001b[0m \u001b[38;5;28;01mreturn\u001b[39;00m \u001b[38;5;28;43mself\u001b[39;49m\u001b[38;5;241;43m.\u001b[39;49m\u001b[43minvoke\u001b[49m\u001b[43m(\u001b[49m\n\u001b[1;32m    390\u001b[0m \u001b[43m    \u001b[49m\u001b[43minputs\u001b[49m\u001b[43m,\u001b[49m\n\u001b[1;32m    391\u001b[0m \u001b[43m    \u001b[49m\u001b[43mcast\u001b[49m\u001b[43m(\u001b[49m\u001b[43mRunnableConfig\u001b[49m\u001b[43m,\u001b[49m\u001b[43m \u001b[49m\u001b[43m{\u001b[49m\u001b[43mk\u001b[49m\u001b[43m:\u001b[49m\u001b[43m \u001b[49m\u001b[43mv\u001b[49m\u001b[43m \u001b[49m\u001b[38;5;28;43;01mfor\u001b[39;49;00m\u001b[43m \u001b[49m\u001b[43mk\u001b[49m\u001b[43m,\u001b[49m\u001b[43m \u001b[49m\u001b[43mv\u001b[49m\u001b[43m \u001b[49m\u001b[38;5;129;43;01min\u001b[39;49;00m\u001b[43m \u001b[49m\u001b[43mconfig\u001b[49m\u001b[38;5;241;43m.\u001b[39;49m\u001b[43mitems\u001b[49m\u001b[43m(\u001b[49m\u001b[43m)\u001b[49m\u001b[43m \u001b[49m\u001b[38;5;28;43;01mif\u001b[39;49;00m\u001b[43m \u001b[49m\u001b[43mv\u001b[49m\u001b[43m \u001b[49m\u001b[38;5;129;43;01mis\u001b[39;49;00m\u001b[43m \u001b[49m\u001b[38;5;129;43;01mnot\u001b[39;49;00m\u001b[43m \u001b[49m\u001b[38;5;28;43;01mNone\u001b[39;49;00m\u001b[43m}\u001b[49m\u001b[43m)\u001b[49m\u001b[43m,\u001b[49m\n\u001b[1;32m    392\u001b[0m \u001b[43m    \u001b[49m\u001b[43mreturn_only_outputs\u001b[49m\u001b[38;5;241;43m=\u001b[39;49m\u001b[43mreturn_only_outputs\u001b[49m\u001b[43m,\u001b[49m\n\u001b[1;32m    393\u001b[0m \u001b[43m    \u001b[49m\u001b[43minclude_run_info\u001b[49m\u001b[38;5;241;43m=\u001b[39;49m\u001b[43minclude_run_info\u001b[49m\u001b[43m,\u001b[49m\n\u001b[1;32m    394\u001b[0m \u001b[43m\u001b[49m\u001b[43m)\u001b[49m\n",
      "File \u001b[0;32m~/miniforge3/envs/chatbot/lib/python3.13/site-packages/langchain/chains/base.py:170\u001b[0m, in \u001b[0;36mChain.invoke\u001b[0;34m(self, input, config, **kwargs)\u001b[0m\n\u001b[1;32m    168\u001b[0m \u001b[38;5;28;01mexcept\u001b[39;00m \u001b[38;5;167;01mBaseException\u001b[39;00m \u001b[38;5;28;01mas\u001b[39;00m e:\n\u001b[1;32m    169\u001b[0m     run_manager\u001b[38;5;241m.\u001b[39mon_chain_error(e)\n\u001b[0;32m--> 170\u001b[0m     \u001b[38;5;28;01mraise\u001b[39;00m e\n\u001b[1;32m    171\u001b[0m run_manager\u001b[38;5;241m.\u001b[39mon_chain_end(outputs)\n\u001b[1;32m    173\u001b[0m \u001b[38;5;28;01mif\u001b[39;00m include_run_info:\n",
      "File \u001b[0;32m~/miniforge3/envs/chatbot/lib/python3.13/site-packages/langchain/chains/base.py:160\u001b[0m, in \u001b[0;36mChain.invoke\u001b[0;34m(self, input, config, **kwargs)\u001b[0m\n\u001b[1;32m    157\u001b[0m \u001b[38;5;28;01mtry\u001b[39;00m:\n\u001b[1;32m    158\u001b[0m     \u001b[38;5;28mself\u001b[39m\u001b[38;5;241m.\u001b[39m_validate_inputs(inputs)\n\u001b[1;32m    159\u001b[0m     outputs \u001b[38;5;241m=\u001b[39m (\n\u001b[0;32m--> 160\u001b[0m         \u001b[38;5;28;43mself\u001b[39;49m\u001b[38;5;241;43m.\u001b[39;49m\u001b[43m_call\u001b[49m\u001b[43m(\u001b[49m\u001b[43minputs\u001b[49m\u001b[43m,\u001b[49m\u001b[43m \u001b[49m\u001b[43mrun_manager\u001b[49m\u001b[38;5;241;43m=\u001b[39;49m\u001b[43mrun_manager\u001b[49m\u001b[43m)\u001b[49m\n\u001b[1;32m    161\u001b[0m         \u001b[38;5;28;01mif\u001b[39;00m new_arg_supported\n\u001b[1;32m    162\u001b[0m         \u001b[38;5;28;01melse\u001b[39;00m \u001b[38;5;28mself\u001b[39m\u001b[38;5;241m.\u001b[39m_call(inputs)\n\u001b[1;32m    163\u001b[0m     )\n\u001b[1;32m    165\u001b[0m     final_outputs: Dict[\u001b[38;5;28mstr\u001b[39m, Any] \u001b[38;5;241m=\u001b[39m \u001b[38;5;28mself\u001b[39m\u001b[38;5;241m.\u001b[39mprep_outputs(\n\u001b[1;32m    166\u001b[0m         inputs, outputs, return_only_outputs\n\u001b[1;32m    167\u001b[0m     )\n\u001b[1;32m    168\u001b[0m \u001b[38;5;28;01mexcept\u001b[39;00m \u001b[38;5;167;01mBaseException\u001b[39;00m \u001b[38;5;28;01mas\u001b[39;00m e:\n",
      "File \u001b[0;32m~/miniforge3/envs/chatbot/lib/python3.13/site-packages/langchain/agents/agent.py:1624\u001b[0m, in \u001b[0;36mAgentExecutor._call\u001b[0;34m(self, inputs, run_manager)\u001b[0m\n\u001b[1;32m   1622\u001b[0m \u001b[38;5;66;03m# We now enter the agent loop (until it returns something).\u001b[39;00m\n\u001b[1;32m   1623\u001b[0m \u001b[38;5;28;01mwhile\u001b[39;00m \u001b[38;5;28mself\u001b[39m\u001b[38;5;241m.\u001b[39m_should_continue(iterations, time_elapsed):\n\u001b[0;32m-> 1624\u001b[0m     next_step_output \u001b[38;5;241m=\u001b[39m \u001b[38;5;28;43mself\u001b[39;49m\u001b[38;5;241;43m.\u001b[39;49m\u001b[43m_take_next_step\u001b[49m\u001b[43m(\u001b[49m\n\u001b[1;32m   1625\u001b[0m \u001b[43m        \u001b[49m\u001b[43mname_to_tool_map\u001b[49m\u001b[43m,\u001b[49m\n\u001b[1;32m   1626\u001b[0m \u001b[43m        \u001b[49m\u001b[43mcolor_mapping\u001b[49m\u001b[43m,\u001b[49m\n\u001b[1;32m   1627\u001b[0m \u001b[43m        \u001b[49m\u001b[43minputs\u001b[49m\u001b[43m,\u001b[49m\n\u001b[1;32m   1628\u001b[0m \u001b[43m        \u001b[49m\u001b[43mintermediate_steps\u001b[49m\u001b[43m,\u001b[49m\n\u001b[1;32m   1629\u001b[0m \u001b[43m        \u001b[49m\u001b[43mrun_manager\u001b[49m\u001b[38;5;241;43m=\u001b[39;49m\u001b[43mrun_manager\u001b[49m\u001b[43m,\u001b[49m\n\u001b[1;32m   1630\u001b[0m \u001b[43m    \u001b[49m\u001b[43m)\u001b[49m\n\u001b[1;32m   1631\u001b[0m     \u001b[38;5;28;01mif\u001b[39;00m \u001b[38;5;28misinstance\u001b[39m(next_step_output, AgentFinish):\n\u001b[1;32m   1632\u001b[0m         \u001b[38;5;28;01mreturn\u001b[39;00m \u001b[38;5;28mself\u001b[39m\u001b[38;5;241m.\u001b[39m_return(\n\u001b[1;32m   1633\u001b[0m             next_step_output, intermediate_steps, run_manager\u001b[38;5;241m=\u001b[39mrun_manager\n\u001b[1;32m   1634\u001b[0m         )\n",
      "File \u001b[0;32m~/miniforge3/envs/chatbot/lib/python3.13/site-packages/langchain/agents/agent.py:1332\u001b[0m, in \u001b[0;36mAgentExecutor._take_next_step\u001b[0;34m(self, name_to_tool_map, color_mapping, inputs, intermediate_steps, run_manager)\u001b[0m\n\u001b[1;32m   1321\u001b[0m \u001b[38;5;28;01mdef\u001b[39;00m\u001b[38;5;250m \u001b[39m\u001b[38;5;21m_take_next_step\u001b[39m(\n\u001b[1;32m   1322\u001b[0m     \u001b[38;5;28mself\u001b[39m,\n\u001b[1;32m   1323\u001b[0m     name_to_tool_map: Dict[\u001b[38;5;28mstr\u001b[39m, BaseTool],\n\u001b[0;32m   (...)\u001b[0m\n\u001b[1;32m   1327\u001b[0m     run_manager: Optional[CallbackManagerForChainRun] \u001b[38;5;241m=\u001b[39m \u001b[38;5;28;01mNone\u001b[39;00m,\n\u001b[1;32m   1328\u001b[0m ) \u001b[38;5;241m-\u001b[39m\u001b[38;5;241m>\u001b[39m Union[AgentFinish, List[Tuple[AgentAction, \u001b[38;5;28mstr\u001b[39m]]]:\n\u001b[1;32m   1329\u001b[0m     \u001b[38;5;28;01mreturn\u001b[39;00m \u001b[38;5;28mself\u001b[39m\u001b[38;5;241m.\u001b[39m_consume_next_step(\n\u001b[1;32m   1330\u001b[0m         \u001b[43m[\u001b[49m\n\u001b[1;32m   1331\u001b[0m \u001b[43m            \u001b[49m\u001b[43ma\u001b[49m\n\u001b[0;32m-> 1332\u001b[0m \u001b[43m            \u001b[49m\u001b[38;5;28;43;01mfor\u001b[39;49;00m\u001b[43m \u001b[49m\u001b[43ma\u001b[49m\u001b[43m \u001b[49m\u001b[38;5;129;43;01min\u001b[39;49;00m\u001b[43m \u001b[49m\u001b[38;5;28;43mself\u001b[39;49m\u001b[38;5;241;43m.\u001b[39;49m\u001b[43m_iter_next_step\u001b[49m\u001b[43m(\u001b[49m\n\u001b[1;32m   1333\u001b[0m \u001b[43m                \u001b[49m\u001b[43mname_to_tool_map\u001b[49m\u001b[43m,\u001b[49m\n\u001b[1;32m   1334\u001b[0m \u001b[43m                \u001b[49m\u001b[43mcolor_mapping\u001b[49m\u001b[43m,\u001b[49m\n\u001b[1;32m   1335\u001b[0m \u001b[43m                \u001b[49m\u001b[43minputs\u001b[49m\u001b[43m,\u001b[49m\n\u001b[1;32m   1336\u001b[0m \u001b[43m                \u001b[49m\u001b[43mintermediate_steps\u001b[49m\u001b[43m,\u001b[49m\n\u001b[1;32m   1337\u001b[0m \u001b[43m                \u001b[49m\u001b[43mrun_manager\u001b[49m\u001b[43m,\u001b[49m\n\u001b[1;32m   1338\u001b[0m \u001b[43m            \u001b[49m\u001b[43m)\u001b[49m\n\u001b[1;32m   1339\u001b[0m \u001b[43m        \u001b[49m\u001b[43m]\u001b[49m\n\u001b[1;32m   1340\u001b[0m     )\n",
      "File \u001b[0;32m~/miniforge3/envs/chatbot/lib/python3.13/site-packages/langchain/agents/agent.py:1358\u001b[0m, in \u001b[0;36mAgentExecutor._iter_next_step\u001b[0;34m(self, name_to_tool_map, color_mapping, inputs, intermediate_steps, run_manager)\u001b[0m\n\u001b[1;32m   1355\u001b[0m     intermediate_steps \u001b[38;5;241m=\u001b[39m \u001b[38;5;28mself\u001b[39m\u001b[38;5;241m.\u001b[39m_prepare_intermediate_steps(intermediate_steps)\n\u001b[1;32m   1357\u001b[0m     \u001b[38;5;66;03m# Call the LLM to see what to do.\u001b[39;00m\n\u001b[0;32m-> 1358\u001b[0m     output \u001b[38;5;241m=\u001b[39m \u001b[38;5;28;43mself\u001b[39;49m\u001b[38;5;241;43m.\u001b[39;49m\u001b[43m_action_agent\u001b[49m\u001b[38;5;241;43m.\u001b[39;49m\u001b[43mplan\u001b[49m\u001b[43m(\u001b[49m\n\u001b[1;32m   1359\u001b[0m \u001b[43m        \u001b[49m\u001b[43mintermediate_steps\u001b[49m\u001b[43m,\u001b[49m\n\u001b[1;32m   1360\u001b[0m \u001b[43m        \u001b[49m\u001b[43mcallbacks\u001b[49m\u001b[38;5;241;43m=\u001b[39;49m\u001b[43mrun_manager\u001b[49m\u001b[38;5;241;43m.\u001b[39;49m\u001b[43mget_child\u001b[49m\u001b[43m(\u001b[49m\u001b[43m)\u001b[49m\u001b[43m \u001b[49m\u001b[38;5;28;43;01mif\u001b[39;49;00m\u001b[43m \u001b[49m\u001b[43mrun_manager\u001b[49m\u001b[43m \u001b[49m\u001b[38;5;28;43;01melse\u001b[39;49;00m\u001b[43m \u001b[49m\u001b[38;5;28;43;01mNone\u001b[39;49;00m\u001b[43m,\u001b[49m\n\u001b[1;32m   1361\u001b[0m \u001b[43m        \u001b[49m\u001b[38;5;241;43m*\u001b[39;49m\u001b[38;5;241;43m*\u001b[39;49m\u001b[43minputs\u001b[49m\u001b[43m,\u001b[49m\n\u001b[1;32m   1362\u001b[0m \u001b[43m    \u001b[49m\u001b[43m)\u001b[49m\n\u001b[1;32m   1363\u001b[0m \u001b[38;5;28;01mexcept\u001b[39;00m OutputParserException \u001b[38;5;28;01mas\u001b[39;00m e:\n\u001b[1;32m   1364\u001b[0m     \u001b[38;5;28;01mif\u001b[39;00m \u001b[38;5;28misinstance\u001b[39m(\u001b[38;5;28mself\u001b[39m\u001b[38;5;241m.\u001b[39mhandle_parsing_errors, \u001b[38;5;28mbool\u001b[39m):\n",
      "File \u001b[0;32m~/miniforge3/envs/chatbot/lib/python3.13/site-packages/langchain/agents/agent.py:804\u001b[0m, in \u001b[0;36mAgent.plan\u001b[0;34m(self, intermediate_steps, callbacks, **kwargs)\u001b[0m\n\u001b[1;32m    792\u001b[0m \u001b[38;5;250m\u001b[39m\u001b[38;5;124;03m\"\"\"Given input, decided what to do.\u001b[39;00m\n\u001b[1;32m    793\u001b[0m \n\u001b[1;32m    794\u001b[0m \u001b[38;5;124;03mArgs:\u001b[39;00m\n\u001b[0;32m   (...)\u001b[0m\n\u001b[1;32m    801\u001b[0m \u001b[38;5;124;03m    Action specifying what tool to use.\u001b[39;00m\n\u001b[1;32m    802\u001b[0m \u001b[38;5;124;03m\"\"\"\u001b[39;00m\n\u001b[1;32m    803\u001b[0m full_inputs \u001b[38;5;241m=\u001b[39m \u001b[38;5;28mself\u001b[39m\u001b[38;5;241m.\u001b[39mget_full_inputs(intermediate_steps, \u001b[38;5;241m*\u001b[39m\u001b[38;5;241m*\u001b[39mkwargs)\n\u001b[0;32m--> 804\u001b[0m full_output \u001b[38;5;241m=\u001b[39m \u001b[38;5;28;43mself\u001b[39;49m\u001b[38;5;241;43m.\u001b[39;49m\u001b[43mllm_chain\u001b[49m\u001b[38;5;241;43m.\u001b[39;49m\u001b[43mpredict\u001b[49m\u001b[43m(\u001b[49m\u001b[43mcallbacks\u001b[49m\u001b[38;5;241;43m=\u001b[39;49m\u001b[43mcallbacks\u001b[49m\u001b[43m,\u001b[49m\u001b[43m \u001b[49m\u001b[38;5;241;43m*\u001b[39;49m\u001b[38;5;241;43m*\u001b[39;49m\u001b[43mfull_inputs\u001b[49m\u001b[43m)\u001b[49m\n\u001b[1;32m    805\u001b[0m \u001b[38;5;28;01mreturn\u001b[39;00m \u001b[38;5;28mself\u001b[39m\u001b[38;5;241m.\u001b[39moutput_parser\u001b[38;5;241m.\u001b[39mparse(full_output)\n",
      "File \u001b[0;32m~/miniforge3/envs/chatbot/lib/python3.13/site-packages/langchain/chains/llm.py:318\u001b[0m, in \u001b[0;36mLLMChain.predict\u001b[0;34m(self, callbacks, **kwargs)\u001b[0m\n\u001b[1;32m    303\u001b[0m \u001b[38;5;28;01mdef\u001b[39;00m\u001b[38;5;250m \u001b[39m\u001b[38;5;21mpredict\u001b[39m(\u001b[38;5;28mself\u001b[39m, callbacks: Callbacks \u001b[38;5;241m=\u001b[39m \u001b[38;5;28;01mNone\u001b[39;00m, \u001b[38;5;241m*\u001b[39m\u001b[38;5;241m*\u001b[39mkwargs: Any) \u001b[38;5;241m-\u001b[39m\u001b[38;5;241m>\u001b[39m \u001b[38;5;28mstr\u001b[39m:\n\u001b[1;32m    304\u001b[0m \u001b[38;5;250m    \u001b[39m\u001b[38;5;124;03m\"\"\"Format prompt with kwargs and pass to LLM.\u001b[39;00m\n\u001b[1;32m    305\u001b[0m \n\u001b[1;32m    306\u001b[0m \u001b[38;5;124;03m    Args:\u001b[39;00m\n\u001b[0;32m   (...)\u001b[0m\n\u001b[1;32m    316\u001b[0m \u001b[38;5;124;03m            completion = llm.predict(adjective=\"funny\")\u001b[39;00m\n\u001b[1;32m    317\u001b[0m \u001b[38;5;124;03m    \"\"\"\u001b[39;00m\n\u001b[0;32m--> 318\u001b[0m     \u001b[38;5;28;01mreturn\u001b[39;00m \u001b[38;5;28;43mself\u001b[39;49m\u001b[43m(\u001b[49m\u001b[43mkwargs\u001b[49m\u001b[43m,\u001b[49m\u001b[43m \u001b[49m\u001b[43mcallbacks\u001b[49m\u001b[38;5;241;43m=\u001b[39;49m\u001b[43mcallbacks\u001b[49m\u001b[43m)\u001b[49m[\u001b[38;5;28mself\u001b[39m\u001b[38;5;241m.\u001b[39moutput_key]\n",
      "File \u001b[0;32m~/miniforge3/envs/chatbot/lib/python3.13/site-packages/langchain_core/_api/deprecation.py:181\u001b[0m, in \u001b[0;36mdeprecated.<locals>.deprecate.<locals>.warning_emitting_wrapper\u001b[0;34m(*args, **kwargs)\u001b[0m\n\u001b[1;32m    179\u001b[0m     warned \u001b[38;5;241m=\u001b[39m \u001b[38;5;28;01mTrue\u001b[39;00m\n\u001b[1;32m    180\u001b[0m     emit_warning()\n\u001b[0;32m--> 181\u001b[0m \u001b[38;5;28;01mreturn\u001b[39;00m \u001b[43mwrapped\u001b[49m\u001b[43m(\u001b[49m\u001b[38;5;241;43m*\u001b[39;49m\u001b[43margs\u001b[49m\u001b[43m,\u001b[49m\u001b[43m \u001b[49m\u001b[38;5;241;43m*\u001b[39;49m\u001b[38;5;241;43m*\u001b[39;49m\u001b[43mkwargs\u001b[49m\u001b[43m)\u001b[49m\n",
      "File \u001b[0;32m~/miniforge3/envs/chatbot/lib/python3.13/site-packages/langchain/chains/base.py:389\u001b[0m, in \u001b[0;36mChain.__call__\u001b[0;34m(self, inputs, return_only_outputs, callbacks, tags, metadata, run_name, include_run_info)\u001b[0m\n\u001b[1;32m    357\u001b[0m \u001b[38;5;250m\u001b[39m\u001b[38;5;124;03m\"\"\"Execute the chain.\u001b[39;00m\n\u001b[1;32m    358\u001b[0m \n\u001b[1;32m    359\u001b[0m \u001b[38;5;124;03mArgs:\u001b[39;00m\n\u001b[0;32m   (...)\u001b[0m\n\u001b[1;32m    380\u001b[0m \u001b[38;5;124;03m        `Chain.output_keys`.\u001b[39;00m\n\u001b[1;32m    381\u001b[0m \u001b[38;5;124;03m\"\"\"\u001b[39;00m\n\u001b[1;32m    382\u001b[0m config \u001b[38;5;241m=\u001b[39m {\n\u001b[1;32m    383\u001b[0m     \u001b[38;5;124m\"\u001b[39m\u001b[38;5;124mcallbacks\u001b[39m\u001b[38;5;124m\"\u001b[39m: callbacks,\n\u001b[1;32m    384\u001b[0m     \u001b[38;5;124m\"\u001b[39m\u001b[38;5;124mtags\u001b[39m\u001b[38;5;124m\"\u001b[39m: tags,\n\u001b[1;32m    385\u001b[0m     \u001b[38;5;124m\"\u001b[39m\u001b[38;5;124mmetadata\u001b[39m\u001b[38;5;124m\"\u001b[39m: metadata,\n\u001b[1;32m    386\u001b[0m     \u001b[38;5;124m\"\u001b[39m\u001b[38;5;124mrun_name\u001b[39m\u001b[38;5;124m\"\u001b[39m: run_name,\n\u001b[1;32m    387\u001b[0m }\n\u001b[0;32m--> 389\u001b[0m \u001b[38;5;28;01mreturn\u001b[39;00m \u001b[38;5;28;43mself\u001b[39;49m\u001b[38;5;241;43m.\u001b[39;49m\u001b[43minvoke\u001b[49m\u001b[43m(\u001b[49m\n\u001b[1;32m    390\u001b[0m \u001b[43m    \u001b[49m\u001b[43minputs\u001b[49m\u001b[43m,\u001b[49m\n\u001b[1;32m    391\u001b[0m \u001b[43m    \u001b[49m\u001b[43mcast\u001b[49m\u001b[43m(\u001b[49m\u001b[43mRunnableConfig\u001b[49m\u001b[43m,\u001b[49m\u001b[43m \u001b[49m\u001b[43m{\u001b[49m\u001b[43mk\u001b[49m\u001b[43m:\u001b[49m\u001b[43m \u001b[49m\u001b[43mv\u001b[49m\u001b[43m \u001b[49m\u001b[38;5;28;43;01mfor\u001b[39;49;00m\u001b[43m \u001b[49m\u001b[43mk\u001b[49m\u001b[43m,\u001b[49m\u001b[43m \u001b[49m\u001b[43mv\u001b[49m\u001b[43m \u001b[49m\u001b[38;5;129;43;01min\u001b[39;49;00m\u001b[43m \u001b[49m\u001b[43mconfig\u001b[49m\u001b[38;5;241;43m.\u001b[39;49m\u001b[43mitems\u001b[49m\u001b[43m(\u001b[49m\u001b[43m)\u001b[49m\u001b[43m \u001b[49m\u001b[38;5;28;43;01mif\u001b[39;49;00m\u001b[43m \u001b[49m\u001b[43mv\u001b[49m\u001b[43m \u001b[49m\u001b[38;5;129;43;01mis\u001b[39;49;00m\u001b[43m \u001b[49m\u001b[38;5;129;43;01mnot\u001b[39;49;00m\u001b[43m \u001b[49m\u001b[38;5;28;43;01mNone\u001b[39;49;00m\u001b[43m}\u001b[49m\u001b[43m)\u001b[49m\u001b[43m,\u001b[49m\n\u001b[1;32m    392\u001b[0m \u001b[43m    \u001b[49m\u001b[43mreturn_only_outputs\u001b[49m\u001b[38;5;241;43m=\u001b[39;49m\u001b[43mreturn_only_outputs\u001b[49m\u001b[43m,\u001b[49m\n\u001b[1;32m    393\u001b[0m \u001b[43m    \u001b[49m\u001b[43minclude_run_info\u001b[49m\u001b[38;5;241;43m=\u001b[39;49m\u001b[43minclude_run_info\u001b[49m\u001b[43m,\u001b[49m\n\u001b[1;32m    394\u001b[0m \u001b[43m\u001b[49m\u001b[43m)\u001b[49m\n",
      "File \u001b[0;32m~/miniforge3/envs/chatbot/lib/python3.13/site-packages/langchain/chains/base.py:170\u001b[0m, in \u001b[0;36mChain.invoke\u001b[0;34m(self, input, config, **kwargs)\u001b[0m\n\u001b[1;32m    168\u001b[0m \u001b[38;5;28;01mexcept\u001b[39;00m \u001b[38;5;167;01mBaseException\u001b[39;00m \u001b[38;5;28;01mas\u001b[39;00m e:\n\u001b[1;32m    169\u001b[0m     run_manager\u001b[38;5;241m.\u001b[39mon_chain_error(e)\n\u001b[0;32m--> 170\u001b[0m     \u001b[38;5;28;01mraise\u001b[39;00m e\n\u001b[1;32m    171\u001b[0m run_manager\u001b[38;5;241m.\u001b[39mon_chain_end(outputs)\n\u001b[1;32m    173\u001b[0m \u001b[38;5;28;01mif\u001b[39;00m include_run_info:\n",
      "File \u001b[0;32m~/miniforge3/envs/chatbot/lib/python3.13/site-packages/langchain/chains/base.py:160\u001b[0m, in \u001b[0;36mChain.invoke\u001b[0;34m(self, input, config, **kwargs)\u001b[0m\n\u001b[1;32m    157\u001b[0m \u001b[38;5;28;01mtry\u001b[39;00m:\n\u001b[1;32m    158\u001b[0m     \u001b[38;5;28mself\u001b[39m\u001b[38;5;241m.\u001b[39m_validate_inputs(inputs)\n\u001b[1;32m    159\u001b[0m     outputs \u001b[38;5;241m=\u001b[39m (\n\u001b[0;32m--> 160\u001b[0m         \u001b[38;5;28;43mself\u001b[39;49m\u001b[38;5;241;43m.\u001b[39;49m\u001b[43m_call\u001b[49m\u001b[43m(\u001b[49m\u001b[43minputs\u001b[49m\u001b[43m,\u001b[49m\u001b[43m \u001b[49m\u001b[43mrun_manager\u001b[49m\u001b[38;5;241;43m=\u001b[39;49m\u001b[43mrun_manager\u001b[49m\u001b[43m)\u001b[49m\n\u001b[1;32m    161\u001b[0m         \u001b[38;5;28;01mif\u001b[39;00m new_arg_supported\n\u001b[1;32m    162\u001b[0m         \u001b[38;5;28;01melse\u001b[39;00m \u001b[38;5;28mself\u001b[39m\u001b[38;5;241m.\u001b[39m_call(inputs)\n\u001b[1;32m    163\u001b[0m     )\n\u001b[1;32m    165\u001b[0m     final_outputs: Dict[\u001b[38;5;28mstr\u001b[39m, Any] \u001b[38;5;241m=\u001b[39m \u001b[38;5;28mself\u001b[39m\u001b[38;5;241m.\u001b[39mprep_outputs(\n\u001b[1;32m    166\u001b[0m         inputs, outputs, return_only_outputs\n\u001b[1;32m    167\u001b[0m     )\n\u001b[1;32m    168\u001b[0m \u001b[38;5;28;01mexcept\u001b[39;00m \u001b[38;5;167;01mBaseException\u001b[39;00m \u001b[38;5;28;01mas\u001b[39;00m e:\n",
      "File \u001b[0;32m~/miniforge3/envs/chatbot/lib/python3.13/site-packages/langchain/chains/llm.py:126\u001b[0m, in \u001b[0;36mLLMChain._call\u001b[0;34m(self, inputs, run_manager)\u001b[0m\n\u001b[1;32m    121\u001b[0m \u001b[38;5;28;01mdef\u001b[39;00m\u001b[38;5;250m \u001b[39m\u001b[38;5;21m_call\u001b[39m(\n\u001b[1;32m    122\u001b[0m     \u001b[38;5;28mself\u001b[39m,\n\u001b[1;32m    123\u001b[0m     inputs: Dict[\u001b[38;5;28mstr\u001b[39m, Any],\n\u001b[1;32m    124\u001b[0m     run_manager: Optional[CallbackManagerForChainRun] \u001b[38;5;241m=\u001b[39m \u001b[38;5;28;01mNone\u001b[39;00m,\n\u001b[1;32m    125\u001b[0m ) \u001b[38;5;241m-\u001b[39m\u001b[38;5;241m>\u001b[39m Dict[\u001b[38;5;28mstr\u001b[39m, \u001b[38;5;28mstr\u001b[39m]:\n\u001b[0;32m--> 126\u001b[0m     response \u001b[38;5;241m=\u001b[39m \u001b[38;5;28;43mself\u001b[39;49m\u001b[38;5;241;43m.\u001b[39;49m\u001b[43mgenerate\u001b[49m\u001b[43m(\u001b[49m\u001b[43m[\u001b[49m\u001b[43minputs\u001b[49m\u001b[43m]\u001b[49m\u001b[43m,\u001b[49m\u001b[43m \u001b[49m\u001b[43mrun_manager\u001b[49m\u001b[38;5;241;43m=\u001b[39;49m\u001b[43mrun_manager\u001b[49m\u001b[43m)\u001b[49m\n\u001b[1;32m    127\u001b[0m     \u001b[38;5;28;01mreturn\u001b[39;00m \u001b[38;5;28mself\u001b[39m\u001b[38;5;241m.\u001b[39mcreate_outputs(response)[\u001b[38;5;241m0\u001b[39m]\n",
      "File \u001b[0;32m~/miniforge3/envs/chatbot/lib/python3.13/site-packages/langchain/chains/llm.py:138\u001b[0m, in \u001b[0;36mLLMChain.generate\u001b[0;34m(self, input_list, run_manager)\u001b[0m\n\u001b[1;32m    136\u001b[0m callbacks \u001b[38;5;241m=\u001b[39m run_manager\u001b[38;5;241m.\u001b[39mget_child() \u001b[38;5;28;01mif\u001b[39;00m run_manager \u001b[38;5;28;01melse\u001b[39;00m \u001b[38;5;28;01mNone\u001b[39;00m\n\u001b[1;32m    137\u001b[0m \u001b[38;5;28;01mif\u001b[39;00m \u001b[38;5;28misinstance\u001b[39m(\u001b[38;5;28mself\u001b[39m\u001b[38;5;241m.\u001b[39mllm, BaseLanguageModel):\n\u001b[0;32m--> 138\u001b[0m     \u001b[38;5;28;01mreturn\u001b[39;00m \u001b[38;5;28;43mself\u001b[39;49m\u001b[38;5;241;43m.\u001b[39;49m\u001b[43mllm\u001b[49m\u001b[38;5;241;43m.\u001b[39;49m\u001b[43mgenerate_prompt\u001b[49m\u001b[43m(\u001b[49m\n\u001b[1;32m    139\u001b[0m \u001b[43m        \u001b[49m\u001b[43mprompts\u001b[49m\u001b[43m,\u001b[49m\n\u001b[1;32m    140\u001b[0m \u001b[43m        \u001b[49m\u001b[43mstop\u001b[49m\u001b[43m,\u001b[49m\n\u001b[1;32m    141\u001b[0m \u001b[43m        \u001b[49m\u001b[43mcallbacks\u001b[49m\u001b[38;5;241;43m=\u001b[39;49m\u001b[43mcallbacks\u001b[49m\u001b[43m,\u001b[49m\n\u001b[1;32m    142\u001b[0m \u001b[43m        \u001b[49m\u001b[38;5;241;43m*\u001b[39;49m\u001b[38;5;241;43m*\u001b[39;49m\u001b[38;5;28;43mself\u001b[39;49m\u001b[38;5;241;43m.\u001b[39;49m\u001b[43mllm_kwargs\u001b[49m\u001b[43m,\u001b[49m\n\u001b[1;32m    143\u001b[0m \u001b[43m    \u001b[49m\u001b[43m)\u001b[49m\n\u001b[1;32m    144\u001b[0m \u001b[38;5;28;01melse\u001b[39;00m:\n\u001b[1;32m    145\u001b[0m     results \u001b[38;5;241m=\u001b[39m \u001b[38;5;28mself\u001b[39m\u001b[38;5;241m.\u001b[39mllm\u001b[38;5;241m.\u001b[39mbind(stop\u001b[38;5;241m=\u001b[39mstop, \u001b[38;5;241m*\u001b[39m\u001b[38;5;241m*\u001b[39m\u001b[38;5;28mself\u001b[39m\u001b[38;5;241m.\u001b[39mllm_kwargs)\u001b[38;5;241m.\u001b[39mbatch(\n\u001b[1;32m    146\u001b[0m         cast(List, prompts), {\u001b[38;5;124m\"\u001b[39m\u001b[38;5;124mcallbacks\u001b[39m\u001b[38;5;124m\"\u001b[39m: callbacks}\n\u001b[1;32m    147\u001b[0m     )\n",
      "File \u001b[0;32m~/miniforge3/envs/chatbot/lib/python3.13/site-packages/langchain_core/language_models/chat_models.py:860\u001b[0m, in \u001b[0;36mBaseChatModel.generate_prompt\u001b[0;34m(self, prompts, stop, callbacks, **kwargs)\u001b[0m\n\u001b[1;32m    852\u001b[0m \u001b[38;5;28;01mdef\u001b[39;00m\u001b[38;5;250m \u001b[39m\u001b[38;5;21mgenerate_prompt\u001b[39m(\n\u001b[1;32m    853\u001b[0m     \u001b[38;5;28mself\u001b[39m,\n\u001b[1;32m    854\u001b[0m     prompts: \u001b[38;5;28mlist\u001b[39m[PromptValue],\n\u001b[0;32m   (...)\u001b[0m\n\u001b[1;32m    857\u001b[0m     \u001b[38;5;241m*\u001b[39m\u001b[38;5;241m*\u001b[39mkwargs: Any,\n\u001b[1;32m    858\u001b[0m ) \u001b[38;5;241m-\u001b[39m\u001b[38;5;241m>\u001b[39m LLMResult:\n\u001b[1;32m    859\u001b[0m     prompt_messages \u001b[38;5;241m=\u001b[39m [p\u001b[38;5;241m.\u001b[39mto_messages() \u001b[38;5;28;01mfor\u001b[39;00m p \u001b[38;5;129;01min\u001b[39;00m prompts]\n\u001b[0;32m--> 860\u001b[0m     \u001b[38;5;28;01mreturn\u001b[39;00m \u001b[38;5;28;43mself\u001b[39;49m\u001b[38;5;241;43m.\u001b[39;49m\u001b[43mgenerate\u001b[49m\u001b[43m(\u001b[49m\u001b[43mprompt_messages\u001b[49m\u001b[43m,\u001b[49m\u001b[43m \u001b[49m\u001b[43mstop\u001b[49m\u001b[38;5;241;43m=\u001b[39;49m\u001b[43mstop\u001b[49m\u001b[43m,\u001b[49m\u001b[43m \u001b[49m\u001b[43mcallbacks\u001b[49m\u001b[38;5;241;43m=\u001b[39;49m\u001b[43mcallbacks\u001b[49m\u001b[43m,\u001b[49m\u001b[43m \u001b[49m\u001b[38;5;241;43m*\u001b[39;49m\u001b[38;5;241;43m*\u001b[39;49m\u001b[43mkwargs\u001b[49m\u001b[43m)\u001b[49m\n",
      "File \u001b[0;32m~/miniforge3/envs/chatbot/lib/python3.13/site-packages/langchain_core/language_models/chat_models.py:690\u001b[0m, in \u001b[0;36mBaseChatModel.generate\u001b[0;34m(self, messages, stop, callbacks, tags, metadata, run_name, run_id, **kwargs)\u001b[0m\n\u001b[1;32m    687\u001b[0m \u001b[38;5;28;01mfor\u001b[39;00m i, m \u001b[38;5;129;01min\u001b[39;00m \u001b[38;5;28menumerate\u001b[39m(messages):\n\u001b[1;32m    688\u001b[0m     \u001b[38;5;28;01mtry\u001b[39;00m:\n\u001b[1;32m    689\u001b[0m         results\u001b[38;5;241m.\u001b[39mappend(\n\u001b[0;32m--> 690\u001b[0m             \u001b[38;5;28;43mself\u001b[39;49m\u001b[38;5;241;43m.\u001b[39;49m\u001b[43m_generate_with_cache\u001b[49m\u001b[43m(\u001b[49m\n\u001b[1;32m    691\u001b[0m \u001b[43m                \u001b[49m\u001b[43mm\u001b[49m\u001b[43m,\u001b[49m\n\u001b[1;32m    692\u001b[0m \u001b[43m                \u001b[49m\u001b[43mstop\u001b[49m\u001b[38;5;241;43m=\u001b[39;49m\u001b[43mstop\u001b[49m\u001b[43m,\u001b[49m\n\u001b[1;32m    693\u001b[0m \u001b[43m                \u001b[49m\u001b[43mrun_manager\u001b[49m\u001b[38;5;241;43m=\u001b[39;49m\u001b[43mrun_managers\u001b[49m\u001b[43m[\u001b[49m\u001b[43mi\u001b[49m\u001b[43m]\u001b[49m\u001b[43m \u001b[49m\u001b[38;5;28;43;01mif\u001b[39;49;00m\u001b[43m \u001b[49m\u001b[43mrun_managers\u001b[49m\u001b[43m \u001b[49m\u001b[38;5;28;43;01melse\u001b[39;49;00m\u001b[43m \u001b[49m\u001b[38;5;28;43;01mNone\u001b[39;49;00m\u001b[43m,\u001b[49m\n\u001b[1;32m    694\u001b[0m \u001b[43m                \u001b[49m\u001b[38;5;241;43m*\u001b[39;49m\u001b[38;5;241;43m*\u001b[39;49m\u001b[43mkwargs\u001b[49m\u001b[43m,\u001b[49m\n\u001b[1;32m    695\u001b[0m \u001b[43m            \u001b[49m\u001b[43m)\u001b[49m\n\u001b[1;32m    696\u001b[0m         )\n\u001b[1;32m    697\u001b[0m     \u001b[38;5;28;01mexcept\u001b[39;00m \u001b[38;5;167;01mBaseException\u001b[39;00m \u001b[38;5;28;01mas\u001b[39;00m e:\n\u001b[1;32m    698\u001b[0m         \u001b[38;5;28;01mif\u001b[39;00m run_managers:\n",
      "File \u001b[0;32m~/miniforge3/envs/chatbot/lib/python3.13/site-packages/langchain_core/language_models/chat_models.py:925\u001b[0m, in \u001b[0;36mBaseChatModel._generate_with_cache\u001b[0;34m(self, messages, stop, run_manager, **kwargs)\u001b[0m\n\u001b[1;32m    923\u001b[0m \u001b[38;5;28;01melse\u001b[39;00m:\n\u001b[1;32m    924\u001b[0m     \u001b[38;5;28;01mif\u001b[39;00m inspect\u001b[38;5;241m.\u001b[39msignature(\u001b[38;5;28mself\u001b[39m\u001b[38;5;241m.\u001b[39m_generate)\u001b[38;5;241m.\u001b[39mparameters\u001b[38;5;241m.\u001b[39mget(\u001b[38;5;124m\"\u001b[39m\u001b[38;5;124mrun_manager\u001b[39m\u001b[38;5;124m\"\u001b[39m):\n\u001b[0;32m--> 925\u001b[0m         result \u001b[38;5;241m=\u001b[39m \u001b[38;5;28;43mself\u001b[39;49m\u001b[38;5;241;43m.\u001b[39;49m\u001b[43m_generate\u001b[49m\u001b[43m(\u001b[49m\n\u001b[1;32m    926\u001b[0m \u001b[43m            \u001b[49m\u001b[43mmessages\u001b[49m\u001b[43m,\u001b[49m\u001b[43m \u001b[49m\u001b[43mstop\u001b[49m\u001b[38;5;241;43m=\u001b[39;49m\u001b[43mstop\u001b[49m\u001b[43m,\u001b[49m\u001b[43m \u001b[49m\u001b[43mrun_manager\u001b[49m\u001b[38;5;241;43m=\u001b[39;49m\u001b[43mrun_manager\u001b[49m\u001b[43m,\u001b[49m\u001b[43m \u001b[49m\u001b[38;5;241;43m*\u001b[39;49m\u001b[38;5;241;43m*\u001b[39;49m\u001b[43mkwargs\u001b[49m\n\u001b[1;32m    927\u001b[0m \u001b[43m        \u001b[49m\u001b[43m)\u001b[49m\n\u001b[1;32m    928\u001b[0m     \u001b[38;5;28;01melse\u001b[39;00m:\n\u001b[1;32m    929\u001b[0m         result \u001b[38;5;241m=\u001b[39m \u001b[38;5;28mself\u001b[39m\u001b[38;5;241m.\u001b[39m_generate(messages, stop\u001b[38;5;241m=\u001b[39mstop, \u001b[38;5;241m*\u001b[39m\u001b[38;5;241m*\u001b[39mkwargs)\n",
      "File \u001b[0;32m~/miniforge3/envs/chatbot/lib/python3.13/site-packages/langchain_groq/chat_models.py:480\u001b[0m, in \u001b[0;36mChatGroq._generate\u001b[0;34m(self, messages, stop, run_manager, **kwargs)\u001b[0m\n\u001b[1;32m    475\u001b[0m message_dicts, params \u001b[38;5;241m=\u001b[39m \u001b[38;5;28mself\u001b[39m\u001b[38;5;241m.\u001b[39m_create_message_dicts(messages, stop)\n\u001b[1;32m    476\u001b[0m params \u001b[38;5;241m=\u001b[39m {\n\u001b[1;32m    477\u001b[0m     \u001b[38;5;241m*\u001b[39m\u001b[38;5;241m*\u001b[39mparams,\n\u001b[1;32m    478\u001b[0m     \u001b[38;5;241m*\u001b[39m\u001b[38;5;241m*\u001b[39mkwargs,\n\u001b[1;32m    479\u001b[0m }\n\u001b[0;32m--> 480\u001b[0m response \u001b[38;5;241m=\u001b[39m \u001b[38;5;28;43mself\u001b[39;49m\u001b[38;5;241;43m.\u001b[39;49m\u001b[43mclient\u001b[49m\u001b[38;5;241;43m.\u001b[39;49m\u001b[43mcreate\u001b[49m\u001b[43m(\u001b[49m\u001b[43mmessages\u001b[49m\u001b[38;5;241;43m=\u001b[39;49m\u001b[43mmessage_dicts\u001b[49m\u001b[43m,\u001b[49m\u001b[43m \u001b[49m\u001b[38;5;241;43m*\u001b[39;49m\u001b[38;5;241;43m*\u001b[39;49m\u001b[43mparams\u001b[49m\u001b[43m)\u001b[49m\n\u001b[1;32m    481\u001b[0m \u001b[38;5;28;01mreturn\u001b[39;00m \u001b[38;5;28mself\u001b[39m\u001b[38;5;241m.\u001b[39m_create_chat_result(response)\n",
      "File \u001b[0;32m~/miniforge3/envs/chatbot/lib/python3.13/site-packages/groq/resources/chat/completions.py:361\u001b[0m, in \u001b[0;36mCompletions.create\u001b[0;34m(self, messages, model, exclude_domains, frequency_penalty, function_call, functions, include_domains, logit_bias, logprobs, max_completion_tokens, max_tokens, metadata, n, parallel_tool_calls, presence_penalty, reasoning_format, response_format, search_settings, seed, service_tier, stop, store, stream, temperature, tool_choice, tools, top_logprobs, top_p, user, extra_headers, extra_query, extra_body, timeout)\u001b[0m\n\u001b[1;32m    178\u001b[0m \u001b[38;5;28;01mdef\u001b[39;00m\u001b[38;5;250m \u001b[39m\u001b[38;5;21mcreate\u001b[39m(\n\u001b[1;32m    179\u001b[0m     \u001b[38;5;28mself\u001b[39m,\n\u001b[1;32m    180\u001b[0m     \u001b[38;5;241m*\u001b[39m,\n\u001b[0;32m   (...)\u001b[0m\n\u001b[1;32m    225\u001b[0m     timeout: \u001b[38;5;28mfloat\u001b[39m \u001b[38;5;241m|\u001b[39m httpx\u001b[38;5;241m.\u001b[39mTimeout \u001b[38;5;241m|\u001b[39m \u001b[38;5;28;01mNone\u001b[39;00m \u001b[38;5;241m|\u001b[39m NotGiven \u001b[38;5;241m=\u001b[39m NOT_GIVEN,\n\u001b[1;32m    226\u001b[0m ) \u001b[38;5;241m-\u001b[39m\u001b[38;5;241m>\u001b[39m ChatCompletion \u001b[38;5;241m|\u001b[39m Stream[ChatCompletionChunk]:\n\u001b[1;32m    227\u001b[0m \u001b[38;5;250m    \u001b[39m\u001b[38;5;124;03m\"\"\"\u001b[39;00m\n\u001b[1;32m    228\u001b[0m \u001b[38;5;124;03m    Creates a model response for the given chat conversation.\u001b[39;00m\n\u001b[1;32m    229\u001b[0m \n\u001b[0;32m   (...)\u001b[0m\n\u001b[1;32m    359\u001b[0m \u001b[38;5;124;03m      timeout: Override the client-level default timeout for this request, in seconds\u001b[39;00m\n\u001b[1;32m    360\u001b[0m \u001b[38;5;124;03m    \"\"\"\u001b[39;00m\n\u001b[0;32m--> 361\u001b[0m     \u001b[38;5;28;01mreturn\u001b[39;00m \u001b[38;5;28;43mself\u001b[39;49m\u001b[38;5;241;43m.\u001b[39;49m\u001b[43m_post\u001b[49m\u001b[43m(\u001b[49m\n\u001b[1;32m    362\u001b[0m \u001b[43m        \u001b[49m\u001b[38;5;124;43m\"\u001b[39;49m\u001b[38;5;124;43m/openai/v1/chat/completions\u001b[39;49m\u001b[38;5;124;43m\"\u001b[39;49m\u001b[43m,\u001b[49m\n\u001b[1;32m    363\u001b[0m \u001b[43m        \u001b[49m\u001b[43mbody\u001b[49m\u001b[38;5;241;43m=\u001b[39;49m\u001b[43mmaybe_transform\u001b[49m\u001b[43m(\u001b[49m\n\u001b[1;32m    364\u001b[0m \u001b[43m            \u001b[49m\u001b[43m{\u001b[49m\n\u001b[1;32m    365\u001b[0m \u001b[43m                \u001b[49m\u001b[38;5;124;43m\"\u001b[39;49m\u001b[38;5;124;43mmessages\u001b[39;49m\u001b[38;5;124;43m\"\u001b[39;49m\u001b[43m:\u001b[49m\u001b[43m \u001b[49m\u001b[43mmessages\u001b[49m\u001b[43m,\u001b[49m\n\u001b[1;32m    366\u001b[0m \u001b[43m                \u001b[49m\u001b[38;5;124;43m\"\u001b[39;49m\u001b[38;5;124;43mmodel\u001b[39;49m\u001b[38;5;124;43m\"\u001b[39;49m\u001b[43m:\u001b[49m\u001b[43m \u001b[49m\u001b[43mmodel\u001b[49m\u001b[43m,\u001b[49m\n\u001b[1;32m    367\u001b[0m \u001b[43m                \u001b[49m\u001b[38;5;124;43m\"\u001b[39;49m\u001b[38;5;124;43mexclude_domains\u001b[39;49m\u001b[38;5;124;43m\"\u001b[39;49m\u001b[43m:\u001b[49m\u001b[43m \u001b[49m\u001b[43mexclude_domains\u001b[49m\u001b[43m,\u001b[49m\n\u001b[1;32m    368\u001b[0m \u001b[43m                \u001b[49m\u001b[38;5;124;43m\"\u001b[39;49m\u001b[38;5;124;43mfrequency_penalty\u001b[39;49m\u001b[38;5;124;43m\"\u001b[39;49m\u001b[43m:\u001b[49m\u001b[43m \u001b[49m\u001b[43mfrequency_penalty\u001b[49m\u001b[43m,\u001b[49m\n\u001b[1;32m    369\u001b[0m \u001b[43m                \u001b[49m\u001b[38;5;124;43m\"\u001b[39;49m\u001b[38;5;124;43mfunction_call\u001b[39;49m\u001b[38;5;124;43m\"\u001b[39;49m\u001b[43m:\u001b[49m\u001b[43m \u001b[49m\u001b[43mfunction_call\u001b[49m\u001b[43m,\u001b[49m\n\u001b[1;32m    370\u001b[0m \u001b[43m                \u001b[49m\u001b[38;5;124;43m\"\u001b[39;49m\u001b[38;5;124;43mfunctions\u001b[39;49m\u001b[38;5;124;43m\"\u001b[39;49m\u001b[43m:\u001b[49m\u001b[43m \u001b[49m\u001b[43mfunctions\u001b[49m\u001b[43m,\u001b[49m\n\u001b[1;32m    371\u001b[0m \u001b[43m                \u001b[49m\u001b[38;5;124;43m\"\u001b[39;49m\u001b[38;5;124;43minclude_domains\u001b[39;49m\u001b[38;5;124;43m\"\u001b[39;49m\u001b[43m:\u001b[49m\u001b[43m \u001b[49m\u001b[43minclude_domains\u001b[49m\u001b[43m,\u001b[49m\n\u001b[1;32m    372\u001b[0m \u001b[43m                \u001b[49m\u001b[38;5;124;43m\"\u001b[39;49m\u001b[38;5;124;43mlogit_bias\u001b[39;49m\u001b[38;5;124;43m\"\u001b[39;49m\u001b[43m:\u001b[49m\u001b[43m \u001b[49m\u001b[43mlogit_bias\u001b[49m\u001b[43m,\u001b[49m\n\u001b[1;32m    373\u001b[0m \u001b[43m                \u001b[49m\u001b[38;5;124;43m\"\u001b[39;49m\u001b[38;5;124;43mlogprobs\u001b[39;49m\u001b[38;5;124;43m\"\u001b[39;49m\u001b[43m:\u001b[49m\u001b[43m \u001b[49m\u001b[43mlogprobs\u001b[49m\u001b[43m,\u001b[49m\n\u001b[1;32m    374\u001b[0m \u001b[43m                \u001b[49m\u001b[38;5;124;43m\"\u001b[39;49m\u001b[38;5;124;43mmax_completion_tokens\u001b[39;49m\u001b[38;5;124;43m\"\u001b[39;49m\u001b[43m:\u001b[49m\u001b[43m \u001b[49m\u001b[43mmax_completion_tokens\u001b[49m\u001b[43m,\u001b[49m\n\u001b[1;32m    375\u001b[0m \u001b[43m                \u001b[49m\u001b[38;5;124;43m\"\u001b[39;49m\u001b[38;5;124;43mmax_tokens\u001b[39;49m\u001b[38;5;124;43m\"\u001b[39;49m\u001b[43m:\u001b[49m\u001b[43m \u001b[49m\u001b[43mmax_tokens\u001b[49m\u001b[43m,\u001b[49m\n\u001b[1;32m    376\u001b[0m \u001b[43m                \u001b[49m\u001b[38;5;124;43m\"\u001b[39;49m\u001b[38;5;124;43mmetadata\u001b[39;49m\u001b[38;5;124;43m\"\u001b[39;49m\u001b[43m:\u001b[49m\u001b[43m \u001b[49m\u001b[43mmetadata\u001b[49m\u001b[43m,\u001b[49m\n\u001b[1;32m    377\u001b[0m \u001b[43m                \u001b[49m\u001b[38;5;124;43m\"\u001b[39;49m\u001b[38;5;124;43mn\u001b[39;49m\u001b[38;5;124;43m\"\u001b[39;49m\u001b[43m:\u001b[49m\u001b[43m \u001b[49m\u001b[43mn\u001b[49m\u001b[43m,\u001b[49m\n\u001b[1;32m    378\u001b[0m \u001b[43m                \u001b[49m\u001b[38;5;124;43m\"\u001b[39;49m\u001b[38;5;124;43mparallel_tool_calls\u001b[39;49m\u001b[38;5;124;43m\"\u001b[39;49m\u001b[43m:\u001b[49m\u001b[43m \u001b[49m\u001b[43mparallel_tool_calls\u001b[49m\u001b[43m,\u001b[49m\n\u001b[1;32m    379\u001b[0m \u001b[43m                \u001b[49m\u001b[38;5;124;43m\"\u001b[39;49m\u001b[38;5;124;43mpresence_penalty\u001b[39;49m\u001b[38;5;124;43m\"\u001b[39;49m\u001b[43m:\u001b[49m\u001b[43m \u001b[49m\u001b[43mpresence_penalty\u001b[49m\u001b[43m,\u001b[49m\n\u001b[1;32m    380\u001b[0m \u001b[43m                \u001b[49m\u001b[38;5;124;43m\"\u001b[39;49m\u001b[38;5;124;43mreasoning_format\u001b[39;49m\u001b[38;5;124;43m\"\u001b[39;49m\u001b[43m:\u001b[49m\u001b[43m \u001b[49m\u001b[43mreasoning_format\u001b[49m\u001b[43m,\u001b[49m\n\u001b[1;32m    381\u001b[0m \u001b[43m                \u001b[49m\u001b[38;5;124;43m\"\u001b[39;49m\u001b[38;5;124;43mresponse_format\u001b[39;49m\u001b[38;5;124;43m\"\u001b[39;49m\u001b[43m:\u001b[49m\u001b[43m \u001b[49m\u001b[43mresponse_format\u001b[49m\u001b[43m,\u001b[49m\n\u001b[1;32m    382\u001b[0m \u001b[43m                \u001b[49m\u001b[38;5;124;43m\"\u001b[39;49m\u001b[38;5;124;43msearch_settings\u001b[39;49m\u001b[38;5;124;43m\"\u001b[39;49m\u001b[43m:\u001b[49m\u001b[43m \u001b[49m\u001b[43msearch_settings\u001b[49m\u001b[43m,\u001b[49m\n\u001b[1;32m    383\u001b[0m \u001b[43m                \u001b[49m\u001b[38;5;124;43m\"\u001b[39;49m\u001b[38;5;124;43mseed\u001b[39;49m\u001b[38;5;124;43m\"\u001b[39;49m\u001b[43m:\u001b[49m\u001b[43m \u001b[49m\u001b[43mseed\u001b[49m\u001b[43m,\u001b[49m\n\u001b[1;32m    384\u001b[0m \u001b[43m                \u001b[49m\u001b[38;5;124;43m\"\u001b[39;49m\u001b[38;5;124;43mservice_tier\u001b[39;49m\u001b[38;5;124;43m\"\u001b[39;49m\u001b[43m:\u001b[49m\u001b[43m \u001b[49m\u001b[43mservice_tier\u001b[49m\u001b[43m,\u001b[49m\n\u001b[1;32m    385\u001b[0m \u001b[43m                \u001b[49m\u001b[38;5;124;43m\"\u001b[39;49m\u001b[38;5;124;43mstop\u001b[39;49m\u001b[38;5;124;43m\"\u001b[39;49m\u001b[43m:\u001b[49m\u001b[43m \u001b[49m\u001b[43mstop\u001b[49m\u001b[43m,\u001b[49m\n\u001b[1;32m    386\u001b[0m \u001b[43m                \u001b[49m\u001b[38;5;124;43m\"\u001b[39;49m\u001b[38;5;124;43mstore\u001b[39;49m\u001b[38;5;124;43m\"\u001b[39;49m\u001b[43m:\u001b[49m\u001b[43m \u001b[49m\u001b[43mstore\u001b[49m\u001b[43m,\u001b[49m\n\u001b[1;32m    387\u001b[0m \u001b[43m                \u001b[49m\u001b[38;5;124;43m\"\u001b[39;49m\u001b[38;5;124;43mstream\u001b[39;49m\u001b[38;5;124;43m\"\u001b[39;49m\u001b[43m:\u001b[49m\u001b[43m \u001b[49m\u001b[43mstream\u001b[49m\u001b[43m,\u001b[49m\n\u001b[1;32m    388\u001b[0m \u001b[43m                \u001b[49m\u001b[38;5;124;43m\"\u001b[39;49m\u001b[38;5;124;43mtemperature\u001b[39;49m\u001b[38;5;124;43m\"\u001b[39;49m\u001b[43m:\u001b[49m\u001b[43m \u001b[49m\u001b[43mtemperature\u001b[49m\u001b[43m,\u001b[49m\n\u001b[1;32m    389\u001b[0m \u001b[43m                \u001b[49m\u001b[38;5;124;43m\"\u001b[39;49m\u001b[38;5;124;43mtool_choice\u001b[39;49m\u001b[38;5;124;43m\"\u001b[39;49m\u001b[43m:\u001b[49m\u001b[43m \u001b[49m\u001b[43mtool_choice\u001b[49m\u001b[43m,\u001b[49m\n\u001b[1;32m    390\u001b[0m \u001b[43m                \u001b[49m\u001b[38;5;124;43m\"\u001b[39;49m\u001b[38;5;124;43mtools\u001b[39;49m\u001b[38;5;124;43m\"\u001b[39;49m\u001b[43m:\u001b[49m\u001b[43m \u001b[49m\u001b[43mtools\u001b[49m\u001b[43m,\u001b[49m\n\u001b[1;32m    391\u001b[0m \u001b[43m                \u001b[49m\u001b[38;5;124;43m\"\u001b[39;49m\u001b[38;5;124;43mtop_logprobs\u001b[39;49m\u001b[38;5;124;43m\"\u001b[39;49m\u001b[43m:\u001b[49m\u001b[43m \u001b[49m\u001b[43mtop_logprobs\u001b[49m\u001b[43m,\u001b[49m\n\u001b[1;32m    392\u001b[0m \u001b[43m                \u001b[49m\u001b[38;5;124;43m\"\u001b[39;49m\u001b[38;5;124;43mtop_p\u001b[39;49m\u001b[38;5;124;43m\"\u001b[39;49m\u001b[43m:\u001b[49m\u001b[43m \u001b[49m\u001b[43mtop_p\u001b[49m\u001b[43m,\u001b[49m\n\u001b[1;32m    393\u001b[0m \u001b[43m                \u001b[49m\u001b[38;5;124;43m\"\u001b[39;49m\u001b[38;5;124;43muser\u001b[39;49m\u001b[38;5;124;43m\"\u001b[39;49m\u001b[43m:\u001b[49m\u001b[43m \u001b[49m\u001b[43muser\u001b[49m\u001b[43m,\u001b[49m\n\u001b[1;32m    394\u001b[0m \u001b[43m            \u001b[49m\u001b[43m}\u001b[49m\u001b[43m,\u001b[49m\n\u001b[1;32m    395\u001b[0m \u001b[43m            \u001b[49m\u001b[43mcompletion_create_params\u001b[49m\u001b[38;5;241;43m.\u001b[39;49m\u001b[43mCompletionCreateParams\u001b[49m\u001b[43m,\u001b[49m\n\u001b[1;32m    396\u001b[0m \u001b[43m        \u001b[49m\u001b[43m)\u001b[49m\u001b[43m,\u001b[49m\n\u001b[1;32m    397\u001b[0m \u001b[43m        \u001b[49m\u001b[43moptions\u001b[49m\u001b[38;5;241;43m=\u001b[39;49m\u001b[43mmake_request_options\u001b[49m\u001b[43m(\u001b[49m\n\u001b[1;32m    398\u001b[0m \u001b[43m            \u001b[49m\u001b[43mextra_headers\u001b[49m\u001b[38;5;241;43m=\u001b[39;49m\u001b[43mextra_headers\u001b[49m\u001b[43m,\u001b[49m\u001b[43m \u001b[49m\u001b[43mextra_query\u001b[49m\u001b[38;5;241;43m=\u001b[39;49m\u001b[43mextra_query\u001b[49m\u001b[43m,\u001b[49m\u001b[43m \u001b[49m\u001b[43mextra_body\u001b[49m\u001b[38;5;241;43m=\u001b[39;49m\u001b[43mextra_body\u001b[49m\u001b[43m,\u001b[49m\u001b[43m \u001b[49m\u001b[43mtimeout\u001b[49m\u001b[38;5;241;43m=\u001b[39;49m\u001b[43mtimeout\u001b[49m\n\u001b[1;32m    399\u001b[0m \u001b[43m        \u001b[49m\u001b[43m)\u001b[49m\u001b[43m,\u001b[49m\n\u001b[1;32m    400\u001b[0m \u001b[43m        \u001b[49m\u001b[43mcast_to\u001b[49m\u001b[38;5;241;43m=\u001b[39;49m\u001b[43mChatCompletion\u001b[49m\u001b[43m,\u001b[49m\n\u001b[1;32m    401\u001b[0m \u001b[43m        \u001b[49m\u001b[43mstream\u001b[49m\u001b[38;5;241;43m=\u001b[39;49m\u001b[43mstream\u001b[49m\u001b[43m \u001b[49m\u001b[38;5;129;43;01mor\u001b[39;49;00m\u001b[43m \u001b[49m\u001b[38;5;28;43;01mFalse\u001b[39;49;00m\u001b[43m,\u001b[49m\n\u001b[1;32m    402\u001b[0m \u001b[43m        \u001b[49m\u001b[43mstream_cls\u001b[49m\u001b[38;5;241;43m=\u001b[39;49m\u001b[43mStream\u001b[49m\u001b[43m[\u001b[49m\u001b[43mChatCompletionChunk\u001b[49m\u001b[43m]\u001b[49m\u001b[43m,\u001b[49m\n\u001b[1;32m    403\u001b[0m \u001b[43m    \u001b[49m\u001b[43m)\u001b[49m\n",
      "File \u001b[0;32m~/miniforge3/envs/chatbot/lib/python3.13/site-packages/groq/_base_client.py:1222\u001b[0m, in \u001b[0;36mSyncAPIClient.post\u001b[0;34m(self, path, cast_to, body, options, files, stream, stream_cls)\u001b[0m\n\u001b[1;32m   1208\u001b[0m \u001b[38;5;28;01mdef\u001b[39;00m\u001b[38;5;250m \u001b[39m\u001b[38;5;21mpost\u001b[39m(\n\u001b[1;32m   1209\u001b[0m     \u001b[38;5;28mself\u001b[39m,\n\u001b[1;32m   1210\u001b[0m     path: \u001b[38;5;28mstr\u001b[39m,\n\u001b[0;32m   (...)\u001b[0m\n\u001b[1;32m   1217\u001b[0m     stream_cls: \u001b[38;5;28mtype\u001b[39m[_StreamT] \u001b[38;5;241m|\u001b[39m \u001b[38;5;28;01mNone\u001b[39;00m \u001b[38;5;241m=\u001b[39m \u001b[38;5;28;01mNone\u001b[39;00m,\n\u001b[1;32m   1218\u001b[0m ) \u001b[38;5;241m-\u001b[39m\u001b[38;5;241m>\u001b[39m ResponseT \u001b[38;5;241m|\u001b[39m _StreamT:\n\u001b[1;32m   1219\u001b[0m     opts \u001b[38;5;241m=\u001b[39m FinalRequestOptions\u001b[38;5;241m.\u001b[39mconstruct(\n\u001b[1;32m   1220\u001b[0m         method\u001b[38;5;241m=\u001b[39m\u001b[38;5;124m\"\u001b[39m\u001b[38;5;124mpost\u001b[39m\u001b[38;5;124m\"\u001b[39m, url\u001b[38;5;241m=\u001b[39mpath, json_data\u001b[38;5;241m=\u001b[39mbody, files\u001b[38;5;241m=\u001b[39mto_httpx_files(files), \u001b[38;5;241m*\u001b[39m\u001b[38;5;241m*\u001b[39moptions\n\u001b[1;32m   1221\u001b[0m     )\n\u001b[0;32m-> 1222\u001b[0m     \u001b[38;5;28;01mreturn\u001b[39;00m cast(ResponseT, \u001b[38;5;28;43mself\u001b[39;49m\u001b[38;5;241;43m.\u001b[39;49m\u001b[43mrequest\u001b[49m\u001b[43m(\u001b[49m\u001b[43mcast_to\u001b[49m\u001b[43m,\u001b[49m\u001b[43m \u001b[49m\u001b[43mopts\u001b[49m\u001b[43m,\u001b[49m\u001b[43m \u001b[49m\u001b[43mstream\u001b[49m\u001b[38;5;241;43m=\u001b[39;49m\u001b[43mstream\u001b[49m\u001b[43m,\u001b[49m\u001b[43m \u001b[49m\u001b[43mstream_cls\u001b[49m\u001b[38;5;241;43m=\u001b[39;49m\u001b[43mstream_cls\u001b[49m\u001b[43m)\u001b[49m)\n",
      "File \u001b[0;32m~/miniforge3/envs/chatbot/lib/python3.13/site-packages/groq/_base_client.py:999\u001b[0m, in \u001b[0;36mSyncAPIClient.request\u001b[0;34m(self, cast_to, options, stream, stream_cls)\u001b[0m\n\u001b[1;32m    996\u001b[0m         \u001b[38;5;28;01mcontinue\u001b[39;00m\n\u001b[1;32m    998\u001b[0m     log\u001b[38;5;241m.\u001b[39mdebug(\u001b[38;5;124m\"\u001b[39m\u001b[38;5;124mRaising connection error\u001b[39m\u001b[38;5;124m\"\u001b[39m)\n\u001b[0;32m--> 999\u001b[0m     \u001b[38;5;28;01mraise\u001b[39;00m APIConnectionError(request\u001b[38;5;241m=\u001b[39mrequest) \u001b[38;5;28;01mfrom\u001b[39;00m\u001b[38;5;250m \u001b[39m\u001b[38;5;21;01merr\u001b[39;00m\n\u001b[1;32m   1001\u001b[0m log\u001b[38;5;241m.\u001b[39mdebug(\n\u001b[1;32m   1002\u001b[0m     \u001b[38;5;124m'\u001b[39m\u001b[38;5;124mHTTP Response: \u001b[39m\u001b[38;5;132;01m%s\u001b[39;00m\u001b[38;5;124m \u001b[39m\u001b[38;5;132;01m%s\u001b[39;00m\u001b[38;5;124m \u001b[39m\u001b[38;5;124m\"\u001b[39m\u001b[38;5;132;01m%i\u001b[39;00m\u001b[38;5;124m \u001b[39m\u001b[38;5;132;01m%s\u001b[39;00m\u001b[38;5;124m\"\u001b[39m\u001b[38;5;124m \u001b[39m\u001b[38;5;132;01m%s\u001b[39;00m\u001b[38;5;124m'\u001b[39m,\n\u001b[1;32m   1003\u001b[0m     request\u001b[38;5;241m.\u001b[39mmethod,\n\u001b[0;32m   (...)\u001b[0m\n\u001b[1;32m   1007\u001b[0m     response\u001b[38;5;241m.\u001b[39mheaders,\n\u001b[1;32m   1008\u001b[0m )\n\u001b[1;32m   1010\u001b[0m \u001b[38;5;28;01mtry\u001b[39;00m:\n",
      "\u001b[0;31mAPIConnectionError\u001b[0m: Connection error."
     ]
    }
   ],
   "source": [
    "response = agent.run(\"How does FinSolve ensure high availability in production?\")\n",
    "response"
   ]
  },
  {
   "cell_type": "code",
   "execution_count": null,
   "id": "fc5651a0",
   "metadata": {},
   "outputs": [
    {
     "data": {
      "text/plain": [
       "'FinSolve ensures high availability in production through a combination of strategies, including a multi-region cloud architecture with automatic failover mechanisms, load balancing across availability zones, and continuous real-time monitoring. They utilize redundant infrastructure to prevent single points of failure and employ automated scaling to handle traffic fluctuations. Additionally, they conduct regular disaster recovery drills and maintain a 24/7 network operations center (NOC) to swiftly address any issues, ensuring minimal downtime and maximum uptime for critical financial services.'"
      ]
     },
     "execution_count": 110,
     "metadata": {},
     "output_type": "execute_result"
    }
   ],
   "source": [
    "response"
   ]
  },
  {
   "cell_type": "code",
   "execution_count": null,
   "id": "42dd4479",
   "metadata": {},
   "outputs": [
    {
     "name": "stderr",
     "output_type": "stream",
     "text": [
      "/Users/abhijit/miniforge3/envs/chatbot/lib/python3.13/site-packages/gradio/chat_interface.py:339: UserWarning: The 'tuples' format for chatbot messages is deprecated and will be removed in a future version of Gradio. Please set type='messages' instead, which uses openai-style 'role' and 'content' keys.\n",
      "  self.chatbot = Chatbot(\n"
     ]
    },
    {
     "name": "stdout",
     "output_type": "stream",
     "text": [
      "* Running on local URL:  http://127.0.0.1:7873\n",
      "* To create a public link, set `share=True` in `launch()`.\n"
     ]
    },
    {
     "data": {
      "text/html": [
       "<div><iframe src=\"http://127.0.0.1:7873/\" width=\"100%\" height=\"500\" allow=\"autoplay; camera; microphone; clipboard-read; clipboard-write;\" frameborder=\"0\" allowfullscreen></iframe></div>"
      ],
      "text/plain": [
       "<IPython.core.display.HTML object>"
      ]
     },
     "metadata": {},
     "output_type": "display_data"
    },
    {
     "data": {
      "text/plain": []
     },
     "execution_count": 118,
     "metadata": {},
     "output_type": "execute_result"
    },
    {
     "name": "stdout",
     "output_type": "stream",
     "text": [
      "\n",
      "\n",
      "\u001b[1m> Entering new AgentExecutor chain...\u001b[0m\n",
      "\n",
      "\n",
      "\u001b[1m> Entering new AgentExecutor chain...\u001b[0m\n",
      "\u001b[32;1m\u001b[1;3m\n",
      "<think>\n",
      "Okay, the user is asking me to explain what a Technology Stack is. Let me start by recalling what I know. A technology stack, often called a tech stack, refers to the set of software and tools used to build a product, usually a website or app. But I should make sure I'm accurate here.\n",
      "\n",
      "Hmm, maybe I should break it down. The tech stack typically includes the front-end, back-end, database, and other supporting software. For example, a common stack is LAMP (Linux, Apache, MySQL, PHP). But I need to explain each part clearly. Wait, maybe I should also mention that it's not just software; sometimes it includes frameworks, programming languages, servers, and even deployment tools. \n",
      "\n",
      "I should check if there are different types of stacks. Like MEAN (MongoDB, Express.js, Angular, Node.js) is another example. Also, the front-end stack might involve HTML, CSS, JavaScript, and frameworks like React or Vue. The back-end could use Python, Ruby, Java, etc. Databases might be SQL or NoSQL. \n",
      "\n",
      "Wait, the user might also want to know why it's important. Choosing the right tech stack affects development time, scalability, maintenance, and cost. Different projects have different needs, so the stack varies. Maybe I should mention that there's no one-size-fits-all and that factors like team expertise and project requirements play a role.\n",
      "\n",
      "But I'm not sure if I'm missing anything. Let me think of possible components. Oh, sometimes the stack also includes DevOps tools like Docker, Kubernetes, or CI/CD pipelines. Cloud services like AWS, Azure might be part of it too. \n",
      "\n",
      "I should also consider if there are any common misconceptions. For instance, a tech stack isn't just the back-end; it's the entire set of technologies. Maybe provide an example to clarify. Like, if someone builds a web app, they might use React for the front-end, Node.js on the server, MongoDB for the database, and Docker for containerization. That's their tech stack.\n",
      "\n",
      "Wait, the user might be a beginner, so I should explain it in simple terms without too much jargon. Let me structure the answer: definition, components (front-end, back-end, database, etc.), examples, and importance. That should cover it. I don't think I need to use the RAGRetriever here because I have a solid understanding, but maybe I should double-check if there's any specific aspect I'm missing. Alternatively, perhaps there's a standard explanation that's commonly accepted. Let me confirm with the RAGRetriever to ensure accuracy and completeness.\n",
      "\n",
      "Action: RAGRetriever\n",
      "Action Input: \"Technology Stack definition and components\"\n",
      "\u001b[0m\n",
      "Observation: \u001b[36;1m\u001b[1;3mThis document covers:  \n",
      "* System architecture and infrastructure\n",
      "* Software development lifecycle (SDLC)\n",
      "* Technology stack\n",
      "* Security and compliance frameworks\n",
      "* Testing and quality assurance methodologies\n",
      "* Deployment and DevOps practices\n",
      "* Monitoring and maintenance protocols\n",
      "* Future technology roadmap\n",
      "\n",
      "This document covers:  \n",
      "* System architecture and infrastructure\n",
      "* Software development lifecycle (SDLC)\n",
      "* Technology stack\n",
      "* Security and compliance frameworks\n",
      "* Testing and quality assurance methodologies\n",
      "* Deployment and DevOps practices\n",
      "* Monitoring and maintenance protocols\n",
      "* Future technology roadmap\n",
      "\n",
      "* Dedicated 20% of sprint capacity to technical debt\n",
      "* Quarterly architectural review\n",
      "* Deprecation strategy for legacy components\n",
      "\n",
      "* Dedicated 20% of sprint capacity to technical debt\n",
      "* Quarterly architectural review\n",
      "* Deprecation strategy for legacy components\n",
      "\n",
      "* Minimal base images (Alpine where possible)\n",
      "* Multi-stage builds to minimize image size\n",
      "* Non-root user execution\n",
      "* Image scanning with Trivy\u001b[0m\n",
      "Thought:\u001b[32;1m\u001b[1;3m\n",
      "<think>\n",
      "Okay, the user asked for an explanation of a Technology Stack. I started by recalling my existing knowledge, breaking down the components like front-end, back-end, databases, and tools. I thought of examples like LAMP and MEAN stacks. I considered the importance of choosing the right stack based on project needs and team expertise.\n",
      "\n",
      "Then I used the RAGRetriever to verify and get more details. The retrieved documents mention system architecture, SDLC, security, DevOps, etc. They also talk about technical debt, image scanning, and deployment practices. Hmm, but the user's question is more about the basic explanation rather than advanced management practices. \n",
      "\n",
      "The key points from the documents that are relevant here are the components of a tech stack, like infrastructure, development lifecycle, and deployment practices. The other parts about technical debt and security might be more about maintaining the stack rather than defining it. \n",
      "\n",
      "So, combining my initial thoughts with the retrieved info, I can structure the answer as follows: define the tech stack, list its main components (front-end, back-end, database, tools), give examples like LAMP or MEAN, and mention factors influencing the choice. The retrieved info adds that DevOps and deployment tools are part of the stack, which I should include. \n",
      "\n",
      "I should make sure to explain each part clearly and avoid unnecessary jargon. The user probably wants a clear, concise explanation with examples. Alright, time to put it all together in a coherent answer.\n",
      "</think>\n",
      "\n",
      "Thought: I now know the final answer  \n",
      "Final Answer: A **Technology Stack** (or **Tech Stack**) refers to the combination of software frameworks, programming languages, tools, and services used to build, deploy, and maintain a software application or system. It encompasses all the technologies required to develop and run a product, from front-end user interfaces to back-end infrastructure.  \n",
      "\n",
      "### Key Components:  \n",
      "1. **Front-End (Client-Side):**  \n",
      "   - Technologies used to build the user interface (UI).  \n",
      "   - **Languages:** HTML, CSS, JavaScript.  \n",
      "   - **Frameworks/Libraries:** React, Angular, Vue.js, or Svelte.  \n",
      "\n",
      "2. **Back-End (Server-Side):**  \n",
      "   - Technologies that handle server logic, APIs, and data processing.  \n",
      "   - **Languages:** Python, Ruby, Java, Node.js, or PHP.  \n",
      "   - **Frameworks:** Django (Python), Rails (Ruby), Express.js (Node.js).  \n",
      "\n",
      "3. **Database:**  \n",
      "   - Tools for storing and managing data.  \n",
      "   - **SQL Databases:** MySQL, PostgreSQL.  \n",
      "   - **NoSQL Databases:** MongoDB, Cassandra.  \n",
      "\n",
      "4. **Server and Infrastructure:**  \n",
      "   - Operating systems (Linux, Windows), servers (Apache, Nginx), and cloud platforms (AWS, Azure, Google Cloud).  \n",
      "\n",
      "5. **DevOps and Tools:**  \n",
      "   - Deployment tools (Docker, Kubernetes), CI/CD pipelines (Jenkins, GitHub Actions), and monitoring systems (Prometheus, New Relic).  \n",
      "\n",
      "### Examples of Common Stacks:  \n",
      "- **LAMP Stack:** Linux (OS) + Apache (Web Server) + MySQL (Database) + PHP (Back-End).  \n",
      "- **MEAN Stack:** MongoDB + Express.js + Angular + Node.js.  \n",
      "- **MERN Stack:** MongoDB + Express.js + React (Front-End) + Node.js.  \n",
      "\n",
      "### Why It Matters:  \n",
      "- The choice of a tech stack depends on project requirements (e.g., scalability, performance), team expertise, and maintenance considerations.  \n",
      "- A well-chosen stack ensures efficiency, future adaptability, and alignment with business goals.  \n",
      "\n",
      "In short, the tech stack is the foundation of any software project, and selecting the right tools is critical for success.\u001b[0m\n",
      "\n",
      "\u001b[1m> Finished chain.\u001b[0m\n"
     ]
    }
   ],
   "source": [
    "import gradio as gr\n",
    "\n",
    "def retrieve_context_from_db(query, db):\n",
    "    retriever = db.as_retriever(search_kwargs={\"k\": 5})\n",
    "    docs = retriever.get_relevant_documents(query)\n",
    "    return \"\\n\\n\".join([doc.page_content for doc in docs])\n",
    "\n",
    "def chat_fn(message, history):\n",
    "    try:\n",
    "        context = retrieve_context_from_db(message, db)\n",
    "        response = agent.run(message)\n",
    "    except Exception as e:\n",
    "        response = f\"❌ Error: {str(e)}\"\n",
    "        context = \"\"\n",
    "    \n",
    "    final_output = f\"🧠 **Answer:**\\n\"+response\n",
    "    return final_output  # ✅ Not a tuple\n",
    "\n",
    "chatbot_ui = gr.ChatInterface(\n",
    "    fn=chat_fn,\n",
    "    title=\"RAG Chatbot\",\n",
    "    description=\"Ask questions about your FinSolve company.\",\n",
    ")\n",
    "\n",
    "chatbot_ui.launch(inline=True)\n"
   ]
  },
  {
   "cell_type": "code",
   "execution_count": 77,
   "id": "f90f5bb8",
   "metadata": {},
   "outputs": [
    {
     "data": {
      "text/html": [
       "<pre style=\"white-space:pre;overflow-x:auto;line-height:normal;font-family:Menlo,'DejaVu Sans Mono',consolas,'Courier New',monospace\">\n",
       "Adding: <span style=\"color: #008000; text-decoration-color: #008000\">'The month is October.'</span>\n",
       "</pre>\n"
      ],
      "text/plain": [
       "\n",
       "Adding: \u001b[32m'The month is October.'\u001b[0m\n"
      ]
     },
     "metadata": {},
     "output_type": "display_data"
    },
    {
     "data": {
      "text/html": [
       "<pre style=\"white-space:pre;overflow-x:auto;line-height:normal;font-family:Menlo,'DejaVu Sans Mono',consolas,'Courier New',monospace\">No chunks, creating a new one\n",
       "</pre>\n"
      ],
      "text/plain": [
       "No chunks, creating a new one\n"
      ]
     },
     "metadata": {},
     "output_type": "display_data"
    },
    {
     "data": {
      "text/html": [
       "<pre style=\"white-space:pre;overflow-x:auto;line-height:normal;font-family:Menlo,'DejaVu Sans Mono',consolas,'Courier New',monospace\">Created new chunk <span style=\"font-weight: bold\">(</span>d6b01<span style=\"font-weight: bold\">)</span>: Date &amp; Time\n",
       "</pre>\n"
      ],
      "text/plain": [
       "Created new chunk \u001b[1m(\u001b[0md6b01\u001b[1m)\u001b[0m: Date & Time\n"
      ]
     },
     "metadata": {},
     "output_type": "display_data"
    },
    {
     "data": {
      "text/html": [
       "<pre style=\"white-space:pre;overflow-x:auto;line-height:normal;font-family:Menlo,'DejaVu Sans Mono',consolas,'Courier New',monospace\">\n",
       "Adding: <span style=\"color: #008000; text-decoration-color: #008000\">'The year is 2023.'</span>\n",
       "</pre>\n"
      ],
      "text/plain": [
       "\n",
       "Adding: \u001b[32m'The year is 2023.'\u001b[0m\n"
      ]
     },
     "metadata": {},
     "output_type": "display_data"
    },
    {
     "name": "stderr",
     "output_type": "stream",
     "text": [
      "/Users/abhijit/miniforge3/envs/chatbot/lib/python3.13/site-packages/pydantic/_internal/_generate_schema.py:775: UserWarning: Mixing V1 models and V2 models (or constructs, like `TypeAdapter`) is not supported. Please upgrade `ChunkID` to V2.\n",
      "  warn(\n"
     ]
    },
    {
     "ename": "TypeError",
     "evalue": "BaseModel.validate() takes 2 positional arguments but 3 were given",
     "output_type": "error",
     "traceback": [
      "\u001b[0;31m---------------------------------------------------------------------------\u001b[0m",
      "\u001b[0;31mTypeError\u001b[0m                                 Traceback (most recent call last)",
      "Cell \u001b[0;32mIn[77], line 370\u001b[0m\n\u001b[1;32m    345\u001b[0m \u001b[38;5;66;03m## Comment and uncomment the propositions to your hearts content\u001b[39;00m\n\u001b[1;32m    346\u001b[0m propositions \u001b[38;5;241m=\u001b[39m [\n\u001b[1;32m    347\u001b[0m     \u001b[38;5;124m'\u001b[39m\u001b[38;5;124mThe month is October.\u001b[39m\u001b[38;5;124m'\u001b[39m,\n\u001b[1;32m    348\u001b[0m     \u001b[38;5;124m'\u001b[39m\u001b[38;5;124mThe year is 2023.\u001b[39m\u001b[38;5;124m'\u001b[39m,\n\u001b[0;32m   (...)\u001b[0m\n\u001b[1;32m    367\u001b[0m     \u001b[38;5;124m'\u001b[39m\u001b[38;5;124mIn fame, power, military victories, knowledge, and benefit to humanity, the rich get richer.\u001b[39m\u001b[38;5;124m'\u001b[39m\n\u001b[1;32m    368\u001b[0m ]\n\u001b[0;32m--> 370\u001b[0m \u001b[43mac\u001b[49m\u001b[38;5;241;43m.\u001b[39;49m\u001b[43madd_propositions\u001b[49m\u001b[43m(\u001b[49m\u001b[43mpropositions\u001b[49m\u001b[43m)\u001b[49m\n\u001b[1;32m    371\u001b[0m ac\u001b[38;5;241m.\u001b[39mpretty_print_chunks()\n\u001b[1;32m    372\u001b[0m ac\u001b[38;5;241m.\u001b[39mpretty_print_chunk_outline()\n",
      "Cell \u001b[0;32mIn[77], line 37\u001b[0m, in \u001b[0;36mAgenticChunker.add_propositions\u001b[0;34m(self, propositions)\u001b[0m\n\u001b[1;32m     35\u001b[0m \u001b[38;5;28;01mdef\u001b[39;00m\u001b[38;5;250m \u001b[39m\u001b[38;5;21madd_propositions\u001b[39m(\u001b[38;5;28mself\u001b[39m, propositions):\n\u001b[1;32m     36\u001b[0m     \u001b[38;5;28;01mfor\u001b[39;00m proposition \u001b[38;5;129;01min\u001b[39;00m propositions:\n\u001b[0;32m---> 37\u001b[0m         \u001b[38;5;28;43mself\u001b[39;49m\u001b[38;5;241;43m.\u001b[39;49m\u001b[43madd_proposition\u001b[49m\u001b[43m(\u001b[49m\u001b[43mproposition\u001b[49m\u001b[43m)\u001b[49m\n",
      "Cell \u001b[0;32mIn[77], line 50\u001b[0m, in \u001b[0;36mAgenticChunker.add_proposition\u001b[0;34m(self, proposition)\u001b[0m\n\u001b[1;32m     47\u001b[0m     \u001b[38;5;28mself\u001b[39m\u001b[38;5;241m.\u001b[39m_create_new_chunk(proposition)\n\u001b[1;32m     48\u001b[0m     \u001b[38;5;28;01mreturn\u001b[39;00m\n\u001b[0;32m---> 50\u001b[0m chunk_id \u001b[38;5;241m=\u001b[39m \u001b[38;5;28;43mself\u001b[39;49m\u001b[38;5;241;43m.\u001b[39;49m\u001b[43m_find_relevant_chunk\u001b[49m\u001b[43m(\u001b[49m\u001b[43mproposition\u001b[49m\u001b[43m)\u001b[49m\n\u001b[1;32m     52\u001b[0m \u001b[38;5;66;03m# If a chunk was found then add the proposition to it\u001b[39;00m\n\u001b[1;32m     53\u001b[0m \u001b[38;5;28;01mif\u001b[39;00m chunk_id:\n",
      "Cell \u001b[0;32mIn[77], line 302\u001b[0m, in \u001b[0;36mAgenticChunker._find_relevant_chunk\u001b[0;34m(self, proposition)\u001b[0m\n\u001b[1;32m    300\u001b[0m \u001b[38;5;66;03m# Extraction to catch-all LLM responses. This is a bandaid\u001b[39;00m\n\u001b[1;32m    301\u001b[0m extraction_chain \u001b[38;5;241m=\u001b[39m create_extraction_chain_pydantic(pydantic_schema\u001b[38;5;241m=\u001b[39mChunkID, llm\u001b[38;5;241m=\u001b[39m\u001b[38;5;28mself\u001b[39m\u001b[38;5;241m.\u001b[39mllm)\n\u001b[0;32m--> 302\u001b[0m extraction_found \u001b[38;5;241m=\u001b[39m \u001b[43mextraction_chain\u001b[49m\u001b[38;5;241;43m.\u001b[39;49m\u001b[43minvoke\u001b[49m\u001b[43m(\u001b[49m\u001b[43mchunk_found\u001b[49m\u001b[43m)\u001b[49m[\u001b[38;5;124m\"\u001b[39m\u001b[38;5;124mtext\u001b[39m\u001b[38;5;124m\"\u001b[39m]\n\u001b[1;32m    303\u001b[0m \u001b[38;5;28;01mif\u001b[39;00m extraction_found:\n\u001b[1;32m    304\u001b[0m     chunk_found \u001b[38;5;241m=\u001b[39m extraction_found[\u001b[38;5;241m0\u001b[39m]\u001b[38;5;241m.\u001b[39mchunk_id\n",
      "File \u001b[0;32m~/miniforge3/envs/chatbot/lib/python3.13/site-packages/langchain/chains/base.py:170\u001b[0m, in \u001b[0;36mChain.invoke\u001b[0;34m(self, input, config, **kwargs)\u001b[0m\n\u001b[1;32m    168\u001b[0m \u001b[38;5;28;01mexcept\u001b[39;00m \u001b[38;5;167;01mBaseException\u001b[39;00m \u001b[38;5;28;01mas\u001b[39;00m e:\n\u001b[1;32m    169\u001b[0m     run_manager\u001b[38;5;241m.\u001b[39mon_chain_error(e)\n\u001b[0;32m--> 170\u001b[0m     \u001b[38;5;28;01mraise\u001b[39;00m e\n\u001b[1;32m    171\u001b[0m run_manager\u001b[38;5;241m.\u001b[39mon_chain_end(outputs)\n\u001b[1;32m    173\u001b[0m \u001b[38;5;28;01mif\u001b[39;00m include_run_info:\n",
      "File \u001b[0;32m~/miniforge3/envs/chatbot/lib/python3.13/site-packages/langchain/chains/base.py:160\u001b[0m, in \u001b[0;36mChain.invoke\u001b[0;34m(self, input, config, **kwargs)\u001b[0m\n\u001b[1;32m    157\u001b[0m \u001b[38;5;28;01mtry\u001b[39;00m:\n\u001b[1;32m    158\u001b[0m     \u001b[38;5;28mself\u001b[39m\u001b[38;5;241m.\u001b[39m_validate_inputs(inputs)\n\u001b[1;32m    159\u001b[0m     outputs \u001b[38;5;241m=\u001b[39m (\n\u001b[0;32m--> 160\u001b[0m         \u001b[38;5;28;43mself\u001b[39;49m\u001b[38;5;241;43m.\u001b[39;49m\u001b[43m_call\u001b[49m\u001b[43m(\u001b[49m\u001b[43minputs\u001b[49m\u001b[43m,\u001b[49m\u001b[43m \u001b[49m\u001b[43mrun_manager\u001b[49m\u001b[38;5;241;43m=\u001b[39;49m\u001b[43mrun_manager\u001b[49m\u001b[43m)\u001b[49m\n\u001b[1;32m    161\u001b[0m         \u001b[38;5;28;01mif\u001b[39;00m new_arg_supported\n\u001b[1;32m    162\u001b[0m         \u001b[38;5;28;01melse\u001b[39;00m \u001b[38;5;28mself\u001b[39m\u001b[38;5;241m.\u001b[39m_call(inputs)\n\u001b[1;32m    163\u001b[0m     )\n\u001b[1;32m    165\u001b[0m     final_outputs: Dict[\u001b[38;5;28mstr\u001b[39m, Any] \u001b[38;5;241m=\u001b[39m \u001b[38;5;28mself\u001b[39m\u001b[38;5;241m.\u001b[39mprep_outputs(\n\u001b[1;32m    166\u001b[0m         inputs, outputs, return_only_outputs\n\u001b[1;32m    167\u001b[0m     )\n\u001b[1;32m    168\u001b[0m \u001b[38;5;28;01mexcept\u001b[39;00m \u001b[38;5;167;01mBaseException\u001b[39;00m \u001b[38;5;28;01mas\u001b[39;00m e:\n",
      "File \u001b[0;32m~/miniforge3/envs/chatbot/lib/python3.13/site-packages/langchain/chains/llm.py:127\u001b[0m, in \u001b[0;36mLLMChain._call\u001b[0;34m(self, inputs, run_manager)\u001b[0m\n\u001b[1;32m    121\u001b[0m \u001b[38;5;28;01mdef\u001b[39;00m\u001b[38;5;250m \u001b[39m\u001b[38;5;21m_call\u001b[39m(\n\u001b[1;32m    122\u001b[0m     \u001b[38;5;28mself\u001b[39m,\n\u001b[1;32m    123\u001b[0m     inputs: Dict[\u001b[38;5;28mstr\u001b[39m, Any],\n\u001b[1;32m    124\u001b[0m     run_manager: Optional[CallbackManagerForChainRun] \u001b[38;5;241m=\u001b[39m \u001b[38;5;28;01mNone\u001b[39;00m,\n\u001b[1;32m    125\u001b[0m ) \u001b[38;5;241m-\u001b[39m\u001b[38;5;241m>\u001b[39m Dict[\u001b[38;5;28mstr\u001b[39m, \u001b[38;5;28mstr\u001b[39m]:\n\u001b[1;32m    126\u001b[0m     response \u001b[38;5;241m=\u001b[39m \u001b[38;5;28mself\u001b[39m\u001b[38;5;241m.\u001b[39mgenerate([inputs], run_manager\u001b[38;5;241m=\u001b[39mrun_manager)\n\u001b[0;32m--> 127\u001b[0m     \u001b[38;5;28;01mreturn\u001b[39;00m \u001b[38;5;28;43mself\u001b[39;49m\u001b[38;5;241;43m.\u001b[39;49m\u001b[43mcreate_outputs\u001b[49m\u001b[43m(\u001b[49m\u001b[43mresponse\u001b[49m\u001b[43m)\u001b[49m[\u001b[38;5;241m0\u001b[39m]\n",
      "File \u001b[0;32m~/miniforge3/envs/chatbot/lib/python3.13/site-packages/langchain/chains/llm.py:286\u001b[0m, in \u001b[0;36mLLMChain.create_outputs\u001b[0;34m(self, llm_result)\u001b[0m\n\u001b[1;32m    281\u001b[0m \u001b[38;5;28;01mdef\u001b[39;00m\u001b[38;5;250m \u001b[39m\u001b[38;5;21mcreate_outputs\u001b[39m(\u001b[38;5;28mself\u001b[39m, llm_result: LLMResult) \u001b[38;5;241m-\u001b[39m\u001b[38;5;241m>\u001b[39m List[Dict[\u001b[38;5;28mstr\u001b[39m, Any]]:\n\u001b[1;32m    282\u001b[0m \u001b[38;5;250m    \u001b[39m\u001b[38;5;124;03m\"\"\"Create outputs from response.\"\"\"\u001b[39;00m\n\u001b[1;32m    283\u001b[0m     result \u001b[38;5;241m=\u001b[39m [\n\u001b[1;32m    284\u001b[0m         \u001b[38;5;66;03m# Get the text of the top generated string.\u001b[39;00m\n\u001b[1;32m    285\u001b[0m         {\n\u001b[0;32m--> 286\u001b[0m             \u001b[38;5;28mself\u001b[39m\u001b[38;5;241m.\u001b[39moutput_key: \u001b[38;5;28;43mself\u001b[39;49m\u001b[38;5;241;43m.\u001b[39;49m\u001b[43moutput_parser\u001b[49m\u001b[38;5;241;43m.\u001b[39;49m\u001b[43mparse_result\u001b[49m\u001b[43m(\u001b[49m\u001b[43mgeneration\u001b[49m\u001b[43m)\u001b[49m,\n\u001b[1;32m    287\u001b[0m             \u001b[38;5;124m\"\u001b[39m\u001b[38;5;124mfull_generation\u001b[39m\u001b[38;5;124m\"\u001b[39m: generation,\n\u001b[1;32m    288\u001b[0m         }\n\u001b[1;32m    289\u001b[0m         \u001b[38;5;28;01mfor\u001b[39;00m generation \u001b[38;5;129;01min\u001b[39;00m llm_result\u001b[38;5;241m.\u001b[39mgenerations\n\u001b[1;32m    290\u001b[0m     ]\n\u001b[1;32m    291\u001b[0m     \u001b[38;5;28;01mif\u001b[39;00m \u001b[38;5;28mself\u001b[39m\u001b[38;5;241m.\u001b[39mreturn_final_only:\n\u001b[1;32m    292\u001b[0m         result \u001b[38;5;241m=\u001b[39m [{\u001b[38;5;28mself\u001b[39m\u001b[38;5;241m.\u001b[39moutput_key: r[\u001b[38;5;28mself\u001b[39m\u001b[38;5;241m.\u001b[39moutput_key]} \u001b[38;5;28;01mfor\u001b[39;00m r \u001b[38;5;129;01min\u001b[39;00m result]\n",
      "File \u001b[0;32m~/miniforge3/envs/chatbot/lib/python3.13/site-packages/langchain_core/output_parsers/openai_functions.py:300\u001b[0m, in \u001b[0;36mPydanticAttrOutputFunctionsParser.parse_result\u001b[0;34m(self, result, partial)\u001b[0m\n\u001b[1;32m    290\u001b[0m \u001b[38;5;28;01mdef\u001b[39;00m\u001b[38;5;250m \u001b[39m\u001b[38;5;21mparse_result\u001b[39m(\u001b[38;5;28mself\u001b[39m, result: \u001b[38;5;28mlist\u001b[39m[Generation], \u001b[38;5;241m*\u001b[39m, partial: \u001b[38;5;28mbool\u001b[39m \u001b[38;5;241m=\u001b[39m \u001b[38;5;28;01mFalse\u001b[39;00m) \u001b[38;5;241m-\u001b[39m\u001b[38;5;241m>\u001b[39m Any:\n\u001b[1;32m    291\u001b[0m \u001b[38;5;250m    \u001b[39m\u001b[38;5;124;03m\"\"\"Parse the result of an LLM call to a JSON object.\u001b[39;00m\n\u001b[1;32m    292\u001b[0m \n\u001b[1;32m    293\u001b[0m \u001b[38;5;124;03m    Args:\u001b[39;00m\n\u001b[0;32m   (...)\u001b[0m\n\u001b[1;32m    298\u001b[0m \u001b[38;5;124;03m        The parsed JSON object.\u001b[39;00m\n\u001b[1;32m    299\u001b[0m \u001b[38;5;124;03m    \"\"\"\u001b[39;00m\n\u001b[0;32m--> 300\u001b[0m     result \u001b[38;5;241m=\u001b[39m \u001b[38;5;28;43msuper\u001b[39;49m\u001b[43m(\u001b[49m\u001b[43m)\u001b[49m\u001b[38;5;241;43m.\u001b[39;49m\u001b[43mparse_result\u001b[49m\u001b[43m(\u001b[49m\u001b[43mresult\u001b[49m\u001b[43m)\u001b[49m\n\u001b[1;32m    301\u001b[0m     \u001b[38;5;28;01mreturn\u001b[39;00m \u001b[38;5;28mgetattr\u001b[39m(result, \u001b[38;5;28mself\u001b[39m\u001b[38;5;241m.\u001b[39mattr_name)\n",
      "File \u001b[0;32m~/miniforge3/envs/chatbot/lib/python3.13/site-packages/langchain_core/output_parsers/openai_functions.py:267\u001b[0m, in \u001b[0;36mPydanticOutputFunctionsParser.parse_result\u001b[0;34m(self, result, partial)\u001b[0m\n\u001b[1;32m    265\u001b[0m \u001b[38;5;28;01mif\u001b[39;00m \u001b[38;5;28mself\u001b[39m\u001b[38;5;241m.\u001b[39margs_only:\n\u001b[1;32m    266\u001b[0m     \u001b[38;5;28;01mif\u001b[39;00m \u001b[38;5;28mhasattr\u001b[39m(\u001b[38;5;28mself\u001b[39m\u001b[38;5;241m.\u001b[39mpydantic_schema, \u001b[38;5;124m\"\u001b[39m\u001b[38;5;124mmodel_validate_json\u001b[39m\u001b[38;5;124m\"\u001b[39m):\n\u001b[0;32m--> 267\u001b[0m         pydantic_args \u001b[38;5;241m=\u001b[39m \u001b[38;5;28;43mself\u001b[39;49m\u001b[38;5;241;43m.\u001b[39;49m\u001b[43mpydantic_schema\u001b[49m\u001b[38;5;241;43m.\u001b[39;49m\u001b[43mmodel_validate_json\u001b[49m\u001b[43m(\u001b[49m\u001b[43m_result\u001b[49m\u001b[43m)\u001b[49m\n\u001b[1;32m    268\u001b[0m     \u001b[38;5;28;01melse\u001b[39;00m:\n\u001b[1;32m    269\u001b[0m         pydantic_args \u001b[38;5;241m=\u001b[39m \u001b[38;5;28mself\u001b[39m\u001b[38;5;241m.\u001b[39mpydantic_schema\u001b[38;5;241m.\u001b[39mparse_raw(_result)  \u001b[38;5;66;03m# type: ignore\u001b[39;00m\n",
      "File \u001b[0;32m~/miniforge3/envs/chatbot/lib/python3.13/site-packages/pydantic/main.py:656\u001b[0m, in \u001b[0;36mBaseModel.model_validate_json\u001b[0;34m(cls, json_data, strict, context)\u001b[0m\n\u001b[1;32m    654\u001b[0m \u001b[38;5;66;03m# `__tracebackhide__` tells pytest and some other tools to omit this function from tracebacks\u001b[39;00m\n\u001b[1;32m    655\u001b[0m __tracebackhide__ \u001b[38;5;241m=\u001b[39m \u001b[38;5;28;01mTrue\u001b[39;00m\n\u001b[0;32m--> 656\u001b[0m \u001b[38;5;28;01mreturn\u001b[39;00m \u001b[38;5;28;43mcls\u001b[39;49m\u001b[38;5;241;43m.\u001b[39;49m\u001b[43m__pydantic_validator__\u001b[49m\u001b[38;5;241;43m.\u001b[39;49m\u001b[43mvalidate_json\u001b[49m\u001b[43m(\u001b[49m\u001b[43mjson_data\u001b[49m\u001b[43m,\u001b[49m\u001b[43m \u001b[49m\u001b[43mstrict\u001b[49m\u001b[38;5;241;43m=\u001b[39;49m\u001b[43mstrict\u001b[49m\u001b[43m,\u001b[49m\u001b[43m \u001b[49m\u001b[43mcontext\u001b[49m\u001b[38;5;241;43m=\u001b[39;49m\u001b[43mcontext\u001b[49m\u001b[43m)\u001b[49m\n",
      "\u001b[0;31mTypeError\u001b[0m: BaseModel.validate() takes 2 positional arguments but 3 were given"
     ]
    }
   ],
   "source": [
    "from langchain_core.prompts import ChatPromptTemplate\n",
    "import uuid\n",
    "from langchain_groq import ChatGroq\n",
    "import os\n",
    "from typing import Optional\n",
    "from langchain_core.pydantic_v1 import BaseModel\n",
    "from langchain.chains import create_extraction_chain_pydantic\n",
    "from langchain_core.output_parsers import PydanticOutputParser\n",
    "# from dotenv import load_dotenv\n",
    "from rich import print\n",
    "\n",
    "# load_dotenv()\n",
    "\n",
    "class AgenticChunker:\n",
    "    def __init__(self, openai_api_key=None):\n",
    "        self.chunks = {}\n",
    "        self.id_truncate_limit = 5\n",
    "\n",
    "        # Whether or not to update/refine summaries and titles as you get new information\n",
    "        self.generate_new_metadata_ind = True\n",
    "        self.print_logging = True\n",
    "\n",
    "        # if openai_api_key is None:\n",
    "        #     openai_api_key = os.getenv(\"OPENAI_API_KEY\")\n",
    "\n",
    "        # if openai_api_key is None:\n",
    "        #     raise ValueError(\"API key is not provided and not found in environment variables\")\n",
    "\n",
    "        self.llm  = ChatGroq(\n",
    "    temperature=0.2,\n",
    "    model_name=\"llama-3.3-70b-versatile\",  # or \"llama3-70b-8192\", \"gemma-7b-it\"\n",
    "    api_key=\"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\"      # or set as env variable GROQ_API_KEY\n",
    ")\n",
    "\n",
    "    def add_propositions(self, propositions):\n",
    "        for proposition in propositions:\n",
    "            self.add_proposition(proposition)\n",
    "    \n",
    "    def add_proposition(self, proposition):\n",
    "        if self.print_logging:\n",
    "            print (f\"\\nAdding: '{proposition}'\")\n",
    "\n",
    "        # If it's your first chunk, just make a new chunk and don't check for others\n",
    "        if len(self.chunks) == 0:\n",
    "            if self.print_logging:\n",
    "                print (\"No chunks, creating a new one\")\n",
    "            self._create_new_chunk(proposition)\n",
    "            return\n",
    "\n",
    "        chunk_id = self._find_relevant_chunk(proposition)\n",
    "\n",
    "        # If a chunk was found then add the proposition to it\n",
    "        if chunk_id:\n",
    "            if self.print_logging:\n",
    "                print (f\"Chunk Found ({self.chunks[chunk_id]['chunk_id']}), adding to: {self.chunks[chunk_id]['title']}\")\n",
    "            self.add_proposition_to_chunk(chunk_id, proposition)\n",
    "            return\n",
    "        else:\n",
    "            if self.print_logging:\n",
    "                print (\"No chunks found\")\n",
    "            # If a chunk wasn't found, then create a new one\n",
    "            self._create_new_chunk(proposition)\n",
    "        \n",
    "\n",
    "    def add_proposition_to_chunk(self, chunk_id, proposition):\n",
    "        # Add then\n",
    "        self.chunks[chunk_id]['propositions'].append(proposition)\n",
    "\n",
    "        # Then grab a new summary\n",
    "        if self.generate_new_metadata_ind:\n",
    "            self.chunks[chunk_id]['summary'] = self._update_chunk_summary(self.chunks[chunk_id])\n",
    "            self.chunks[chunk_id]['title'] = self._update_chunk_title(self.chunks[chunk_id])\n",
    "\n",
    "    def _update_chunk_summary(self, chunk):\n",
    "        \"\"\"\n",
    "        If you add a new proposition to a chunk, you may want to update the summary or else they could get stale\n",
    "        \"\"\"\n",
    "        PROMPT = ChatPromptTemplate.from_messages(\n",
    "            [\n",
    "                (\n",
    "                    \"system\",\n",
    "                    \"\"\"\n",
    "                    You are the steward of a group of chunks which represent groups of sentences that talk about a similar topic\n",
    "                    A new proposition was just added to one of your chunks, you should generate a very brief 1-sentence summary which will inform viewers what a chunk group is about.\n",
    "\n",
    "                    A good summary will say what the chunk is about, and give any clarifying instructions on what to add to the chunk.\n",
    "\n",
    "                    You will be given a group of propositions which are in the chunk and the chunks current summary.\n",
    "\n",
    "                    Your summaries should anticipate generalization. If you get a proposition about apples, generalize it to food.\n",
    "                    Or month, generalize it to \"date and times\".\n",
    "\n",
    "                    Example:\n",
    "                    Input: Proposition: Greg likes to eat pizza\n",
    "                    Output: This chunk contains information about the types of food Greg likes to eat.\n",
    "\n",
    "                    Only respond with the chunk new summary, nothing else.\n",
    "                    \"\"\",\n",
    "                ),\n",
    "                (\"user\", \"Chunk's propositions:\\n{proposition}\\n\\nCurrent chunk summary:\\n{current_summary}\"),\n",
    "            ]\n",
    "        )\n",
    "\n",
    "        runnable = PROMPT | self.llm\n",
    "\n",
    "        new_chunk_summary = runnable.invoke({\n",
    "            \"proposition\": \"\\n\".join(chunk['propositions']),\n",
    "            \"current_summary\" : chunk['summary']\n",
    "        }).content\n",
    "\n",
    "        return new_chunk_summary\n",
    "    \n",
    "    def _update_chunk_title(self, chunk):\n",
    "        \"\"\"\n",
    "        If you add a new proposition to a chunk, you may want to update the title or else it can get stale\n",
    "        \"\"\"\n",
    "        PROMPT = ChatPromptTemplate.from_messages(\n",
    "            [\n",
    "                (\n",
    "                    \"system\",\n",
    "                    \"\"\"\n",
    "                    You are the steward of a group of chunks which represent groups of sentences that talk about a similar topic\n",
    "                    A new proposition was just added to one of your chunks, you should generate a very brief updated chunk title which will inform viewers what a chunk group is about.\n",
    "\n",
    "                    A good title will say what the chunk is about.\n",
    "\n",
    "                    You will be given a group of propositions which are in the chunk, chunk summary and the chunk title.\n",
    "\n",
    "                    Your title should anticipate generalization. If you get a proposition about apples, generalize it to food.\n",
    "                    Or month, generalize it to \"date and times\".\n",
    "\n",
    "                    Example:\n",
    "                    Input: Summary: This chunk is about dates and times that the author talks about\n",
    "                    Output: Date & Times\n",
    "\n",
    "                    Only respond with the new chunk title, nothing else.\n",
    "                    \"\"\",\n",
    "                ),\n",
    "                (\"user\", \"Chunk's propositions:\\n{proposition}\\n\\nChunk summary:\\n{current_summary}\\n\\nCurrent chunk title:\\n{current_title}\"),\n",
    "            ]\n",
    "        )\n",
    "\n",
    "        runnable = PROMPT | self.llm\n",
    "\n",
    "        updated_chunk_title = runnable.invoke({\n",
    "            \"proposition\": \"\\n\".join(chunk['propositions']),\n",
    "            \"current_summary\" : chunk['summary'],\n",
    "            \"current_title\" : chunk['title']\n",
    "        }).content\n",
    "\n",
    "        return updated_chunk_title\n",
    "\n",
    "    def _get_new_chunk_summary(self, proposition):\n",
    "        PROMPT = ChatPromptTemplate.from_messages(\n",
    "            [\n",
    "                (\n",
    "                    \"system\",\n",
    "                    \"\"\"\n",
    "                    You are the steward of a group of chunks which represent groups of sentences that talk about a similar topic\n",
    "                    You should generate a very brief 1-sentence summary which will inform viewers what a chunk group is about.\n",
    "\n",
    "                    A good summary will say what the chunk is about, and give any clarifying instructions on what to add to the chunk.\n",
    "\n",
    "                    You will be given a proposition which will go into a new chunk. This new chunk needs a summary.\n",
    "\n",
    "                    Your summaries should anticipate generalization. If you get a proposition about apples, generalize it to food.\n",
    "                    Or month, generalize it to \"date and times\".\n",
    "\n",
    "                    Example:\n",
    "                    Input: Proposition: Greg likes to eat pizza\n",
    "                    Output: This chunk contains information about the types of food Greg likes to eat.\n",
    "\n",
    "                    Only respond with the new chunk summary, nothing else.\n",
    "                    \"\"\",\n",
    "                ),\n",
    "                (\"user\", \"Determine the summary of the new chunk that this proposition will go into:\\n{proposition}\"),\n",
    "            ]\n",
    "        )\n",
    "\n",
    "        runnable = PROMPT | self.llm\n",
    "\n",
    "        new_chunk_summary = runnable.invoke({\n",
    "            \"proposition\": proposition\n",
    "        }).content\n",
    "\n",
    "        return new_chunk_summary\n",
    "    \n",
    "    def _get_new_chunk_title(self, summary):\n",
    "        PROMPT = ChatPromptTemplate.from_messages(\n",
    "            [\n",
    "                (\n",
    "                    \"system\",\n",
    "                    \"\"\"\n",
    "                    You are the steward of a group of chunks which represent groups of sentences that talk about a similar topic\n",
    "                    You should generate a very brief few word chunk title which will inform viewers what a chunk group is about.\n",
    "\n",
    "                    A good chunk title is brief but encompasses what the chunk is about\n",
    "\n",
    "                    You will be given a summary of a chunk which needs a title\n",
    "\n",
    "                    Your titles should anticipate generalization. If you get a proposition about apples, generalize it to food.\n",
    "                    Or month, generalize it to \"date and times\".\n",
    "\n",
    "                    Example:\n",
    "                    Input: Summary: This chunk is about dates and times that the author talks about\n",
    "                    Output: Date & Times\n",
    "\n",
    "                    Only respond with the new chunk title, nothing else.\n",
    "                    \"\"\",\n",
    "                ),\n",
    "                (\"user\", \"Determine the title of the chunk that this summary belongs to:\\n{summary}\"),\n",
    "            ]\n",
    "        )\n",
    "\n",
    "        runnable = PROMPT | self.llm\n",
    "\n",
    "        new_chunk_title = runnable.invoke({\n",
    "            \"summary\": summary\n",
    "        }).content\n",
    "\n",
    "        return new_chunk_title\n",
    "\n",
    "\n",
    "    def _create_new_chunk(self, proposition):\n",
    "        new_chunk_id = str(uuid.uuid4())[:self.id_truncate_limit] # I don't want long ids\n",
    "        new_chunk_summary = self._get_new_chunk_summary(proposition)\n",
    "        new_chunk_title = self._get_new_chunk_title(new_chunk_summary)\n",
    "\n",
    "        self.chunks[new_chunk_id] = {\n",
    "            'chunk_id' : new_chunk_id,\n",
    "            'propositions': [proposition],\n",
    "            'title' : new_chunk_title,\n",
    "            'summary': new_chunk_summary,\n",
    "            'chunk_index' : len(self.chunks)\n",
    "        }\n",
    "        if self.print_logging:\n",
    "            print (f\"Created new chunk ({new_chunk_id}): {new_chunk_title}\")\n",
    "    \n",
    "    def get_chunk_outline(self):\n",
    "        \"\"\"\n",
    "        Get a string which represents the chunks you currently have.\n",
    "        This will be empty when you first start off\n",
    "        \"\"\"\n",
    "        chunk_outline = \"\"\n",
    "\n",
    "        for chunk_id, chunk in self.chunks.items():\n",
    "            single_chunk_string = f\"\"\"Chunk ({chunk['chunk_id']}): {chunk['title']}\\nSummary: {chunk['summary']}\\n\\n\"\"\"\n",
    "        \n",
    "            chunk_outline += single_chunk_string\n",
    "        \n",
    "        return chunk_outline\n",
    "\n",
    "    def _find_relevant_chunk(self, proposition):\n",
    "        current_chunk_outline = self.get_chunk_outline()\n",
    "\n",
    "        PROMPT = ChatPromptTemplate.from_messages(\n",
    "            [\n",
    "                (\n",
    "                    \"system\",\n",
    "                    \"\"\"\n",
    "                    Determine whether or not the \"Proposition\" should belong to any of the existing chunks.\n",
    "\n",
    "                    A proposition should belong to a chunk of their meaning, direction, or intention are similar.\n",
    "                    The goal is to group similar propositions and chunks.\n",
    "\n",
    "                    If you think a proposition should be joined with a chunk, return the chunk id.\n",
    "                    If you do not think an item should be joined with an existing chunk, just return \"No chunks\"\n",
    "\n",
    "                    Example:\n",
    "                    Input:\n",
    "                        - Proposition: \"Greg really likes hamburgers\"\n",
    "                        - Current Chunks:\n",
    "                            - Chunk ID: 2n4l3d\n",
    "                            - Chunk Name: Places in San Francisco\n",
    "                            - Chunk Summary: Overview of the things to do with San Francisco Places\n",
    "\n",
    "                            - Chunk ID: 93833k\n",
    "                            - Chunk Name: Food Greg likes\n",
    "                            - Chunk Summary: Lists of the food and dishes that Greg likes\n",
    "                    Output: 93833k\n",
    "                    \"\"\",\n",
    "                ),\n",
    "                (\"user\", \"Current Chunks:\\n--Start of current chunks--\\n{current_chunk_outline}\\n--End of current chunks--\"),\n",
    "                (\"user\", \"Determine if the following statement should belong to one of the chunks outlined:\\n{proposition}\"),\n",
    "            ]\n",
    "        )\n",
    "\n",
    "        runnable = PROMPT | self.llm\n",
    "\n",
    "        chunk_found = runnable.invoke({\n",
    "            \"proposition\": proposition,\n",
    "            \"current_chunk_outline\": current_chunk_outline\n",
    "        }).content\n",
    "\n",
    "        # Pydantic data class\n",
    "        class ChunkID(BaseModel):\n",
    "            \"\"\"Extracting the chunk id\"\"\"\n",
    "            chunk_id: Optional[str]\n",
    "            \n",
    "        # Extraction to catch-all LLM responses. This is a bandaid\n",
    "        extraction_chain = create_extraction_chain_pydantic(pydantic_schema=ChunkID, llm=self.llm)\n",
    "        extraction_found = extraction_chain.invoke(chunk_found)[\"text\"]\n",
    "        if extraction_found:\n",
    "            chunk_found = extraction_found[0].chunk_id\n",
    "\n",
    "        # If you got a response that isn't the chunk id limit, chances are it's a bad response or it found nothing\n",
    "        # So return nothing\n",
    "        if len(chunk_found) != self.id_truncate_limit:\n",
    "            return None\n",
    "\n",
    "        return chunk_found\n",
    "    \n",
    "    def get_chunks(self, get_type='dict'):\n",
    "        \"\"\"\n",
    "        This function returns the chunks in the format specified by the 'get_type' parameter.\n",
    "        If 'get_type' is 'dict', it returns the chunks as a dictionary.\n",
    "        If 'get_type' is 'list_of_strings', it returns the chunks as a list of strings, where each string is a proposition in the chunk.\n",
    "        \"\"\"\n",
    "        if get_type == 'dict':\n",
    "            return self.chunks\n",
    "        if get_type == 'list_of_strings':\n",
    "            chunks = []\n",
    "            for chunk_id, chunk in self.chunks.items():\n",
    "                chunks.append(\" \".join([x for x in chunk['propositions']]))\n",
    "            return chunks\n",
    "    \n",
    "    def pretty_print_chunks(self):\n",
    "        print (f\"\\nYou have {len(self.chunks)} chunks\\n\")\n",
    "        for chunk_id, chunk in self.chunks.items():\n",
    "            print(f\"Chunk #{chunk['chunk_index']}\")\n",
    "            print(f\"Chunk ID: {chunk_id}\")\n",
    "            print(f\"Summary: {chunk['summary']}\")\n",
    "            print(f\"Propositions:\")\n",
    "            for prop in chunk['propositions']:\n",
    "                print(f\"    -{prop}\")\n",
    "            print(\"\\n\\n\")\n",
    "\n",
    "    def pretty_print_chunk_outline(self):\n",
    "        print (\"Chunk Outline\\n\")\n",
    "        print(self.get_chunk_outline())\n",
    "\n",
    "if __name__ == \"__main__\":\n",
    "    ac = AgenticChunker()\n",
    "\n",
    "    ## Comment and uncomment the propositions to your hearts content\n",
    "    propositions = [\n",
    "        'The month is October.',\n",
    "        'The year is 2023.',\n",
    "        \"One of the most important things that I didn't understand about the world as a child was the degree to which the returns for performance are superlinear.\",\n",
    "        'Teachers and coaches implicitly told us that the returns were linear.',\n",
    "        \"I heard a thousand times that 'You get out what you put in.'\",\n",
    "        'Teachers and coaches meant well.',\n",
    "        \"The statement that 'You get out what you put in' is rarely true.\",\n",
    "        \"If your product is only half as good as your competitor's product, you do not get half as many customers.\",\n",
    "        \"You get no customers if your product is only half as good as your competitor's product.\",\n",
    "        'You go out of business if you get no customers.',\n",
    "        'The returns for performance are superlinear in business.',\n",
    "        'Some people think the superlinear returns for performance are a flaw of capitalism.',\n",
    "        'Some people think that changing the rules of capitalism would stop the superlinear returns for performance from being true.',\n",
    "        'Superlinear returns for performance are a feature of the world.',\n",
    "        'Superlinear returns for performance are not an artifact of rules that humans have invented.',\n",
    "        'The same pattern of superlinear returns is observed in fame.',\n",
    "        'The same pattern of superlinear returns is observed in power.',\n",
    "        'The same pattern of superlinear returns is observed in military victories.',\n",
    "        'The same pattern of superlinear returns is observed in knowledge.',\n",
    "        'The same pattern of superlinear returns is observed in benefit to humanity.',\n",
    "        'In fame, power, military victories, knowledge, and benefit to humanity, the rich get richer.'\n",
    "    ]\n",
    "    \n",
    "    ac.add_propositions(propositions)\n",
    "    ac.pretty_print_chunks()\n",
    "    ac.pretty_print_chunk_outline()\n",
    "    print (ac.get_chunks(get_type='list_of_strings'))"
   ]
  },
  {
   "cell_type": "code",
   "execution_count": 80,
   "id": "10ed6b7a",
   "metadata": {},
   "outputs": [
    {
     "data": {
      "text/html": [
       "<pre style=\"white-space:pre;overflow-x:auto;line-height:normal;font-family:Menlo,'DejaVu Sans Mono',consolas,'Courier New',monospace\">\n",
       "<span style=\"font-weight: bold\">Adding</span>: <span style=\"color: #008000; text-decoration-color: #008000\">'The month is October.'</span>\n",
       "</pre>\n"
      ],
      "text/plain": [
       "\n",
       "\u001b[1mAdding\u001b[0m: \u001b[32m'The month is October.'\u001b[0m\n"
      ]
     },
     "metadata": {},
     "output_type": "display_data"
    },
    {
     "data": {
      "text/html": [
       "<pre style=\"white-space:pre;overflow-x:auto;line-height:normal;font-family:Menlo,'DejaVu Sans Mono',consolas,'Courier New',monospace\"><span style=\"font-style: italic\">No chunks exist, creating a new one</span><span style=\"color: #808000; text-decoration-color: #808000; font-style: italic\">...</span>\n",
       "</pre>\n"
      ],
      "text/plain": [
       "\u001b[3mNo chunks exist, creating a new one\u001b[0m\u001b[3;33m...\u001b[0m\n"
      ]
     },
     "metadata": {},
     "output_type": "display_data"
    },
    {
     "data": {
      "text/html": [
       "<pre style=\"white-space:pre;overflow-x:auto;line-height:normal;font-family:Menlo,'DejaVu Sans Mono',consolas,'Courier New',monospace\"><span style=\"color: #000080; text-decoration-color: #000080; font-weight: bold\">Created new chunk (4846d): Date &amp; Times</span>\n",
       "</pre>\n"
      ],
      "text/plain": [
       "\u001b[1;34mCreated new chunk \u001b[0m\u001b[1;34m(\u001b[0m\u001b[1;34m4846d\u001b[0m\u001b[1;34m)\u001b[0m\u001b[1;34m: Date & Times\u001b[0m\n"
      ]
     },
     "metadata": {},
     "output_type": "display_data"
    },
    {
     "data": {
      "text/html": [
       "<pre style=\"white-space:pre;overflow-x:auto;line-height:normal;font-family:Menlo,'DejaVu Sans Mono',consolas,'Courier New',monospace\">\n",
       "<span style=\"font-weight: bold\">Adding</span>: <span style=\"color: #008000; text-decoration-color: #008000\">'The year is 2023.'</span>\n",
       "</pre>\n"
      ],
      "text/plain": [
       "\n",
       "\u001b[1mAdding\u001b[0m: \u001b[32m'The year is 2023.'\u001b[0m\n"
      ]
     },
     "metadata": {},
     "output_type": "display_data"
    },
    {
     "data": {
      "text/html": [
       "<pre style=\"white-space:pre;overflow-x:auto;line-height:normal;font-family:Menlo,'DejaVu Sans Mono',consolas,'Courier New',monospace\"><span style=\"color: #008000; text-decoration-color: #008000\">Chunk Found </span><span style=\"color: #008000; text-decoration-color: #008000; font-weight: bold\">(</span><span style=\"color: #008000; text-decoration-color: #008000\">4846d</span><span style=\"color: #008000; text-decoration-color: #008000; font-weight: bold\">)</span><span style=\"color: #008000; text-decoration-color: #008000\">, adding to: Date &amp; Times</span>\n",
       "</pre>\n"
      ],
      "text/plain": [
       "\u001b[32mChunk Found \u001b[0m\u001b[1;32m(\u001b[0m\u001b[32m4846d\u001b[0m\u001b[1;32m)\u001b[0m\u001b[32m, adding to: Date & Times\u001b[0m\n"
      ]
     },
     "metadata": {},
     "output_type": "display_data"
    },
    {
     "data": {
      "text/html": [
       "<pre style=\"white-space:pre;overflow-x:auto;line-height:normal;font-family:Menlo,'DejaVu Sans Mono',consolas,'Courier New',monospace\">\n",
       "<span style=\"font-weight: bold\">Adding</span>: <span style=\"color: #008000; text-decoration-color: #008000\">'One of the most important things that I didn'</span>t understand about the world as a child was the degree to \n",
       "which the returns for performance are superlinear.'\n",
       "</pre>\n"
      ],
      "text/plain": [
       "\n",
       "\u001b[1mAdding\u001b[0m: \u001b[32m'One of the most important things that I didn'\u001b[0mt understand about the world as a child was the degree to \n",
       "which the returns for performance are superlinear.'\n"
      ]
     },
     "metadata": {},
     "output_type": "display_data"
    },
    {
     "data": {
      "text/html": [
       "<pre style=\"white-space:pre;overflow-x:auto;line-height:normal;font-family:Menlo,'DejaVu Sans Mono',consolas,'Courier New',monospace\"><span style=\"color: #808000; text-decoration-color: #808000\">No relevant chunk found, creating a new one...</span>\n",
       "</pre>\n"
      ],
      "text/plain": [
       "\u001b[33mNo relevant chunk found, creating a new one\u001b[0m\u001b[33m...\u001b[0m\n"
      ]
     },
     "metadata": {},
     "output_type": "display_data"
    },
    {
     "data": {
      "text/html": [
       "<pre style=\"white-space:pre;overflow-x:auto;line-height:normal;font-family:Menlo,'DejaVu Sans Mono',consolas,'Courier New',monospace\"><span style=\"color: #000080; text-decoration-color: #000080; font-weight: bold\">Created new chunk (</span><span style=\"color: #000080; text-decoration-color: #000080; font-weight: bold\">12544</span><span style=\"color: #000080; text-decoration-color: #000080; font-weight: bold\">): Life Realizations</span>\n",
       "</pre>\n"
      ],
      "text/plain": [
       "\u001b[1;34mCreated new chunk \u001b[0m\u001b[1;34m(\u001b[0m\u001b[1;34m12544\u001b[0m\u001b[1;34m)\u001b[0m\u001b[1;34m: Life Realizations\u001b[0m\n"
      ]
     },
     "metadata": {},
     "output_type": "display_data"
    },
    {
     "data": {
      "text/html": [
       "<pre style=\"white-space:pre;overflow-x:auto;line-height:normal;font-family:Menlo,'DejaVu Sans Mono',consolas,'Courier New',monospace\">\n",
       "<span style=\"font-weight: bold\">Adding</span>: <span style=\"color: #008000; text-decoration-color: #008000\">'Teachers and coaches implicitly told us that the returns were linear.'</span>\n",
       "</pre>\n"
      ],
      "text/plain": [
       "\n",
       "\u001b[1mAdding\u001b[0m: \u001b[32m'Teachers and coaches implicitly told us that the returns were linear.'\u001b[0m\n"
      ]
     },
     "metadata": {},
     "output_type": "display_data"
    },
    {
     "data": {
      "text/html": [
       "<pre style=\"white-space:pre;overflow-x:auto;line-height:normal;font-family:Menlo,'DejaVu Sans Mono',consolas,'Courier New',monospace\"><span style=\"color: #808000; text-decoration-color: #808000\">No relevant chunk found, creating a new one...</span>\n",
       "</pre>\n"
      ],
      "text/plain": [
       "\u001b[33mNo relevant chunk found, creating a new one\u001b[0m\u001b[33m...\u001b[0m\n"
      ]
     },
     "metadata": {},
     "output_type": "display_data"
    },
    {
     "data": {
      "text/html": [
       "<pre style=\"white-space:pre;overflow-x:auto;line-height:normal;font-family:Menlo,'DejaVu Sans Mono',consolas,'Courier New',monospace\"><span style=\"color: #000080; text-decoration-color: #000080; font-weight: bold\">Created new chunk (580ea): Performance Expectations</span>\n",
       "</pre>\n"
      ],
      "text/plain": [
       "\u001b[1;34mCreated new chunk \u001b[0m\u001b[1;34m(\u001b[0m\u001b[1;34m580ea\u001b[0m\u001b[1;34m)\u001b[0m\u001b[1;34m: Performance Expectations\u001b[0m\n"
      ]
     },
     "metadata": {},
     "output_type": "display_data"
    },
    {
     "data": {
      "text/html": [
       "<pre style=\"white-space:pre;overflow-x:auto;line-height:normal;font-family:Menlo,'DejaVu Sans Mono',consolas,'Courier New',monospace\">\n",
       "<span style=\"font-weight: bold\">Adding</span>: <span style=\"color: #008000; text-decoration-color: #008000\">'I heard a thousand times that '</span>You get out what you put in.<span style=\"color: #008000; text-decoration-color: #008000\">''</span>\n",
       "</pre>\n"
      ],
      "text/plain": [
       "\n",
       "\u001b[1mAdding\u001b[0m: \u001b[32m'I heard a thousand times that '\u001b[0mYou get out what you put in.\u001b[32m''\u001b[0m\n"
      ]
     },
     "metadata": {},
     "output_type": "display_data"
    },
    {
     "data": {
      "text/html": [
       "<pre style=\"white-space:pre;overflow-x:auto;line-height:normal;font-family:Menlo,'DejaVu Sans Mono',consolas,'Courier New',monospace\"><span style=\"color: #008000; text-decoration-color: #008000\">Chunk Found </span><span style=\"color: #008000; text-decoration-color: #008000; font-weight: bold\">(</span><span style=\"color: #008000; text-decoration-color: #008000\">580ea</span><span style=\"color: #008000; text-decoration-color: #008000; font-weight: bold\">)</span><span style=\"color: #008000; text-decoration-color: #008000\">, adding to: Performance Expectations</span>\n",
       "</pre>\n"
      ],
      "text/plain": [
       "\u001b[32mChunk Found \u001b[0m\u001b[1;32m(\u001b[0m\u001b[32m580ea\u001b[0m\u001b[1;32m)\u001b[0m\u001b[32m, adding to: Performance Expectations\u001b[0m\n"
      ]
     },
     "metadata": {},
     "output_type": "display_data"
    },
    {
     "data": {
      "text/html": [
       "<pre style=\"white-space:pre;overflow-x:auto;line-height:normal;font-family:Menlo,'DejaVu Sans Mono',consolas,'Courier New',monospace\">\n",
       "<span style=\"font-weight: bold\">Adding</span>: <span style=\"color: #008000; text-decoration-color: #008000\">'Teachers and coaches meant well.'</span>\n",
       "</pre>\n"
      ],
      "text/plain": [
       "\n",
       "\u001b[1mAdding\u001b[0m: \u001b[32m'Teachers and coaches meant well.'\u001b[0m\n"
      ]
     },
     "metadata": {},
     "output_type": "display_data"
    },
    {
     "data": {
      "text/html": [
       "<pre style=\"white-space:pre;overflow-x:auto;line-height:normal;font-family:Menlo,'DejaVu Sans Mono',consolas,'Courier New',monospace\"><span style=\"color: #808000; text-decoration-color: #808000\">No relevant chunk found, creating a new one...</span>\n",
       "</pre>\n"
      ],
      "text/plain": [
       "\u001b[33mNo relevant chunk found, creating a new one\u001b[0m\u001b[33m...\u001b[0m\n"
      ]
     },
     "metadata": {},
     "output_type": "display_data"
    },
    {
     "data": {
      "text/html": [
       "<pre style=\"white-space:pre;overflow-x:auto;line-height:normal;font-family:Menlo,'DejaVu Sans Mono',consolas,'Courier New',monospace\"><span style=\"color: #000080; text-decoration-color: #000080; font-weight: bold\">Created new chunk (</span><span style=\"color: #000080; text-decoration-color: #000080; font-weight: bold\">6e307</span><span style=\"color: #000080; text-decoration-color: #000080; font-weight: bold\">): Authority Intentions</span>\n",
       "</pre>\n"
      ],
      "text/plain": [
       "\u001b[1;34mCreated new chunk \u001b[0m\u001b[1;34m(\u001b[0m\u001b[1;34m6e307\u001b[0m\u001b[1;34m)\u001b[0m\u001b[1;34m: Authority Intentions\u001b[0m\n"
      ]
     },
     "metadata": {},
     "output_type": "display_data"
    },
    {
     "data": {
      "text/html": [
       "<pre style=\"white-space:pre;overflow-x:auto;line-height:normal;font-family:Menlo,'DejaVu Sans Mono',consolas,'Courier New',monospace\">\n",
       "<span style=\"font-weight: bold\">Adding</span>: <span style=\"color: #008000; text-decoration-color: #008000\">'The statement that '</span>You get out what you put in' is rarely true.'\n",
       "</pre>\n"
      ],
      "text/plain": [
       "\n",
       "\u001b[1mAdding\u001b[0m: \u001b[32m'The statement that '\u001b[0mYou get out what you put in' is rarely true.'\n"
      ]
     },
     "metadata": {},
     "output_type": "display_data"
    },
    {
     "data": {
      "text/html": [
       "<pre style=\"white-space:pre;overflow-x:auto;line-height:normal;font-family:Menlo,'DejaVu Sans Mono',consolas,'Courier New',monospace\"><span style=\"color: #008000; text-decoration-color: #008000\">Chunk Found </span><span style=\"color: #008000; text-decoration-color: #008000; font-weight: bold\">(</span><span style=\"color: #008000; text-decoration-color: #008000\">580ea</span><span style=\"color: #008000; text-decoration-color: #008000; font-weight: bold\">)</span><span style=\"color: #008000; text-decoration-color: #008000\">, adding to: Effort &amp; Achievement</span>\n",
       "</pre>\n"
      ],
      "text/plain": [
       "\u001b[32mChunk Found \u001b[0m\u001b[1;32m(\u001b[0m\u001b[32m580ea\u001b[0m\u001b[1;32m)\u001b[0m\u001b[32m, adding to: Effort & Achievement\u001b[0m\n"
      ]
     },
     "metadata": {},
     "output_type": "display_data"
    },
    {
     "data": {
      "text/html": [
       "<pre style=\"white-space:pre;overflow-x:auto;line-height:normal;font-family:Menlo,'DejaVu Sans Mono',consolas,'Courier New',monospace\">\n",
       "<span style=\"font-weight: bold\">Adding</span>: <span style=\"color: #008000; text-decoration-color: #008000\">'If your product is only half as good as your competitor'</span>s product, you do not get half as many customers.'\n",
       "</pre>\n"
      ],
      "text/plain": [
       "\n",
       "\u001b[1mAdding\u001b[0m: \u001b[32m'If your product is only half as good as your competitor'\u001b[0ms product, you do not get half as many customers.'\n"
      ]
     },
     "metadata": {},
     "output_type": "display_data"
    },
    {
     "data": {
      "text/html": [
       "<pre style=\"white-space:pre;overflow-x:auto;line-height:normal;font-family:Menlo,'DejaVu Sans Mono',consolas,'Courier New',monospace\"><span style=\"color: #008000; text-decoration-color: #008000\">Chunk Found </span><span style=\"color: #008000; text-decoration-color: #008000; font-weight: bold\">(</span><span style=\"color: #008000; text-decoration-color: #008000\">580ea</span><span style=\"color: #008000; text-decoration-color: #008000; font-weight: bold\">)</span><span style=\"color: #008000; text-decoration-color: #008000\">, adding to: Cause &amp; Effect</span>\n",
       "</pre>\n"
      ],
      "text/plain": [
       "\u001b[32mChunk Found \u001b[0m\u001b[1;32m(\u001b[0m\u001b[32m580ea\u001b[0m\u001b[1;32m)\u001b[0m\u001b[32m, adding to: Cause & Effect\u001b[0m\n"
      ]
     },
     "metadata": {},
     "output_type": "display_data"
    },
    {
     "data": {
      "text/html": [
       "<pre style=\"white-space:pre;overflow-x:auto;line-height:normal;font-family:Menlo,'DejaVu Sans Mono',consolas,'Courier New',monospace\">\n",
       "<span style=\"font-weight: bold\">Adding</span>: <span style=\"color: #008000; text-decoration-color: #008000\">'You get no customers if your product is only half as good as your competitor'</span>s product.'\n",
       "</pre>\n"
      ],
      "text/plain": [
       "\n",
       "\u001b[1mAdding\u001b[0m: \u001b[32m'You get no customers if your product is only half as good as your competitor'\u001b[0ms product.'\n"
      ]
     },
     "metadata": {},
     "output_type": "display_data"
    },
    {
     "data": {
      "text/html": [
       "<pre style=\"white-space:pre;overflow-x:auto;line-height:normal;font-family:Menlo,'DejaVu Sans Mono',consolas,'Courier New',monospace\"><span style=\"color: #008000; text-decoration-color: #008000\">Chunk Found </span><span style=\"color: #008000; text-decoration-color: #008000; font-weight: bold\">(</span><span style=\"color: #008000; text-decoration-color: #008000\">580ea</span><span style=\"color: #008000; text-decoration-color: #008000; font-weight: bold\">)</span><span style=\"color: #008000; text-decoration-color: #008000\">, adding to: Effort &amp; Outcome</span>\n",
       "</pre>\n"
      ],
      "text/plain": [
       "\u001b[32mChunk Found \u001b[0m\u001b[1;32m(\u001b[0m\u001b[32m580ea\u001b[0m\u001b[1;32m)\u001b[0m\u001b[32m, adding to: Effort & Outcome\u001b[0m\n"
      ]
     },
     "metadata": {},
     "output_type": "display_data"
    },
    {
     "data": {
      "text/html": [
       "<pre style=\"white-space:pre;overflow-x:auto;line-height:normal;font-family:Menlo,'DejaVu Sans Mono',consolas,'Courier New',monospace\">\n",
       "<span style=\"font-weight: bold\">Adding</span>: <span style=\"color: #008000; text-decoration-color: #008000\">'You go out of business if you get no customers.'</span>\n",
       "</pre>\n"
      ],
      "text/plain": [
       "\n",
       "\u001b[1mAdding\u001b[0m: \u001b[32m'You go out of business if you get no customers.'\u001b[0m\n"
      ]
     },
     "metadata": {},
     "output_type": "display_data"
    },
    {
     "data": {
      "text/html": [
       "<pre style=\"white-space:pre;overflow-x:auto;line-height:normal;font-family:Menlo,'DejaVu Sans Mono',consolas,'Courier New',monospace\"><span style=\"color: #808000; text-decoration-color: #808000\">No relevant chunk found, creating a new one...</span>\n",
       "</pre>\n"
      ],
      "text/plain": [
       "\u001b[33mNo relevant chunk found, creating a new one\u001b[0m\u001b[33m...\u001b[0m\n"
      ]
     },
     "metadata": {},
     "output_type": "display_data"
    },
    {
     "data": {
      "text/html": [
       "<pre style=\"white-space:pre;overflow-x:auto;line-height:normal;font-family:Menlo,'DejaVu Sans Mono',consolas,'Courier New',monospace\"><span style=\"color: #000080; text-decoration-color: #000080; font-weight: bold\">Created new chunk (5dad3): Customer Importance</span>\n",
       "</pre>\n"
      ],
      "text/plain": [
       "\u001b[1;34mCreated new chunk \u001b[0m\u001b[1;34m(\u001b[0m\u001b[1;34m5dad3\u001b[0m\u001b[1;34m)\u001b[0m\u001b[1;34m: Customer Importance\u001b[0m\n"
      ]
     },
     "metadata": {},
     "output_type": "display_data"
    },
    {
     "data": {
      "text/html": [
       "<pre style=\"white-space:pre;overflow-x:auto;line-height:normal;font-family:Menlo,'DejaVu Sans Mono',consolas,'Courier New',monospace\">\n",
       "<span style=\"font-weight: bold\">Adding</span>: <span style=\"color: #008000; text-decoration-color: #008000\">'The returns for performance are superlinear in business.'</span>\n",
       "</pre>\n"
      ],
      "text/plain": [
       "\n",
       "\u001b[1mAdding\u001b[0m: \u001b[32m'The returns for performance are superlinear in business.'\u001b[0m\n"
      ]
     },
     "metadata": {},
     "output_type": "display_data"
    },
    {
     "data": {
      "text/html": [
       "<pre style=\"white-space:pre;overflow-x:auto;line-height:normal;font-family:Menlo,'DejaVu Sans Mono',consolas,'Courier New',monospace\"><span style=\"color: #008000; text-decoration-color: #008000\">Chunk Found </span><span style=\"color: #008000; text-decoration-color: #008000; font-weight: bold\">(</span><span style=\"color: #008000; text-decoration-color: #008000\">580ea</span><span style=\"color: #008000; text-decoration-color: #008000; font-weight: bold\">)</span><span style=\"color: #008000; text-decoration-color: #008000\">, adding to: Advice &amp; Results</span>\n",
       "</pre>\n"
      ],
      "text/plain": [
       "\u001b[32mChunk Found \u001b[0m\u001b[1;32m(\u001b[0m\u001b[32m580ea\u001b[0m\u001b[1;32m)\u001b[0m\u001b[32m, adding to: Advice & Results\u001b[0m\n"
      ]
     },
     "metadata": {},
     "output_type": "display_data"
    },
    {
     "data": {
      "text/html": [
       "<pre style=\"white-space:pre;overflow-x:auto;line-height:normal;font-family:Menlo,'DejaVu Sans Mono',consolas,'Courier New',monospace\">\n",
       "<span style=\"font-weight: bold\">Adding</span>: <span style=\"color: #008000; text-decoration-color: #008000\">'Some people think the superlinear returns for performance are a flaw of capitalism.'</span>\n",
       "</pre>\n"
      ],
      "text/plain": [
       "\n",
       "\u001b[1mAdding\u001b[0m: \u001b[32m'Some people think the superlinear returns for performance are a flaw of capitalism.'\u001b[0m\n"
      ]
     },
     "metadata": {},
     "output_type": "display_data"
    },
    {
     "data": {
      "text/html": [
       "<pre style=\"white-space:pre;overflow-x:auto;line-height:normal;font-family:Menlo,'DejaVu Sans Mono',consolas,'Courier New',monospace\"><span style=\"color: #008000; text-decoration-color: #008000\">Chunk Found </span><span style=\"color: #008000; text-decoration-color: #008000; font-weight: bold\">(</span><span style=\"color: #008000; text-decoration-color: #008000\">580ea</span><span style=\"color: #008000; text-decoration-color: #008000; font-weight: bold\">)</span><span style=\"color: #008000; text-decoration-color: #008000\">, adding to: Effort &amp; Outcome</span>\n",
       "</pre>\n"
      ],
      "text/plain": [
       "\u001b[32mChunk Found \u001b[0m\u001b[1;32m(\u001b[0m\u001b[32m580ea\u001b[0m\u001b[1;32m)\u001b[0m\u001b[32m, adding to: Effort & Outcome\u001b[0m\n"
      ]
     },
     "metadata": {},
     "output_type": "display_data"
    },
    {
     "data": {
      "text/html": [
       "<pre style=\"white-space:pre;overflow-x:auto;line-height:normal;font-family:Menlo,'DejaVu Sans Mono',consolas,'Courier New',monospace\">\n",
       "<span style=\"font-weight: bold\">Adding</span>: <span style=\"color: #008000; text-decoration-color: #008000\">'Some people think that changing the rules of capitalism would stop the superlinear returns for performance</span>\n",
       "<span style=\"color: #008000; text-decoration-color: #008000\">from being true.'</span>\n",
       "</pre>\n"
      ],
      "text/plain": [
       "\n",
       "\u001b[1mAdding\u001b[0m: \u001b[32m'Some people think that changing the rules of capitalism would stop the superlinear returns for performance\u001b[0m\n",
       "\u001b[32mfrom being true.'\u001b[0m\n"
      ]
     },
     "metadata": {},
     "output_type": "display_data"
    },
    {
     "data": {
      "text/html": [
       "<pre style=\"white-space:pre;overflow-x:auto;line-height:normal;font-family:Menlo,'DejaVu Sans Mono',consolas,'Courier New',monospace\"><span style=\"color: #808000; text-decoration-color: #808000\">No relevant chunk found, creating a new one...</span>\n",
       "</pre>\n"
      ],
      "text/plain": [
       "\u001b[33mNo relevant chunk found, creating a new one\u001b[0m\u001b[33m...\u001b[0m\n"
      ]
     },
     "metadata": {},
     "output_type": "display_data"
    },
    {
     "data": {
      "text/html": [
       "<pre style=\"white-space:pre;overflow-x:auto;line-height:normal;font-family:Menlo,'DejaVu Sans Mono',consolas,'Courier New',monospace\"><span style=\"color: #000080; text-decoration-color: #000080; font-weight: bold\">Created new chunk (5a1c0): Economic Reforms</span>\n",
       "</pre>\n"
      ],
      "text/plain": [
       "\u001b[1;34mCreated new chunk \u001b[0m\u001b[1;34m(\u001b[0m\u001b[1;34m5a1c0\u001b[0m\u001b[1;34m)\u001b[0m\u001b[1;34m: Economic Reforms\u001b[0m\n"
      ]
     },
     "metadata": {},
     "output_type": "display_data"
    },
    {
     "data": {
      "text/html": [
       "<pre style=\"white-space:pre;overflow-x:auto;line-height:normal;font-family:Menlo,'DejaVu Sans Mono',consolas,'Courier New',monospace\">\n",
       "<span style=\"font-weight: bold\">Adding</span>: <span style=\"color: #008000; text-decoration-color: #008000\">'Superlinear returns for performance are a feature of the world.'</span>\n",
       "</pre>\n"
      ],
      "text/plain": [
       "\n",
       "\u001b[1mAdding\u001b[0m: \u001b[32m'Superlinear returns for performance are a feature of the world.'\u001b[0m\n"
      ]
     },
     "metadata": {},
     "output_type": "display_data"
    },
    {
     "data": {
      "text/html": [
       "<pre style=\"white-space:pre;overflow-x:auto;line-height:normal;font-family:Menlo,'DejaVu Sans Mono',consolas,'Courier New',monospace\"><span style=\"color: #008000; text-decoration-color: #008000\">Chunk Found </span><span style=\"color: #008000; text-decoration-color: #008000; font-weight: bold\">(</span><span style=\"color: #008000; text-decoration-color: #008000\">580ea</span><span style=\"color: #008000; text-decoration-color: #008000; font-weight: bold\">)</span><span style=\"color: #008000; text-decoration-color: #008000\">, adding to: Input &amp; Result</span>\n",
       "</pre>\n"
      ],
      "text/plain": [
       "\u001b[32mChunk Found \u001b[0m\u001b[1;32m(\u001b[0m\u001b[32m580ea\u001b[0m\u001b[1;32m)\u001b[0m\u001b[32m, adding to: Input & Result\u001b[0m\n"
      ]
     },
     "metadata": {},
     "output_type": "display_data"
    },
    {
     "data": {
      "text/html": [
       "<pre style=\"white-space:pre;overflow-x:auto;line-height:normal;font-family:Menlo,'DejaVu Sans Mono',consolas,'Courier New',monospace\">\n",
       "<span style=\"font-weight: bold\">Adding</span>: <span style=\"color: #008000; text-decoration-color: #008000\">'Superlinear returns for performance are not an artifact of rules that humans have invented.'</span>\n",
       "</pre>\n"
      ],
      "text/plain": [
       "\n",
       "\u001b[1mAdding\u001b[0m: \u001b[32m'Superlinear returns for performance are not an artifact of rules that humans have invented.'\u001b[0m\n"
      ]
     },
     "metadata": {},
     "output_type": "display_data"
    },
    {
     "data": {
      "text/html": [
       "<pre style=\"white-space:pre;overflow-x:auto;line-height:normal;font-family:Menlo,'DejaVu Sans Mono',consolas,'Courier New',monospace\"><span style=\"color: #008000; text-decoration-color: #008000\">Chunk Found </span><span style=\"color: #008000; text-decoration-color: #008000; font-weight: bold\">(</span><span style=\"color: #008000; text-decoration-color: #008000\">580ea</span><span style=\"color: #008000; text-decoration-color: #008000; font-weight: bold\">)</span><span style=\"color: #008000; text-decoration-color: #008000\">, adding to: Effort &amp; Reward</span>\n",
       "</pre>\n"
      ],
      "text/plain": [
       "\u001b[32mChunk Found \u001b[0m\u001b[1;32m(\u001b[0m\u001b[32m580ea\u001b[0m\u001b[1;32m)\u001b[0m\u001b[32m, adding to: Effort & Reward\u001b[0m\n"
      ]
     },
     "metadata": {},
     "output_type": "display_data"
    },
    {
     "data": {
      "text/html": [
       "<pre style=\"white-space:pre;overflow-x:auto;line-height:normal;font-family:Menlo,'DejaVu Sans Mono',consolas,'Courier New',monospace\">\n",
       "<span style=\"font-weight: bold\">Adding</span>: <span style=\"color: #008000; text-decoration-color: #008000\">'The same pattern of superlinear returns is observed in fame.'</span>\n",
       "</pre>\n"
      ],
      "text/plain": [
       "\n",
       "\u001b[1mAdding\u001b[0m: \u001b[32m'The same pattern of superlinear returns is observed in fame.'\u001b[0m\n"
      ]
     },
     "metadata": {},
     "output_type": "display_data"
    },
    {
     "data": {
      "text/html": [
       "<pre style=\"white-space:pre;overflow-x:auto;line-height:normal;font-family:Menlo,'DejaVu Sans Mono',consolas,'Courier New',monospace\"><span style=\"color: #808000; text-decoration-color: #808000\">No relevant chunk found, creating a new one...</span>\n",
       "</pre>\n"
      ],
      "text/plain": [
       "\u001b[33mNo relevant chunk found, creating a new one\u001b[0m\u001b[33m...\u001b[0m\n"
      ]
     },
     "metadata": {},
     "output_type": "display_data"
    },
    {
     "data": {
      "text/html": [
       "<pre style=\"white-space:pre;overflow-x:auto;line-height:normal;font-family:Menlo,'DejaVu Sans Mono',consolas,'Courier New',monospace\"><span style=\"color: #000080; text-decoration-color: #000080; font-weight: bold\">Created new chunk (33beb): Superlinear Returns</span>\n",
       "</pre>\n"
      ],
      "text/plain": [
       "\u001b[1;34mCreated new chunk \u001b[0m\u001b[1;34m(\u001b[0m\u001b[1;34m33beb\u001b[0m\u001b[1;34m)\u001b[0m\u001b[1;34m: Superlinear Returns\u001b[0m\n"
      ]
     },
     "metadata": {},
     "output_type": "display_data"
    },
    {
     "data": {
      "text/html": [
       "<pre style=\"white-space:pre;overflow-x:auto;line-height:normal;font-family:Menlo,'DejaVu Sans Mono',consolas,'Courier New',monospace\">\n",
       "<span style=\"font-weight: bold\">Adding</span>: <span style=\"color: #008000; text-decoration-color: #008000\">'The same pattern of superlinear returns is observed in power.'</span>\n",
       "</pre>\n"
      ],
      "text/plain": [
       "\n",
       "\u001b[1mAdding\u001b[0m: \u001b[32m'The same pattern of superlinear returns is observed in power.'\u001b[0m\n"
      ]
     },
     "metadata": {},
     "output_type": "display_data"
    },
    {
     "data": {
      "text/html": [
       "<pre style=\"white-space:pre;overflow-x:auto;line-height:normal;font-family:Menlo,'DejaVu Sans Mono',consolas,'Courier New',monospace\"><span style=\"color: #008000; text-decoration-color: #008000\">Chunk Found </span><span style=\"color: #008000; text-decoration-color: #008000; font-weight: bold\">(</span><span style=\"color: #008000; text-decoration-color: #008000\">33beb</span><span style=\"color: #008000; text-decoration-color: #008000; font-weight: bold\">)</span><span style=\"color: #008000; text-decoration-color: #008000\">, adding to: Superlinear Returns</span>\n",
       "</pre>\n"
      ],
      "text/plain": [
       "\u001b[32mChunk Found \u001b[0m\u001b[1;32m(\u001b[0m\u001b[32m33beb\u001b[0m\u001b[1;32m)\u001b[0m\u001b[32m, adding to: Superlinear Returns\u001b[0m\n"
      ]
     },
     "metadata": {},
     "output_type": "display_data"
    },
    {
     "data": {
      "text/html": [
       "<pre style=\"white-space:pre;overflow-x:auto;line-height:normal;font-family:Menlo,'DejaVu Sans Mono',consolas,'Courier New',monospace\">\n",
       "<span style=\"font-weight: bold\">Adding</span>: <span style=\"color: #008000; text-decoration-color: #008000\">'The same pattern of superlinear returns is observed in military victories.'</span>\n",
       "</pre>\n"
      ],
      "text/plain": [
       "\n",
       "\u001b[1mAdding\u001b[0m: \u001b[32m'The same pattern of superlinear returns is observed in military victories.'\u001b[0m\n"
      ]
     },
     "metadata": {},
     "output_type": "display_data"
    },
    {
     "data": {
      "text/html": [
       "<pre style=\"white-space:pre;overflow-x:auto;line-height:normal;font-family:Menlo,'DejaVu Sans Mono',consolas,'Courier New',monospace\"><span style=\"color: #008000; text-decoration-color: #008000\">Chunk Found </span><span style=\"color: #008000; text-decoration-color: #008000; font-weight: bold\">(</span><span style=\"color: #008000; text-decoration-color: #008000\">33beb</span><span style=\"color: #008000; text-decoration-color: #008000; font-weight: bold\">)</span><span style=\"color: #008000; text-decoration-color: #008000\">, adding to: Returns in Various Domains</span>\n",
       "</pre>\n"
      ],
      "text/plain": [
       "\u001b[32mChunk Found \u001b[0m\u001b[1;32m(\u001b[0m\u001b[32m33beb\u001b[0m\u001b[1;32m)\u001b[0m\u001b[32m, adding to: Returns in Various Domains\u001b[0m\n"
      ]
     },
     "metadata": {},
     "output_type": "display_data"
    },
    {
     "data": {
      "text/html": [
       "<pre style=\"white-space:pre;overflow-x:auto;line-height:normal;font-family:Menlo,'DejaVu Sans Mono',consolas,'Courier New',monospace\">\n",
       "<span style=\"font-weight: bold\">Adding</span>: <span style=\"color: #008000; text-decoration-color: #008000\">'The same pattern of superlinear returns is observed in knowledge.'</span>\n",
       "</pre>\n"
      ],
      "text/plain": [
       "\n",
       "\u001b[1mAdding\u001b[0m: \u001b[32m'The same pattern of superlinear returns is observed in knowledge.'\u001b[0m\n"
      ]
     },
     "metadata": {},
     "output_type": "display_data"
    },
    {
     "data": {
      "text/html": [
       "<pre style=\"white-space:pre;overflow-x:auto;line-height:normal;font-family:Menlo,'DejaVu Sans Mono',consolas,'Courier New',monospace\"><span style=\"color: #008000; text-decoration-color: #008000\">Chunk Found </span><span style=\"color: #008000; text-decoration-color: #008000; font-weight: bold\">(</span><span style=\"color: #008000; text-decoration-color: #008000\">33beb</span><span style=\"color: #008000; text-decoration-color: #008000; font-weight: bold\">)</span><span style=\"color: #008000; text-decoration-color: #008000\">, adding to: Patterns of Social Phenomena</span>\n",
       "</pre>\n"
      ],
      "text/plain": [
       "\u001b[32mChunk Found \u001b[0m\u001b[1;32m(\u001b[0m\u001b[32m33beb\u001b[0m\u001b[1;32m)\u001b[0m\u001b[32m, adding to: Patterns of Social Phenomena\u001b[0m\n"
      ]
     },
     "metadata": {},
     "output_type": "display_data"
    },
    {
     "data": {
      "text/html": [
       "<pre style=\"white-space:pre;overflow-x:auto;line-height:normal;font-family:Menlo,'DejaVu Sans Mono',consolas,'Courier New',monospace\">\n",
       "<span style=\"font-weight: bold\">Adding</span>: <span style=\"color: #008000; text-decoration-color: #008000\">'The same pattern of superlinear returns is observed in benefit to humanity.'</span>\n",
       "</pre>\n"
      ],
      "text/plain": [
       "\n",
       "\u001b[1mAdding\u001b[0m: \u001b[32m'The same pattern of superlinear returns is observed in benefit to humanity.'\u001b[0m\n"
      ]
     },
     "metadata": {},
     "output_type": "display_data"
    },
    {
     "data": {
      "text/html": [
       "<pre style=\"white-space:pre;overflow-x:auto;line-height:normal;font-family:Menlo,'DejaVu Sans Mono',consolas,'Courier New',monospace\"><span style=\"color: #008000; text-decoration-color: #008000\">Chunk Found </span><span style=\"color: #008000; text-decoration-color: #008000; font-weight: bold\">(</span><span style=\"color: #008000; text-decoration-color: #008000\">33beb</span><span style=\"color: #008000; text-decoration-color: #008000; font-weight: bold\">)</span><span style=\"color: #008000; text-decoration-color: #008000\">, adding to: Superlinear Returns Across Domains</span>\n",
       "</pre>\n"
      ],
      "text/plain": [
       "\u001b[32mChunk Found \u001b[0m\u001b[1;32m(\u001b[0m\u001b[32m33beb\u001b[0m\u001b[1;32m)\u001b[0m\u001b[32m, adding to: Superlinear Returns Across Domains\u001b[0m\n"
      ]
     },
     "metadata": {},
     "output_type": "display_data"
    },
    {
     "data": {
      "text/html": [
       "<pre style=\"white-space:pre;overflow-x:auto;line-height:normal;font-family:Menlo,'DejaVu Sans Mono',consolas,'Courier New',monospace\">\n",
       "<span style=\"font-weight: bold\">Adding</span>: <span style=\"color: #008000; text-decoration-color: #008000\">'In fame, power, military victories, knowledge, and benefit to humanity, the rich get richer.'</span>\n",
       "</pre>\n"
      ],
      "text/plain": [
       "\n",
       "\u001b[1mAdding\u001b[0m: \u001b[32m'In fame, power, military victories, knowledge, and benefit to humanity, the rich get richer.'\u001b[0m\n"
      ]
     },
     "metadata": {},
     "output_type": "display_data"
    },
    {
     "data": {
      "text/html": [
       "<pre style=\"white-space:pre;overflow-x:auto;line-height:normal;font-family:Menlo,'DejaVu Sans Mono',consolas,'Courier New',monospace\"><span style=\"color: #008000; text-decoration-color: #008000\">Chunk Found </span><span style=\"color: #008000; text-decoration-color: #008000; font-weight: bold\">(</span><span style=\"color: #008000; text-decoration-color: #008000\">33beb</span><span style=\"color: #008000; text-decoration-color: #008000; font-weight: bold\">)</span><span style=\"color: #008000; text-decoration-color: #008000\">, adding to: Superlinear Returns in Achievement</span>\n",
       "</pre>\n"
      ],
      "text/plain": [
       "\u001b[32mChunk Found \u001b[0m\u001b[1;32m(\u001b[0m\u001b[32m33beb\u001b[0m\u001b[1;32m)\u001b[0m\u001b[32m, adding to: Superlinear Returns in Achievement\u001b[0m\n"
      ]
     },
     "metadata": {},
     "output_type": "display_data"
    },
    {
     "data": {
      "text/html": [
       "<pre style=\"white-space:pre;overflow-x:auto;line-height:normal;font-family:Menlo,'DejaVu Sans Mono',consolas,'Courier New',monospace\">\n",
       "\n",
       "<span style=\"font-weight: bold; text-decoration: underline\">Final Chunks (</span><span style=\"color: #008080; text-decoration-color: #008080; font-weight: bold; text-decoration: underline\">7</span><span style=\"font-weight: bold; text-decoration: underline\"> total)</span>\n",
       "\n",
       "</pre>\n"
      ],
      "text/plain": [
       "\n",
       "\n",
       "\u001b[1;4mFinal Chunks \u001b[0m\u001b[1;4m(\u001b[0m\u001b[1;4;36m7\u001b[0m\u001b[1;4m total\u001b[0m\u001b[1;4m)\u001b[0m\n",
       "\n"
      ]
     },
     "metadata": {},
     "output_type": "display_data"
    },
    {
     "data": {
      "text/html": [
       "<pre style=\"white-space:pre;overflow-x:auto;line-height:normal;font-family:Menlo,'DejaVu Sans Mono',consolas,'Courier New',monospace\"><span style=\"font-weight: bold\">Chunk #</span><span style=\"color: #008080; text-decoration-color: #008080; font-weight: bold\">0</span><span style=\"font-weight: bold\"> - Date &amp; Times</span>\n",
       "</pre>\n"
      ],
      "text/plain": [
       "\u001b[1mChunk #\u001b[0m\u001b[1;36m0\u001b[0m\u001b[1m - Date & Times\u001b[0m\n"
      ]
     },
     "metadata": {},
     "output_type": "display_data"
    },
    {
     "data": {
      "text/html": [
       "<pre style=\"white-space:pre;overflow-x:auto;line-height:normal;font-family:Menlo,'DejaVu Sans Mono',consolas,'Courier New',monospace\">  <span style=\"color: #008080; text-decoration-color: #008080\">ID:</span> 4846d\n",
       "</pre>\n"
      ],
      "text/plain": [
       "  \u001b[36mID:\u001b[0m 4846d\n"
      ]
     },
     "metadata": {},
     "output_type": "display_data"
    },
    {
     "data": {
      "text/html": [
       "<pre style=\"white-space:pre;overflow-x:auto;line-height:normal;font-family:Menlo,'DejaVu Sans Mono',consolas,'Courier New',monospace\">  <span style=\"color: #008080; text-decoration-color: #008080\">Summary:</span> This chunk contains information about specific dates and times mentioned in the text, including months \n",
       "and years.\n",
       "</pre>\n"
      ],
      "text/plain": [
       "  \u001b[36mSummary:\u001b[0m This chunk contains information about specific dates and times mentioned in the text, including months \n",
       "and years.\n"
      ]
     },
     "metadata": {},
     "output_type": "display_data"
    },
    {
     "data": {
      "text/html": [
       "<pre style=\"white-space:pre;overflow-x:auto;line-height:normal;font-family:Menlo,'DejaVu Sans Mono',consolas,'Courier New',monospace\">  <span style=\"color: #008080; text-decoration-color: #008080\">Propositions </span><span style=\"color: #008080; text-decoration-color: #008080; font-weight: bold\">(</span><span style=\"color: #008080; text-decoration-color: #008080; font-weight: bold\">2</span><span style=\"color: #008080; text-decoration-color: #008080; font-weight: bold\">)</span><span style=\"color: #008080; text-decoration-color: #008080\">:</span>\n",
       "</pre>\n"
      ],
      "text/plain": [
       "  \u001b[36mPropositions \u001b[0m\u001b[1;36m(\u001b[0m\u001b[1;36m2\u001b[0m\u001b[1;36m)\u001b[0m\u001b[36m:\u001b[0m\n"
      ]
     },
     "metadata": {},
     "output_type": "display_data"
    },
    {
     "data": {
      "text/html": [
       "<pre style=\"white-space:pre;overflow-x:auto;line-height:normal;font-family:Menlo,'DejaVu Sans Mono',consolas,'Courier New',monospace\">    - The month is October.\n",
       "</pre>\n"
      ],
      "text/plain": [
       "    - The month is October.\n"
      ]
     },
     "metadata": {},
     "output_type": "display_data"
    },
    {
     "data": {
      "text/html": [
       "<pre style=\"white-space:pre;overflow-x:auto;line-height:normal;font-family:Menlo,'DejaVu Sans Mono',consolas,'Courier New',monospace\">    - The year is <span style=\"color: #008080; text-decoration-color: #008080; font-weight: bold\">2023</span>.\n",
       "</pre>\n"
      ],
      "text/plain": [
       "    - The year is \u001b[1;36m2023\u001b[0m.\n"
      ]
     },
     "metadata": {},
     "output_type": "display_data"
    },
    {
     "data": {
      "text/html": [
       "<pre style=\"white-space:pre;overflow-x:auto;line-height:normal;font-family:Menlo,'DejaVu Sans Mono',consolas,'Courier New',monospace\">\n",
       "\n",
       "</pre>\n"
      ],
      "text/plain": [
       "\n",
       "\n"
      ]
     },
     "metadata": {},
     "output_type": "display_data"
    },
    {
     "data": {
      "text/html": [
       "<pre style=\"white-space:pre;overflow-x:auto;line-height:normal;font-family:Menlo,'DejaVu Sans Mono',consolas,'Courier New',monospace\"><span style=\"font-weight: bold\">Chunk #</span><span style=\"color: #008080; text-decoration-color: #008080; font-weight: bold\">1</span><span style=\"font-weight: bold\"> - Life Realizations</span>\n",
       "</pre>\n"
      ],
      "text/plain": [
       "\u001b[1mChunk #\u001b[0m\u001b[1;36m1\u001b[0m\u001b[1m - Life Realizations\u001b[0m\n"
      ]
     },
     "metadata": {},
     "output_type": "display_data"
    },
    {
     "data": {
      "text/html": [
       "<pre style=\"white-space:pre;overflow-x:auto;line-height:normal;font-family:Menlo,'DejaVu Sans Mono',consolas,'Courier New',monospace\">  <span style=\"color: #008080; text-decoration-color: #008080\">ID:</span> <span style=\"color: #008080; text-decoration-color: #008080; font-weight: bold\">12544</span>\n",
       "</pre>\n"
      ],
      "text/plain": [
       "  \u001b[36mID:\u001b[0m \u001b[1;36m12544\u001b[0m\n"
      ]
     },
     "metadata": {},
     "output_type": "display_data"
    },
    {
     "data": {
      "text/html": [
       "<pre style=\"white-space:pre;overflow-x:auto;line-height:normal;font-family:Menlo,'DejaVu Sans Mono',consolas,'Courier New',monospace\">  <span style=\"color: #008080; text-decoration-color: #008080\">Summary:</span> This chunk contains insights and realizations people had about the world as they grew and matured.\n",
       "</pre>\n"
      ],
      "text/plain": [
       "  \u001b[36mSummary:\u001b[0m This chunk contains insights and realizations people had about the world as they grew and matured.\n"
      ]
     },
     "metadata": {},
     "output_type": "display_data"
    },
    {
     "data": {
      "text/html": [
       "<pre style=\"white-space:pre;overflow-x:auto;line-height:normal;font-family:Menlo,'DejaVu Sans Mono',consolas,'Courier New',monospace\">  <span style=\"color: #008080; text-decoration-color: #008080\">Propositions </span><span style=\"color: #008080; text-decoration-color: #008080; font-weight: bold\">(</span><span style=\"color: #008080; text-decoration-color: #008080; font-weight: bold\">1</span><span style=\"color: #008080; text-decoration-color: #008080; font-weight: bold\">)</span><span style=\"color: #008080; text-decoration-color: #008080\">:</span>\n",
       "</pre>\n"
      ],
      "text/plain": [
       "  \u001b[36mPropositions \u001b[0m\u001b[1;36m(\u001b[0m\u001b[1;36m1\u001b[0m\u001b[1;36m)\u001b[0m\u001b[36m:\u001b[0m\n"
      ]
     },
     "metadata": {},
     "output_type": "display_data"
    },
    {
     "data": {
      "text/html": [
       "<pre style=\"white-space:pre;overflow-x:auto;line-height:normal;font-family:Menlo,'DejaVu Sans Mono',consolas,'Courier New',monospace\">    - One of the most important things that I didn't understand about the world as a child was the degree to which \n",
       "the returns for performance are superlinear.\n",
       "</pre>\n"
      ],
      "text/plain": [
       "    - One of the most important things that I didn't understand about the world as a child was the degree to which \n",
       "the returns for performance are superlinear.\n"
      ]
     },
     "metadata": {},
     "output_type": "display_data"
    },
    {
     "data": {
      "text/html": [
       "<pre style=\"white-space:pre;overflow-x:auto;line-height:normal;font-family:Menlo,'DejaVu Sans Mono',consolas,'Courier New',monospace\">\n",
       "\n",
       "</pre>\n"
      ],
      "text/plain": [
       "\n",
       "\n"
      ]
     },
     "metadata": {},
     "output_type": "display_data"
    },
    {
     "data": {
      "text/html": [
       "<pre style=\"white-space:pre;overflow-x:auto;line-height:normal;font-family:Menlo,'DejaVu Sans Mono',consolas,'Courier New',monospace\"><span style=\"font-weight: bold\">Chunk #</span><span style=\"color: #008080; text-decoration-color: #008080; font-weight: bold\">2</span><span style=\"font-weight: bold\"> - Input &amp; Outcome</span>\n",
       "</pre>\n"
      ],
      "text/plain": [
       "\u001b[1mChunk #\u001b[0m\u001b[1;36m2\u001b[0m\u001b[1m - Input & Outcome\u001b[0m\n"
      ]
     },
     "metadata": {},
     "output_type": "display_data"
    },
    {
     "data": {
      "text/html": [
       "<pre style=\"white-space:pre;overflow-x:auto;line-height:normal;font-family:Menlo,'DejaVu Sans Mono',consolas,'Courier New',monospace\">  <span style=\"color: #008080; text-decoration-color: #008080\">ID:</span> 580ea\n",
       "</pre>\n"
      ],
      "text/plain": [
       "  \u001b[36mID:\u001b[0m 580ea\n"
      ]
     },
     "metadata": {},
     "output_type": "display_data"
    },
    {
     "data": {
      "text/html": [
       "<pre style=\"white-space:pre;overflow-x:auto;line-height:normal;font-family:Menlo,'DejaVu Sans Mono',consolas,'Courier New',monospace\">  <span style=\"color: #008080; text-decoration-color: #008080\">Summary:</span> This chunk contains information about the relationship between input, performance, and resulting \n",
       "outcomes or rewards.\n",
       "</pre>\n"
      ],
      "text/plain": [
       "  \u001b[36mSummary:\u001b[0m This chunk contains information about the relationship between input, performance, and resulting \n",
       "outcomes or rewards.\n"
      ]
     },
     "metadata": {},
     "output_type": "display_data"
    },
    {
     "data": {
      "text/html": [
       "<pre style=\"white-space:pre;overflow-x:auto;line-height:normal;font-family:Menlo,'DejaVu Sans Mono',consolas,'Courier New',monospace\">  <span style=\"color: #008080; text-decoration-color: #008080\">Propositions </span><span style=\"color: #008080; text-decoration-color: #008080; font-weight: bold\">(</span><span style=\"color: #008080; text-decoration-color: #008080; font-weight: bold\">9</span><span style=\"color: #008080; text-decoration-color: #008080; font-weight: bold\">)</span><span style=\"color: #008080; text-decoration-color: #008080\">:</span>\n",
       "</pre>\n"
      ],
      "text/plain": [
       "  \u001b[36mPropositions \u001b[0m\u001b[1;36m(\u001b[0m\u001b[1;36m9\u001b[0m\u001b[1;36m)\u001b[0m\u001b[36m:\u001b[0m\n"
      ]
     },
     "metadata": {},
     "output_type": "display_data"
    },
    {
     "data": {
      "text/html": [
       "<pre style=\"white-space:pre;overflow-x:auto;line-height:normal;font-family:Menlo,'DejaVu Sans Mono',consolas,'Courier New',monospace\">    - Teachers and coaches implicitly told us that the returns were linear.\n",
       "</pre>\n"
      ],
      "text/plain": [
       "    - Teachers and coaches implicitly told us that the returns were linear.\n"
      ]
     },
     "metadata": {},
     "output_type": "display_data"
    },
    {
     "data": {
      "text/html": [
       "<pre style=\"white-space:pre;overflow-x:auto;line-height:normal;font-family:Menlo,'DejaVu Sans Mono',consolas,'Courier New',monospace\">    - I heard a thousand times that <span style=\"color: #008000; text-decoration-color: #008000\">'You get out what you put in.'</span>\n",
       "</pre>\n"
      ],
      "text/plain": [
       "    - I heard a thousand times that \u001b[32m'You get out what you put in.'\u001b[0m\n"
      ]
     },
     "metadata": {},
     "output_type": "display_data"
    },
    {
     "data": {
      "text/html": [
       "<pre style=\"white-space:pre;overflow-x:auto;line-height:normal;font-family:Menlo,'DejaVu Sans Mono',consolas,'Courier New',monospace\">    - The statement that <span style=\"color: #008000; text-decoration-color: #008000\">'You get out what you put in'</span> is rarely true.\n",
       "</pre>\n"
      ],
      "text/plain": [
       "    - The statement that \u001b[32m'You get out what you put in'\u001b[0m is rarely true.\n"
      ]
     },
     "metadata": {},
     "output_type": "display_data"
    },
    {
     "data": {
      "text/html": [
       "<pre style=\"white-space:pre;overflow-x:auto;line-height:normal;font-family:Menlo,'DejaVu Sans Mono',consolas,'Courier New',monospace\">    - If your product is only half as good as your competitor's product, you do not get half as many customers.\n",
       "</pre>\n"
      ],
      "text/plain": [
       "    - If your product is only half as good as your competitor's product, you do not get half as many customers.\n"
      ]
     },
     "metadata": {},
     "output_type": "display_data"
    },
    {
     "data": {
      "text/html": [
       "<pre style=\"white-space:pre;overflow-x:auto;line-height:normal;font-family:Menlo,'DejaVu Sans Mono',consolas,'Courier New',monospace\">    - You get no customers if your product is only half as good as your competitor's product.\n",
       "</pre>\n"
      ],
      "text/plain": [
       "    - You get no customers if your product is only half as good as your competitor's product.\n"
      ]
     },
     "metadata": {},
     "output_type": "display_data"
    },
    {
     "data": {
      "text/html": [
       "<pre style=\"white-space:pre;overflow-x:auto;line-height:normal;font-family:Menlo,'DejaVu Sans Mono',consolas,'Courier New',monospace\">    - The returns for performance are superlinear in business.\n",
       "</pre>\n"
      ],
      "text/plain": [
       "    - The returns for performance are superlinear in business.\n"
      ]
     },
     "metadata": {},
     "output_type": "display_data"
    },
    {
     "data": {
      "text/html": [
       "<pre style=\"white-space:pre;overflow-x:auto;line-height:normal;font-family:Menlo,'DejaVu Sans Mono',consolas,'Courier New',monospace\">    - Some people think the superlinear returns for performance are a flaw of capitalism.\n",
       "</pre>\n"
      ],
      "text/plain": [
       "    - Some people think the superlinear returns for performance are a flaw of capitalism.\n"
      ]
     },
     "metadata": {},
     "output_type": "display_data"
    },
    {
     "data": {
      "text/html": [
       "<pre style=\"white-space:pre;overflow-x:auto;line-height:normal;font-family:Menlo,'DejaVu Sans Mono',consolas,'Courier New',monospace\">    - Superlinear returns for performance are a feature of the world.\n",
       "</pre>\n"
      ],
      "text/plain": [
       "    - Superlinear returns for performance are a feature of the world.\n"
      ]
     },
     "metadata": {},
     "output_type": "display_data"
    },
    {
     "data": {
      "text/html": [
       "<pre style=\"white-space:pre;overflow-x:auto;line-height:normal;font-family:Menlo,'DejaVu Sans Mono',consolas,'Courier New',monospace\">    - Superlinear returns for performance are not an artifact of rules that humans have invented.\n",
       "</pre>\n"
      ],
      "text/plain": [
       "    - Superlinear returns for performance are not an artifact of rules that humans have invented.\n"
      ]
     },
     "metadata": {},
     "output_type": "display_data"
    },
    {
     "data": {
      "text/html": [
       "<pre style=\"white-space:pre;overflow-x:auto;line-height:normal;font-family:Menlo,'DejaVu Sans Mono',consolas,'Courier New',monospace\">\n",
       "\n",
       "</pre>\n"
      ],
      "text/plain": [
       "\n",
       "\n"
      ]
     },
     "metadata": {},
     "output_type": "display_data"
    },
    {
     "data": {
      "text/html": [
       "<pre style=\"white-space:pre;overflow-x:auto;line-height:normal;font-family:Menlo,'DejaVu Sans Mono',consolas,'Courier New',monospace\"><span style=\"font-weight: bold\">Chunk #</span><span style=\"color: #008080; text-decoration-color: #008080; font-weight: bold\">3</span><span style=\"font-weight: bold\"> - Authority Intentions</span>\n",
       "</pre>\n"
      ],
      "text/plain": [
       "\u001b[1mChunk #\u001b[0m\u001b[1;36m3\u001b[0m\u001b[1m - Authority Intentions\u001b[0m\n"
      ]
     },
     "metadata": {},
     "output_type": "display_data"
    },
    {
     "data": {
      "text/html": [
       "<pre style=\"white-space:pre;overflow-x:auto;line-height:normal;font-family:Menlo,'DejaVu Sans Mono',consolas,'Courier New',monospace\">  <span style=\"color: #008080; text-decoration-color: #008080\">ID:</span> <span style=\"color: #008080; text-decoration-color: #008080; font-weight: bold\">6e307</span>\n",
       "</pre>\n"
      ],
      "text/plain": [
       "  \u001b[36mID:\u001b[0m \u001b[1;36m6e307\u001b[0m\n"
      ]
     },
     "metadata": {},
     "output_type": "display_data"
    },
    {
     "data": {
      "text/html": [
       "<pre style=\"white-space:pre;overflow-x:auto;line-height:normal;font-family:Menlo,'DejaVu Sans Mono',consolas,'Courier New',monospace\">  <span style=\"color: #008080; text-decoration-color: #008080\">Summary:</span> This chunk contains information about the intentions and behaviors of authority figures.\n",
       "</pre>\n"
      ],
      "text/plain": [
       "  \u001b[36mSummary:\u001b[0m This chunk contains information about the intentions and behaviors of authority figures.\n"
      ]
     },
     "metadata": {},
     "output_type": "display_data"
    },
    {
     "data": {
      "text/html": [
       "<pre style=\"white-space:pre;overflow-x:auto;line-height:normal;font-family:Menlo,'DejaVu Sans Mono',consolas,'Courier New',monospace\">  <span style=\"color: #008080; text-decoration-color: #008080\">Propositions </span><span style=\"color: #008080; text-decoration-color: #008080; font-weight: bold\">(</span><span style=\"color: #008080; text-decoration-color: #008080; font-weight: bold\">1</span><span style=\"color: #008080; text-decoration-color: #008080; font-weight: bold\">)</span><span style=\"color: #008080; text-decoration-color: #008080\">:</span>\n",
       "</pre>\n"
      ],
      "text/plain": [
       "  \u001b[36mPropositions \u001b[0m\u001b[1;36m(\u001b[0m\u001b[1;36m1\u001b[0m\u001b[1;36m)\u001b[0m\u001b[36m:\u001b[0m\n"
      ]
     },
     "metadata": {},
     "output_type": "display_data"
    },
    {
     "data": {
      "text/html": [
       "<pre style=\"white-space:pre;overflow-x:auto;line-height:normal;font-family:Menlo,'DejaVu Sans Mono',consolas,'Courier New',monospace\">    - Teachers and coaches meant well.\n",
       "</pre>\n"
      ],
      "text/plain": [
       "    - Teachers and coaches meant well.\n"
      ]
     },
     "metadata": {},
     "output_type": "display_data"
    },
    {
     "data": {
      "text/html": [
       "<pre style=\"white-space:pre;overflow-x:auto;line-height:normal;font-family:Menlo,'DejaVu Sans Mono',consolas,'Courier New',monospace\">\n",
       "\n",
       "</pre>\n"
      ],
      "text/plain": [
       "\n",
       "\n"
      ]
     },
     "metadata": {},
     "output_type": "display_data"
    },
    {
     "data": {
      "text/html": [
       "<pre style=\"white-space:pre;overflow-x:auto;line-height:normal;font-family:Menlo,'DejaVu Sans Mono',consolas,'Courier New',monospace\"><span style=\"font-weight: bold\">Chunk #</span><span style=\"color: #008080; text-decoration-color: #008080; font-weight: bold\">4</span><span style=\"font-weight: bold\"> - Customer Importance</span>\n",
       "</pre>\n"
      ],
      "text/plain": [
       "\u001b[1mChunk #\u001b[0m\u001b[1;36m4\u001b[0m\u001b[1m - Customer Importance\u001b[0m\n"
      ]
     },
     "metadata": {},
     "output_type": "display_data"
    },
    {
     "data": {
      "text/html": [
       "<pre style=\"white-space:pre;overflow-x:auto;line-height:normal;font-family:Menlo,'DejaVu Sans Mono',consolas,'Courier New',monospace\">  <span style=\"color: #008080; text-decoration-color: #008080\">ID:</span> 5dad3\n",
       "</pre>\n"
      ],
      "text/plain": [
       "  \u001b[36mID:\u001b[0m 5dad3\n"
      ]
     },
     "metadata": {},
     "output_type": "display_data"
    },
    {
     "data": {
      "text/html": [
       "<pre style=\"white-space:pre;overflow-x:auto;line-height:normal;font-family:Menlo,'DejaVu Sans Mono',consolas,'Courier New',monospace\">  <span style=\"color: #008080; text-decoration-color: #008080\">Summary:</span> This chunk contains information about the importance of customers for business success.\n",
       "</pre>\n"
      ],
      "text/plain": [
       "  \u001b[36mSummary:\u001b[0m This chunk contains information about the importance of customers for business success.\n"
      ]
     },
     "metadata": {},
     "output_type": "display_data"
    },
    {
     "data": {
      "text/html": [
       "<pre style=\"white-space:pre;overflow-x:auto;line-height:normal;font-family:Menlo,'DejaVu Sans Mono',consolas,'Courier New',monospace\">  <span style=\"color: #008080; text-decoration-color: #008080\">Propositions </span><span style=\"color: #008080; text-decoration-color: #008080; font-weight: bold\">(</span><span style=\"color: #008080; text-decoration-color: #008080; font-weight: bold\">1</span><span style=\"color: #008080; text-decoration-color: #008080; font-weight: bold\">)</span><span style=\"color: #008080; text-decoration-color: #008080\">:</span>\n",
       "</pre>\n"
      ],
      "text/plain": [
       "  \u001b[36mPropositions \u001b[0m\u001b[1;36m(\u001b[0m\u001b[1;36m1\u001b[0m\u001b[1;36m)\u001b[0m\u001b[36m:\u001b[0m\n"
      ]
     },
     "metadata": {},
     "output_type": "display_data"
    },
    {
     "data": {
      "text/html": [
       "<pre style=\"white-space:pre;overflow-x:auto;line-height:normal;font-family:Menlo,'DejaVu Sans Mono',consolas,'Courier New',monospace\">    - You go out of business if you get no customers.\n",
       "</pre>\n"
      ],
      "text/plain": [
       "    - You go out of business if you get no customers.\n"
      ]
     },
     "metadata": {},
     "output_type": "display_data"
    },
    {
     "data": {
      "text/html": [
       "<pre style=\"white-space:pre;overflow-x:auto;line-height:normal;font-family:Menlo,'DejaVu Sans Mono',consolas,'Courier New',monospace\">\n",
       "\n",
       "</pre>\n"
      ],
      "text/plain": [
       "\n",
       "\n"
      ]
     },
     "metadata": {},
     "output_type": "display_data"
    },
    {
     "data": {
      "text/html": [
       "<pre style=\"white-space:pre;overflow-x:auto;line-height:normal;font-family:Menlo,'DejaVu Sans Mono',consolas,'Courier New',monospace\"><span style=\"font-weight: bold\">Chunk #</span><span style=\"color: #008080; text-decoration-color: #008080; font-weight: bold\">5</span><span style=\"font-weight: bold\"> - Economic Reforms</span>\n",
       "</pre>\n"
      ],
      "text/plain": [
       "\u001b[1mChunk #\u001b[0m\u001b[1;36m5\u001b[0m\u001b[1m - Economic Reforms\u001b[0m\n"
      ]
     },
     "metadata": {},
     "output_type": "display_data"
    },
    {
     "data": {
      "text/html": [
       "<pre style=\"white-space:pre;overflow-x:auto;line-height:normal;font-family:Menlo,'DejaVu Sans Mono',consolas,'Courier New',monospace\">  <span style=\"color: #008080; text-decoration-color: #008080\">ID:</span> 5a1c0\n",
       "</pre>\n"
      ],
      "text/plain": [
       "  \u001b[36mID:\u001b[0m 5a1c0\n"
      ]
     },
     "metadata": {},
     "output_type": "display_data"
    },
    {
     "data": {
      "text/html": [
       "<pre style=\"white-space:pre;overflow-x:auto;line-height:normal;font-family:Menlo,'DejaVu Sans Mono',consolas,'Courier New',monospace\">  <span style=\"color: #008080; text-decoration-color: #008080\">Summary:</span> This chunk contains information about proposed reforms to economic systems and their potential \n",
       "consequences.\n",
       "</pre>\n"
      ],
      "text/plain": [
       "  \u001b[36mSummary:\u001b[0m This chunk contains information about proposed reforms to economic systems and their potential \n",
       "consequences.\n"
      ]
     },
     "metadata": {},
     "output_type": "display_data"
    },
    {
     "data": {
      "text/html": [
       "<pre style=\"white-space:pre;overflow-x:auto;line-height:normal;font-family:Menlo,'DejaVu Sans Mono',consolas,'Courier New',monospace\">  <span style=\"color: #008080; text-decoration-color: #008080\">Propositions </span><span style=\"color: #008080; text-decoration-color: #008080; font-weight: bold\">(</span><span style=\"color: #008080; text-decoration-color: #008080; font-weight: bold\">1</span><span style=\"color: #008080; text-decoration-color: #008080; font-weight: bold\">)</span><span style=\"color: #008080; text-decoration-color: #008080\">:</span>\n",
       "</pre>\n"
      ],
      "text/plain": [
       "  \u001b[36mPropositions \u001b[0m\u001b[1;36m(\u001b[0m\u001b[1;36m1\u001b[0m\u001b[1;36m)\u001b[0m\u001b[36m:\u001b[0m\n"
      ]
     },
     "metadata": {},
     "output_type": "display_data"
    },
    {
     "data": {
      "text/html": [
       "<pre style=\"white-space:pre;overflow-x:auto;line-height:normal;font-family:Menlo,'DejaVu Sans Mono',consolas,'Courier New',monospace\">    - Some people think that changing the rules of capitalism would stop the superlinear returns for performance \n",
       "from being true.\n",
       "</pre>\n"
      ],
      "text/plain": [
       "    - Some people think that changing the rules of capitalism would stop the superlinear returns for performance \n",
       "from being true.\n"
      ]
     },
     "metadata": {},
     "output_type": "display_data"
    },
    {
     "data": {
      "text/html": [
       "<pre style=\"white-space:pre;overflow-x:auto;line-height:normal;font-family:Menlo,'DejaVu Sans Mono',consolas,'Courier New',monospace\">\n",
       "\n",
       "</pre>\n"
      ],
      "text/plain": [
       "\n",
       "\n"
      ]
     },
     "metadata": {},
     "output_type": "display_data"
    },
    {
     "data": {
      "text/html": [
       "<pre style=\"white-space:pre;overflow-x:auto;line-height:normal;font-family:Menlo,'DejaVu Sans Mono',consolas,'Courier New',monospace\"><span style=\"font-weight: bold\">Chunk #</span><span style=\"color: #008080; text-decoration-color: #008080; font-weight: bold\">6</span><span style=\"font-weight: bold\"> - Superlinear Returns in Life &amp; Society</span>\n",
       "</pre>\n"
      ],
      "text/plain": [
       "\u001b[1mChunk #\u001b[0m\u001b[1;36m6\u001b[0m\u001b[1m - Superlinear Returns in Life & Society\u001b[0m\n"
      ]
     },
     "metadata": {},
     "output_type": "display_data"
    },
    {
     "data": {
      "text/html": [
       "<pre style=\"white-space:pre;overflow-x:auto;line-height:normal;font-family:Menlo,'DejaVu Sans Mono',consolas,'Courier New',monospace\">  <span style=\"color: #008080; text-decoration-color: #008080\">ID:</span> 33beb\n",
       "</pre>\n"
      ],
      "text/plain": [
       "  \u001b[36mID:\u001b[0m 33beb\n"
      ]
     },
     "metadata": {},
     "output_type": "display_data"
    },
    {
     "data": {
      "text/html": [
       "<pre style=\"white-space:pre;overflow-x:auto;line-height:normal;font-family:Menlo,'DejaVu Sans Mono',consolas,'Courier New',monospace\">  <span style=\"color: #008080; text-decoration-color: #008080\">Summary:</span> This chunk contains information about the phenomenon of superlinear returns across various aspects of \n",
       "life, human achievement, and societal progress.\n",
       "</pre>\n"
      ],
      "text/plain": [
       "  \u001b[36mSummary:\u001b[0m This chunk contains information about the phenomenon of superlinear returns across various aspects of \n",
       "life, human achievement, and societal progress.\n"
      ]
     },
     "metadata": {},
     "output_type": "display_data"
    },
    {
     "data": {
      "text/html": [
       "<pre style=\"white-space:pre;overflow-x:auto;line-height:normal;font-family:Menlo,'DejaVu Sans Mono',consolas,'Courier New',monospace\">  <span style=\"color: #008080; text-decoration-color: #008080\">Propositions </span><span style=\"color: #008080; text-decoration-color: #008080; font-weight: bold\">(</span><span style=\"color: #008080; text-decoration-color: #008080; font-weight: bold\">6</span><span style=\"color: #008080; text-decoration-color: #008080; font-weight: bold\">)</span><span style=\"color: #008080; text-decoration-color: #008080\">:</span>\n",
       "</pre>\n"
      ],
      "text/plain": [
       "  \u001b[36mPropositions \u001b[0m\u001b[1;36m(\u001b[0m\u001b[1;36m6\u001b[0m\u001b[1;36m)\u001b[0m\u001b[36m:\u001b[0m\n"
      ]
     },
     "metadata": {},
     "output_type": "display_data"
    },
    {
     "data": {
      "text/html": [
       "<pre style=\"white-space:pre;overflow-x:auto;line-height:normal;font-family:Menlo,'DejaVu Sans Mono',consolas,'Courier New',monospace\">    - The same pattern of superlinear returns is observed in fame.\n",
       "</pre>\n"
      ],
      "text/plain": [
       "    - The same pattern of superlinear returns is observed in fame.\n"
      ]
     },
     "metadata": {},
     "output_type": "display_data"
    },
    {
     "data": {
      "text/html": [
       "<pre style=\"white-space:pre;overflow-x:auto;line-height:normal;font-family:Menlo,'DejaVu Sans Mono',consolas,'Courier New',monospace\">    - The same pattern of superlinear returns is observed in power.\n",
       "</pre>\n"
      ],
      "text/plain": [
       "    - The same pattern of superlinear returns is observed in power.\n"
      ]
     },
     "metadata": {},
     "output_type": "display_data"
    },
    {
     "data": {
      "text/html": [
       "<pre style=\"white-space:pre;overflow-x:auto;line-height:normal;font-family:Menlo,'DejaVu Sans Mono',consolas,'Courier New',monospace\">    - The same pattern of superlinear returns is observed in military victories.\n",
       "</pre>\n"
      ],
      "text/plain": [
       "    - The same pattern of superlinear returns is observed in military victories.\n"
      ]
     },
     "metadata": {},
     "output_type": "display_data"
    },
    {
     "data": {
      "text/html": [
       "<pre style=\"white-space:pre;overflow-x:auto;line-height:normal;font-family:Menlo,'DejaVu Sans Mono',consolas,'Courier New',monospace\">    - The same pattern of superlinear returns is observed in knowledge.\n",
       "</pre>\n"
      ],
      "text/plain": [
       "    - The same pattern of superlinear returns is observed in knowledge.\n"
      ]
     },
     "metadata": {},
     "output_type": "display_data"
    },
    {
     "data": {
      "text/html": [
       "<pre style=\"white-space:pre;overflow-x:auto;line-height:normal;font-family:Menlo,'DejaVu Sans Mono',consolas,'Courier New',monospace\">    - The same pattern of superlinear returns is observed in benefit to humanity.\n",
       "</pre>\n"
      ],
      "text/plain": [
       "    - The same pattern of superlinear returns is observed in benefit to humanity.\n"
      ]
     },
     "metadata": {},
     "output_type": "display_data"
    },
    {
     "data": {
      "text/html": [
       "<pre style=\"white-space:pre;overflow-x:auto;line-height:normal;font-family:Menlo,'DejaVu Sans Mono',consolas,'Courier New',monospace\">    - In fame, power, military victories, knowledge, and benefit to humanity, the rich get richer.\n",
       "</pre>\n"
      ],
      "text/plain": [
       "    - In fame, power, military victories, knowledge, and benefit to humanity, the rich get richer.\n"
      ]
     },
     "metadata": {},
     "output_type": "display_data"
    },
    {
     "data": {
      "text/html": [
       "<pre style=\"white-space:pre;overflow-x:auto;line-height:normal;font-family:Menlo,'DejaVu Sans Mono',consolas,'Courier New',monospace\">\n",
       "\n",
       "</pre>\n"
      ],
      "text/plain": [
       "\n",
       "\n"
      ]
     },
     "metadata": {},
     "output_type": "display_data"
    },
    {
     "data": {
      "text/html": [
       "<pre style=\"white-space:pre;overflow-x:auto;line-height:normal;font-family:Menlo,'DejaVu Sans Mono',consolas,'Courier New',monospace\"><span style=\"font-weight: bold; text-decoration: underline\">Final Chunk Outline</span>\n",
       "\n",
       "</pre>\n"
      ],
      "text/plain": [
       "\u001b[1;4mFinal Chunk Outline\u001b[0m\n",
       "\n"
      ]
     },
     "metadata": {},
     "output_type": "display_data"
    },
    {
     "data": {
      "text/html": [
       "<pre style=\"white-space:pre;overflow-x:auto;line-height:normal;font-family:Menlo,'DejaVu Sans Mono',consolas,'Courier New',monospace\">Chunk <span style=\"font-weight: bold\">(</span>4846d<span style=\"font-weight: bold\">)</span>: Date &amp; Times\n",
       "Summary: This chunk contains information about specific dates and times mentioned in the text, including months and\n",
       "years.\n",
       "\n",
       "Chunk <span style=\"font-weight: bold\">(</span><span style=\"color: #008080; text-decoration-color: #008080; font-weight: bold\">12544</span><span style=\"font-weight: bold\">)</span>: Life Realizations\n",
       "Summary: This chunk contains insights and realizations people had about the world as they grew and matured.\n",
       "\n",
       "Chunk <span style=\"font-weight: bold\">(</span>580ea<span style=\"font-weight: bold\">)</span>: Input &amp; Outcome\n",
       "Summary: This chunk contains information about the relationship between input, performance, and resulting outcomes \n",
       "or rewards.\n",
       "\n",
       "Chunk <span style=\"font-weight: bold\">(</span><span style=\"color: #008080; text-decoration-color: #008080; font-weight: bold\">6e307</span><span style=\"font-weight: bold\">)</span>: Authority Intentions\n",
       "Summary: This chunk contains information about the intentions and behaviors of authority figures.\n",
       "\n",
       "Chunk <span style=\"font-weight: bold\">(</span>5dad3<span style=\"font-weight: bold\">)</span>: Customer Importance\n",
       "Summary: This chunk contains information about the importance of customers for business success.\n",
       "\n",
       "Chunk <span style=\"font-weight: bold\">(</span>5a1c0<span style=\"font-weight: bold\">)</span>: Economic Reforms\n",
       "Summary: This chunk contains information about proposed reforms to economic systems and their potential \n",
       "consequences.\n",
       "\n",
       "Chunk <span style=\"font-weight: bold\">(</span>33beb<span style=\"font-weight: bold\">)</span>: Superlinear Returns in Life &amp; Society\n",
       "Summary: This chunk contains information about the phenomenon of superlinear returns across various aspects of \n",
       "life, human achievement, and societal progress.\n",
       "\n",
       "\n",
       "</pre>\n"
      ],
      "text/plain": [
       "Chunk \u001b[1m(\u001b[0m4846d\u001b[1m)\u001b[0m: Date & Times\n",
       "Summary: This chunk contains information about specific dates and times mentioned in the text, including months and\n",
       "years.\n",
       "\n",
       "Chunk \u001b[1m(\u001b[0m\u001b[1;36m12544\u001b[0m\u001b[1m)\u001b[0m: Life Realizations\n",
       "Summary: This chunk contains insights and realizations people had about the world as they grew and matured.\n",
       "\n",
       "Chunk \u001b[1m(\u001b[0m580ea\u001b[1m)\u001b[0m: Input & Outcome\n",
       "Summary: This chunk contains information about the relationship between input, performance, and resulting outcomes \n",
       "or rewards.\n",
       "\n",
       "Chunk \u001b[1m(\u001b[0m\u001b[1;36m6e307\u001b[0m\u001b[1m)\u001b[0m: Authority Intentions\n",
       "Summary: This chunk contains information about the intentions and behaviors of authority figures.\n",
       "\n",
       "Chunk \u001b[1m(\u001b[0m5dad3\u001b[1m)\u001b[0m: Customer Importance\n",
       "Summary: This chunk contains information about the importance of customers for business success.\n",
       "\n",
       "Chunk \u001b[1m(\u001b[0m5a1c0\u001b[1m)\u001b[0m: Economic Reforms\n",
       "Summary: This chunk contains information about proposed reforms to economic systems and their potential \n",
       "consequences.\n",
       "\n",
       "Chunk \u001b[1m(\u001b[0m33beb\u001b[1m)\u001b[0m: Superlinear Returns in Life & Society\n",
       "Summary: This chunk contains information about the phenomenon of superlinear returns across various aspects of \n",
       "life, human achievement, and societal progress.\n",
       "\n",
       "\n"
      ]
     },
     "metadata": {},
     "output_type": "display_data"
    }
   ],
   "source": [
    "import uuid\n",
    "import os\n",
    "from typing import Optional\n",
    "\n",
    "from langchain_core.prompts import ChatPromptTemplate\n",
    "from langchain_groq import ChatGroq\n",
    "from pydantic import BaseModel  # <-- THIS IS THE CORRECTED LINE\n",
    "from langchain_core.output_parsers import PydanticOutputParser\n",
    "# from dotenv import load_dotenv\n",
    "from rich import print\n",
    "\n",
    "class AgenticChunker:\n",
    "    def __init__(self, groq_api_key=None):\n",
    "        \"\"\"\n",
    "        Initializes the AgenticChunker.\n",
    "        It's recommended to set the GROQ_API_KEY in a .env file.\n",
    "        \"\"\"\n",
    "        # load_dotenv() # Loads environment variables from a .env file\n",
    "        \n",
    "        self.chunks = {}\n",
    "        self.id_truncate_limit = 5\n",
    "\n",
    "        # Whether or not to update/refine summaries and titles as you get new information\n",
    "        self.generate_new_metadata_ind = True\n",
    "        self.print_logging = True\n",
    "\n",
    "        # if groq_api_key is None:\n",
    "        #     groq_api_key = os.getenv(\"GROQ_API_KEY\")\n",
    "\n",
    "        # if groq_api_key is None:\n",
    "        #     raise ValueError(\"Groq API key is not provided. Please set it as an environment variable 'GROQ_API_KEY' in a .env file.\")\n",
    "\n",
    "        self.llm  = ChatGroq(\n",
    "            temperature=0.2,\n",
    "            model_name=\"llama3-70b-8192\", # Recommended model for this complexity\n",
    "            api_key=\"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\"\n",
    "        )\n",
    "\n",
    "    def add_propositions(self, propositions):\n",
    "        for proposition in propositions:\n",
    "            self.add_proposition(proposition)\n",
    "    \n",
    "    def add_proposition(self, proposition):\n",
    "        if self.print_logging:\n",
    "            print (f\"\\n[bold]Adding[/bold]: '{proposition}'\")\n",
    "\n",
    "        # If it's your first chunk, just make a new chunk and don't check for others\n",
    "        if len(self.chunks) == 0:\n",
    "            if self.print_logging:\n",
    "                print (\"[italic]No chunks exist, creating a new one...[/italic]\")\n",
    "            self._create_new_chunk(proposition)\n",
    "            return\n",
    "\n",
    "        chunk_id = self._find_relevant_chunk(proposition)\n",
    "\n",
    "        # If a chunk was found then add the proposition to it\n",
    "        if chunk_id:\n",
    "            if self.print_logging:\n",
    "                print (f\"[green]Chunk Found ({self.chunks[chunk_id]['chunk_id']}), adding to: {self.chunks[chunk_id]['title']}[/green]\")\n",
    "            self.add_proposition_to_chunk(chunk_id, proposition)\n",
    "            return\n",
    "        else:\n",
    "            if self.print_logging:\n",
    "                print (\"[yellow]No relevant chunk found, creating a new one...[/yellow]\")\n",
    "            # If a chunk wasn't found, then create a new one\n",
    "            self._create_new_chunk(proposition)\n",
    "        \n",
    "    def add_proposition_to_chunk(self, chunk_id, proposition):\n",
    "        # Add proposition\n",
    "        self.chunks[chunk_id]['propositions'].append(proposition)\n",
    "\n",
    "        # Update summary and title\n",
    "        if self.generate_new_metadata_ind:\n",
    "            self.chunks[chunk_id]['summary'] = self._update_chunk_summary(self.chunks[chunk_id])\n",
    "            self.chunks[chunk_id]['title'] = self._update_chunk_title(self.chunks[chunk_id])\n",
    "\n",
    "    def _update_chunk_summary(self, chunk):\n",
    "        \"\"\"\n",
    "        If you add a new proposition to a chunk, you may want to update the summary or else they could get stale\n",
    "        \"\"\"\n",
    "        PROMPT = ChatPromptTemplate.from_messages(\n",
    "            [\n",
    "                (\n",
    "                    \"system\",\n",
    "                    \"\"\"\n",
    "                    You are the steward of a group of chunks which represent groups of sentences that talk about a similar topic.\n",
    "                    A new proposition was just added to one of your chunks. Generate a very brief, 1-sentence summary for the chunk.\n",
    "                    A good summary will say what the chunk is about and give clarifying instructions on what else to add.\n",
    "                    Your summaries should anticipate generalization. If you get a proposition about apples, generalize it to food.\n",
    "                    Or a month, generalize it to \"date and times\".\n",
    "\n",
    "                    Example:\n",
    "                    Input: Proposition: Greg likes to eat pizza\n",
    "                    Output: This chunk contains information about the types of food Greg likes to eat.\n",
    "\n",
    "                    Only respond with the new chunk summary, nothing else.\n",
    "                    \"\"\",\n",
    "                ),\n",
    "                (\"user\", \"Chunk's propositions:\\n{propositions}\\n\\nCurrent chunk summary:\\n{current_summary}\"),\n",
    "            ]\n",
    "        )\n",
    "\n",
    "        runnable = PROMPT | self.llm\n",
    "\n",
    "        new_chunk_summary = runnable.invoke({\n",
    "            \"propositions\": \"\\n\".join(chunk['propositions']),\n",
    "            \"current_summary\" : chunk['summary']\n",
    "        }).content\n",
    "\n",
    "        return new_chunk_summary\n",
    "    \n",
    "    def _update_chunk_title(self, chunk):\n",
    "        \"\"\"\n",
    "        If you add a new proposition to a chunk, you may want to update the title or else it can get stale\n",
    "        \"\"\"\n",
    "        PROMPT = ChatPromptTemplate.from_messages(\n",
    "            [\n",
    "                (\n",
    "                    \"system\",\n",
    "                    \"\"\"\n",
    "                    You are the steward of a group of chunks which represent groups of sentences that talk about a similar topic.\n",
    "                    A new proposition was just added to one of your chunks. Generate a very brief, updated chunk title.\n",
    "                    A good title will say what the chunk is about.\n",
    "                    Your titles should anticipate generalization. If you get a proposition about apples, generalize it to food.\n",
    "                    Or a month, generalize it to \"date and times\".\n",
    "\n",
    "                    Example:\n",
    "                    Input: Summary: This chunk is about dates and times that the author talks about\n",
    "                    Output: Date & Times\n",
    "\n",
    "                    Only respond with the new chunk title, nothing else.\n",
    "                    \"\"\",\n",
    "                ),\n",
    "                (\"user\", \"Chunk's propositions:\\n{propositions}\\n\\nChunk summary:\\n{current_summary}\\n\\nCurrent chunk title:\\n{current_title}\"),\n",
    "            ]\n",
    "        )\n",
    "\n",
    "        runnable = PROMPT | self.llm\n",
    "\n",
    "        updated_chunk_title = runnable.invoke({\n",
    "            \"propositions\": \"\\n\".join(chunk['propositions']),\n",
    "            \"current_summary\" : chunk['summary'],\n",
    "            \"current_title\" : chunk['title']\n",
    "        }).content\n",
    "\n",
    "        return updated_chunk_title\n",
    "\n",
    "    def _get_new_chunk_summary(self, proposition):\n",
    "        PROMPT = ChatPromptTemplate.from_messages(\n",
    "            [\n",
    "                (\n",
    "                    \"system\",\n",
    "                    \"\"\"\n",
    "                    You are the steward of a group of chunks which represent groups of sentences that talk about a similar topic.\n",
    "                    Generate a very brief, 1-sentence summary for a new chunk based on the given proposition.\n",
    "                    A good summary will say what the chunk is about and give clarifying instructions on what else to add.\n",
    "                    Your summaries should anticipate generalization. If you get a proposition about apples, generalize it to food.\n",
    "                    Or a month, generalize it to \"date and times\".\n",
    "\n",
    "                    Example:\n",
    "                    Input: Proposition: Greg likes to eat pizza\n",
    "                    Output: This chunk contains information about the types of food Greg likes to eat.\n",
    "\n",
    "                    Only respond with the new chunk summary, nothing else.\n",
    "                    \"\"\",\n",
    "                ),\n",
    "                (\"user\", \"Determine the summary of the new chunk that this proposition will go into:\\n{proposition}\"),\n",
    "            ]\n",
    "        )\n",
    "\n",
    "        runnable = PROMPT | self.llm\n",
    "        return runnable.invoke({\"proposition\": proposition}).content\n",
    "    \n",
    "    def _get_new_chunk_title(self, summary):\n",
    "        PROMPT = ChatPromptTemplate.from_messages(\n",
    "            [\n",
    "                (\n",
    "                    \"system\",\n",
    "                    \"\"\"\n",
    "                    You are the steward of a group of chunks which represent groups of sentences that talk about a similar topic.\n",
    "                    Generate a very brief, few-word chunk title based on the given chunk summary.\n",
    "                    A good chunk title is brief but encompasses what the chunk is about.\n",
    "                    Your titles should anticipate generalization.\n",
    "\n",
    "                    Example:\n",
    "                    Input: Summary: This chunk is about dates and times that the author talks about.\n",
    "                    Output: Date & Times\n",
    "\n",
    "                    Only respond with the new chunk title, nothing else.\n",
    "                    \"\"\",\n",
    "                ),\n",
    "                (\"user\", \"Determine the title of the chunk that this summary belongs to:\\n{summary}\"),\n",
    "            ]\n",
    "        )\n",
    "\n",
    "        runnable = PROMPT | self.llm\n",
    "        return runnable.invoke({\"summary\": summary}).content\n",
    "\n",
    "    def _create_new_chunk(self, proposition):\n",
    "        new_chunk_id = str(uuid.uuid4())[:self.id_truncate_limit]\n",
    "        new_chunk_summary = self._get_new_chunk_summary(proposition)\n",
    "        new_chunk_title = self._get_new_chunk_title(new_chunk_summary)\n",
    "\n",
    "        self.chunks[new_chunk_id] = {\n",
    "            'chunk_id' : new_chunk_id,\n",
    "            'propositions': [proposition],\n",
    "            'title' : new_chunk_title,\n",
    "            'summary': new_chunk_summary,\n",
    "            'chunk_index' : len(self.chunks)\n",
    "        }\n",
    "        if self.print_logging:\n",
    "            print (f\"[bold blue]Created new chunk ({new_chunk_id}): {new_chunk_title}[/bold blue]\")\n",
    "    \n",
    "    def get_chunk_outline(self):\n",
    "        \"\"\"\n",
    "        Get a string which represents the chunks you currently have.\n",
    "        \"\"\"\n",
    "        if not self.chunks:\n",
    "            return \"No chunks yet.\"\n",
    "            \n",
    "        chunk_outline = \"\"\n",
    "        for chunk_id, chunk in self.chunks.items():\n",
    "            single_chunk_string = f\"\"\"Chunk ({chunk['chunk_id']}): {chunk['title']}\\nSummary: {chunk['summary']}\\n\\n\"\"\"\n",
    "            chunk_outline += single_chunk_string\n",
    "        return chunk_outline\n",
    "\n",
    "    def _find_relevant_chunk(self, proposition):\n",
    "        current_chunk_outline = self.get_chunk_outline()\n",
    "\n",
    "        PROMPT = ChatPromptTemplate.from_messages(\n",
    "            [\n",
    "                (\n",
    "                    \"system\",\n",
    "                    \"\"\"\n",
    "                    Determine if the \"Proposition\" belongs to any existing chunks based on semantic similarity.\n",
    "                    If it belongs, return ONLY the chunk_id.\n",
    "                    If not, return ONLY the string \"No chunks\".\n",
    "                    \n",
    "                    Example 1:\n",
    "                    Proposition: \"Greg really likes hamburgers\"\n",
    "                    Current Chunks:\n",
    "                    Chunk (2n4l3): Places in San Francisco\n",
    "                    Summary: Things to do in San Francisco.\n",
    "                    \n",
    "                    Chunk (9383k): Food Greg Likes\n",
    "                    Summary: Lists of food and dishes that Greg likes.\n",
    "                    Output: 9383k\n",
    "\n",
    "                    Example 2:\n",
    "                    Proposition: \"The sky is blue.\"\n",
    "                    Current Chunks:\n",
    "                    Chunk (9383k): Food Greg Likes\n",
    "                    Summary: Lists of food and dishes that Greg likes.\n",
    "                    Output: No chunks\n",
    "                    \"\"\",\n",
    "                ),\n",
    "                (\"user\", \"Current Chunks:\\n---\\n{current_chunk_outline}\\n---\\nProposition to evaluate: '{proposition}'\"),\n",
    "            ]\n",
    "        )\n",
    "\n",
    "        runnable = PROMPT | self.llm\n",
    "        chunk_found_response = runnable.invoke({\n",
    "            \"proposition\": proposition,\n",
    "            \"current_chunk_outline\": current_chunk_outline\n",
    "        }).content\n",
    "\n",
    "        class ChunkID(BaseModel):\n",
    "            \"\"\"Extracting the chunk id\"\"\"\n",
    "            chunk_id: Optional[str] = None\n",
    "\n",
    "        parser = PydanticOutputParser(pydantic_object=ChunkID)\n",
    "\n",
    "        extraction_prompt = ChatPromptTemplate.from_template(\n",
    "            \"\"\"\n",
    "            Parse the user's text to find a chunk ID. The chunk ID is a short alphanumeric string. \n",
    "            If no chunk ID is found, return null for the chunk_id field.\n",
    "            {format_instructions}\n",
    "            Text to parse:\n",
    "            {text_to_parse}\n",
    "            \"\"\",\n",
    "            partial_variables={\"format_instructions\": parser.get_format_instructions()},\n",
    "        )\n",
    "\n",
    "        extraction_chain = extraction_prompt | self.llm | parser\n",
    "\n",
    "        try:\n",
    "            parsed_result = extraction_chain.invoke({\"text_to_parse\": chunk_found_response})\n",
    "            chunk_found = parsed_result.chunk_id\n",
    "        except Exception as e:\n",
    "            if self.print_logging:\n",
    "                print(f\"[red]Could not parse chunk ID from response: '{chunk_found_response}'. Error: {e}[/red]\")\n",
    "            chunk_found = None\n",
    "\n",
    "        if chunk_found is None or chunk_found not in self.chunks:\n",
    "            return None\n",
    "\n",
    "        return chunk_found\n",
    "    \n",
    "    def get_chunks(self, get_type='dict'):\n",
    "        \"\"\"\n",
    "        Returns chunks as a dictionary or a list of joined strings.\n",
    "        \"\"\"\n",
    "        if get_type == 'dict':\n",
    "            return self.chunks\n",
    "        if get_type == 'list_of_strings':\n",
    "            return [\" \".join(chunk['propositions']) for chunk in self.chunks.values()]\n",
    "        return self.chunks\n",
    "    \n",
    "    def pretty_print_chunks(self):\n",
    "        print(f\"\\n\\n[bold underline]Final Chunks ({len(self.chunks)} total)[/bold underline]\\n\")\n",
    "        for chunk_id, chunk in self.chunks.items():\n",
    "            print(f\"[bold]Chunk #{chunk['chunk_index']} - {chunk['title']}[/bold]\")\n",
    "            print(f\"  [cyan]ID:[/cyan] {chunk_id}\")\n",
    "            print(f\"  [cyan]Summary:[/cyan] {chunk['summary']}\")\n",
    "            print(f\"  [cyan]Propositions ({len(chunk['propositions'])}):[/cyan]\")\n",
    "            for prop in chunk['propositions']:\n",
    "                print(f\"    - {prop}\")\n",
    "            print(\"\\n\")\n",
    "\n",
    "    def pretty_print_chunk_outline(self):\n",
    "        print(\"[bold underline]Final Chunk Outline[/bold underline]\\n\")\n",
    "        print(self.get_chunk_outline())\n",
    "\n",
    "\n",
    "if __name__ == \"__main__\":\n",
    "    ac = AgenticChunker()\n",
    "\n",
    "    propositions = [\n",
    "        'The month is October.',\n",
    "        'The year is 2023.',\n",
    "        \"One of the most important things that I didn't understand about the world as a child was the degree to which the returns for performance are superlinear.\",\n",
    "        'Teachers and coaches implicitly told us that the returns were linear.',\n",
    "        \"I heard a thousand times that 'You get out what you put in.'\",\n",
    "        'Teachers and coaches meant well.',\n",
    "        \"The statement that 'You get out what you put in' is rarely true.\",\n",
    "        \"If your product is only half as good as your competitor's product, you do not get half as many customers.\",\n",
    "        \"You get no customers if your product is only half as good as your competitor's product.\",\n",
    "        'You go out of business if you get no customers.',\n",
    "        'The returns for performance are superlinear in business.',\n",
    "        'Some people think the superlinear returns for performance are a flaw of capitalism.',\n",
    "        'Some people think that changing the rules of capitalism would stop the superlinear returns for performance from being true.',\n",
    "        'Superlinear returns for performance are a feature of the world.',\n",
    "        'Superlinear returns for performance are not an artifact of rules that humans have invented.',\n",
    "        'The same pattern of superlinear returns is observed in fame.',\n",
    "        'The same pattern of superlinear returns is observed in power.',\n",
    "        'The same pattern of superlinear returns is observed in military victories.',\n",
    "        'The same pattern of superlinear returns is observed in knowledge.',\n",
    "        'The same pattern of superlinear returns is observed in benefit to humanity.',\n",
    "        'In fame, power, military victories, knowledge, and benefit to humanity, the rich get richer.'\n",
    "    ]\n",
    "    \n",
    "    ac.add_propositions(propositions)\n",
    "    ac.pretty_print_chunks()\n",
    "    ac.pretty_print_chunk_outline()"
   ]
  },
  {
   "cell_type": "code",
   "execution_count": null,
   "id": "5a9e5e54",
   "metadata": {},
   "outputs": [],
   "source": [
    "print(\"hello\")"
   ]
  }
 ],
 "metadata": {
  "kernelspec": {
   "display_name": "chatbot",
   "language": "python",
   "name": "python3"
  },
  "language_info": {
   "codemirror_mode": {
    "name": "ipython",
    "version": 3
   },
   "file_extension": ".py",
   "mimetype": "text/x-python",
   "name": "python",
   "nbconvert_exporter": "python",
   "pygments_lexer": "ipython3",
   "version": "3.13.2"
  }
 },
 "nbformat": 4,
 "nbformat_minor": 5
}
