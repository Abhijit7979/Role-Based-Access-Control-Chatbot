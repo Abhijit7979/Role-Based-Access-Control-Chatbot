{
 "cells": [
  {
   "cell_type": "code",
   "execution_count": 2,
   "id": "f16be27b",
   "metadata": {},
   "outputs": [
    {
     "name": "stdout",
     "output_type": "stream",
     "text": [
      "Requirement already satisfied: langchain-text-splitters in /Users/abhijit/miniforge3/envs/chatbot/lib/python3.13/site-packages (0.3.8)\n",
      "Requirement already satisfied: langchain-community in /Users/abhijit/miniforge3/envs/chatbot/lib/python3.13/site-packages (0.3.25)\n",
      "Requirement already satisfied: langchain-ollama in /Users/abhijit/miniforge3/envs/chatbot/lib/python3.13/site-packages (0.3.3)\n",
      "Requirement already satisfied: langchain-core<1.0.0,>=0.3.51 in /Users/abhijit/miniforge3/envs/chatbot/lib/python3.13/site-packages (from langchain-text-splitters) (0.3.65)\n",
      "Requirement already satisfied: langchain<1.0.0,>=0.3.25 in /Users/abhijit/miniforge3/envs/chatbot/lib/python3.13/site-packages (from langchain-community) (0.3.25)\n",
      "Requirement already satisfied: SQLAlchemy<3,>=1.4 in /Users/abhijit/miniforge3/envs/chatbot/lib/python3.13/site-packages (from langchain-community) (2.0.38)\n",
      "Requirement already satisfied: requests<3,>=2 in /Users/abhijit/miniforge3/envs/chatbot/lib/python3.13/site-packages (from langchain-community) (2.32.3)\n",
      "Requirement already satisfied: PyYAML>=5.3 in /Users/abhijit/miniforge3/envs/chatbot/lib/python3.13/site-packages (from langchain-community) (6.0.2)\n",
      "Requirement already satisfied: aiohttp<4.0.0,>=3.8.3 in /Users/abhijit/miniforge3/envs/chatbot/lib/python3.13/site-packages (from langchain-community) (3.11.13)\n",
      "Requirement already satisfied: tenacity!=8.4.0,<10,>=8.1.0 in /Users/abhijit/miniforge3/envs/chatbot/lib/python3.13/site-packages (from langchain-community) (9.0.0)\n",
      "Requirement already satisfied: dataclasses-json<0.7,>=0.5.7 in /Users/abhijit/miniforge3/envs/chatbot/lib/python3.13/site-packages (from langchain-community) (0.6.7)\n",
      "Requirement already satisfied: pydantic-settings<3.0.0,>=2.4.0 in /Users/abhijit/miniforge3/envs/chatbot/lib/python3.13/site-packages (from langchain-community) (2.8.1)\n",
      "Requirement already satisfied: langsmith<0.4,>=0.1.125 in /Users/abhijit/miniforge3/envs/chatbot/lib/python3.13/site-packages (from langchain-community) (0.3.45)\n",
      "Requirement already satisfied: httpx-sse<1.0.0,>=0.4.0 in /Users/abhijit/miniforge3/envs/chatbot/lib/python3.13/site-packages (from langchain-community) (0.4.0)\n",
      "Requirement already satisfied: numpy>=2.1.0 in /Users/abhijit/miniforge3/envs/chatbot/lib/python3.13/site-packages (from langchain-community) (2.2.3)\n",
      "Requirement already satisfied: ollama<1.0.0,>=0.4.8 in /Users/abhijit/miniforge3/envs/chatbot/lib/python3.13/site-packages (from langchain-ollama) (0.5.1)\n",
      "Requirement already satisfied: aiohappyeyeballs>=2.3.0 in /Users/abhijit/miniforge3/envs/chatbot/lib/python3.13/site-packages (from aiohttp<4.0.0,>=3.8.3->langchain-community) (2.4.6)\n",
      "Requirement already satisfied: aiosignal>=1.1.2 in /Users/abhijit/miniforge3/envs/chatbot/lib/python3.13/site-packages (from aiohttp<4.0.0,>=3.8.3->langchain-community) (1.3.2)\n",
      "Requirement already satisfied: attrs>=17.3.0 in /Users/abhijit/miniforge3/envs/chatbot/lib/python3.13/site-packages (from aiohttp<4.0.0,>=3.8.3->langchain-community) (25.1.0)\n",
      "Requirement already satisfied: frozenlist>=1.1.1 in /Users/abhijit/miniforge3/envs/chatbot/lib/python3.13/site-packages (from aiohttp<4.0.0,>=3.8.3->langchain-community) (1.5.0)\n",
      "Requirement already satisfied: multidict<7.0,>=4.5 in /Users/abhijit/miniforge3/envs/chatbot/lib/python3.13/site-packages (from aiohttp<4.0.0,>=3.8.3->langchain-community) (6.1.0)\n",
      "Requirement already satisfied: propcache>=0.2.0 in /Users/abhijit/miniforge3/envs/chatbot/lib/python3.13/site-packages (from aiohttp<4.0.0,>=3.8.3->langchain-community) (0.3.0)\n",
      "Requirement already satisfied: yarl<2.0,>=1.17.0 in /Users/abhijit/miniforge3/envs/chatbot/lib/python3.13/site-packages (from aiohttp<4.0.0,>=3.8.3->langchain-community) (1.18.3)\n",
      "Requirement already satisfied: marshmallow<4.0.0,>=3.18.0 in /Users/abhijit/miniforge3/envs/chatbot/lib/python3.13/site-packages (from dataclasses-json<0.7,>=0.5.7->langchain-community) (3.26.1)\n",
      "Requirement already satisfied: typing-inspect<1,>=0.4.0 in /Users/abhijit/miniforge3/envs/chatbot/lib/python3.13/site-packages (from dataclasses-json<0.7,>=0.5.7->langchain-community) (0.9.0)\n",
      "Requirement already satisfied: pydantic<3.0.0,>=2.7.4 in /Users/abhijit/miniforge3/envs/chatbot/lib/python3.13/site-packages (from langchain<1.0.0,>=0.3.25->langchain-community) (2.11.7)\n",
      "Requirement already satisfied: jsonpatch<2.0,>=1.33 in /Users/abhijit/miniforge3/envs/chatbot/lib/python3.13/site-packages (from langchain-core<1.0.0,>=0.3.51->langchain-text-splitters) (1.33)\n",
      "Requirement already satisfied: packaging<25,>=23.2 in /Users/abhijit/miniforge3/envs/chatbot/lib/python3.13/site-packages (from langchain-core<1.0.0,>=0.3.51->langchain-text-splitters) (24.2)\n",
      "Requirement already satisfied: typing-extensions>=4.7 in /Users/abhijit/miniforge3/envs/chatbot/lib/python3.13/site-packages (from langchain-core<1.0.0,>=0.3.51->langchain-text-splitters) (4.12.2)\n",
      "Requirement already satisfied: httpx<1,>=0.23.0 in /Users/abhijit/miniforge3/envs/chatbot/lib/python3.13/site-packages (from langsmith<0.4,>=0.1.125->langchain-community) (0.28.1)\n",
      "Requirement already satisfied: orjson<4.0.0,>=3.9.14 in /Users/abhijit/miniforge3/envs/chatbot/lib/python3.13/site-packages (from langsmith<0.4,>=0.1.125->langchain-community) (3.10.15)\n",
      "Requirement already satisfied: requests-toolbelt<2.0.0,>=1.0.0 in /Users/abhijit/miniforge3/envs/chatbot/lib/python3.13/site-packages (from langsmith<0.4,>=0.1.125->langchain-community) (1.0.0)\n",
      "Requirement already satisfied: zstandard<0.24.0,>=0.23.0 in /Users/abhijit/miniforge3/envs/chatbot/lib/python3.13/site-packages (from langsmith<0.4,>=0.1.125->langchain-community) (0.23.0)\n",
      "Requirement already satisfied: python-dotenv>=0.21.0 in /Users/abhijit/miniforge3/envs/chatbot/lib/python3.13/site-packages (from pydantic-settings<3.0.0,>=2.4.0->langchain-community) (1.0.1)\n",
      "Requirement already satisfied: charset-normalizer<4,>=2 in /Users/abhijit/miniforge3/envs/chatbot/lib/python3.13/site-packages (from requests<3,>=2->langchain-community) (3.4.1)\n",
      "Requirement already satisfied: idna<4,>=2.5 in /Users/abhijit/miniforge3/envs/chatbot/lib/python3.13/site-packages (from requests<3,>=2->langchain-community) (3.10)\n",
      "Requirement already satisfied: urllib3<3,>=1.21.1 in /Users/abhijit/miniforge3/envs/chatbot/lib/python3.13/site-packages (from requests<3,>=2->langchain-community) (2.3.0)\n",
      "Requirement already satisfied: certifi>=2017.4.17 in /Users/abhijit/miniforge3/envs/chatbot/lib/python3.13/site-packages (from requests<3,>=2->langchain-community) (2025.1.31)\n",
      "Requirement already satisfied: anyio in /Users/abhijit/miniforge3/envs/chatbot/lib/python3.13/site-packages (from httpx<1,>=0.23.0->langsmith<0.4,>=0.1.125->langchain-community) (4.8.0)\n",
      "Requirement already satisfied: httpcore==1.* in /Users/abhijit/miniforge3/envs/chatbot/lib/python3.13/site-packages (from httpx<1,>=0.23.0->langsmith<0.4,>=0.1.125->langchain-community) (1.0.7)\n",
      "Requirement already satisfied: h11<0.15,>=0.13 in /Users/abhijit/miniforge3/envs/chatbot/lib/python3.13/site-packages (from httpcore==1.*->httpx<1,>=0.23.0->langsmith<0.4,>=0.1.125->langchain-community) (0.14.0)\n",
      "Requirement already satisfied: jsonpointer>=1.9 in /Users/abhijit/miniforge3/envs/chatbot/lib/python3.13/site-packages (from jsonpatch<2.0,>=1.33->langchain-core<1.0.0,>=0.3.51->langchain-text-splitters) (3.0.0)\n",
      "Requirement already satisfied: annotated-types>=0.6.0 in /Users/abhijit/miniforge3/envs/chatbot/lib/python3.13/site-packages (from pydantic<3.0.0,>=2.7.4->langchain<1.0.0,>=0.3.25->langchain-community) (0.7.0)\n",
      "Requirement already satisfied: pydantic-core==2.33.2 in /Users/abhijit/miniforge3/envs/chatbot/lib/python3.13/site-packages (from pydantic<3.0.0,>=2.7.4->langchain<1.0.0,>=0.3.25->langchain-community) (2.33.2)\n",
      "Requirement already satisfied: typing-inspection>=0.4.0 in /Users/abhijit/miniforge3/envs/chatbot/lib/python3.13/site-packages (from pydantic<3.0.0,>=2.7.4->langchain<1.0.0,>=0.3.25->langchain-community) (0.4.1)\n",
      "Requirement already satisfied: mypy-extensions>=0.3.0 in /Users/abhijit/miniforge3/envs/chatbot/lib/python3.13/site-packages (from typing-inspect<1,>=0.4.0->dataclasses-json<0.7,>=0.5.7->langchain-community) (1.0.0)\n",
      "Requirement already satisfied: sniffio>=1.1 in /Users/abhijit/miniforge3/envs/chatbot/lib/python3.13/site-packages (from anyio->httpx<1,>=0.23.0->langsmith<0.4,>=0.1.125->langchain-community) (1.3.1)\n"
     ]
    }
   ],
   "source": [
    "!pip install langchain-text-splitters langchain-community langchain-ollama"
   ]
  },
  {
   "cell_type": "code",
   "execution_count": 3,
   "id": "d48ff29a",
   "metadata": {},
   "outputs": [
    {
     "name": "stdout",
     "output_type": "stream",
     "text": [
      "\u001b[?2026h\u001b[?25l\u001b[1Gpulling manifest ⠋ \u001b[K\u001b[?25h\u001b[?2026l\u001b[?2026h\u001b[?25l\u001b[1Gpulling manifest ⠙ \u001b[K\u001b[?25h\u001b[?2026l\u001b[?2026h\u001b[?25l\u001b[1Gpulling manifest ⠹ \u001b[K\u001b[?25h\u001b[?2026l\u001b[?2026h\u001b[?25l\u001b[1Gpulling manifest ⠸ \u001b[K\u001b[?25h\u001b[?2026l\u001b[?2026h\u001b[?25l\u001b[1Gpulling manifest ⠼ \u001b[K\u001b[?25h\u001b[?2026l\u001b[?2026h\u001b[?25l\u001b[1Gpulling manifest ⠴ \u001b[K\u001b[?25h\u001b[?2026l\u001b[?2026h\u001b[?25l\u001b[1Gpulling manifest ⠦ \u001b[K\u001b[?25h\u001b[?2026l\u001b[?2026h\u001b[?25l\u001b[1Gpulling manifest ⠧ \u001b[K\u001b[?25h\u001b[?2026l\u001b[?2026h\u001b[?25l\u001b[1Gpulling manifest ⠇ \u001b[K\u001b[?25h\u001b[?2026l\u001b[?2026h\u001b[?25l\u001b[1Gpulling manifest ⠏ \u001b[K\u001b[?25h\u001b[?2026l\u001b[?2026h\u001b[?25l\u001b[1Gpulling manifest ⠋ \u001b[K\u001b[?25h\u001b[?2026l\u001b[?2026h\u001b[?25l\u001b[1Gpulling manifest ⠙ \u001b[K\u001b[?25h\u001b[?2026l\u001b[?2026h\u001b[?25l\u001b[1Gpulling manifest ⠹ \u001b[K\u001b[?25h\u001b[?2026l\u001b[?2026h\u001b[?25l\u001b[1Gpulling manifest ⠸ \u001b[K\u001b[?25h\u001b[?2026l\u001b[?2026h\u001b[?25l\u001b[1Gpulling manifest ⠼ \u001b[K\u001b[?25h\u001b[?2026l\u001b[?2026h\u001b[?25l\u001b[1Gpulling manifest ⠴ \u001b[K\u001b[?25h\u001b[?2026l\u001b[?2026h\u001b[?25l\u001b[1Gpulling manifest ⠦ \u001b[K\u001b[?25h\u001b[?2026l\u001b[?2026h\u001b[?25l\u001b[1Gpulling manifest ⠧ \u001b[K\u001b[?25h\u001b[?2026l\u001b[?2026h\u001b[?25l\u001b[1Gpulling manifest ⠇ \u001b[K\u001b[?25h\u001b[?2026l\u001b[?2026h\u001b[?25l\u001b[1Gpulling manifest ⠏ \u001b[K\u001b[?25h\u001b[?2026l\u001b[?2026h\u001b[?25l\u001b[1Gpulling manifest ⠋ \u001b[K\u001b[?25h\u001b[?2026l\u001b[?2026h\u001b[?25l\u001b[1Gpulling manifest \u001b[K\n",
      "pulling 970aa74c0a90... 100% ▕████████████████▏ 274 MB                         \u001b[K\n",
      "pulling c71d239df917... 100% ▕████████████████▏  11 KB                         \u001b[K\n",
      "pulling ce4a164fc046... 100% ▕████████████████▏   17 B                         \u001b[K\n",
      "pulling 31df23ea7daa... 100% ▕████████████████▏  420 B                         \u001b[K\n",
      "verifying sha256 digest \u001b[K\n",
      "writing manifest \u001b[K\n",
      "success \u001b[K\u001b[?25h\u001b[?2026l\n"
     ]
    }
   ],
   "source": [
    "!ollama pull nomic-embed-text"
   ]
  },
  {
   "cell_type": "code",
   "execution_count": 4,
   "id": "be955d44",
   "metadata": {},
   "outputs": [
    {
     "data": {
      "text/plain": [
       "[]"
      ]
     },
     "execution_count": 4,
     "metadata": {},
     "output_type": "execute_result"
    }
   ],
   "source": [
    "!!pip install --quiet langchain_experimental langchain_openai"
   ]
  },
  {
   "cell_type": "code",
   "execution_count": null,
   "id": "56786ee2",
   "metadata": {},
   "outputs": [
    {
     "name": "stderr",
     "output_type": "stream",
     "text": [
      "/var/folders/j5/fkdpsbtx06x9pj_qxz25r4640000gn/T/ipykernel_43871/3604042872.py:18: LangChainDeprecationWarning: The class `HuggingFaceEmbeddings` was deprecated in LangChain 0.2.2 and will be removed in 1.0. An updated version of the class exists in the :class:`~langchain-huggingface package and should be used instead. To use it run `pip install -U :class:`~langchain-huggingface` and import as `from :class:`~langchain_huggingface import HuggingFaceEmbeddings``.\n",
      "  embedding = HuggingFaceEmbeddings(model_name=\"BAAI/bge-base-en\")\n"
     ]
    }
   ],
   "source": [
    "from langchain.embeddings import HuggingFaceEmbeddings\n",
    "import json\n",
    "# text = \"\"\"\n",
    "# The Apollo 11 mission was a landmark achievement in human history. \n",
    "# On July 20, 1969, astronauts Neil Armstrong and Buzz Aldrin became the first humans to walk on the moon. \n",
    "# The mission's primary objective was to complete a national goal set by President John F. Kennedy. \n",
    "# The Saturn V rocket, a technological marvel, propelled the astronauts on their journey.\n",
    "# Data collected during the mission provided invaluable insights into the moon's geology.\n",
    "\n",
    "# Deep-sea exploration presents its own set of unique challenges. \n",
    "# Dr. Robert Ballard is famous for discovering the wreck of the Titanic in 1985.\n",
    "# He used a remotely operated vehicle (ROV) named Argo to survey the ocean floor.\n",
    "# The immense pressure and complete darkness of the deep ocean require specialized equipment.\n",
    "# Hydrothermal vents, discovered in the deep sea, host unique ecosystems that thrive without sunlight.\n",
    "# \"\"\"\n",
    "\n",
    "embedding = HuggingFaceEmbeddings(model_name=\"BAAI/bge-base-en\")"
   ]
  },
  {
   "cell_type": "code",
   "execution_count": 11,
   "id": "baabfd67",
   "metadata": {},
   "outputs": [],
   "source": [
    "with open('/Users/abhijit/Desktop/DS-RPC-01/src/notebooks/chunking_sample.json', 'r') as f:\n",
    "    text = json.load(f)"
   ]
  },
  {
   "cell_type": "code",
   "execution_count": 12,
   "id": "ba74520d",
   "metadata": {},
   "outputs": [
    {
     "data": {
      "text/html": [
       "<pre style=\"white-space:pre;overflow-x:auto;line-height:normal;font-family:Menlo,'DejaVu Sans Mono',consolas,'Courier New',monospace\"><span style=\"font-weight: bold\">{</span>\n",
       "    <span style=\"color: #008000; text-decoration-color: #008000\">'dataType'</span>: <span style=\"color: #008000; text-decoration-color: #008000\">'CVE_RECORD'</span>,\n",
       "    <span style=\"color: #008000; text-decoration-color: #008000\">'dataVersion'</span>: <span style=\"color: #008000; text-decoration-color: #008000\">'5.1'</span>,\n",
       "    <span style=\"color: #008000; text-decoration-color: #008000\">'cveMetadata'</span>: <span style=\"font-weight: bold\">{</span>\n",
       "        <span style=\"color: #008000; text-decoration-color: #008000\">'cveId'</span>: <span style=\"color: #008000; text-decoration-color: #008000\">'CVE-2025-6009'</span>,\n",
       "        <span style=\"color: #008000; text-decoration-color: #008000\">'assignerOrgId'</span>: <span style=\"color: #008000; text-decoration-color: #008000\">'1af790b2-7ee1-4545-860a-a788eba489b5'</span>,\n",
       "        <span style=\"color: #008000; text-decoration-color: #008000\">'state'</span>: <span style=\"color: #008000; text-decoration-color: #008000\">'PUBLISHED'</span>,\n",
       "        <span style=\"color: #008000; text-decoration-color: #008000\">'assignerShortName'</span>: <span style=\"color: #008000; text-decoration-color: #008000\">'VulDB'</span>,\n",
       "        <span style=\"color: #008000; text-decoration-color: #008000\">'dateReserved'</span>: <span style=\"color: #008000; text-decoration-color: #008000\">'2025-06-11T18:53:18.797Z'</span>,\n",
       "        <span style=\"color: #008000; text-decoration-color: #008000\">'datePublished'</span>: <span style=\"color: #008000; text-decoration-color: #008000\">'2025-06-12T02:31:05.302Z'</span>,\n",
       "        <span style=\"color: #008000; text-decoration-color: #008000\">'dateUpdated'</span>: <span style=\"color: #008000; text-decoration-color: #008000\">'2025-06-12T13:09:09.063Z'</span>\n",
       "    <span style=\"font-weight: bold\">}</span>,\n",
       "    <span style=\"color: #008000; text-decoration-color: #008000\">'containers'</span>: <span style=\"font-weight: bold\">{</span>\n",
       "        <span style=\"color: #008000; text-decoration-color: #008000\">'cna'</span>: <span style=\"font-weight: bold\">{</span>\n",
       "            <span style=\"color: #008000; text-decoration-color: #008000\">'providerMetadata'</span>: <span style=\"font-weight: bold\">{</span>\n",
       "                <span style=\"color: #008000; text-decoration-color: #008000\">'orgId'</span>: <span style=\"color: #008000; text-decoration-color: #008000\">'1af790b2-7ee1-4545-860a-a788eba489b5'</span>,\n",
       "                <span style=\"color: #008000; text-decoration-color: #008000\">'shortName'</span>: <span style=\"color: #008000; text-decoration-color: #008000\">'VulDB'</span>,\n",
       "                <span style=\"color: #008000; text-decoration-color: #008000\">'dateUpdated'</span>: <span style=\"color: #008000; text-decoration-color: #008000\">'2025-06-12T02:31:05.302Z'</span>\n",
       "            <span style=\"font-weight: bold\">}</span>,\n",
       "            <span style=\"color: #008000; text-decoration-color: #008000\">'title'</span>: <span style=\"color: #008000; text-decoration-color: #008000\">'kiCode111 like-girl ipAddPost.php sql injection'</span>,\n",
       "            <span style=\"color: #008000; text-decoration-color: #008000\">'problemTypes'</span>: <span style=\"font-weight: bold\">[</span>\n",
       "                <span style=\"font-weight: bold\">{</span>\n",
       "                    <span style=\"color: #008000; text-decoration-color: #008000\">'descriptions'</span>: <span style=\"font-weight: bold\">[</span>\n",
       "                        <span style=\"font-weight: bold\">{</span><span style=\"color: #008000; text-decoration-color: #008000\">'type'</span>: <span style=\"color: #008000; text-decoration-color: #008000\">'CWE'</span>, <span style=\"color: #008000; text-decoration-color: #008000\">'cweId'</span>: <span style=\"color: #008000; text-decoration-color: #008000\">'CWE-89'</span>, <span style=\"color: #008000; text-decoration-color: #008000\">'lang'</span>: <span style=\"color: #008000; text-decoration-color: #008000\">'en'</span>, <span style=\"color: #008000; text-decoration-color: #008000\">'description'</span>: <span style=\"color: #008000; text-decoration-color: #008000\">'SQL Injection'</span><span style=\"font-weight: bold\">}</span>\n",
       "                    <span style=\"font-weight: bold\">]</span>\n",
       "                <span style=\"font-weight: bold\">}</span>,\n",
       "                <span style=\"font-weight: bold\">{</span><span style=\"color: #008000; text-decoration-color: #008000\">'descriptions'</span>: <span style=\"font-weight: bold\">[{</span><span style=\"color: #008000; text-decoration-color: #008000\">'type'</span>: <span style=\"color: #008000; text-decoration-color: #008000\">'CWE'</span>, <span style=\"color: #008000; text-decoration-color: #008000\">'cweId'</span>: <span style=\"color: #008000; text-decoration-color: #008000\">'CWE-74'</span>, <span style=\"color: #008000; text-decoration-color: #008000\">'lang'</span>: <span style=\"color: #008000; text-decoration-color: #008000\">'en'</span>, <span style=\"color: #008000; text-decoration-color: #008000\">'description'</span>: <span style=\"color: #008000; text-decoration-color: #008000\">'Injection'</span><span style=\"font-weight: bold\">}]}</span>\n",
       "            <span style=\"font-weight: bold\">]</span>,\n",
       "            <span style=\"color: #008000; text-decoration-color: #008000\">'affected'</span>: <span style=\"font-weight: bold\">[</span>\n",
       "                <span style=\"font-weight: bold\">{</span>\n",
       "                    <span style=\"color: #008000; text-decoration-color: #008000\">'vendor'</span>: <span style=\"color: #008000; text-decoration-color: #008000\">'kiCode111'</span>,\n",
       "                    <span style=\"color: #008000; text-decoration-color: #008000\">'product'</span>: <span style=\"color: #008000; text-decoration-color: #008000\">'like-girl'</span>,\n",
       "                    <span style=\"color: #008000; text-decoration-color: #008000\">'versions'</span>: <span style=\"font-weight: bold\">[{</span><span style=\"color: #008000; text-decoration-color: #008000\">'version'</span>: <span style=\"color: #008000; text-decoration-color: #008000\">'5.2.0'</span>, <span style=\"color: #008000; text-decoration-color: #008000\">'status'</span>: <span style=\"color: #008000; text-decoration-color: #008000\">'affected'</span><span style=\"font-weight: bold\">}]</span>\n",
       "                <span style=\"font-weight: bold\">}</span>\n",
       "            <span style=\"font-weight: bold\">]</span>,\n",
       "            <span style=\"color: #008000; text-decoration-color: #008000\">'descriptions'</span>: <span style=\"font-weight: bold\">[</span>\n",
       "                <span style=\"font-weight: bold\">{</span>\n",
       "                    <span style=\"color: #008000; text-decoration-color: #008000\">'lang'</span>: <span style=\"color: #008000; text-decoration-color: #008000\">'en'</span>,\n",
       "                    <span style=\"color: #008000; text-decoration-color: #008000\">'value'</span>: <span style=\"color: #008000; text-decoration-color: #008000\">'A vulnerability was found in kiCode111 like-girl 5.2.0 and classified as critical. </span>\n",
       "<span style=\"color: #008000; text-decoration-color: #008000\">Affected by this issue is some unknown functionality of the file /admin/ipAddPost.php. The manipulation of the </span>\n",
       "<span style=\"color: #008000; text-decoration-color: #008000\">argument bz/ipdz leads to sql injection. The attack may be launched remotely. The exploit has been disclosed to the</span>\n",
       "<span style=\"color: #008000; text-decoration-color: #008000\">public and may be used. The vendor was contacted early about this disclosure but did not respond in any way.'</span>\n",
       "                <span style=\"font-weight: bold\">}</span>,\n",
       "                <span style=\"font-weight: bold\">{</span>\n",
       "                    <span style=\"color: #008000; text-decoration-color: #008000\">'lang'</span>: <span style=\"color: #008000; text-decoration-color: #008000\">'de'</span>,\n",
       "                    <span style=\"color: #008000; text-decoration-color: #008000\">'value'</span>: <span style=\"color: #008000; text-decoration-color: #008000\">'Eine Schwachstelle wurde in kiCode111 like-girl 5.2.0 gefunden. Sie wurde als </span>\n",
       "<span style=\"color: #008000; text-decoration-color: #008000\">kritisch eingestuft. Dies betrifft einen unbekannten Teil der Datei /admin/ipAddPost.php. Durch das Beeinflussen </span>\n",
       "<span style=\"color: #008000; text-decoration-color: #008000\">des Arguments bz/ipdz mit unbekannten Daten kann eine sql injection-Schwachstelle ausgenutzt werden. Der Angriff </span>\n",
       "<span style=\"color: #008000; text-decoration-color: #008000\">kann über das Netzwerk passieren. Der Exploit steht zur öffentlichen Verfügung.'</span>\n",
       "                <span style=\"font-weight: bold\">}</span>\n",
       "            <span style=\"font-weight: bold\">]</span>,\n",
       "            <span style=\"color: #008000; text-decoration-color: #008000\">'metrics'</span>: <span style=\"font-weight: bold\">[</span>\n",
       "                <span style=\"font-weight: bold\">{</span>\n",
       "                    <span style=\"color: #008000; text-decoration-color: #008000\">'cvssV4_0'</span>: <span style=\"font-weight: bold\">{</span>\n",
       "                        <span style=\"color: #008000; text-decoration-color: #008000\">'version'</span>: <span style=\"color: #008000; text-decoration-color: #008000\">'4.0'</span>,\n",
       "                        <span style=\"color: #008000; text-decoration-color: #008000\">'baseScore'</span>: <span style=\"color: #008080; text-decoration-color: #008080; font-weight: bold\">5.1</span>,\n",
       "                        <span style=\"color: #008000; text-decoration-color: #008000\">'vectorString'</span>: <span style=\"color: #008000; text-decoration-color: #008000\">'CVSS:4.0/AV:N/AC:L/AT:N/PR:H/UI:N/VC:L/VI:L/VA:L/SC:N/SI:N/SA:N/E:P'</span>,\n",
       "                        <span style=\"color: #008000; text-decoration-color: #008000\">'baseSeverity'</span>: <span style=\"color: #008000; text-decoration-color: #008000\">'MEDIUM'</span>\n",
       "                    <span style=\"font-weight: bold\">}</span>\n",
       "                <span style=\"font-weight: bold\">}</span>,\n",
       "                <span style=\"font-weight: bold\">{</span>\n",
       "                    <span style=\"color: #008000; text-decoration-color: #008000\">'cvssV3_1'</span>: <span style=\"font-weight: bold\">{</span>\n",
       "                        <span style=\"color: #008000; text-decoration-color: #008000\">'version'</span>: <span style=\"color: #008000; text-decoration-color: #008000\">'3.1'</span>,\n",
       "                        <span style=\"color: #008000; text-decoration-color: #008000\">'baseScore'</span>: <span style=\"color: #008080; text-decoration-color: #008080; font-weight: bold\">4.7</span>,\n",
       "                        <span style=\"color: #008000; text-decoration-color: #008000\">'vectorString'</span>: <span style=\"color: #008000; text-decoration-color: #008000\">'CVSS:3.1/AV:N/AC:L/PR:H/UI:N/S:U/C:L/I:L/A:L/E:P/RL:X/RC:R'</span>,\n",
       "                        <span style=\"color: #008000; text-decoration-color: #008000\">'baseSeverity'</span>: <span style=\"color: #008000; text-decoration-color: #008000\">'MEDIUM'</span>\n",
       "                    <span style=\"font-weight: bold\">}</span>\n",
       "                <span style=\"font-weight: bold\">}</span>,\n",
       "                <span style=\"font-weight: bold\">{</span>\n",
       "                    <span style=\"color: #008000; text-decoration-color: #008000\">'cvssV3_0'</span>: <span style=\"font-weight: bold\">{</span>\n",
       "                        <span style=\"color: #008000; text-decoration-color: #008000\">'version'</span>: <span style=\"color: #008000; text-decoration-color: #008000\">'3.0'</span>,\n",
       "                        <span style=\"color: #008000; text-decoration-color: #008000\">'baseScore'</span>: <span style=\"color: #008080; text-decoration-color: #008080; font-weight: bold\">4.7</span>,\n",
       "                        <span style=\"color: #008000; text-decoration-color: #008000\">'vectorString'</span>: <span style=\"color: #008000; text-decoration-color: #008000\">'CVSS:3.0/AV:N/AC:L/PR:H/UI:N/S:U/C:L/I:L/A:L/E:P/RL:X/RC:R'</span>,\n",
       "                        <span style=\"color: #008000; text-decoration-color: #008000\">'baseSeverity'</span>: <span style=\"color: #008000; text-decoration-color: #008000\">'MEDIUM'</span>\n",
       "                    <span style=\"font-weight: bold\">}</span>\n",
       "                <span style=\"font-weight: bold\">}</span>,\n",
       "                <span style=\"font-weight: bold\">{</span>\n",
       "                    <span style=\"color: #008000; text-decoration-color: #008000\">'cvssV2_0'</span>: <span style=\"font-weight: bold\">{</span>\n",
       "                        <span style=\"color: #008000; text-decoration-color: #008000\">'version'</span>: <span style=\"color: #008000; text-decoration-color: #008000\">'2.0'</span>,\n",
       "                        <span style=\"color: #008000; text-decoration-color: #008000\">'baseScore'</span>: <span style=\"color: #008080; text-decoration-color: #008080; font-weight: bold\">5.8</span>,\n",
       "                        <span style=\"color: #008000; text-decoration-color: #008000\">'vectorString'</span>: <span style=\"color: #008000; text-decoration-color: #008000\">'AV:N/AC:L/Au:M/C:P/I:P/A:P/E:POC/RL:ND/RC:UR'</span>\n",
       "                    <span style=\"font-weight: bold\">}</span>\n",
       "                <span style=\"font-weight: bold\">}</span>\n",
       "            <span style=\"font-weight: bold\">]</span>,\n",
       "            <span style=\"color: #008000; text-decoration-color: #008000\">'timeline'</span>: <span style=\"font-weight: bold\">[</span>\n",
       "                <span style=\"font-weight: bold\">{</span><span style=\"color: #008000; text-decoration-color: #008000\">'time'</span>: <span style=\"color: #008000; text-decoration-color: #008000\">'2025-06-11T00:00:00.000Z'</span>, <span style=\"color: #008000; text-decoration-color: #008000\">'lang'</span>: <span style=\"color: #008000; text-decoration-color: #008000\">'en'</span>, <span style=\"color: #008000; text-decoration-color: #008000\">'value'</span>: <span style=\"color: #008000; text-decoration-color: #008000\">'Advisory disclosed'</span><span style=\"font-weight: bold\">}</span>,\n",
       "                <span style=\"font-weight: bold\">{</span><span style=\"color: #008000; text-decoration-color: #008000\">'time'</span>: <span style=\"color: #008000; text-decoration-color: #008000\">'2025-06-11T02:00:00.000Z'</span>, <span style=\"color: #008000; text-decoration-color: #008000\">'lang'</span>: <span style=\"color: #008000; text-decoration-color: #008000\">'en'</span>, <span style=\"color: #008000; text-decoration-color: #008000\">'value'</span>: <span style=\"color: #008000; text-decoration-color: #008000\">'VulDB entry created'</span><span style=\"font-weight: bold\">}</span>,\n",
       "                <span style=\"font-weight: bold\">{</span><span style=\"color: #008000; text-decoration-color: #008000\">'time'</span>: <span style=\"color: #008000; text-decoration-color: #008000\">'2025-06-11T20:58:26.000Z'</span>, <span style=\"color: #008000; text-decoration-color: #008000\">'lang'</span>: <span style=\"color: #008000; text-decoration-color: #008000\">'en'</span>, <span style=\"color: #008000; text-decoration-color: #008000\">'value'</span>: <span style=\"color: #008000; text-decoration-color: #008000\">'VulDB entry last update'</span><span style=\"font-weight: bold\">}</span>\n",
       "            <span style=\"font-weight: bold\">]</span>,\n",
       "            <span style=\"color: #008000; text-decoration-color: #008000\">'credits'</span>: <span style=\"font-weight: bold\">[{</span><span style=\"color: #008000; text-decoration-color: #008000\">'lang'</span>: <span style=\"color: #008000; text-decoration-color: #008000\">'en'</span>, <span style=\"color: #008000; text-decoration-color: #008000\">'value'</span>: <span style=\"color: #008000; text-decoration-color: #008000\">'kai_kk (VulDB User)'</span>, <span style=\"color: #008000; text-decoration-color: #008000\">'type'</span>: <span style=\"color: #008000; text-decoration-color: #008000\">'reporter'</span><span style=\"font-weight: bold\">}]</span>,\n",
       "            <span style=\"color: #008000; text-decoration-color: #008000\">'references'</span>: <span style=\"font-weight: bold\">[</span>\n",
       "                <span style=\"font-weight: bold\">{</span>\n",
       "                    <span style=\"color: #008000; text-decoration-color: #008000\">'url'</span>: <span style=\"color: #008000; text-decoration-color: #008000\">'https://vuldb.com/?id.312332'</span>,\n",
       "                    <span style=\"color: #008000; text-decoration-color: #008000\">'name'</span>: <span style=\"color: #008000; text-decoration-color: #008000\">'VDB-312332 | kiCode111 like-girl ipAddPost.php sql injection'</span>,\n",
       "                    <span style=\"color: #008000; text-decoration-color: #008000\">'tags'</span>: <span style=\"font-weight: bold\">[</span><span style=\"color: #008000; text-decoration-color: #008000\">'vdb-entry'</span>, <span style=\"color: #008000; text-decoration-color: #008000\">'technical-description'</span><span style=\"font-weight: bold\">]</span>\n",
       "                <span style=\"font-weight: bold\">}</span>,\n",
       "                <span style=\"font-weight: bold\">{</span>\n",
       "                    <span style=\"color: #008000; text-decoration-color: #008000\">'url'</span>: <span style=\"color: #008000; text-decoration-color: #008000\">'https://vuldb.com/?ctiid.312332'</span>,\n",
       "                    <span style=\"color: #008000; text-decoration-color: #008000\">'name'</span>: <span style=\"color: #008000; text-decoration-color: #008000\">'VDB-312332 | CTI Indicators (IOB, IOC, TTP, IOA)'</span>,\n",
       "                    <span style=\"color: #008000; text-decoration-color: #008000\">'tags'</span>: <span style=\"font-weight: bold\">[</span><span style=\"color: #008000; text-decoration-color: #008000\">'signature'</span>, <span style=\"color: #008000; text-decoration-color: #008000\">'permissions-required'</span><span style=\"font-weight: bold\">]</span>\n",
       "                <span style=\"font-weight: bold\">}</span>,\n",
       "                <span style=\"font-weight: bold\">{</span>\n",
       "                    <span style=\"color: #008000; text-decoration-color: #008000\">'url'</span>: <span style=\"color: #008000; text-decoration-color: #008000\">'https://vuldb.com/?submit.588092'</span>,\n",
       "                    <span style=\"color: #008000; text-decoration-color: #008000\">'name'</span>: <span style=\"color: #008000; text-decoration-color: #008000\">'Submit #588092 | https://gitee.com/kiCode111/like-girl-v5.2.0 like-girl-v5.2.0 5.2.0 </span>\n",
       "<span style=\"color: #008000; text-decoration-color: #008000\">SQL Injection'</span>,\n",
       "                    <span style=\"color: #008000; text-decoration-color: #008000\">'tags'</span>: <span style=\"font-weight: bold\">[</span><span style=\"color: #008000; text-decoration-color: #008000\">'third-party-advisory'</span><span style=\"font-weight: bold\">]</span>\n",
       "                <span style=\"font-weight: bold\">}</span>,\n",
       "                <span style=\"font-weight: bold\">{</span><span style=\"color: #008000; text-decoration-color: #008000\">'url'</span>: <span style=\"color: #008000; text-decoration-color: #008000\">'https://github.com/adminnerr/cve/issues/11'</span>, <span style=\"color: #008000; text-decoration-color: #008000\">'tags'</span>: <span style=\"font-weight: bold\">[</span><span style=\"color: #008000; text-decoration-color: #008000\">'exploit'</span>, <span style=\"color: #008000; text-decoration-color: #008000\">'issue-tracking'</span><span style=\"font-weight: bold\">]}</span>\n",
       "            <span style=\"font-weight: bold\">]</span>\n",
       "        <span style=\"font-weight: bold\">}</span>,\n",
       "        <span style=\"color: #008000; text-decoration-color: #008000\">'adp'</span>: <span style=\"font-weight: bold\">[</span>\n",
       "            <span style=\"font-weight: bold\">{</span>\n",
       "                <span style=\"color: #008000; text-decoration-color: #008000\">'references'</span>: <span style=\"font-weight: bold\">[{</span><span style=\"color: #008000; text-decoration-color: #008000\">'url'</span>: <span style=\"color: #008000; text-decoration-color: #008000\">'https://github.com/adminnerr/cve/issues/11'</span>, <span style=\"color: #008000; text-decoration-color: #008000\">'tags'</span>: <span style=\"font-weight: bold\">[</span><span style=\"color: #008000; text-decoration-color: #008000\">'exploit'</span><span style=\"font-weight: bold\">]}]</span>,\n",
       "                <span style=\"color: #008000; text-decoration-color: #008000\">'metrics'</span>: <span style=\"font-weight: bold\">[</span>\n",
       "                    <span style=\"font-weight: bold\">{</span>\n",
       "                        <span style=\"color: #008000; text-decoration-color: #008000\">'other'</span>: <span style=\"font-weight: bold\">{</span>\n",
       "                            <span style=\"color: #008000; text-decoration-color: #008000\">'type'</span>: <span style=\"color: #008000; text-decoration-color: #008000\">'ssvc'</span>,\n",
       "                            <span style=\"color: #008000; text-decoration-color: #008000\">'content'</span>: <span style=\"font-weight: bold\">{</span>\n",
       "                                <span style=\"color: #008000; text-decoration-color: #008000\">'timestamp'</span>: <span style=\"color: #008000; text-decoration-color: #008000\">'2025-06-12T13:08:50.236173Z'</span>,\n",
       "                                <span style=\"color: #008000; text-decoration-color: #008000\">'id'</span>: <span style=\"color: #008000; text-decoration-color: #008000\">'CVE-2025-6009'</span>,\n",
       "                                <span style=\"color: #008000; text-decoration-color: #008000\">'options'</span>: <span style=\"font-weight: bold\">[</span>\n",
       "                                    <span style=\"font-weight: bold\">{</span><span style=\"color: #008000; text-decoration-color: #008000\">'Exploitation'</span>: <span style=\"color: #008000; text-decoration-color: #008000\">'poc'</span><span style=\"font-weight: bold\">}</span>,\n",
       "                                    <span style=\"font-weight: bold\">{</span><span style=\"color: #008000; text-decoration-color: #008000\">'Automatable'</span>: <span style=\"color: #008000; text-decoration-color: #008000\">'no'</span><span style=\"font-weight: bold\">}</span>,\n",
       "                                    <span style=\"font-weight: bold\">{</span><span style=\"color: #008000; text-decoration-color: #008000\">'Technical Impact'</span>: <span style=\"color: #008000; text-decoration-color: #008000\">'partial'</span><span style=\"font-weight: bold\">}</span>\n",
       "                                <span style=\"font-weight: bold\">]</span>,\n",
       "                                <span style=\"color: #008000; text-decoration-color: #008000\">'role'</span>: <span style=\"color: #008000; text-decoration-color: #008000\">'CISA Coordinator'</span>,\n",
       "                                <span style=\"color: #008000; text-decoration-color: #008000\">'version'</span>: <span style=\"color: #008000; text-decoration-color: #008000\">'2.0.3'</span>\n",
       "                            <span style=\"font-weight: bold\">}</span>\n",
       "                        <span style=\"font-weight: bold\">}</span>\n",
       "                    <span style=\"font-weight: bold\">}</span>\n",
       "                <span style=\"font-weight: bold\">]</span>,\n",
       "                <span style=\"color: #008000; text-decoration-color: #008000\">'title'</span>: <span style=\"color: #008000; text-decoration-color: #008000\">'CISA ADP Vulnrichment'</span>,\n",
       "                <span style=\"color: #008000; text-decoration-color: #008000\">'providerMetadata'</span>: <span style=\"font-weight: bold\">{</span>\n",
       "                    <span style=\"color: #008000; text-decoration-color: #008000\">'orgId'</span>: <span style=\"color: #008000; text-decoration-color: #008000\">'134c704f-9b21-4f2e-91b3-4a467353bcc0'</span>,\n",
       "                    <span style=\"color: #008000; text-decoration-color: #008000\">'shortName'</span>: <span style=\"color: #008000; text-decoration-color: #008000\">'CISA-ADP'</span>,\n",
       "                    <span style=\"color: #008000; text-decoration-color: #008000\">'dateUpdated'</span>: <span style=\"color: #008000; text-decoration-color: #008000\">'2025-06-12T13:09:09.063Z'</span>\n",
       "                <span style=\"font-weight: bold\">}</span>\n",
       "            <span style=\"font-weight: bold\">}</span>\n",
       "        <span style=\"font-weight: bold\">]</span>\n",
       "    <span style=\"font-weight: bold\">}</span>\n",
       "<span style=\"font-weight: bold\">}</span>\n",
       "</pre>\n"
      ],
      "text/plain": [
       "\u001b[1m{\u001b[0m\n",
       "    \u001b[32m'dataType'\u001b[0m: \u001b[32m'CVE_RECORD'\u001b[0m,\n",
       "    \u001b[32m'dataVersion'\u001b[0m: \u001b[32m'5.1'\u001b[0m,\n",
       "    \u001b[32m'cveMetadata'\u001b[0m: \u001b[1m{\u001b[0m\n",
       "        \u001b[32m'cveId'\u001b[0m: \u001b[32m'CVE-2025-6009'\u001b[0m,\n",
       "        \u001b[32m'assignerOrgId'\u001b[0m: \u001b[32m'1af790b2-7ee1-4545-860a-a788eba489b5'\u001b[0m,\n",
       "        \u001b[32m'state'\u001b[0m: \u001b[32m'PUBLISHED'\u001b[0m,\n",
       "        \u001b[32m'assignerShortName'\u001b[0m: \u001b[32m'VulDB'\u001b[0m,\n",
       "        \u001b[32m'dateReserved'\u001b[0m: \u001b[32m'2025-06-11T18:53:18.797Z'\u001b[0m,\n",
       "        \u001b[32m'datePublished'\u001b[0m: \u001b[32m'2025-06-12T02:31:05.302Z'\u001b[0m,\n",
       "        \u001b[32m'dateUpdated'\u001b[0m: \u001b[32m'2025-06-12T13:09:09.063Z'\u001b[0m\n",
       "    \u001b[1m}\u001b[0m,\n",
       "    \u001b[32m'containers'\u001b[0m: \u001b[1m{\u001b[0m\n",
       "        \u001b[32m'cna'\u001b[0m: \u001b[1m{\u001b[0m\n",
       "            \u001b[32m'providerMetadata'\u001b[0m: \u001b[1m{\u001b[0m\n",
       "                \u001b[32m'orgId'\u001b[0m: \u001b[32m'1af790b2-7ee1-4545-860a-a788eba489b5'\u001b[0m,\n",
       "                \u001b[32m'shortName'\u001b[0m: \u001b[32m'VulDB'\u001b[0m,\n",
       "                \u001b[32m'dateUpdated'\u001b[0m: \u001b[32m'2025-06-12T02:31:05.302Z'\u001b[0m\n",
       "            \u001b[1m}\u001b[0m,\n",
       "            \u001b[32m'title'\u001b[0m: \u001b[32m'kiCode111 like-girl ipAddPost.php sql injection'\u001b[0m,\n",
       "            \u001b[32m'problemTypes'\u001b[0m: \u001b[1m[\u001b[0m\n",
       "                \u001b[1m{\u001b[0m\n",
       "                    \u001b[32m'descriptions'\u001b[0m: \u001b[1m[\u001b[0m\n",
       "                        \u001b[1m{\u001b[0m\u001b[32m'type'\u001b[0m: \u001b[32m'CWE'\u001b[0m, \u001b[32m'cweId'\u001b[0m: \u001b[32m'CWE-89'\u001b[0m, \u001b[32m'lang'\u001b[0m: \u001b[32m'en'\u001b[0m, \u001b[32m'description'\u001b[0m: \u001b[32m'SQL Injection'\u001b[0m\u001b[1m}\u001b[0m\n",
       "                    \u001b[1m]\u001b[0m\n",
       "                \u001b[1m}\u001b[0m,\n",
       "                \u001b[1m{\u001b[0m\u001b[32m'descriptions'\u001b[0m: \u001b[1m[\u001b[0m\u001b[1m{\u001b[0m\u001b[32m'type'\u001b[0m: \u001b[32m'CWE'\u001b[0m, \u001b[32m'cweId'\u001b[0m: \u001b[32m'CWE-74'\u001b[0m, \u001b[32m'lang'\u001b[0m: \u001b[32m'en'\u001b[0m, \u001b[32m'description'\u001b[0m: \u001b[32m'Injection'\u001b[0m\u001b[1m}\u001b[0m\u001b[1m]\u001b[0m\u001b[1m}\u001b[0m\n",
       "            \u001b[1m]\u001b[0m,\n",
       "            \u001b[32m'affected'\u001b[0m: \u001b[1m[\u001b[0m\n",
       "                \u001b[1m{\u001b[0m\n",
       "                    \u001b[32m'vendor'\u001b[0m: \u001b[32m'kiCode111'\u001b[0m,\n",
       "                    \u001b[32m'product'\u001b[0m: \u001b[32m'like-girl'\u001b[0m,\n",
       "                    \u001b[32m'versions'\u001b[0m: \u001b[1m[\u001b[0m\u001b[1m{\u001b[0m\u001b[32m'version'\u001b[0m: \u001b[32m'5.2.0'\u001b[0m, \u001b[32m'status'\u001b[0m: \u001b[32m'affected'\u001b[0m\u001b[1m}\u001b[0m\u001b[1m]\u001b[0m\n",
       "                \u001b[1m}\u001b[0m\n",
       "            \u001b[1m]\u001b[0m,\n",
       "            \u001b[32m'descriptions'\u001b[0m: \u001b[1m[\u001b[0m\n",
       "                \u001b[1m{\u001b[0m\n",
       "                    \u001b[32m'lang'\u001b[0m: \u001b[32m'en'\u001b[0m,\n",
       "                    \u001b[32m'value'\u001b[0m: \u001b[32m'A vulnerability was found in kiCode111 like-girl 5.2.0 and classified as critical. \u001b[0m\n",
       "\u001b[32mAffected by this issue is some unknown functionality of the file /admin/ipAddPost.php. The manipulation of the \u001b[0m\n",
       "\u001b[32margument bz/ipdz leads to sql injection. The attack may be launched remotely. The exploit has been disclosed to the\u001b[0m\n",
       "\u001b[32mpublic and may be used. The vendor was contacted early about this disclosure but did not respond in any way.'\u001b[0m\n",
       "                \u001b[1m}\u001b[0m,\n",
       "                \u001b[1m{\u001b[0m\n",
       "                    \u001b[32m'lang'\u001b[0m: \u001b[32m'de'\u001b[0m,\n",
       "                    \u001b[32m'value'\u001b[0m: \u001b[32m'Eine Schwachstelle wurde in kiCode111 like-girl 5.2.0 gefunden. Sie wurde als \u001b[0m\n",
       "\u001b[32mkritisch eingestuft. Dies betrifft einen unbekannten Teil der Datei /admin/ipAddPost.php. Durch das Beeinflussen \u001b[0m\n",
       "\u001b[32mdes Arguments bz/ipdz mit unbekannten Daten kann eine sql injection-Schwachstelle ausgenutzt werden. Der Angriff \u001b[0m\n",
       "\u001b[32mkann über das Netzwerk passieren. Der Exploit steht zur öffentlichen Verfügung.'\u001b[0m\n",
       "                \u001b[1m}\u001b[0m\n",
       "            \u001b[1m]\u001b[0m,\n",
       "            \u001b[32m'metrics'\u001b[0m: \u001b[1m[\u001b[0m\n",
       "                \u001b[1m{\u001b[0m\n",
       "                    \u001b[32m'cvssV4_0'\u001b[0m: \u001b[1m{\u001b[0m\n",
       "                        \u001b[32m'version'\u001b[0m: \u001b[32m'4.0'\u001b[0m,\n",
       "                        \u001b[32m'baseScore'\u001b[0m: \u001b[1;36m5.1\u001b[0m,\n",
       "                        \u001b[32m'vectorString'\u001b[0m: \u001b[32m'CVSS:4.0/AV:N/AC:L/AT:N/PR:H/UI:N/VC:L/VI:L/VA:L/SC:N/SI:N/SA:N/E:P'\u001b[0m,\n",
       "                        \u001b[32m'baseSeverity'\u001b[0m: \u001b[32m'MEDIUM'\u001b[0m\n",
       "                    \u001b[1m}\u001b[0m\n",
       "                \u001b[1m}\u001b[0m,\n",
       "                \u001b[1m{\u001b[0m\n",
       "                    \u001b[32m'cvssV3_1'\u001b[0m: \u001b[1m{\u001b[0m\n",
       "                        \u001b[32m'version'\u001b[0m: \u001b[32m'3.1'\u001b[0m,\n",
       "                        \u001b[32m'baseScore'\u001b[0m: \u001b[1;36m4.7\u001b[0m,\n",
       "                        \u001b[32m'vectorString'\u001b[0m: \u001b[32m'CVSS:3.1/AV:N/AC:L/PR:H/UI:N/S:U/C:L/I:L/A:L/E:P/RL:X/RC:R'\u001b[0m,\n",
       "                        \u001b[32m'baseSeverity'\u001b[0m: \u001b[32m'MEDIUM'\u001b[0m\n",
       "                    \u001b[1m}\u001b[0m\n",
       "                \u001b[1m}\u001b[0m,\n",
       "                \u001b[1m{\u001b[0m\n",
       "                    \u001b[32m'cvssV3_0'\u001b[0m: \u001b[1m{\u001b[0m\n",
       "                        \u001b[32m'version'\u001b[0m: \u001b[32m'3.0'\u001b[0m,\n",
       "                        \u001b[32m'baseScore'\u001b[0m: \u001b[1;36m4.7\u001b[0m,\n",
       "                        \u001b[32m'vectorString'\u001b[0m: \u001b[32m'CVSS:3.0/AV:N/AC:L/PR:H/UI:N/S:U/C:L/I:L/A:L/E:P/RL:X/RC:R'\u001b[0m,\n",
       "                        \u001b[32m'baseSeverity'\u001b[0m: \u001b[32m'MEDIUM'\u001b[0m\n",
       "                    \u001b[1m}\u001b[0m\n",
       "                \u001b[1m}\u001b[0m,\n",
       "                \u001b[1m{\u001b[0m\n",
       "                    \u001b[32m'cvssV2_0'\u001b[0m: \u001b[1m{\u001b[0m\n",
       "                        \u001b[32m'version'\u001b[0m: \u001b[32m'2.0'\u001b[0m,\n",
       "                        \u001b[32m'baseScore'\u001b[0m: \u001b[1;36m5.8\u001b[0m,\n",
       "                        \u001b[32m'vectorString'\u001b[0m: \u001b[32m'AV:N/AC:L/Au:M/C:P/I:P/A:P/E:POC/RL:ND/RC:UR'\u001b[0m\n",
       "                    \u001b[1m}\u001b[0m\n",
       "                \u001b[1m}\u001b[0m\n",
       "            \u001b[1m]\u001b[0m,\n",
       "            \u001b[32m'timeline'\u001b[0m: \u001b[1m[\u001b[0m\n",
       "                \u001b[1m{\u001b[0m\u001b[32m'time'\u001b[0m: \u001b[32m'2025-06-11T00:00:00.000Z'\u001b[0m, \u001b[32m'lang'\u001b[0m: \u001b[32m'en'\u001b[0m, \u001b[32m'value'\u001b[0m: \u001b[32m'Advisory disclosed'\u001b[0m\u001b[1m}\u001b[0m,\n",
       "                \u001b[1m{\u001b[0m\u001b[32m'time'\u001b[0m: \u001b[32m'2025-06-11T02:00:00.000Z'\u001b[0m, \u001b[32m'lang'\u001b[0m: \u001b[32m'en'\u001b[0m, \u001b[32m'value'\u001b[0m: \u001b[32m'VulDB entry created'\u001b[0m\u001b[1m}\u001b[0m,\n",
       "                \u001b[1m{\u001b[0m\u001b[32m'time'\u001b[0m: \u001b[32m'2025-06-11T20:58:26.000Z'\u001b[0m, \u001b[32m'lang'\u001b[0m: \u001b[32m'en'\u001b[0m, \u001b[32m'value'\u001b[0m: \u001b[32m'VulDB entry last update'\u001b[0m\u001b[1m}\u001b[0m\n",
       "            \u001b[1m]\u001b[0m,\n",
       "            \u001b[32m'credits'\u001b[0m: \u001b[1m[\u001b[0m\u001b[1m{\u001b[0m\u001b[32m'lang'\u001b[0m: \u001b[32m'en'\u001b[0m, \u001b[32m'value'\u001b[0m: \u001b[32m'kai_kk \u001b[0m\u001b[32m(\u001b[0m\u001b[32mVulDB User\u001b[0m\u001b[32m)\u001b[0m\u001b[32m'\u001b[0m, \u001b[32m'type'\u001b[0m: \u001b[32m'reporter'\u001b[0m\u001b[1m}\u001b[0m\u001b[1m]\u001b[0m,\n",
       "            \u001b[32m'references'\u001b[0m: \u001b[1m[\u001b[0m\n",
       "                \u001b[1m{\u001b[0m\n",
       "                    \u001b[32m'url'\u001b[0m: \u001b[32m'https://vuldb.com/?id.312332'\u001b[0m,\n",
       "                    \u001b[32m'name'\u001b[0m: \u001b[32m'VDB-312332 | kiCode111 like-girl ipAddPost.php sql injection'\u001b[0m,\n",
       "                    \u001b[32m'tags'\u001b[0m: \u001b[1m[\u001b[0m\u001b[32m'vdb-entry'\u001b[0m, \u001b[32m'technical-description'\u001b[0m\u001b[1m]\u001b[0m\n",
       "                \u001b[1m}\u001b[0m,\n",
       "                \u001b[1m{\u001b[0m\n",
       "                    \u001b[32m'url'\u001b[0m: \u001b[32m'https://vuldb.com/?ctiid.312332'\u001b[0m,\n",
       "                    \u001b[32m'name'\u001b[0m: \u001b[32m'VDB-312332 | CTI Indicators \u001b[0m\u001b[32m(\u001b[0m\u001b[32mIOB, IOC, TTP, IOA\u001b[0m\u001b[32m)\u001b[0m\u001b[32m'\u001b[0m,\n",
       "                    \u001b[32m'tags'\u001b[0m: \u001b[1m[\u001b[0m\u001b[32m'signature'\u001b[0m, \u001b[32m'permissions-required'\u001b[0m\u001b[1m]\u001b[0m\n",
       "                \u001b[1m}\u001b[0m,\n",
       "                \u001b[1m{\u001b[0m\n",
       "                    \u001b[32m'url'\u001b[0m: \u001b[32m'https://vuldb.com/?submit.588092'\u001b[0m,\n",
       "                    \u001b[32m'name'\u001b[0m: \u001b[32m'Submit #588092 | https://gitee.com/kiCode111/like-girl-v5.2.0 like-girl-v5.2.0 5.2.0 \u001b[0m\n",
       "\u001b[32mSQL Injection'\u001b[0m,\n",
       "                    \u001b[32m'tags'\u001b[0m: \u001b[1m[\u001b[0m\u001b[32m'third-party-advisory'\u001b[0m\u001b[1m]\u001b[0m\n",
       "                \u001b[1m}\u001b[0m,\n",
       "                \u001b[1m{\u001b[0m\u001b[32m'url'\u001b[0m: \u001b[32m'https://github.com/adminnerr/cve/issues/11'\u001b[0m, \u001b[32m'tags'\u001b[0m: \u001b[1m[\u001b[0m\u001b[32m'exploit'\u001b[0m, \u001b[32m'issue-tracking'\u001b[0m\u001b[1m]\u001b[0m\u001b[1m}\u001b[0m\n",
       "            \u001b[1m]\u001b[0m\n",
       "        \u001b[1m}\u001b[0m,\n",
       "        \u001b[32m'adp'\u001b[0m: \u001b[1m[\u001b[0m\n",
       "            \u001b[1m{\u001b[0m\n",
       "                \u001b[32m'references'\u001b[0m: \u001b[1m[\u001b[0m\u001b[1m{\u001b[0m\u001b[32m'url'\u001b[0m: \u001b[32m'https://github.com/adminnerr/cve/issues/11'\u001b[0m, \u001b[32m'tags'\u001b[0m: \u001b[1m[\u001b[0m\u001b[32m'exploit'\u001b[0m\u001b[1m]\u001b[0m\u001b[1m}\u001b[0m\u001b[1m]\u001b[0m,\n",
       "                \u001b[32m'metrics'\u001b[0m: \u001b[1m[\u001b[0m\n",
       "                    \u001b[1m{\u001b[0m\n",
       "                        \u001b[32m'other'\u001b[0m: \u001b[1m{\u001b[0m\n",
       "                            \u001b[32m'type'\u001b[0m: \u001b[32m'ssvc'\u001b[0m,\n",
       "                            \u001b[32m'content'\u001b[0m: \u001b[1m{\u001b[0m\n",
       "                                \u001b[32m'timestamp'\u001b[0m: \u001b[32m'2025-06-12T13:08:50.236173Z'\u001b[0m,\n",
       "                                \u001b[32m'id'\u001b[0m: \u001b[32m'CVE-2025-6009'\u001b[0m,\n",
       "                                \u001b[32m'options'\u001b[0m: \u001b[1m[\u001b[0m\n",
       "                                    \u001b[1m{\u001b[0m\u001b[32m'Exploitation'\u001b[0m: \u001b[32m'poc'\u001b[0m\u001b[1m}\u001b[0m,\n",
       "                                    \u001b[1m{\u001b[0m\u001b[32m'Automatable'\u001b[0m: \u001b[32m'no'\u001b[0m\u001b[1m}\u001b[0m,\n",
       "                                    \u001b[1m{\u001b[0m\u001b[32m'Technical Impact'\u001b[0m: \u001b[32m'partial'\u001b[0m\u001b[1m}\u001b[0m\n",
       "                                \u001b[1m]\u001b[0m,\n",
       "                                \u001b[32m'role'\u001b[0m: \u001b[32m'CISA Coordinator'\u001b[0m,\n",
       "                                \u001b[32m'version'\u001b[0m: \u001b[32m'2.0.3'\u001b[0m\n",
       "                            \u001b[1m}\u001b[0m\n",
       "                        \u001b[1m}\u001b[0m\n",
       "                    \u001b[1m}\u001b[0m\n",
       "                \u001b[1m]\u001b[0m,\n",
       "                \u001b[32m'title'\u001b[0m: \u001b[32m'CISA ADP Vulnrichment'\u001b[0m,\n",
       "                \u001b[32m'providerMetadata'\u001b[0m: \u001b[1m{\u001b[0m\n",
       "                    \u001b[32m'orgId'\u001b[0m: \u001b[32m'134c704f-9b21-4f2e-91b3-4a467353bcc0'\u001b[0m,\n",
       "                    \u001b[32m'shortName'\u001b[0m: \u001b[32m'CISA-ADP'\u001b[0m,\n",
       "                    \u001b[32m'dateUpdated'\u001b[0m: \u001b[32m'2025-06-12T13:09:09.063Z'\u001b[0m\n",
       "                \u001b[1m}\u001b[0m\n",
       "            \u001b[1m}\u001b[0m\n",
       "        \u001b[1m]\u001b[0m\n",
       "    \u001b[1m}\u001b[0m\n",
       "\u001b[1m}\u001b[0m\n"
      ]
     },
     "metadata": {},
     "output_type": "display_data"
    }
   ],
   "source": [
    "from rich import print\n",
    "print(text)"
   ]
  },
  {
   "cell_type": "code",
   "execution_count": 19,
   "id": "b1af8324",
   "metadata": {},
   "outputs": [
    {
     "data": {
      "text/html": [
       "<pre style=\"white-space:pre;overflow-x:auto;line-height:normal;font-family:Menlo,'DejaVu Sans Mono',consolas,'Courier New',monospace\"><span style=\"font-weight: bold\">[</span>\n",
       "    <span style=\"color: #800080; text-decoration-color: #800080; font-weight: bold\">Document</span><span style=\"font-weight: bold\">(</span>\n",
       "        <span style=\"color: #808000; text-decoration-color: #808000\">metadata</span>=<span style=\"font-weight: bold\">{}</span>,\n",
       "        <span style=\"color: #808000; text-decoration-color: #808000\">page_content</span>=<span style=\"color: #008000; text-decoration-color: #008000\">\"\\nThe Apollo 11 mission was a landmark achievement in human history. On July 20, 1969, </span>\n",
       "<span style=\"color: #008000; text-decoration-color: #008000\">astronauts Neil Armstrong and Buzz Aldrin became the first humans to walk on the moon. The mission's primary </span>\n",
       "<span style=\"color: #008000; text-decoration-color: #008000\">objective was to complete a national goal set by President John F. Kennedy. The Saturn V rocket, a technological </span>\n",
       "<span style=\"color: #008000; text-decoration-color: #008000\">marvel, propelled the astronauts on their journey. Data collected during the mission provided invaluable insights </span>\n",
       "<span style=\"color: #008000; text-decoration-color: #008000\">into the moon's geology. Deep-sea exploration presents its own set of unique challenges.\"</span>\n",
       "    <span style=\"font-weight: bold\">)</span>,\n",
       "    <span style=\"color: #800080; text-decoration-color: #800080; font-weight: bold\">Document</span><span style=\"font-weight: bold\">(</span>\n",
       "        <span style=\"color: #808000; text-decoration-color: #808000\">metadata</span>=<span style=\"font-weight: bold\">{}</span>,\n",
       "        <span style=\"color: #808000; text-decoration-color: #808000\">page_content</span>=<span style=\"color: #008000; text-decoration-color: #008000\">'Dr. Robert Ballard is famous for discovering the wreck of the Titanic in 1985. He used a </span>\n",
       "<span style=\"color: #008000; text-decoration-color: #008000\">remotely operated vehicle (ROV) named Argo to survey the ocean floor. The immense pressure and complete darkness of</span>\n",
       "<span style=\"color: #008000; text-decoration-color: #008000\">the deep ocean require specialized equipment. Hydrothermal vents, discovered in the deep sea, host unique </span>\n",
       "<span style=\"color: #008000; text-decoration-color: #008000\">ecosystems that thrive without sunlight. '</span>\n",
       "    <span style=\"font-weight: bold\">)</span>\n",
       "<span style=\"font-weight: bold\">]</span>\n",
       "</pre>\n"
      ],
      "text/plain": [
       "\u001b[1m[\u001b[0m\n",
       "    \u001b[1;35mDocument\u001b[0m\u001b[1m(\u001b[0m\n",
       "        \u001b[33mmetadata\u001b[0m=\u001b[1m{\u001b[0m\u001b[1m}\u001b[0m,\n",
       "        \u001b[33mpage_content\u001b[0m=\u001b[32m\"\\nThe Apollo 11 mission was a landmark achievement in human history. On July 20, 1969, \u001b[0m\n",
       "\u001b[32mastronauts Neil Armstrong and Buzz Aldrin became the first humans to walk on the moon. The mission's primary \u001b[0m\n",
       "\u001b[32mobjective was to complete a national goal set by President John F. Kennedy. The Saturn V rocket, a technological \u001b[0m\n",
       "\u001b[32mmarvel, propelled the astronauts on their journey. Data collected during the mission provided invaluable insights \u001b[0m\n",
       "\u001b[32minto the moon's geology. Deep-sea exploration presents its own set of unique challenges.\"\u001b[0m\n",
       "    \u001b[1m)\u001b[0m,\n",
       "    \u001b[1;35mDocument\u001b[0m\u001b[1m(\u001b[0m\n",
       "        \u001b[33mmetadata\u001b[0m=\u001b[1m{\u001b[0m\u001b[1m}\u001b[0m,\n",
       "        \u001b[33mpage_content\u001b[0m=\u001b[32m'Dr. Robert Ballard is famous for discovering the wreck of the Titanic in 1985. He used a \u001b[0m\n",
       "\u001b[32mremotely operated vehicle \u001b[0m\u001b[32m(\u001b[0m\u001b[32mROV\u001b[0m\u001b[32m)\u001b[0m\u001b[32m named Argo to survey the ocean floor. The immense pressure and complete darkness of\u001b[0m\n",
       "\u001b[32mthe deep ocean require specialized equipment. Hydrothermal vents, discovered in the deep sea, host unique \u001b[0m\n",
       "\u001b[32mecosystems that thrive without sunlight. '\u001b[0m\n",
       "    \u001b[1m)\u001b[0m\n",
       "\u001b[1m]\u001b[0m\n"
      ]
     },
     "metadata": {},
     "output_type": "display_data"
    }
   ],
   "source": [
    "from langchain_experimental.text_splitter import SemanticChunker\n",
    "from rich import print\n",
    "text_splitter = SemanticChunker(embedding)\n",
    "text_splitter = SemanticChunker(\n",
    "    embedding, breakpoint_threshold_type=\"percentile\" # \"standard_deviation\", \"interquartile\"\n",
    ")\n",
    "documents = text_splitter.create_documents([text])\n",
    "print(documents)"
   ]
  },
  {
   "cell_type": "code",
   "execution_count": 13,
   "id": "f41f9bc2",
   "metadata": {},
   "outputs": [
    {
     "name": "stderr",
     "output_type": "stream",
     "text": [
      "/Users/abhijit/miniforge3/envs/chatbot/lib/python3.13/site-packages/langsmith/client.py:272: LangSmithMissingAPIKeyWarning: API key must be provided when using hosted LangSmith API\n",
      "  warnings.warn(\n"
     ]
    },
    {
     "ename": "AttributeError",
     "evalue": "'dict' object has no attribute 'strip'",
     "output_type": "error",
     "traceback": [
      "\u001b[0;31m---------------------------------------------------------------------------\u001b[0m",
      "\u001b[0;31mAttributeError\u001b[0m                            Traceback (most recent call last)",
      "Cell \u001b[0;32mIn[13], line 69\u001b[0m\n\u001b[1;32m     57\u001b[0m     \u001b[38;5;28;01mreturn\u001b[39;00m structured_output\u001b[38;5;241m.\u001b[39msentences\n\u001b[1;32m     59\u001b[0m \u001b[38;5;66;03m# --- Main Execution ---\u001b[39;00m\n\u001b[1;32m     60\u001b[0m \n\u001b[1;32m     61\u001b[0m \u001b[38;5;66;03m# Sample text to process\u001b[39;00m\n\u001b[0;32m   (...)\u001b[0m\n\u001b[1;32m     67\u001b[0m \n\u001b[1;32m     68\u001b[0m \u001b[38;5;66;03m# Split the text into paragraphs and process the first 5\u001b[39;00m\n\u001b[0;32m---> 69\u001b[0m paragraphs \u001b[38;5;241m=\u001b[39m \u001b[43mtext\u001b[49m\u001b[38;5;241;43m.\u001b[39;49m\u001b[43mstrip\u001b[49m()\u001b[38;5;241m.\u001b[39msplit(\u001b[38;5;124m\"\u001b[39m\u001b[38;5;130;01m\\n\u001b[39;00m\u001b[38;5;130;01m\\n\u001b[39;00m\u001b[38;5;124m\"\u001b[39m)\n\u001b[1;32m     70\u001b[0m text_propositions \u001b[38;5;241m=\u001b[39m []\n\u001b[1;32m     72\u001b[0m \u001b[38;5;28mprint\u001b[39m(\u001b[38;5;124m\"\u001b[39m\u001b[38;5;124mStarting proposition extraction...\u001b[39m\u001b[38;5;124m\"\u001b[39m)\n",
      "\u001b[0;31mAttributeError\u001b[0m: 'dict' object has no attribute 'strip'"
     ]
    }
   ],
   "source": [
    "import os\n",
    "from typing import List\n",
    "# from dotenv import load_dotenv\n",
    "\n",
    "from langchain import hub\n",
    "from langchain_groq import ChatGroq\n",
    "from pydantic import BaseModel, Field\n",
    "\n",
    "# --- Setup ---\n",
    "# Load environment variables from .env file\n",
    "# load_dotenv()\n",
    "\n",
    "# Define the structured data model we want to extract\n",
    "class Sentences(BaseModel):\n",
    "    \"\"\"A list of sentences.\"\"\"\n",
    "    sentences: List[str] = Field(description=\"A list of sentences extracted from the text.\")\n",
    "\n",
    "# --- LLM and Prompt Initialization ---\n",
    "\n",
    "# Pull the pre-made prompt for propositionizing text from LangChain Hub\n",
    "obj = hub.pull(\"wfh/proposal-indexing\")\n",
    "\n",
    "# Initialize the ChatGroq LLM\n",
    "# The API key is read automatically from the GROQ_API_KEY environment variable\n",
    "llm = ChatGroq(\n",
    "    temperature=0,\n",
    "    model_name=\"llama3-70b-8192\",\n",
    "    api_key=\"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\"\n",
    ")\n",
    "\n",
    "# --- Chains ---\n",
    "\n",
    "# This is the modern way to create an extraction chain.\n",
    "# It chains the LLM with the desired output structure (our Sentences class).\n",
    "extractor = llm.with_structured_output(Sentences)\n",
    "\n",
    "# This is the first step, which processes the raw text using the prompt from the Hub.\n",
    "runnable = obj | llm\n",
    "\n",
    "def get_propositions(text: str) -> List[str]:\n",
    "    \"\"\"\n",
    "    Extracts a list of propositions from a given text.\n",
    "    \n",
    "    Args:\n",
    "        text: The input text paragraph.\n",
    "    \n",
    "    Returns:\n",
    "        A list of strings, where each string is a proposition.\n",
    "    \"\"\"\n",
    "    # Step 1: Get the initial processed text from the hub prompt\n",
    "    runnable_output = runnable.invoke({\"input\": text}).content\n",
    "    \n",
    "    # Step 2: Use the new structured output extractor to get the list of sentences\n",
    "    # This replaces the old, problematic create_extraction_chain_pydantic\n",
    "    structured_output = extractor.invoke(runnable_output)\n",
    "    \n",
    "    return structured_output.sentences\n",
    "\n",
    "# --- Main Execution ---\n",
    "\n",
    "# Sample text to process\n",
    "# text = \"\"\"\n",
    "# The Apollo 11 mission was a landmark achievement in human history. On July 20, 1969, astronauts Neil Armstrong and Buzz Aldrin became the first humans to walk on the moon. The mission's primary objective was to complete a national goal set by President John F. Kennedy. The Saturn V rocket, a technological marvel, propelled the astronauts on their journey.\n",
    "\n",
    "# Deep-sea exploration presents its own set of unique challenges. Dr. Robert Ballard is famous for discovering the wreck of the Titanic in 1985. He used a remotely operated vehicle (ROV) named Argo to survey the ocean floor. The immense pressure and complete darkness of the deep ocean require specialized equipment.\n",
    "# \"\"\"\n",
    "\n",
    "# Split the text into paragraphs and process the first 5\n",
    "paragraphs = text.strip().split(\"\\n\\n\")\n",
    "text_propositions = []\n",
    "\n",
    "print(\"Starting proposition extraction...\")\n",
    "for i, para in enumerate(paragraphs[:5]):\n",
    "    if para: # Ensure the paragraph is not empty\n",
    "        propositions = get_propositions(para)\n",
    "        text_propositions.extend(propositions)\n",
    "        print(f\"Done processing paragraph {i+1}...\")\n",
    "\n",
    "print(\"\\n\" + \"=\"*30)\n",
    "print(f\"Extraction complete. You have {len(text_propositions)} propositions.\")\n",
    "print(\"First 10 propositions:\")\n",
    "for i, prop in enumerate(text_propositions[:10]):\n",
    "    print(f\"{i+1}. {prop}\")"
   ]
  },
  {
   "cell_type": "code",
   "execution_count": 23,
   "id": "2cbf5bd0",
   "metadata": {},
   "outputs": [
    {
     "data": {
      "text/html": [
       "<pre style=\"white-space:pre;overflow-x:auto;line-height:normal;font-family:Menlo,'DejaVu Sans Mono',consolas,'Courier New',monospace\">\n",
       "<span style=\"font-weight: bold\">Adding</span>: <span style=\"color: #008000; text-decoration-color: #008000\">'The Apollo 11 mission was a landmark achievement in human history.'</span>\n",
       "</pre>\n"
      ],
      "text/plain": [
       "\n",
       "\u001b[1mAdding\u001b[0m: \u001b[32m'The Apollo 11 mission was a landmark achievement in human history.'\u001b[0m\n"
      ]
     },
     "metadata": {},
     "output_type": "display_data"
    },
    {
     "data": {
      "text/html": [
       "<pre style=\"white-space:pre;overflow-x:auto;line-height:normal;font-family:Menlo,'DejaVu Sans Mono',consolas,'Courier New',monospace\"><span style=\"font-style: italic\">No chunks exist, creating a new one</span><span style=\"color: #808000; text-decoration-color: #808000; font-style: italic\">...</span>\n",
       "</pre>\n"
      ],
      "text/plain": [
       "\u001b[3mNo chunks exist, creating a new one\u001b[0m\u001b[3;33m...\u001b[0m\n"
      ]
     },
     "metadata": {},
     "output_type": "display_data"
    },
    {
     "data": {
      "text/html": [
       "<pre style=\"white-space:pre;overflow-x:auto;line-height:normal;font-family:Menlo,'DejaVu Sans Mono',consolas,'Courier New',monospace\"><span style=\"color: #000080; text-decoration-color: #000080; font-weight: bold\">Created new chunk (ba06f): Historical Events</span>\n",
       "</pre>\n"
      ],
      "text/plain": [
       "\u001b[1;34mCreated new chunk \u001b[0m\u001b[1;34m(\u001b[0m\u001b[1;34mba06f\u001b[0m\u001b[1;34m)\u001b[0m\u001b[1;34m: Historical Events\u001b[0m\n"
      ]
     },
     "metadata": {},
     "output_type": "display_data"
    },
    {
     "data": {
      "text/html": [
       "<pre style=\"white-space:pre;overflow-x:auto;line-height:normal;font-family:Menlo,'DejaVu Sans Mono',consolas,'Courier New',monospace\">\n",
       "<span style=\"font-weight: bold\">Adding</span>: <span style=\"color: #008000; text-decoration-color: #008000\">'The Apollo 11 mission occurred on July 20, 1969.'</span>\n",
       "</pre>\n"
      ],
      "text/plain": [
       "\n",
       "\u001b[1mAdding\u001b[0m: \u001b[32m'The Apollo 11 mission occurred on July 20, 1969.'\u001b[0m\n"
      ]
     },
     "metadata": {},
     "output_type": "display_data"
    },
    {
     "data": {
      "text/html": [
       "<pre style=\"white-space:pre;overflow-x:auto;line-height:normal;font-family:Menlo,'DejaVu Sans Mono',consolas,'Courier New',monospace\"><span style=\"color: #008000; text-decoration-color: #008000\">Chunk Found </span><span style=\"color: #008000; text-decoration-color: #008000; font-weight: bold\">(</span><span style=\"color: #008000; text-decoration-color: #008000\">ba06f</span><span style=\"color: #008000; text-decoration-color: #008000; font-weight: bold\">)</span><span style=\"color: #008000; text-decoration-color: #008000\">, adding to: Historical Events</span>\n",
       "</pre>\n"
      ],
      "text/plain": [
       "\u001b[32mChunk Found \u001b[0m\u001b[1;32m(\u001b[0m\u001b[32mba06f\u001b[0m\u001b[1;32m)\u001b[0m\u001b[32m, adding to: Historical Events\u001b[0m\n"
      ]
     },
     "metadata": {},
     "output_type": "display_data"
    },
    {
     "data": {
      "text/html": [
       "<pre style=\"white-space:pre;overflow-x:auto;line-height:normal;font-family:Menlo,'DejaVu Sans Mono',consolas,'Courier New',monospace\">\n",
       "<span style=\"font-weight: bold\">Adding</span>: <span style=\"color: #008000; text-decoration-color: #008000\">'Astronauts Neil Armstrong and Buzz Aldrin became the first humans to walk on the moon.'</span>\n",
       "</pre>\n"
      ],
      "text/plain": [
       "\n",
       "\u001b[1mAdding\u001b[0m: \u001b[32m'Astronauts Neil Armstrong and Buzz Aldrin became the first humans to walk on the moon.'\u001b[0m\n"
      ]
     },
     "metadata": {},
     "output_type": "display_data"
    },
    {
     "data": {
      "text/html": [
       "<pre style=\"white-space:pre;overflow-x:auto;line-height:normal;font-family:Menlo,'DejaVu Sans Mono',consolas,'Courier New',monospace\"><span style=\"color: #800000; text-decoration-color: #800000\">Could not parse chunk ID from response: </span><span style=\"color: #800000; text-decoration-color: #800000\">'ba06f'</span><span style=\"color: #800000; text-decoration-color: #800000\">. Error: Invalid json output: Based on the provided schema and text,</span>\n",
       "<span style=\"color: #800000; text-decoration-color: #800000\">I will extract the chunk ID and format it as a JSON instance conforming to the output schema.</span>\n",
       "\n",
       "<span style=\"color: #800000; text-decoration-color: #800000\">Here is the extracted chunk ID:</span>\n",
       "<span style=\"color: #800000; text-decoration-color: #800000\">```</span>\n",
       "<span style=\"color: #800000; text-decoration-color: #800000\">\"ba06f\"</span>\n",
       "<span style=\"color: #800000; text-decoration-color: #800000\">```</span>\n",
       "<span style=\"color: #800000; text-decoration-color: #800000\">And here is the formatted JSON instance:</span>\n",
       "<span style=\"color: #800000; text-decoration-color: #800000\">```</span>\n",
       "<span style=\"color: #800000; text-decoration-color: #800000; font-weight: bold\">{</span>\n",
       "<span style=\"color: #800000; text-decoration-color: #800000\">  </span><span style=\"color: #800000; text-decoration-color: #800000\">\"chunk_id\"</span><span style=\"color: #800000; text-decoration-color: #800000\">: </span><span style=\"color: #800000; text-decoration-color: #800000\">\"ba06f\"</span>\n",
       "<span style=\"color: #800000; text-decoration-color: #800000; font-weight: bold\">}</span>\n",
       "<span style=\"color: #800000; text-decoration-color: #800000\">```</span>\n",
       "<span style=\"color: #800000; text-decoration-color: #800000\">This JSON instance conforms to the output schema:</span>\n",
       "<span style=\"color: #800000; text-decoration-color: #800000\">```</span>\n",
       "<span style=\"color: #800000; text-decoration-color: #800000; font-weight: bold\">{</span>\n",
       "<span style=\"color: #800000; text-decoration-color: #800000\">  </span><span style=\"color: #800000; text-decoration-color: #800000\">\"description\"</span><span style=\"color: #800000; text-decoration-color: #800000\">: </span><span style=\"color: #800000; text-decoration-color: #800000\">\"Extracting the chunk id\"</span><span style=\"color: #800000; text-decoration-color: #800000\">,</span>\n",
       "<span style=\"color: #800000; text-decoration-color: #800000\">  </span><span style=\"color: #800000; text-decoration-color: #800000\">\"properties\"</span><span style=\"color: #800000; text-decoration-color: #800000\">: </span><span style=\"color: #800000; text-decoration-color: #800000; font-weight: bold\">{</span>\n",
       "<span style=\"color: #800000; text-decoration-color: #800000\">    </span><span style=\"color: #800000; text-decoration-color: #800000\">\"chunk_id\"</span><span style=\"color: #800000; text-decoration-color: #800000\">: </span><span style=\"color: #800000; text-decoration-color: #800000; font-weight: bold\">{</span>\n",
       "<span style=\"color: #800000; text-decoration-color: #800000\">      </span><span style=\"color: #800000; text-decoration-color: #800000\">\"anyOf\"</span><span style=\"color: #800000; text-decoration-color: #800000\">: </span><span style=\"color: #800000; text-decoration-color: #800000; font-weight: bold\">[</span>\n",
       "<span style=\"color: #800000; text-decoration-color: #800000\">        </span><span style=\"color: #800000; text-decoration-color: #800000; font-weight: bold\">{</span><span style=\"color: #800000; text-decoration-color: #800000\">\"type\"</span><span style=\"color: #800000; text-decoration-color: #800000\">: </span><span style=\"color: #800000; text-decoration-color: #800000\">\"string\"</span><span style=\"color: #800000; text-decoration-color: #800000; font-weight: bold\">}</span><span style=\"color: #800000; text-decoration-color: #800000\">,</span>\n",
       "<span style=\"color: #800000; text-decoration-color: #800000\">        </span><span style=\"color: #800000; text-decoration-color: #800000; font-weight: bold\">{</span><span style=\"color: #800000; text-decoration-color: #800000\">\"type\"</span><span style=\"color: #800000; text-decoration-color: #800000\">: </span><span style=\"color: #800000; text-decoration-color: #800000\">\"null\"</span><span style=\"color: #800000; text-decoration-color: #800000; font-weight: bold\">}</span>\n",
       "<span style=\"color: #800000; text-decoration-color: #800000\">      </span><span style=\"color: #800000; text-decoration-color: #800000; font-weight: bold\">]</span><span style=\"color: #800000; text-decoration-color: #800000\">,</span>\n",
       "<span style=\"color: #800000; text-decoration-color: #800000\">      </span><span style=\"color: #800000; text-decoration-color: #800000\">\"default\"</span><span style=\"color: #800000; text-decoration-color: #800000\">: null,</span>\n",
       "<span style=\"color: #800000; text-decoration-color: #800000\">      </span><span style=\"color: #800000; text-decoration-color: #800000\">\"title\"</span><span style=\"color: #800000; text-decoration-color: #800000\">: </span><span style=\"color: #800000; text-decoration-color: #800000\">\"Chunk Id\"</span>\n",
       "<span style=\"color: #800000; text-decoration-color: #800000; font-weight: bold\">}</span>\n",
       "<span style=\"color: #800000; text-decoration-color: #800000; font-weight: bold\">}</span>\n",
       "<span style=\"color: #800000; text-decoration-color: #800000\">```</span>\n",
       "<span style=\"color: #800000; text-decoration-color: #800000\">For troubleshooting, visit: </span><span style=\"color: #800000; text-decoration-color: #800000; text-decoration: underline\">https://python.langchain.com/docs/troubleshooting/errors/OUTPUT_PARSING_FAILURE</span><span style=\"color: #800000; text-decoration-color: #800000\"> </span>\n",
       "</pre>\n"
      ],
      "text/plain": [
       "\u001b[31mCould not parse chunk ID from response: \u001b[0m\u001b[31m'ba06f'\u001b[0m\u001b[31m. Error: Invalid json output: Based on the provided schema and text,\u001b[0m\n",
       "\u001b[31mI will extract the chunk ID and format it as a JSON instance conforming to the output schema.\u001b[0m\n",
       "\n",
       "\u001b[31mHere is the extracted chunk ID:\u001b[0m\n",
       "\u001b[31m```\u001b[0m\n",
       "\u001b[31m\"ba06f\"\u001b[0m\n",
       "\u001b[31m```\u001b[0m\n",
       "\u001b[31mAnd here is the formatted JSON instance:\u001b[0m\n",
       "\u001b[31m```\u001b[0m\n",
       "\u001b[1;31m{\u001b[0m\n",
       "\u001b[31m  \u001b[0m\u001b[31m\"chunk_id\"\u001b[0m\u001b[31m: \u001b[0m\u001b[31m\"ba06f\"\u001b[0m\n",
       "\u001b[1;31m}\u001b[0m\n",
       "\u001b[31m```\u001b[0m\n",
       "\u001b[31mThis JSON instance conforms to the output schema:\u001b[0m\n",
       "\u001b[31m```\u001b[0m\n",
       "\u001b[1;31m{\u001b[0m\n",
       "\u001b[31m  \u001b[0m\u001b[31m\"description\"\u001b[0m\u001b[31m: \u001b[0m\u001b[31m\"Extracting the chunk id\"\u001b[0m\u001b[31m,\u001b[0m\n",
       "\u001b[31m  \u001b[0m\u001b[31m\"properties\"\u001b[0m\u001b[31m: \u001b[0m\u001b[1;31m{\u001b[0m\n",
       "\u001b[31m    \u001b[0m\u001b[31m\"chunk_id\"\u001b[0m\u001b[31m: \u001b[0m\u001b[1;31m{\u001b[0m\n",
       "\u001b[31m      \u001b[0m\u001b[31m\"anyOf\"\u001b[0m\u001b[31m: \u001b[0m\u001b[1;31m[\u001b[0m\n",
       "\u001b[31m        \u001b[0m\u001b[1;31m{\u001b[0m\u001b[31m\"type\"\u001b[0m\u001b[31m: \u001b[0m\u001b[31m\"string\"\u001b[0m\u001b[1;31m}\u001b[0m\u001b[31m,\u001b[0m\n",
       "\u001b[31m        \u001b[0m\u001b[1;31m{\u001b[0m\u001b[31m\"type\"\u001b[0m\u001b[31m: \u001b[0m\u001b[31m\"null\"\u001b[0m\u001b[1;31m}\u001b[0m\n",
       "\u001b[31m      \u001b[0m\u001b[1;31m]\u001b[0m\u001b[31m,\u001b[0m\n",
       "\u001b[31m      \u001b[0m\u001b[31m\"default\"\u001b[0m\u001b[31m: null,\u001b[0m\n",
       "\u001b[31m      \u001b[0m\u001b[31m\"title\"\u001b[0m\u001b[31m: \u001b[0m\u001b[31m\"Chunk Id\"\u001b[0m\n",
       "\u001b[1;31m}\u001b[0m\n",
       "\u001b[1;31m}\u001b[0m\n",
       "\u001b[31m```\u001b[0m\n",
       "\u001b[31mFor troubleshooting, visit: \u001b[0m\u001b[4;31mhttps://python.langchain.com/docs/troubleshooting/errors/OUTPUT_PARSING_FAILURE\u001b[0m\u001b[31m \u001b[0m\n"
      ]
     },
     "metadata": {},
     "output_type": "display_data"
    },
    {
     "data": {
      "text/html": [
       "<pre style=\"white-space:pre;overflow-x:auto;line-height:normal;font-family:Menlo,'DejaVu Sans Mono',consolas,'Courier New',monospace\"><span style=\"color: #808000; text-decoration-color: #808000\">No relevant chunk found, creating a new one...</span>\n",
       "</pre>\n"
      ],
      "text/plain": [
       "\u001b[33mNo relevant chunk found, creating a new one\u001b[0m\u001b[33m...\u001b[0m\n"
      ]
     },
     "metadata": {},
     "output_type": "display_data"
    },
    {
     "data": {
      "text/html": [
       "<pre style=\"white-space:pre;overflow-x:auto;line-height:normal;font-family:Menlo,'DejaVu Sans Mono',consolas,'Courier New',monospace\"><span style=\"color: #000080; text-decoration-color: #000080; font-weight: bold\">Created new chunk (3c14d): Space Exploration Milestones</span>\n",
       "</pre>\n"
      ],
      "text/plain": [
       "\u001b[1;34mCreated new chunk \u001b[0m\u001b[1;34m(\u001b[0m\u001b[1;34m3c14d\u001b[0m\u001b[1;34m)\u001b[0m\u001b[1;34m: Space Exploration Milestones\u001b[0m\n"
      ]
     },
     "metadata": {},
     "output_type": "display_data"
    },
    {
     "data": {
      "text/html": [
       "<pre style=\"white-space:pre;overflow-x:auto;line-height:normal;font-family:Menlo,'DejaVu Sans Mono',consolas,'Courier New',monospace\">\n",
       "<span style=\"font-weight: bold\">Adding</span>: <span style=\"color: #008000; text-decoration-color: #008000\">'The mission'</span>s primary objective was to complete a national goal.'\n",
       "</pre>\n"
      ],
      "text/plain": [
       "\n",
       "\u001b[1mAdding\u001b[0m: \u001b[32m'The mission'\u001b[0ms primary objective was to complete a national goal.'\n"
      ]
     },
     "metadata": {},
     "output_type": "display_data"
    },
    {
     "data": {
      "text/html": [
       "<pre style=\"white-space:pre;overflow-x:auto;line-height:normal;font-family:Menlo,'DejaVu Sans Mono',consolas,'Courier New',monospace\"><span style=\"color: #008000; text-decoration-color: #008000\">Chunk Found </span><span style=\"color: #008000; text-decoration-color: #008000; font-weight: bold\">(</span><span style=\"color: #008000; text-decoration-color: #008000\">3c14d</span><span style=\"color: #008000; text-decoration-color: #008000; font-weight: bold\">)</span><span style=\"color: #008000; text-decoration-color: #008000\">, adding to: Space Exploration Milestones</span>\n",
       "</pre>\n"
      ],
      "text/plain": [
       "\u001b[32mChunk Found \u001b[0m\u001b[1;32m(\u001b[0m\u001b[32m3c14d\u001b[0m\u001b[1;32m)\u001b[0m\u001b[32m, adding to: Space Exploration Milestones\u001b[0m\n"
      ]
     },
     "metadata": {},
     "output_type": "display_data"
    },
    {
     "data": {
      "text/html": [
       "<pre style=\"white-space:pre;overflow-x:auto;line-height:normal;font-family:Menlo,'DejaVu Sans Mono',consolas,'Courier New',monospace\">\n",
       "<span style=\"font-weight: bold\">Adding</span>: <span style=\"color: #008000; text-decoration-color: #008000\">'The national goal was set by President John F. Kennedy.'</span>\n",
       "</pre>\n"
      ],
      "text/plain": [
       "\n",
       "\u001b[1mAdding\u001b[0m: \u001b[32m'The national goal was set by President John F. Kennedy.'\u001b[0m\n"
      ]
     },
     "metadata": {},
     "output_type": "display_data"
    },
    {
     "data": {
      "text/html": [
       "<pre style=\"white-space:pre;overflow-x:auto;line-height:normal;font-family:Menlo,'DejaVu Sans Mono',consolas,'Courier New',monospace\"><span style=\"color: #008000; text-decoration-color: #008000\">Chunk Found </span><span style=\"color: #008000; text-decoration-color: #008000; font-weight: bold\">(</span><span style=\"color: #008000; text-decoration-color: #008000\">3c14d</span><span style=\"color: #008000; text-decoration-color: #008000; font-weight: bold\">)</span><span style=\"color: #008000; text-decoration-color: #008000\">, adding to: Historic Achievements</span>\n",
       "</pre>\n"
      ],
      "text/plain": [
       "\u001b[32mChunk Found \u001b[0m\u001b[1;32m(\u001b[0m\u001b[32m3c14d\u001b[0m\u001b[1;32m)\u001b[0m\u001b[32m, adding to: Historic Achievements\u001b[0m\n"
      ]
     },
     "metadata": {},
     "output_type": "display_data"
    },
    {
     "data": {
      "text/html": [
       "<pre style=\"white-space:pre;overflow-x:auto;line-height:normal;font-family:Menlo,'DejaVu Sans Mono',consolas,'Courier New',monospace\">\n",
       "<span style=\"font-weight: bold\">Adding</span>: <span style=\"color: #008000; text-decoration-color: #008000\">'The Saturn V rocket was a technological marvel.'</span>\n",
       "</pre>\n"
      ],
      "text/plain": [
       "\n",
       "\u001b[1mAdding\u001b[0m: \u001b[32m'The Saturn V rocket was a technological marvel.'\u001b[0m\n"
      ]
     },
     "metadata": {},
     "output_type": "display_data"
    },
    {
     "data": {
      "text/html": [
       "<pre style=\"white-space:pre;overflow-x:auto;line-height:normal;font-family:Menlo,'DejaVu Sans Mono',consolas,'Courier New',monospace\"><span style=\"color: #008000; text-decoration-color: #008000\">Chunk Found </span><span style=\"color: #008000; text-decoration-color: #008000; font-weight: bold\">(</span><span style=\"color: #008000; text-decoration-color: #008000\">3c14d</span><span style=\"color: #008000; text-decoration-color: #008000; font-weight: bold\">)</span><span style=\"color: #008000; text-decoration-color: #008000\">, adding to: Space Exploration</span>\n",
       "</pre>\n"
      ],
      "text/plain": [
       "\u001b[32mChunk Found \u001b[0m\u001b[1;32m(\u001b[0m\u001b[32m3c14d\u001b[0m\u001b[1;32m)\u001b[0m\u001b[32m, adding to: Space Exploration\u001b[0m\n"
      ]
     },
     "metadata": {},
     "output_type": "display_data"
    },
    {
     "data": {
      "text/html": [
       "<pre style=\"white-space:pre;overflow-x:auto;line-height:normal;font-family:Menlo,'DejaVu Sans Mono',consolas,'Courier New',monospace\">\n",
       "<span style=\"font-weight: bold\">Adding</span>: <span style=\"color: #008000; text-decoration-color: #008000\">'The Saturn V rocket propelled the astronauts on their journey.'</span>\n",
       "</pre>\n"
      ],
      "text/plain": [
       "\n",
       "\u001b[1mAdding\u001b[0m: \u001b[32m'The Saturn V rocket propelled the astronauts on their journey.'\u001b[0m\n"
      ]
     },
     "metadata": {},
     "output_type": "display_data"
    },
    {
     "data": {
      "text/html": [
       "<pre style=\"white-space:pre;overflow-x:auto;line-height:normal;font-family:Menlo,'DejaVu Sans Mono',consolas,'Courier New',monospace\"><span style=\"color: #800000; text-decoration-color: #800000\">Could not parse chunk ID from response: </span><span style=\"color: #800000; text-decoration-color: #800000\">'3c14d'</span><span style=\"color: #800000; text-decoration-color: #800000\">. Error: Invalid json output: Based on the provided text </span><span style=\"color: #800000; text-decoration-color: #800000\">\"3c14d\"</span><span style=\"color: #800000; text-decoration-color: #800000\">, I </span>\n",
       "<span style=\"color: #800000; text-decoration-color: #800000\">can parse it to find a chunk ID. The chunk ID is indeed </span><span style=\"color: #800000; text-decoration-color: #800000\">\"3c14d\"</span><span style=\"color: #800000; text-decoration-color: #800000\">, which is a short alphanumeric string.</span>\n",
       "\n",
       "<span style=\"color: #800000; text-decoration-color: #800000\">Here is the output in JSON format, conforming to the provided schema:</span>\n",
       "\n",
       "<span style=\"color: #800000; text-decoration-color: #800000; font-weight: bold\">{</span>\n",
       "<span style=\"color: #800000; text-decoration-color: #800000\">  </span><span style=\"color: #800000; text-decoration-color: #800000\">\"chunk_id\"</span><span style=\"color: #800000; text-decoration-color: #800000\">: </span><span style=\"color: #800000; text-decoration-color: #800000\">\"3c14d\"</span>\n",
       "<span style=\"color: #800000; text-decoration-color: #800000; font-weight: bold\">}</span>\n",
       "\n",
       "<span style=\"color: #800000; text-decoration-color: #800000\">This output meets the requirements of the schema, where the </span><span style=\"color: #800000; text-decoration-color: #800000\">\"chunk_id\"</span><span style=\"color: #800000; text-decoration-color: #800000\"> field is a string containing the parsed </span>\n",
       "<span style=\"color: #800000; text-decoration-color: #800000\">chunk ID.</span>\n",
       "<span style=\"color: #800000; text-decoration-color: #800000\">For troubleshooting, visit: </span><span style=\"color: #800000; text-decoration-color: #800000; text-decoration: underline\">https://python.langchain.com/docs/troubleshooting/errors/OUTPUT_PARSING_FAILURE</span><span style=\"color: #800000; text-decoration-color: #800000\"> </span>\n",
       "</pre>\n"
      ],
      "text/plain": [
       "\u001b[31mCould not parse chunk ID from response: \u001b[0m\u001b[31m'3c14d'\u001b[0m\u001b[31m. Error: Invalid json output: Based on the provided text \u001b[0m\u001b[31m\"3c14d\"\u001b[0m\u001b[31m, I \u001b[0m\n",
       "\u001b[31mcan parse it to find a chunk ID. The chunk ID is indeed \u001b[0m\u001b[31m\"3c14d\"\u001b[0m\u001b[31m, which is a short alphanumeric string.\u001b[0m\n",
       "\n",
       "\u001b[31mHere is the output in JSON format, conforming to the provided schema:\u001b[0m\n",
       "\n",
       "\u001b[1;31m{\u001b[0m\n",
       "\u001b[31m  \u001b[0m\u001b[31m\"chunk_id\"\u001b[0m\u001b[31m: \u001b[0m\u001b[31m\"3c14d\"\u001b[0m\n",
       "\u001b[1;31m}\u001b[0m\n",
       "\n",
       "\u001b[31mThis output meets the requirements of the schema, where the \u001b[0m\u001b[31m\"chunk_id\"\u001b[0m\u001b[31m field is a string containing the parsed \u001b[0m\n",
       "\u001b[31mchunk ID.\u001b[0m\n",
       "\u001b[31mFor troubleshooting, visit: \u001b[0m\u001b[4;31mhttps://python.langchain.com/docs/troubleshooting/errors/OUTPUT_PARSING_FAILURE\u001b[0m\u001b[31m \u001b[0m\n"
      ]
     },
     "metadata": {},
     "output_type": "display_data"
    },
    {
     "data": {
      "text/html": [
       "<pre style=\"white-space:pre;overflow-x:auto;line-height:normal;font-family:Menlo,'DejaVu Sans Mono',consolas,'Courier New',monospace\"><span style=\"color: #808000; text-decoration-color: #808000\">No relevant chunk found, creating a new one...</span>\n",
       "</pre>\n"
      ],
      "text/plain": [
       "\u001b[33mNo relevant chunk found, creating a new one\u001b[0m\u001b[33m...\u001b[0m\n"
      ]
     },
     "metadata": {},
     "output_type": "display_data"
    },
    {
     "data": {
      "text/html": [
       "<pre style=\"white-space:pre;overflow-x:auto;line-height:normal;font-family:Menlo,'DejaVu Sans Mono',consolas,'Courier New',monospace\"><span style=\"color: #000080; text-decoration-color: #000080; font-weight: bold\">Created new chunk (5c2ce): Vehicles in Transit</span>\n",
       "</pre>\n"
      ],
      "text/plain": [
       "\u001b[1;34mCreated new chunk \u001b[0m\u001b[1;34m(\u001b[0m\u001b[1;34m5c2ce\u001b[0m\u001b[1;34m)\u001b[0m\u001b[1;34m: Vehicles in Transit\u001b[0m\n"
      ]
     },
     "metadata": {},
     "output_type": "display_data"
    },
    {
     "data": {
      "text/html": [
       "<pre style=\"white-space:pre;overflow-x:auto;line-height:normal;font-family:Menlo,'DejaVu Sans Mono',consolas,'Courier New',monospace\">\n",
       "<span style=\"font-weight: bold\">Adding</span>: <span style=\"color: #008000; text-decoration-color: #008000\">'The astronauts were Neil Armstrong and Buzz Aldrin.'</span>\n",
       "</pre>\n"
      ],
      "text/plain": [
       "\n",
       "\u001b[1mAdding\u001b[0m: \u001b[32m'The astronauts were Neil Armstrong and Buzz Aldrin.'\u001b[0m\n"
      ]
     },
     "metadata": {},
     "output_type": "display_data"
    },
    {
     "data": {
      "text/html": [
       "<pre style=\"white-space:pre;overflow-x:auto;line-height:normal;font-family:Menlo,'DejaVu Sans Mono',consolas,'Courier New',monospace\"><span style=\"color: #008000; text-decoration-color: #008000\">Chunk Found </span><span style=\"color: #008000; text-decoration-color: #008000; font-weight: bold\">(</span><span style=\"color: #008000; text-decoration-color: #008000\">3c14d</span><span style=\"color: #008000; text-decoration-color: #008000; font-weight: bold\">)</span><span style=\"color: #008000; text-decoration-color: #008000\">, adding to: Historic Achievements</span>\n",
       "</pre>\n"
      ],
      "text/plain": [
       "\u001b[32mChunk Found \u001b[0m\u001b[1;32m(\u001b[0m\u001b[32m3c14d\u001b[0m\u001b[1;32m)\u001b[0m\u001b[32m, adding to: Historic Achievements\u001b[0m\n"
      ]
     },
     "metadata": {},
     "output_type": "display_data"
    },
    {
     "data": {
      "text/html": [
       "<pre style=\"white-space:pre;overflow-x:auto;line-height:normal;font-family:Menlo,'DejaVu Sans Mono',consolas,'Courier New',monospace\">\n",
       "<span style=\"font-weight: bold\">Adding</span>: <span style=\"color: #008000; text-decoration-color: #008000\">'Deep-sea exploration presents its own set of unique challenges.'</span>\n",
       "</pre>\n"
      ],
      "text/plain": [
       "\n",
       "\u001b[1mAdding\u001b[0m: \u001b[32m'Deep-sea exploration presents its own set of unique challenges.'\u001b[0m\n"
      ]
     },
     "metadata": {},
     "output_type": "display_data"
    },
    {
     "data": {
      "text/html": [
       "<pre style=\"white-space:pre;overflow-x:auto;line-height:normal;font-family:Menlo,'DejaVu Sans Mono',consolas,'Courier New',monospace\"><span style=\"color: #008000; text-decoration-color: #008000\">Chunk Found </span><span style=\"color: #008000; text-decoration-color: #008000; font-weight: bold\">(</span><span style=\"color: #008000; text-decoration-color: #008000\">3c14d</span><span style=\"color: #008000; text-decoration-color: #008000; font-weight: bold\">)</span><span style=\"color: #008000; text-decoration-color: #008000\">, adding to: Space Exploration</span>\n",
       "</pre>\n"
      ],
      "text/plain": [
       "\u001b[32mChunk Found \u001b[0m\u001b[1;32m(\u001b[0m\u001b[32m3c14d\u001b[0m\u001b[1;32m)\u001b[0m\u001b[32m, adding to: Space Exploration\u001b[0m\n"
      ]
     },
     "metadata": {},
     "output_type": "display_data"
    },
    {
     "data": {
      "text/html": [
       "<pre style=\"white-space:pre;overflow-x:auto;line-height:normal;font-family:Menlo,'DejaVu Sans Mono',consolas,'Courier New',monospace\">\n",
       "<span style=\"font-weight: bold\">Adding</span>: <span style=\"color: #008000; text-decoration-color: #008000\">'Dr. Robert Ballard is famous.'</span>\n",
       "</pre>\n"
      ],
      "text/plain": [
       "\n",
       "\u001b[1mAdding\u001b[0m: \u001b[32m'Dr. Robert Ballard is famous.'\u001b[0m\n"
      ]
     },
     "metadata": {},
     "output_type": "display_data"
    },
    {
     "data": {
      "text/html": [
       "<pre style=\"white-space:pre;overflow-x:auto;line-height:normal;font-family:Menlo,'DejaVu Sans Mono',consolas,'Courier New',monospace\"><span style=\"color: #008000; text-decoration-color: #008000\">Chunk Found </span><span style=\"color: #008000; text-decoration-color: #008000; font-weight: bold\">(</span><span style=\"color: #008000; text-decoration-color: #008000\">3c14d</span><span style=\"color: #008000; text-decoration-color: #008000; font-weight: bold\">)</span><span style=\"color: #008000; text-decoration-color: #008000\">, adding to: Exploration &amp; Discovery</span>\n",
       "</pre>\n"
      ],
      "text/plain": [
       "\u001b[32mChunk Found \u001b[0m\u001b[1;32m(\u001b[0m\u001b[32m3c14d\u001b[0m\u001b[1;32m)\u001b[0m\u001b[32m, adding to: Exploration & Discovery\u001b[0m\n"
      ]
     },
     "metadata": {},
     "output_type": "display_data"
    },
    {
     "data": {
      "text/html": [
       "<pre style=\"white-space:pre;overflow-x:auto;line-height:normal;font-family:Menlo,'DejaVu Sans Mono',consolas,'Courier New',monospace\">\n",
       "<span style=\"font-weight: bold\">Adding</span>: <span style=\"color: #008000; text-decoration-color: #008000\">'Dr. Robert Ballard discovered the wreck of the Titanic in 1985.'</span>\n",
       "</pre>\n"
      ],
      "text/plain": [
       "\n",
       "\u001b[1mAdding\u001b[0m: \u001b[32m'Dr. Robert Ballard discovered the wreck of the Titanic in 1985.'\u001b[0m\n"
      ]
     },
     "metadata": {},
     "output_type": "display_data"
    },
    {
     "data": {
      "text/html": [
       "<pre style=\"white-space:pre;overflow-x:auto;line-height:normal;font-family:Menlo,'DejaVu Sans Mono',consolas,'Courier New',monospace\"><span style=\"color: #008000; text-decoration-color: #008000\">Chunk Found </span><span style=\"color: #008000; text-decoration-color: #008000; font-weight: bold\">(</span><span style=\"color: #008000; text-decoration-color: #008000\">ba06f</span><span style=\"color: #008000; text-decoration-color: #008000; font-weight: bold\">)</span><span style=\"color: #008000; text-decoration-color: #008000\">, adding to: Notable Events &amp; Dates</span>\n",
       "</pre>\n"
      ],
      "text/plain": [
       "\u001b[32mChunk Found \u001b[0m\u001b[1;32m(\u001b[0m\u001b[32mba06f\u001b[0m\u001b[1;32m)\u001b[0m\u001b[32m, adding to: Notable Events & Dates\u001b[0m\n"
      ]
     },
     "metadata": {},
     "output_type": "display_data"
    },
    {
     "data": {
      "text/html": [
       "<pre style=\"white-space:pre;overflow-x:auto;line-height:normal;font-family:Menlo,'DejaVu Sans Mono',consolas,'Courier New',monospace\">\n",
       "<span style=\"font-weight: bold\">Adding</span>: <span style=\"color: #008000; text-decoration-color: #008000\">'Dr. Robert Ballard used Argo to survey the ocean floor.'</span>\n",
       "</pre>\n"
      ],
      "text/plain": [
       "\n",
       "\u001b[1mAdding\u001b[0m: \u001b[32m'Dr. Robert Ballard used Argo to survey the ocean floor.'\u001b[0m\n"
      ]
     },
     "metadata": {},
     "output_type": "display_data"
    },
    {
     "data": {
      "text/html": [
       "<pre style=\"white-space:pre;overflow-x:auto;line-height:normal;font-family:Menlo,'DejaVu Sans Mono',consolas,'Courier New',monospace\"><span style=\"color: #008000; text-decoration-color: #008000\">Chunk Found </span><span style=\"color: #008000; text-decoration-color: #008000; font-weight: bold\">(</span><span style=\"color: #008000; text-decoration-color: #008000\">3c14d</span><span style=\"color: #008000; text-decoration-color: #008000; font-weight: bold\">)</span><span style=\"color: #008000; text-decoration-color: #008000\">, adding to: Exploration &amp; Achievement</span>\n",
       "</pre>\n"
      ],
      "text/plain": [
       "\u001b[32mChunk Found \u001b[0m\u001b[1;32m(\u001b[0m\u001b[32m3c14d\u001b[0m\u001b[1;32m)\u001b[0m\u001b[32m, adding to: Exploration & Achievement\u001b[0m\n"
      ]
     },
     "metadata": {},
     "output_type": "display_data"
    },
    {
     "data": {
      "text/html": [
       "<pre style=\"white-space:pre;overflow-x:auto;line-height:normal;font-family:Menlo,'DejaVu Sans Mono',consolas,'Courier New',monospace\">\n",
       "<span style=\"font-weight: bold\">Adding</span>: <span style=\"color: #008000; text-decoration-color: #008000\">'Argo is a remotely operated vehicle (ROV).'</span>\n",
       "</pre>\n"
      ],
      "text/plain": [
       "\n",
       "\u001b[1mAdding\u001b[0m: \u001b[32m'Argo is a remotely operated vehicle \u001b[0m\u001b[32m(\u001b[0m\u001b[32mROV\u001b[0m\u001b[32m)\u001b[0m\u001b[32m.'\u001b[0m\n"
      ]
     },
     "metadata": {},
     "output_type": "display_data"
    },
    {
     "data": {
      "text/html": [
       "<pre style=\"white-space:pre;overflow-x:auto;line-height:normal;font-family:Menlo,'DejaVu Sans Mono',consolas,'Courier New',monospace\"><span style=\"color: #008000; text-decoration-color: #008000\">Chunk Found </span><span style=\"color: #008000; text-decoration-color: #008000; font-weight: bold\">(</span><span style=\"color: #008000; text-decoration-color: #008000\">5c2ce</span><span style=\"color: #008000; text-decoration-color: #008000; font-weight: bold\">)</span><span style=\"color: #008000; text-decoration-color: #008000\">, adding to: Vehicles in Transit</span>\n",
       "</pre>\n"
      ],
      "text/plain": [
       "\u001b[32mChunk Found \u001b[0m\u001b[1;32m(\u001b[0m\u001b[32m5c2ce\u001b[0m\u001b[1;32m)\u001b[0m\u001b[32m, adding to: Vehicles in Transit\u001b[0m\n"
      ]
     },
     "metadata": {},
     "output_type": "display_data"
    },
    {
     "data": {
      "text/html": [
       "<pre style=\"white-space:pre;overflow-x:auto;line-height:normal;font-family:Menlo,'DejaVu Sans Mono',consolas,'Courier New',monospace\">\n",
       "<span style=\"font-weight: bold\">Adding</span>: <span style=\"color: #008000; text-decoration-color: #008000\">'The deep ocean has immense pressure.'</span>\n",
       "</pre>\n"
      ],
      "text/plain": [
       "\n",
       "\u001b[1mAdding\u001b[0m: \u001b[32m'The deep ocean has immense pressure.'\u001b[0m\n"
      ]
     },
     "metadata": {},
     "output_type": "display_data"
    },
    {
     "data": {
      "text/html": [
       "<pre style=\"white-space:pre;overflow-x:auto;line-height:normal;font-family:Menlo,'DejaVu Sans Mono',consolas,'Courier New',monospace\"><span style=\"color: #008000; text-decoration-color: #008000\">Chunk Found </span><span style=\"color: #008000; text-decoration-color: #008000; font-weight: bold\">(</span><span style=\"color: #008000; text-decoration-color: #008000\">5c2ce</span><span style=\"color: #008000; text-decoration-color: #008000; font-weight: bold\">)</span><span style=\"color: #008000; text-decoration-color: #008000\">, adding to: Exploration Vehicles</span>\n",
       "</pre>\n"
      ],
      "text/plain": [
       "\u001b[32mChunk Found \u001b[0m\u001b[1;32m(\u001b[0m\u001b[32m5c2ce\u001b[0m\u001b[1;32m)\u001b[0m\u001b[32m, adding to: Exploration Vehicles\u001b[0m\n"
      ]
     },
     "metadata": {},
     "output_type": "display_data"
    },
    {
     "data": {
      "text/html": [
       "<pre style=\"white-space:pre;overflow-x:auto;line-height:normal;font-family:Menlo,'DejaVu Sans Mono',consolas,'Courier New',monospace\">\n",
       "<span style=\"font-weight: bold\">Adding</span>: <span style=\"color: #008000; text-decoration-color: #008000\">'The deep ocean has complete darkness.'</span>\n",
       "</pre>\n"
      ],
      "text/plain": [
       "\n",
       "\u001b[1mAdding\u001b[0m: \u001b[32m'The deep ocean has complete darkness.'\u001b[0m\n"
      ]
     },
     "metadata": {},
     "output_type": "display_data"
    },
    {
     "data": {
      "text/html": [
       "<pre style=\"white-space:pre;overflow-x:auto;line-height:normal;font-family:Menlo,'DejaVu Sans Mono',consolas,'Courier New',monospace\"><span style=\"color: #800000; text-decoration-color: #800000\">Could not parse chunk ID from response: </span><span style=\"color: #800000; text-decoration-color: #800000\">'5c2ce'</span><span style=\"color: #800000; text-decoration-color: #800000\">. Error: Invalid json output: Based on the provided text </span><span style=\"color: #800000; text-decoration-color: #800000\">\"5c2ce\"</span><span style=\"color: #800000; text-decoration-color: #800000\">, I </span>\n",
       "<span style=\"color: #800000; text-decoration-color: #800000\">was able to extract the chunk ID </span><span style=\"color: #800000; text-decoration-color: #800000\">\"5c2ce\"</span><span style=\"color: #800000; text-decoration-color: #800000\">.</span>\n",
       "\n",
       "<span style=\"color: #800000; text-decoration-color: #800000\">Here is the output in the required JSON format:</span>\n",
       "<span style=\"color: #800000; text-decoration-color: #800000; font-weight: bold\">{</span>\n",
       "<span style=\"color: #800000; text-decoration-color: #800000\">  </span><span style=\"color: #800000; text-decoration-color: #800000\">\"chunk_id\"</span><span style=\"color: #800000; text-decoration-color: #800000\">: </span><span style=\"color: #800000; text-decoration-color: #800000\">\"5c2ce\"</span>\n",
       "<span style=\"color: #800000; text-decoration-color: #800000; font-weight: bold\">}</span>\n",
       "<span style=\"color: #800000; text-decoration-color: #800000\">```</span>\n",
       "<span style=\"color: #800000; text-decoration-color: #800000\">For troubleshooting, visit: </span><span style=\"color: #800000; text-decoration-color: #800000; text-decoration: underline\">https://python.langchain.com/docs/troubleshooting/errors/OUTPUT_PARSING_FAILURE</span><span style=\"color: #800000; text-decoration-color: #800000\"> </span>\n",
       "</pre>\n"
      ],
      "text/plain": [
       "\u001b[31mCould not parse chunk ID from response: \u001b[0m\u001b[31m'5c2ce'\u001b[0m\u001b[31m. Error: Invalid json output: Based on the provided text \u001b[0m\u001b[31m\"5c2ce\"\u001b[0m\u001b[31m, I \u001b[0m\n",
       "\u001b[31mwas able to extract the chunk ID \u001b[0m\u001b[31m\"5c2ce\"\u001b[0m\u001b[31m.\u001b[0m\n",
       "\n",
       "\u001b[31mHere is the output in the required JSON format:\u001b[0m\n",
       "\u001b[1;31m{\u001b[0m\n",
       "\u001b[31m  \u001b[0m\u001b[31m\"chunk_id\"\u001b[0m\u001b[31m: \u001b[0m\u001b[31m\"5c2ce\"\u001b[0m\n",
       "\u001b[1;31m}\u001b[0m\n",
       "\u001b[31m```\u001b[0m\n",
       "\u001b[31mFor troubleshooting, visit: \u001b[0m\u001b[4;31mhttps://python.langchain.com/docs/troubleshooting/errors/OUTPUT_PARSING_FAILURE\u001b[0m\u001b[31m \u001b[0m\n"
      ]
     },
     "metadata": {},
     "output_type": "display_data"
    },
    {
     "data": {
      "text/html": [
       "<pre style=\"white-space:pre;overflow-x:auto;line-height:normal;font-family:Menlo,'DejaVu Sans Mono',consolas,'Courier New',monospace\"><span style=\"color: #808000; text-decoration-color: #808000\">No relevant chunk found, creating a new one...</span>\n",
       "</pre>\n"
      ],
      "text/plain": [
       "\u001b[33mNo relevant chunk found, creating a new one\u001b[0m\u001b[33m...\u001b[0m\n"
      ]
     },
     "metadata": {},
     "output_type": "display_data"
    },
    {
     "data": {
      "text/html": [
       "<pre style=\"white-space:pre;overflow-x:auto;line-height:normal;font-family:Menlo,'DejaVu Sans Mono',consolas,'Courier New',monospace\"><span style=\"color: #000080; text-decoration-color: #000080; font-weight: bold\">Created new chunk (8bf96): Environmental Conditions</span>\n",
       "</pre>\n"
      ],
      "text/plain": [
       "\u001b[1;34mCreated new chunk \u001b[0m\u001b[1;34m(\u001b[0m\u001b[1;34m8bf96\u001b[0m\u001b[1;34m)\u001b[0m\u001b[1;34m: Environmental Conditions\u001b[0m\n"
      ]
     },
     "metadata": {},
     "output_type": "display_data"
    },
    {
     "data": {
      "text/html": [
       "<pre style=\"white-space:pre;overflow-x:auto;line-height:normal;font-family:Menlo,'DejaVu Sans Mono',consolas,'Courier New',monospace\">\n",
       "<span style=\"font-weight: bold\">Adding</span>: <span style=\"color: #008000; text-decoration-color: #008000\">'Specialized equipment is required for the deep ocean.'</span>\n",
       "</pre>\n"
      ],
      "text/plain": [
       "\n",
       "\u001b[1mAdding\u001b[0m: \u001b[32m'Specialized equipment is required for the deep ocean.'\u001b[0m\n"
      ]
     },
     "metadata": {},
     "output_type": "display_data"
    },
    {
     "data": {
      "text/html": [
       "<pre style=\"white-space:pre;overflow-x:auto;line-height:normal;font-family:Menlo,'DejaVu Sans Mono',consolas,'Courier New',monospace\"><span style=\"color: #008000; text-decoration-color: #008000\">Chunk Found </span><span style=\"color: #008000; text-decoration-color: #008000; font-weight: bold\">(</span><span style=\"color: #008000; text-decoration-color: #008000\">5c2ce</span><span style=\"color: #008000; text-decoration-color: #008000; font-weight: bold\">)</span><span style=\"color: #008000; text-decoration-color: #008000\">, adding to: Exploration Technology</span>\n",
       "</pre>\n"
      ],
      "text/plain": [
       "\u001b[32mChunk Found \u001b[0m\u001b[1;32m(\u001b[0m\u001b[32m5c2ce\u001b[0m\u001b[1;32m)\u001b[0m\u001b[32m, adding to: Exploration Technology\u001b[0m\n"
      ]
     },
     "metadata": {},
     "output_type": "display_data"
    },
    {
     "data": {
      "text/html": [
       "<pre style=\"white-space:pre;overflow-x:auto;line-height:normal;font-family:Menlo,'DejaVu Sans Mono',consolas,'Courier New',monospace\">\n",
       "\n",
       "<span style=\"font-weight: bold; text-decoration: underline\">Final Chunks (</span><span style=\"color: #008080; text-decoration-color: #008080; font-weight: bold; text-decoration: underline\">4</span><span style=\"font-weight: bold; text-decoration: underline\"> total)</span>\n",
       "\n",
       "</pre>\n"
      ],
      "text/plain": [
       "\n",
       "\n",
       "\u001b[1;4mFinal Chunks \u001b[0m\u001b[1;4m(\u001b[0m\u001b[1;4;36m4\u001b[0m\u001b[1;4m total\u001b[0m\u001b[1;4m)\u001b[0m\n",
       "\n"
      ]
     },
     "metadata": {},
     "output_type": "display_data"
    },
    {
     "data": {
      "text/html": [
       "<pre style=\"white-space:pre;overflow-x:auto;line-height:normal;font-family:Menlo,'DejaVu Sans Mono',consolas,'Courier New',monospace\"><span style=\"font-weight: bold\">Chunk #</span><span style=\"color: #008080; text-decoration-color: #008080; font-weight: bold\">0</span><span style=\"font-weight: bold\"> - Historical Events &amp; Dates</span>\n",
       "</pre>\n"
      ],
      "text/plain": [
       "\u001b[1mChunk #\u001b[0m\u001b[1;36m0\u001b[0m\u001b[1m - Historical Events & Dates\u001b[0m\n"
      ]
     },
     "metadata": {},
     "output_type": "display_data"
    },
    {
     "data": {
      "text/html": [
       "<pre style=\"white-space:pre;overflow-x:auto;line-height:normal;font-family:Menlo,'DejaVu Sans Mono',consolas,'Courier New',monospace\">  <span style=\"color: #008080; text-decoration-color: #008080\">ID:</span> ba06f\n",
       "</pre>\n"
      ],
      "text/plain": [
       "  \u001b[36mID:\u001b[0m ba06f\n"
      ]
     },
     "metadata": {},
     "output_type": "display_data"
    },
    {
     "data": {
      "text/html": [
       "<pre style=\"white-space:pre;overflow-x:auto;line-height:normal;font-family:Menlo,'DejaVu Sans Mono',consolas,'Courier New',monospace\">  <span style=\"color: #008080; text-decoration-color: #008080\">Summary:</span> This chunk contains information about significant events and their corresponding dates.\n",
       "</pre>\n"
      ],
      "text/plain": [
       "  \u001b[36mSummary:\u001b[0m This chunk contains information about significant events and their corresponding dates.\n"
      ]
     },
     "metadata": {},
     "output_type": "display_data"
    },
    {
     "data": {
      "text/html": [
       "<pre style=\"white-space:pre;overflow-x:auto;line-height:normal;font-family:Menlo,'DejaVu Sans Mono',consolas,'Courier New',monospace\">  <span style=\"color: #008080; text-decoration-color: #008080\">Propositions </span><span style=\"color: #008080; text-decoration-color: #008080; font-weight: bold\">(</span><span style=\"color: #008080; text-decoration-color: #008080; font-weight: bold\">3</span><span style=\"color: #008080; text-decoration-color: #008080; font-weight: bold\">)</span><span style=\"color: #008080; text-decoration-color: #008080\">:</span>\n",
       "</pre>\n"
      ],
      "text/plain": [
       "  \u001b[36mPropositions \u001b[0m\u001b[1;36m(\u001b[0m\u001b[1;36m3\u001b[0m\u001b[1;36m)\u001b[0m\u001b[36m:\u001b[0m\n"
      ]
     },
     "metadata": {},
     "output_type": "display_data"
    },
    {
     "data": {
      "text/html": [
       "<pre style=\"white-space:pre;overflow-x:auto;line-height:normal;font-family:Menlo,'DejaVu Sans Mono',consolas,'Courier New',monospace\">    - The Apollo <span style=\"color: #008080; text-decoration-color: #008080; font-weight: bold\">11</span> mission was a landmark achievement in human history.\n",
       "</pre>\n"
      ],
      "text/plain": [
       "    - The Apollo \u001b[1;36m11\u001b[0m mission was a landmark achievement in human history.\n"
      ]
     },
     "metadata": {},
     "output_type": "display_data"
    },
    {
     "data": {
      "text/html": [
       "<pre style=\"white-space:pre;overflow-x:auto;line-height:normal;font-family:Menlo,'DejaVu Sans Mono',consolas,'Courier New',monospace\">    - The Apollo <span style=\"color: #008080; text-decoration-color: #008080; font-weight: bold\">11</span> mission occurred on July <span style=\"color: #008080; text-decoration-color: #008080; font-weight: bold\">20</span>, <span style=\"color: #008080; text-decoration-color: #008080; font-weight: bold\">1969</span>.\n",
       "</pre>\n"
      ],
      "text/plain": [
       "    - The Apollo \u001b[1;36m11\u001b[0m mission occurred on July \u001b[1;36m20\u001b[0m, \u001b[1;36m1969\u001b[0m.\n"
      ]
     },
     "metadata": {},
     "output_type": "display_data"
    },
    {
     "data": {
      "text/html": [
       "<pre style=\"white-space:pre;overflow-x:auto;line-height:normal;font-family:Menlo,'DejaVu Sans Mono',consolas,'Courier New',monospace\">    - Dr. Robert Ballard discovered the wreck of the Titanic in <span style=\"color: #008080; text-decoration-color: #008080; font-weight: bold\">1985</span>.\n",
       "</pre>\n"
      ],
      "text/plain": [
       "    - Dr. Robert Ballard discovered the wreck of the Titanic in \u001b[1;36m1985\u001b[0m.\n"
      ]
     },
     "metadata": {},
     "output_type": "display_data"
    },
    {
     "data": {
      "text/html": [
       "<pre style=\"white-space:pre;overflow-x:auto;line-height:normal;font-family:Menlo,'DejaVu Sans Mono',consolas,'Courier New',monospace\">\n",
       "\n",
       "</pre>\n"
      ],
      "text/plain": [
       "\n",
       "\n"
      ]
     },
     "metadata": {},
     "output_type": "display_data"
    },
    {
     "data": {
      "text/html": [
       "<pre style=\"white-space:pre;overflow-x:auto;line-height:normal;font-family:Menlo,'DejaVu Sans Mono',consolas,'Courier New',monospace\"><span style=\"font-weight: bold\">Chunk #</span><span style=\"color: #008080; text-decoration-color: #008080; font-weight: bold\">1</span><span style=\"font-weight: bold\"> - Exploration &amp; Discovery</span>\n",
       "</pre>\n"
      ],
      "text/plain": [
       "\u001b[1mChunk #\u001b[0m\u001b[1;36m1\u001b[0m\u001b[1m - Exploration & Discovery\u001b[0m\n"
      ]
     },
     "metadata": {},
     "output_type": "display_data"
    },
    {
     "data": {
      "text/html": [
       "<pre style=\"white-space:pre;overflow-x:auto;line-height:normal;font-family:Menlo,'DejaVu Sans Mono',consolas,'Courier New',monospace\">  <span style=\"color: #008080; text-decoration-color: #008080\">ID:</span> 3c14d\n",
       "</pre>\n"
      ],
      "text/plain": [
       "  \u001b[36mID:\u001b[0m 3c14d\n"
      ]
     },
     "metadata": {},
     "output_type": "display_data"
    },
    {
     "data": {
      "text/html": [
       "<pre style=\"white-space:pre;overflow-x:auto;line-height:normal;font-family:Menlo,'DejaVu Sans Mono',consolas,'Courier New',monospace\">  <span style=\"color: #008080; text-decoration-color: #008080\">Summary:</span> This chunk contains information about notable achievements, challenges, and key figures in exploration, \n",
       "including space and oceanic endeavors.\n",
       "</pre>\n"
      ],
      "text/plain": [
       "  \u001b[36mSummary:\u001b[0m This chunk contains information about notable achievements, challenges, and key figures in exploration, \n",
       "including space and oceanic endeavors.\n"
      ]
     },
     "metadata": {},
     "output_type": "display_data"
    },
    {
     "data": {
      "text/html": [
       "<pre style=\"white-space:pre;overflow-x:auto;line-height:normal;font-family:Menlo,'DejaVu Sans Mono',consolas,'Courier New',monospace\">  <span style=\"color: #008080; text-decoration-color: #008080\">Propositions </span><span style=\"color: #008080; text-decoration-color: #008080; font-weight: bold\">(</span><span style=\"color: #008080; text-decoration-color: #008080; font-weight: bold\">8</span><span style=\"color: #008080; text-decoration-color: #008080; font-weight: bold\">)</span><span style=\"color: #008080; text-decoration-color: #008080\">:</span>\n",
       "</pre>\n"
      ],
      "text/plain": [
       "  \u001b[36mPropositions \u001b[0m\u001b[1;36m(\u001b[0m\u001b[1;36m8\u001b[0m\u001b[1;36m)\u001b[0m\u001b[36m:\u001b[0m\n"
      ]
     },
     "metadata": {},
     "output_type": "display_data"
    },
    {
     "data": {
      "text/html": [
       "<pre style=\"white-space:pre;overflow-x:auto;line-height:normal;font-family:Menlo,'DejaVu Sans Mono',consolas,'Courier New',monospace\">    - Astronauts Neil Armstrong and Buzz Aldrin became the first humans to walk on the moon.\n",
       "</pre>\n"
      ],
      "text/plain": [
       "    - Astronauts Neil Armstrong and Buzz Aldrin became the first humans to walk on the moon.\n"
      ]
     },
     "metadata": {},
     "output_type": "display_data"
    },
    {
     "data": {
      "text/html": [
       "<pre style=\"white-space:pre;overflow-x:auto;line-height:normal;font-family:Menlo,'DejaVu Sans Mono',consolas,'Courier New',monospace\">    - The mission's primary objective was to complete a national goal.\n",
       "</pre>\n"
      ],
      "text/plain": [
       "    - The mission's primary objective was to complete a national goal.\n"
      ]
     },
     "metadata": {},
     "output_type": "display_data"
    },
    {
     "data": {
      "text/html": [
       "<pre style=\"white-space:pre;overflow-x:auto;line-height:normal;font-family:Menlo,'DejaVu Sans Mono',consolas,'Courier New',monospace\">    - The national goal was set by President John F. Kennedy.\n",
       "</pre>\n"
      ],
      "text/plain": [
       "    - The national goal was set by President John F. Kennedy.\n"
      ]
     },
     "metadata": {},
     "output_type": "display_data"
    },
    {
     "data": {
      "text/html": [
       "<pre style=\"white-space:pre;overflow-x:auto;line-height:normal;font-family:Menlo,'DejaVu Sans Mono',consolas,'Courier New',monospace\">    - The Saturn V rocket was a technological marvel.\n",
       "</pre>\n"
      ],
      "text/plain": [
       "    - The Saturn V rocket was a technological marvel.\n"
      ]
     },
     "metadata": {},
     "output_type": "display_data"
    },
    {
     "data": {
      "text/html": [
       "<pre style=\"white-space:pre;overflow-x:auto;line-height:normal;font-family:Menlo,'DejaVu Sans Mono',consolas,'Courier New',monospace\">    - The astronauts were Neil Armstrong and Buzz Aldrin.\n",
       "</pre>\n"
      ],
      "text/plain": [
       "    - The astronauts were Neil Armstrong and Buzz Aldrin.\n"
      ]
     },
     "metadata": {},
     "output_type": "display_data"
    },
    {
     "data": {
      "text/html": [
       "<pre style=\"white-space:pre;overflow-x:auto;line-height:normal;font-family:Menlo,'DejaVu Sans Mono',consolas,'Courier New',monospace\">    - Deep-sea exploration presents its own set of unique challenges.\n",
       "</pre>\n"
      ],
      "text/plain": [
       "    - Deep-sea exploration presents its own set of unique challenges.\n"
      ]
     },
     "metadata": {},
     "output_type": "display_data"
    },
    {
     "data": {
      "text/html": [
       "<pre style=\"white-space:pre;overflow-x:auto;line-height:normal;font-family:Menlo,'DejaVu Sans Mono',consolas,'Courier New',monospace\">    - Dr. Robert Ballard is famous.\n",
       "</pre>\n"
      ],
      "text/plain": [
       "    - Dr. Robert Ballard is famous.\n"
      ]
     },
     "metadata": {},
     "output_type": "display_data"
    },
    {
     "data": {
      "text/html": [
       "<pre style=\"white-space:pre;overflow-x:auto;line-height:normal;font-family:Menlo,'DejaVu Sans Mono',consolas,'Courier New',monospace\">    - Dr. Robert Ballard used Argo to survey the ocean floor.\n",
       "</pre>\n"
      ],
      "text/plain": [
       "    - Dr. Robert Ballard used Argo to survey the ocean floor.\n"
      ]
     },
     "metadata": {},
     "output_type": "display_data"
    },
    {
     "data": {
      "text/html": [
       "<pre style=\"white-space:pre;overflow-x:auto;line-height:normal;font-family:Menlo,'DejaVu Sans Mono',consolas,'Courier New',monospace\">\n",
       "\n",
       "</pre>\n"
      ],
      "text/plain": [
       "\n",
       "\n"
      ]
     },
     "metadata": {},
     "output_type": "display_data"
    },
    {
     "data": {
      "text/html": [
       "<pre style=\"white-space:pre;overflow-x:auto;line-height:normal;font-family:Menlo,'DejaVu Sans Mono',consolas,'Courier New',monospace\"><span style=\"font-weight: bold\">Chunk #</span><span style=\"color: #008080; text-decoration-color: #008080; font-weight: bold\">2</span><span style=\"font-weight: bold\"> - Extreme Environment Technology</span>\n",
       "</pre>\n"
      ],
      "text/plain": [
       "\u001b[1mChunk #\u001b[0m\u001b[1;36m2\u001b[0m\u001b[1m - Extreme Environment Technology\u001b[0m\n"
      ]
     },
     "metadata": {},
     "output_type": "display_data"
    },
    {
     "data": {
      "text/html": [
       "<pre style=\"white-space:pre;overflow-x:auto;line-height:normal;font-family:Menlo,'DejaVu Sans Mono',consolas,'Courier New',monospace\">  <span style=\"color: #008080; text-decoration-color: #008080\">ID:</span> 5c2ce\n",
       "</pre>\n"
      ],
      "text/plain": [
       "  \u001b[36mID:\u001b[0m 5c2ce\n"
      ]
     },
     "metadata": {},
     "output_type": "display_data"
    },
    {
     "data": {
      "text/html": [
       "<pre style=\"white-space:pre;overflow-x:auto;line-height:normal;font-family:Menlo,'DejaVu Sans Mono',consolas,'Courier New',monospace\">  <span style=\"color: #008080; text-decoration-color: #008080\">Summary:</span> This chunk contains information about tools and technology used in exploring extreme environments.\n",
       "</pre>\n"
      ],
      "text/plain": [
       "  \u001b[36mSummary:\u001b[0m This chunk contains information about tools and technology used in exploring extreme environments.\n"
      ]
     },
     "metadata": {},
     "output_type": "display_data"
    },
    {
     "data": {
      "text/html": [
       "<pre style=\"white-space:pre;overflow-x:auto;line-height:normal;font-family:Menlo,'DejaVu Sans Mono',consolas,'Courier New',monospace\">  <span style=\"color: #008080; text-decoration-color: #008080\">Propositions </span><span style=\"color: #008080; text-decoration-color: #008080; font-weight: bold\">(</span><span style=\"color: #008080; text-decoration-color: #008080; font-weight: bold\">4</span><span style=\"color: #008080; text-decoration-color: #008080; font-weight: bold\">)</span><span style=\"color: #008080; text-decoration-color: #008080\">:</span>\n",
       "</pre>\n"
      ],
      "text/plain": [
       "  \u001b[36mPropositions \u001b[0m\u001b[1;36m(\u001b[0m\u001b[1;36m4\u001b[0m\u001b[1;36m)\u001b[0m\u001b[36m:\u001b[0m\n"
      ]
     },
     "metadata": {},
     "output_type": "display_data"
    },
    {
     "data": {
      "text/html": [
       "<pre style=\"white-space:pre;overflow-x:auto;line-height:normal;font-family:Menlo,'DejaVu Sans Mono',consolas,'Courier New',monospace\">    - The Saturn V rocket propelled the astronauts on their journey.\n",
       "</pre>\n"
      ],
      "text/plain": [
       "    - The Saturn V rocket propelled the astronauts on their journey.\n"
      ]
     },
     "metadata": {},
     "output_type": "display_data"
    },
    {
     "data": {
      "text/html": [
       "<pre style=\"white-space:pre;overflow-x:auto;line-height:normal;font-family:Menlo,'DejaVu Sans Mono',consolas,'Courier New',monospace\">    - Argo is a remotely operated vehicle <span style=\"font-weight: bold\">(</span>ROV<span style=\"font-weight: bold\">)</span>.\n",
       "</pre>\n"
      ],
      "text/plain": [
       "    - Argo is a remotely operated vehicle \u001b[1m(\u001b[0mROV\u001b[1m)\u001b[0m.\n"
      ]
     },
     "metadata": {},
     "output_type": "display_data"
    },
    {
     "data": {
      "text/html": [
       "<pre style=\"white-space:pre;overflow-x:auto;line-height:normal;font-family:Menlo,'DejaVu Sans Mono',consolas,'Courier New',monospace\">    - The deep ocean has immense pressure.\n",
       "</pre>\n"
      ],
      "text/plain": [
       "    - The deep ocean has immense pressure.\n"
      ]
     },
     "metadata": {},
     "output_type": "display_data"
    },
    {
     "data": {
      "text/html": [
       "<pre style=\"white-space:pre;overflow-x:auto;line-height:normal;font-family:Menlo,'DejaVu Sans Mono',consolas,'Courier New',monospace\">    - Specialized equipment is required for the deep ocean.\n",
       "</pre>\n"
      ],
      "text/plain": [
       "    - Specialized equipment is required for the deep ocean.\n"
      ]
     },
     "metadata": {},
     "output_type": "display_data"
    },
    {
     "data": {
      "text/html": [
       "<pre style=\"white-space:pre;overflow-x:auto;line-height:normal;font-family:Menlo,'DejaVu Sans Mono',consolas,'Courier New',monospace\">\n",
       "\n",
       "</pre>\n"
      ],
      "text/plain": [
       "\n",
       "\n"
      ]
     },
     "metadata": {},
     "output_type": "display_data"
    },
    {
     "data": {
      "text/html": [
       "<pre style=\"white-space:pre;overflow-x:auto;line-height:normal;font-family:Menlo,'DejaVu Sans Mono',consolas,'Courier New',monospace\"><span style=\"font-weight: bold\">Chunk #</span><span style=\"color: #008080; text-decoration-color: #008080; font-weight: bold\">3</span><span style=\"font-weight: bold\"> - Environmental Conditions</span>\n",
       "</pre>\n"
      ],
      "text/plain": [
       "\u001b[1mChunk #\u001b[0m\u001b[1;36m3\u001b[0m\u001b[1m - Environmental Conditions\u001b[0m\n"
      ]
     },
     "metadata": {},
     "output_type": "display_data"
    },
    {
     "data": {
      "text/html": [
       "<pre style=\"white-space:pre;overflow-x:auto;line-height:normal;font-family:Menlo,'DejaVu Sans Mono',consolas,'Courier New',monospace\">  <span style=\"color: #008080; text-decoration-color: #008080\">ID:</span> 8bf96\n",
       "</pre>\n"
      ],
      "text/plain": [
       "  \u001b[36mID:\u001b[0m 8bf96\n"
      ]
     },
     "metadata": {},
     "output_type": "display_data"
    },
    {
     "data": {
      "text/html": [
       "<pre style=\"white-space:pre;overflow-x:auto;line-height:normal;font-family:Menlo,'DejaVu Sans Mono',consolas,'Courier New',monospace\">  <span style=\"color: #008080; text-decoration-color: #008080\">Summary:</span> This chunk contains information about the environmental conditions of different natural settings.\n",
       "</pre>\n"
      ],
      "text/plain": [
       "  \u001b[36mSummary:\u001b[0m This chunk contains information about the environmental conditions of different natural settings.\n"
      ]
     },
     "metadata": {},
     "output_type": "display_data"
    },
    {
     "data": {
      "text/html": [
       "<pre style=\"white-space:pre;overflow-x:auto;line-height:normal;font-family:Menlo,'DejaVu Sans Mono',consolas,'Courier New',monospace\">  <span style=\"color: #008080; text-decoration-color: #008080\">Propositions </span><span style=\"color: #008080; text-decoration-color: #008080; font-weight: bold\">(</span><span style=\"color: #008080; text-decoration-color: #008080; font-weight: bold\">1</span><span style=\"color: #008080; text-decoration-color: #008080; font-weight: bold\">)</span><span style=\"color: #008080; text-decoration-color: #008080\">:</span>\n",
       "</pre>\n"
      ],
      "text/plain": [
       "  \u001b[36mPropositions \u001b[0m\u001b[1;36m(\u001b[0m\u001b[1;36m1\u001b[0m\u001b[1;36m)\u001b[0m\u001b[36m:\u001b[0m\n"
      ]
     },
     "metadata": {},
     "output_type": "display_data"
    },
    {
     "data": {
      "text/html": [
       "<pre style=\"white-space:pre;overflow-x:auto;line-height:normal;font-family:Menlo,'DejaVu Sans Mono',consolas,'Courier New',monospace\">    - The deep ocean has complete darkness.\n",
       "</pre>\n"
      ],
      "text/plain": [
       "    - The deep ocean has complete darkness.\n"
      ]
     },
     "metadata": {},
     "output_type": "display_data"
    },
    {
     "data": {
      "text/html": [
       "<pre style=\"white-space:pre;overflow-x:auto;line-height:normal;font-family:Menlo,'DejaVu Sans Mono',consolas,'Courier New',monospace\">\n",
       "\n",
       "</pre>\n"
      ],
      "text/plain": [
       "\n",
       "\n"
      ]
     },
     "metadata": {},
     "output_type": "display_data"
    },
    {
     "data": {
      "text/html": [
       "<pre style=\"white-space:pre;overflow-x:auto;line-height:normal;font-family:Menlo,'DejaVu Sans Mono',consolas,'Courier New',monospace\"><span style=\"font-weight: bold; text-decoration: underline\">Final Chunk Outline</span>\n",
       "\n",
       "</pre>\n"
      ],
      "text/plain": [
       "\u001b[1;4mFinal Chunk Outline\u001b[0m\n",
       "\n"
      ]
     },
     "metadata": {},
     "output_type": "display_data"
    },
    {
     "data": {
      "text/html": [
       "<pre style=\"white-space:pre;overflow-x:auto;line-height:normal;font-family:Menlo,'DejaVu Sans Mono',consolas,'Courier New',monospace\">Chunk <span style=\"font-weight: bold\">(</span>ba06f<span style=\"font-weight: bold\">)</span>: Historical Events &amp; Dates\n",
       "Summary: This chunk contains information about significant events and their corresponding dates.\n",
       "\n",
       "Chunk <span style=\"font-weight: bold\">(</span>3c14d<span style=\"font-weight: bold\">)</span>: Exploration &amp; Discovery\n",
       "Summary: This chunk contains information about notable achievements, challenges, and key figures in exploration, \n",
       "including space and oceanic endeavors.\n",
       "\n",
       "Chunk <span style=\"font-weight: bold\">(</span>5c2ce<span style=\"font-weight: bold\">)</span>: Extreme Environment Technology\n",
       "Summary: This chunk contains information about tools and technology used in exploring extreme environments.\n",
       "\n",
       "Chunk <span style=\"font-weight: bold\">(</span>8bf96<span style=\"font-weight: bold\">)</span>: Environmental Conditions\n",
       "Summary: This chunk contains information about the environmental conditions of different natural settings.\n",
       "\n",
       "\n",
       "</pre>\n"
      ],
      "text/plain": [
       "Chunk \u001b[1m(\u001b[0mba06f\u001b[1m)\u001b[0m: Historical Events & Dates\n",
       "Summary: This chunk contains information about significant events and their corresponding dates.\n",
       "\n",
       "Chunk \u001b[1m(\u001b[0m3c14d\u001b[1m)\u001b[0m: Exploration & Discovery\n",
       "Summary: This chunk contains information about notable achievements, challenges, and key figures in exploration, \n",
       "including space and oceanic endeavors.\n",
       "\n",
       "Chunk \u001b[1m(\u001b[0m5c2ce\u001b[1m)\u001b[0m: Extreme Environment Technology\n",
       "Summary: This chunk contains information about tools and technology used in exploring extreme environments.\n",
       "\n",
       "Chunk \u001b[1m(\u001b[0m8bf96\u001b[1m)\u001b[0m: Environmental Conditions\n",
       "Summary: This chunk contains information about the environmental conditions of different natural settings.\n",
       "\n",
       "\n"
      ]
     },
     "metadata": {},
     "output_type": "display_data"
    }
   ],
   "source": [
    "import uuid\n",
    "import os\n",
    "from typing import Optional\n",
    "\n",
    "from langchain_core.prompts import ChatPromptTemplate\n",
    "from langchain_groq import ChatGroq\n",
    "from pydantic import BaseModel  # <-- THIS IS THE CORRECTED LINE\n",
    "from langchain_core.output_parsers import PydanticOutputParser\n",
    "# from dotenv import load_dotenv\n",
    "from rich import print\n",
    "\n",
    "class AgenticChunker:\n",
    "    def __init__(self, groq_api_key=None):\n",
    "        \"\"\"\n",
    "        Initializes the AgenticChunker.\n",
    "        It's recommended to set the GROQ_API_KEY in a .env file.\n",
    "        \"\"\"\n",
    "        # load_dotenv() # Loads environment variables from a .env file\n",
    "        \n",
    "        self.chunks = {}\n",
    "        self.id_truncate_limit = 5\n",
    "\n",
    "        # Whether or not to update/refine summaries and titles as you get new information\n",
    "        self.generate_new_metadata_ind = True\n",
    "        self.print_logging = True\n",
    "\n",
    "        # if groq_api_key is None:\n",
    "        #     groq_api_key = os.getenv(\"GROQ_API_KEY\")\n",
    "\n",
    "        # if groq_api_key is None:\n",
    "        #     raise ValueError(\"Groq API key is not provided. Please set it as an environment variable 'GROQ_API_KEY' in a .env file.\")\n",
    "\n",
    "        self.llm  = ChatGroq(\n",
    "            temperature=0.2,\n",
    "            model_name=\"llama3-70b-8192\", # Recommended model for this complexity\n",
    "            api_key=\"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\"\n",
    "        )\n",
    "\n",
    "    def add_propositions(self, propositions):\n",
    "        for proposition in propositions:\n",
    "            self.add_proposition(proposition)\n",
    "    \n",
    "    def add_proposition(self, proposition):\n",
    "        if self.print_logging:\n",
    "            print (f\"\\n[bold]Adding[/bold]: '{proposition}'\")\n",
    "\n",
    "        # If it's your first chunk, just make a new chunk and don't check for others\n",
    "        if len(self.chunks) == 0:\n",
    "            if self.print_logging:\n",
    "                print (\"[italic]No chunks exist, creating a new one...[/italic]\")\n",
    "            self._create_new_chunk(proposition)\n",
    "            return\n",
    "\n",
    "        chunk_id = self._find_relevant_chunk(proposition)\n",
    "\n",
    "        # If a chunk was found then add the proposition to it\n",
    "        if chunk_id:\n",
    "            if self.print_logging:\n",
    "                print (f\"[green]Chunk Found ({self.chunks[chunk_id]['chunk_id']}), adding to: {self.chunks[chunk_id]['title']}[/green]\")\n",
    "            self.add_proposition_to_chunk(chunk_id, proposition)\n",
    "            return\n",
    "        else:\n",
    "            if self.print_logging:\n",
    "                print (\"[yellow]No relevant chunk found, creating a new one...[/yellow]\")\n",
    "            # If a chunk wasn't found, then create a new one\n",
    "            self._create_new_chunk(proposition)\n",
    "        \n",
    "    def add_proposition_to_chunk(self, chunk_id, proposition):\n",
    "        # Add proposition\n",
    "        self.chunks[chunk_id]['propositions'].append(proposition)\n",
    "\n",
    "        # Update summary and title\n",
    "        if self.generate_new_metadata_ind:\n",
    "            self.chunks[chunk_id]['summary'] = self._update_chunk_summary(self.chunks[chunk_id])\n",
    "            self.chunks[chunk_id]['title'] = self._update_chunk_title(self.chunks[chunk_id])\n",
    "\n",
    "    def _update_chunk_summary(self, chunk):\n",
    "        \"\"\"\n",
    "        If you add a new proposition to a chunk, you may want to update the summary or else they could get stale\n",
    "        \"\"\"\n",
    "        PROMPT = ChatPromptTemplate.from_messages(\n",
    "            [\n",
    "                (\n",
    "                    \"system\",\n",
    "                    \"\"\"\n",
    "                    You are the steward of a group of chunks which represent groups of sentences that talk about a similar topic.\n",
    "                    A new proposition was just added to one of your chunks. Generate a very brief, 1-sentence summary for the chunk.\n",
    "                    A good summary will say what the chunk is about and give clarifying instructions on what else to add.\n",
    "                    Your summaries should anticipate generalization. If you get a proposition about apples, generalize it to food.\n",
    "                    Or a month, generalize it to \"date and times\".\n",
    "\n",
    "                    Example:\n",
    "                    Input: Proposition: Greg likes to eat pizza\n",
    "                    Output: This chunk contains information about the types of food Greg likes to eat.\n",
    "\n",
    "                    Only respond with the new chunk summary, nothing else.\n",
    "                    \"\"\",\n",
    "                ),\n",
    "                (\"user\", \"Chunk's propositions:\\n{propositions}\\n\\nCurrent chunk summary:\\n{current_summary}\"),\n",
    "            ]\n",
    "        )\n",
    "\n",
    "        runnable = PROMPT | self.llm\n",
    "\n",
    "        new_chunk_summary = runnable.invoke({\n",
    "            \"propositions\": \"\\n\".join(chunk['propositions']),\n",
    "            \"current_summary\" : chunk['summary']\n",
    "        }).content\n",
    "\n",
    "        return new_chunk_summary\n",
    "    \n",
    "    def _update_chunk_title(self, chunk):\n",
    "        \"\"\"\n",
    "        If you add a new proposition to a chunk, you may want to update the title or else it can get stale\n",
    "        \"\"\"\n",
    "        PROMPT = ChatPromptTemplate.from_messages(\n",
    "            [\n",
    "                (\n",
    "                    \"system\",\n",
    "                    \"\"\"\n",
    "                    You are the steward of a group of chunks which represent groups of sentences that talk about a similar topic.\n",
    "                    A new proposition was just added to one of your chunks. Generate a very brief, updated chunk title.\n",
    "                    A good title will say what the chunk is about.\n",
    "                    Your titles should anticipate generalization. If you get a proposition about apples, generalize it to food.\n",
    "                    Or a month, generalize it to \"date and times\".\n",
    "\n",
    "                    Example:\n",
    "                    Input: Summary: This chunk is about dates and times that the author talks about\n",
    "                    Output: Date & Times\n",
    "\n",
    "                    Only respond with the new chunk title, nothing else.\n",
    "                    \"\"\",\n",
    "                ),\n",
    "                (\"user\", \"Chunk's propositions:\\n{propositions}\\n\\nChunk summary:\\n{current_summary}\\n\\nCurrent chunk title:\\n{current_title}\"),\n",
    "            ]\n",
    "        )\n",
    "\n",
    "        runnable = PROMPT | self.llm\n",
    "\n",
    "        updated_chunk_title = runnable.invoke({\n",
    "            \"propositions\": \"\\n\".join(chunk['propositions']),\n",
    "            \"current_summary\" : chunk['summary'],\n",
    "            \"current_title\" : chunk['title']\n",
    "        }).content\n",
    "\n",
    "        return updated_chunk_title\n",
    "\n",
    "    def _get_new_chunk_summary(self, proposition):\n",
    "        PROMPT = ChatPromptTemplate.from_messages(\n",
    "            [\n",
    "                (\n",
    "                    \"system\",\n",
    "                    \"\"\"\n",
    "                    You are the steward of a group of chunks which represent groups of sentences that talk about a similar topic.\n",
    "                    Generate a very brief, 1-sentence summary for a new chunk based on the given proposition.\n",
    "                    A good summary will say what the chunk is about and give clarifying instructions on what else to add.\n",
    "                    Your summaries should anticipate generalization. If you get a proposition about apples, generalize it to food.\n",
    "                    Or a month, generalize it to \"date and times\".\n",
    "\n",
    "                    Example:\n",
    "                    Input: Proposition: Greg likes to eat pizza\n",
    "                    Output: This chunk contains information about the types of food Greg likes to eat.\n",
    "\n",
    "                    Only respond with the new chunk summary, nothing else.\n",
    "                    \"\"\",\n",
    "                ),\n",
    "                (\"user\", \"Determine the summary of the new chunk that this proposition will go into:\\n{proposition}\"),\n",
    "            ]\n",
    "        )\n",
    "\n",
    "        runnable = PROMPT | self.llm\n",
    "        return runnable.invoke({\"proposition\": proposition}).content\n",
    "    \n",
    "    def _get_new_chunk_title(self, summary):\n",
    "        PROMPT = ChatPromptTemplate.from_messages(\n",
    "            [\n",
    "                (\n",
    "                    \"system\",\n",
    "                    \"\"\"\n",
    "                    You are the steward of a group of chunks which represent groups of sentences that talk about a similar topic.\n",
    "                    Generate a very brief, few-word chunk title based on the given chunk summary.\n",
    "                    A good chunk title is brief but encompasses what the chunk is about.\n",
    "                    Your titles should anticipate generalization.\n",
    "\n",
    "                    Example:\n",
    "                    Input: Summary: This chunk is about dates and times that the author talks about.\n",
    "                    Output: Date & Times\n",
    "\n",
    "                    Only respond with the new chunk title, nothing else.\n",
    "                    \"\"\",\n",
    "                ),\n",
    "                (\"user\", \"Determine the title of the chunk that this summary belongs to:\\n{summary}\"),\n",
    "            ]\n",
    "        )\n",
    "\n",
    "        runnable = PROMPT | self.llm\n",
    "        return runnable.invoke({\"summary\": summary}).content\n",
    "\n",
    "    def _create_new_chunk(self, proposition):\n",
    "        new_chunk_id = str(uuid.uuid4())[:self.id_truncate_limit]\n",
    "        new_chunk_summary = self._get_new_chunk_summary(proposition)\n",
    "        new_chunk_title = self._get_new_chunk_title(new_chunk_summary)\n",
    "\n",
    "        self.chunks[new_chunk_id] = {\n",
    "            'chunk_id' : new_chunk_id,\n",
    "            'propositions': [proposition],\n",
    "            'title' : new_chunk_title,\n",
    "            'summary': new_chunk_summary,\n",
    "            'chunk_index' : len(self.chunks)\n",
    "        }\n",
    "        if self.print_logging:\n",
    "            print (f\"[bold blue]Created new chunk ({new_chunk_id}): {new_chunk_title}[/bold blue]\")\n",
    "    \n",
    "    def get_chunk_outline(self):\n",
    "        \"\"\"\n",
    "        Get a string which represents the chunks you currently have.\n",
    "        \"\"\"\n",
    "        if not self.chunks:\n",
    "            return \"No chunks yet.\"\n",
    "            \n",
    "        chunk_outline = \"\"\n",
    "        for chunk_id, chunk in self.chunks.items():\n",
    "            single_chunk_string = f\"\"\"Chunk ({chunk['chunk_id']}): {chunk['title']}\\nSummary: {chunk['summary']}\\n\\n\"\"\"\n",
    "            chunk_outline += single_chunk_string\n",
    "        return chunk_outline\n",
    "\n",
    "    def _find_relevant_chunk(self, proposition):\n",
    "        current_chunk_outline = self.get_chunk_outline()\n",
    "\n",
    "        PROMPT = ChatPromptTemplate.from_messages(\n",
    "            [\n",
    "                (\n",
    "                    \"system\",\n",
    "                    \"\"\"\n",
    "                    Determine if the \"Proposition\" belongs to any existing chunks based on semantic similarity.\n",
    "                    If it belongs, return ONLY the chunk_id.\n",
    "                    If not, return ONLY the string \"No chunks\".\n",
    "                    \n",
    "                    Example 1:\n",
    "                    Proposition: \"Greg really likes hamburgers\"\n",
    "                    Current Chunks:\n",
    "                    Chunk (2n4l3): Places in San Francisco\n",
    "                    Summary: Things to do in San Francisco.\n",
    "                    \n",
    "                    Chunk (9383k): Food Greg Likes\n",
    "                    Summary: Lists of food and dishes that Greg likes.\n",
    "                    Output: 9383k\n",
    "\n",
    "                    Example 2:\n",
    "                    Proposition: \"The sky is blue.\"\n",
    "                    Current Chunks:\n",
    "                    Chunk (9383k): Food Greg Likes\n",
    "                    Summary: Lists of food and dishes that Greg likes.\n",
    "                    Output: No chunks\n",
    "                    \"\"\",\n",
    "                ),\n",
    "                (\"user\", \"Current Chunks:\\n---\\n{current_chunk_outline}\\n---\\nProposition to evaluate: '{proposition}'\"),\n",
    "            ]\n",
    "        )\n",
    "\n",
    "        runnable = PROMPT | self.llm\n",
    "        chunk_found_response = runnable.invoke({\n",
    "            \"proposition\": proposition,\n",
    "            \"current_chunk_outline\": current_chunk_outline\n",
    "        }).content\n",
    "\n",
    "        class ChunkID(BaseModel):\n",
    "            \"\"\"Extracting the chunk id\"\"\"\n",
    "            chunk_id: Optional[str] = None\n",
    "\n",
    "        parser = PydanticOutputParser(pydantic_object=ChunkID)\n",
    "\n",
    "        extraction_prompt = ChatPromptTemplate.from_template(\n",
    "            \"\"\"\n",
    "            Parse the user's text to find a chunk ID. The chunk ID is a short alphanumeric string. \n",
    "            If no chunk ID is found, return null for the chunk_id field.\n",
    "            {format_instructions}\n",
    "            Text to parse:\n",
    "            {text_to_parse}\n",
    "            \"\"\",\n",
    "            partial_variables={\"format_instructions\": parser.get_format_instructions()},\n",
    "        )\n",
    "\n",
    "        extraction_chain = extraction_prompt | self.llm | parser\n",
    "\n",
    "        try:\n",
    "            parsed_result = extraction_chain.invoke({\"text_to_parse\": chunk_found_response})\n",
    "            chunk_found = parsed_result.chunk_id\n",
    "        except Exception as e:\n",
    "            if self.print_logging:\n",
    "                print(f\"[red]Could not parse chunk ID from response: '{chunk_found_response}'. Error: {e}[/red]\")\n",
    "            chunk_found = None\n",
    "\n",
    "        if chunk_found is None or chunk_found not in self.chunks:\n",
    "            return None\n",
    "\n",
    "        return chunk_found\n",
    "    \n",
    "    def get_chunks(self, get_type='dict'):\n",
    "        \"\"\"\n",
    "        Returns chunks as a dictionary or a list of joined strings.\n",
    "        \"\"\"\n",
    "        if get_type == 'dict':\n",
    "            return self.chunks\n",
    "        if get_type == 'list_of_strings':\n",
    "            return [\" \".join(chunk['propositions']) for chunk in self.chunks.values()]\n",
    "        return self.chunks\n",
    "    \n",
    "    def pretty_print_chunks(self):\n",
    "        print(f\"\\n\\n[bold underline]Final Chunks ({len(self.chunks)} total)[/bold underline]\\n\")\n",
    "        for chunk_id, chunk in self.chunks.items():\n",
    "            print(f\"[bold]Chunk #{chunk['chunk_index']} - {chunk['title']}[/bold]\")\n",
    "            print(f\"  [cyan]ID:[/cyan] {chunk_id}\")\n",
    "            print(f\"  [cyan]Summary:[/cyan] {chunk['summary']}\")\n",
    "            print(f\"  [cyan]Propositions ({len(chunk['propositions'])}):[/cyan]\")\n",
    "            for prop in chunk['propositions']:\n",
    "                print(f\"    - {prop}\")\n",
    "            print(\"\\n\")\n",
    "\n",
    "    def pretty_print_chunk_outline(self):\n",
    "        print(\"[bold underline]Final Chunk Outline[/bold underline]\\n\")\n",
    "        print(self.get_chunk_outline())\n",
    "\n",
    "\n",
    "if __name__ == \"__main__\":\n",
    "    ac = AgenticChunker()\n",
    "\n",
    "    # propositions = [\n",
    "    #     'The month is October.',\n",
    "    #     'The year is 2023.',\n",
    "    #     \"One of the most important things that I didn't understand about the world as a child was the degree to which the returns for performance are superlinear.\",\n",
    "    #     'Teachers and coaches implicitly told us that the returns were linear.',\n",
    "    #     \"I heard a thousand times that 'You get out what you put in.'\",\n",
    "    #     'Teachers and coaches meant well.',\n",
    "    #     \"The statement that 'You get out what you put in' is rarely true.\",\n",
    "    #     \"If your product is only half as good as your competitor's product, you do not get half as many customers.\",\n",
    "    #     \"You get no customers if your product is only half as good as your competitor's product.\",\n",
    "    #     'You go out of business if you get no customers.',\n",
    "    #     'The returns for performance are superlinear in business.',\n",
    "    #     'Some people think the superlinear returns for performance are a flaw of capitalism.',\n",
    "    #     'Some people think that changing the rules of capitalism would stop the superlinear returns for performance from being true.',\n",
    "    #     'Superlinear returns for performance are a feature of the world.',\n",
    "    #     'Superlinear returns for performance are not an artifact of rules that humans have invented.',\n",
    "    #     'The same pattern of superlinear returns is observed in fame.',\n",
    "    #     'The same pattern of superlinear returns is observed in power.',\n",
    "    #     'The same pattern of superlinear returns is observed in military victories.',\n",
    "    #     'The same pattern of superlinear returns is observed in knowledge.',\n",
    "    #     'The same pattern of superlinear returns is observed in benefit to humanity.',\n",
    "    #     'In fame, power, military victories, knowledge, and benefit to humanity, the rich get richer.'\n",
    "    # ]\n",
    "    \n",
    "    ac.add_propositions(text_propositions)\n",
    "    ac.pretty_print_chunks()\n",
    "    ac.pretty_print_chunk_outline()"
   ]
  },
  {
   "cell_type": "code",
   "execution_count": null,
   "id": "476acc84",
   "metadata": {},
   "outputs": [],
   "source": [
    "print(\"hello\")"
   ]
  }
 ],
 "metadata": {
  "kernelspec": {
   "display_name": "chatbot",
   "language": "python",
   "name": "python3"
  },
  "language_info": {
   "codemirror_mode": {
    "name": "ipython",
    "version": 3
   },
   "file_extension": ".py",
   "mimetype": "text/x-python",
   "name": "python",
   "nbconvert_exporter": "python",
   "pygments_lexer": "ipython3",
   "version": "3.13.2"
  }
 },
 "nbformat": 4,
 "nbformat_minor": 5
}
