{
 "cells": [
  {
   "cell_type": "code",
   "execution_count": 1,
   "id": "d794efcf",
   "metadata": {},
   "outputs": [],
   "source": [
    "import pandas "
   ]
  },
  {
   "cell_type": "code",
   "execution_count": null,
   "id": "010c9f70",
   "metadata": {},
   "outputs": [],
   "source": []
  },
  {
   "cell_type": "code",
   "execution_count": 2,
   "id": "9b65f09f",
   "metadata": {},
   "outputs": [],
   "source": [
    "from datetime import datetime\n",
    "import csv\n",
    "\n",
    "data = [\n",
    "    {'name': 'Alice', 'x': 1, 'y': 2, 'z': 3, 'date': datetime.now().strftime('%Y-%m-%d')},\n",
    "    {'name': 'Alice', 'x': 4, 'y': 5, 'z': 6, 'date': datetime.now().strftime('%Y-%m-%d')},\n",
    "    {'name': 'Alice', 'x': 7, 'y': 8, 'z': 9, 'date': datetime.now().strftime('%Y-%m-%d')},\n",
    "    {'name': 'Bob', 'x': 10, 'y': 11, 'z': 12, 'date': datetime.now().strftime('%Y-%m-%d')},\n",
    "    {'name': 'Bob', 'x': 13, 'y': 14, 'z': 15, 'date': datetime.now().strftime('%Y-%m-%d')},\n",
    "    {'name': 'Bob', 'x': 16, 'y': 17, 'z': 18, 'date': datetime.now().strftime('%Y-%m-%d')},\n",
    "    {'name': 'Charlie', 'x': 19, 'y': 20, 'z': 21, 'date': datetime.now().strftime('%Y-%m-%d')},\n",
    "    {'name': 'Charlie', 'x': 22, 'y': 23, 'z': 24, 'date': datetime.now().strftime('%Y-%m-%d')},\n",
    "    {'name': 'Charlie', 'x': 25, 'y': 26, 'z': 27, 'date': datetime.now().strftime('%Y-%m-%d')},\n",
    "    {'name': 'Alice', 'x': 28, 'y': 29, 'z': 30, 'date': datetime.now().strftime('%Y-%m-%d')}\n",
    "]\n",
    "\n",
    "with open('output.csv', 'w', newline='') as csvfile:\n",
    "    fieldnames = ['name', 'x', 'y', 'z', 'date']\n",
    "    writer = csv.DictWriter(csvfile, fieldnames=fieldnames)\n",
    "    writer.writeheader()\n",
    "    for row in data:\n",
    "        writer.writerow(row)"
   ]
  },
  {
   "cell_type": "code",
   "execution_count": null,
   "id": "4cb45ebb",
   "metadata": {},
   "outputs": [],
   "source": []
  }
 ],
 "metadata": {
  "kernelspec": {
   "display_name": "chatbot",
   "language": "python",
   "name": "python3"
  },
  "language_info": {
   "codemirror_mode": {
    "name": "ipython",
    "version": 3
   },
   "file_extension": ".py",
   "mimetype": "text/x-python",
   "name": "python",
   "nbconvert_exporter": "python",
   "pygments_lexer": "ipython3",
   "version": "3.13.2"
  }
 },
 "nbformat": 4,
 "nbformat_minor": 5
}
