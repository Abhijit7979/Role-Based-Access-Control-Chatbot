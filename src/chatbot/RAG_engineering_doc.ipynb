{
 "cells": [
  {
   "cell_type": "code",
   "execution_count": 1,
   "id": "ee87512c",
   "metadata": {},
   "outputs": [],
   "source": [
    "import os \n",
    "from dotenv import load_dotenv\n",
    "\n",
    "# load_dotenv(\"../../.env\")\n",
    "\n",
    "os.environ[\"GROQ_API_KEY\"] = os.getenv(\"GROQ_API_KEY\")\n",
    "os.environ[\"OPENAI_API_KEY\"] = os.getenv(\"OPENAI_API_KEY\")\n",
    "os.environ[\"LANGCHAIN_API_KEY\"]=os.getenv(\"LANGCHAIN_API_KEY\")\n",
    "os.environ[\"LANGCHAIN_TRACING_V2\"] = \"true\"\n",
    "os.environ[\"LANGCHAIN_PROJECT\"]=\"ROLE_BASED_ACCESS_CONTROL\"\n",
    "os.environ[\"LANGSMITH_ENDPOINT\"]=os.getenv(\"LANGSMITH_ENDPOINT\")"
   ]
  },
  {
   "cell_type": "code",
   "execution_count": 2,
   "id": "a4b779ba",
   "metadata": {},
   "outputs": [
    {
     "name": "stdout",
     "output_type": "stream",
     "text": [
      "ROLE_BASED_ACCESS_CONTROL\n"
     ]
    }
   ],
   "source": [
    "!echo $LANGCHAIN_PROJECT"
   ]
  },
  {
   "cell_type": "code",
   "execution_count": 3,
   "id": "580a3982",
   "metadata": {},
   "outputs": [],
   "source": [
    "from langchain_community.embeddings import OpenAIEmbeddings\n",
    "from langchain_core.messages import HumanMessage,SystemMessage,ToolMessage\n",
    "from langchain_core.prompts import ChatPromptTemplate,MessagesPlaceholder\n",
    "from langchain_chroma import Chroma \n",
    "from langchain.chains.combine_documents import create_stuff_documents_chain  \n",
    "from langchain_openai import ChatOpenAI\n"
   ]
  },
  {
   "cell_type": "markdown",
   "id": "672cf642",
   "metadata": {},
   "source": [
    "#### Calling LLM"
   ]
  },
  {
   "cell_type": "code",
   "execution_count": 4,
   "id": "e2aed685",
   "metadata": {},
   "outputs": [],
   "source": [
    "llm=ChatOpenAI(model=\"gpt-5\")"
   ]
  },
  {
   "cell_type": "markdown",
   "id": "6a9d6dbf",
   "metadata": {},
   "source": [
    "#### Embedding model "
   ]
  },
  {
   "cell_type": "code",
   "execution_count": 5,
   "id": "3e43c834",
   "metadata": {},
   "outputs": [
    {
     "name": "stderr",
     "output_type": "stream",
     "text": [
      "/var/folders/dd/ffn14k7x4bz7kmmd0l7kmqg80000gn/T/ipykernel_10945/2347312799.py:1: LangChainDeprecationWarning: The class `OpenAIEmbeddings` was deprecated in LangChain 0.0.9 and will be removed in 1.0. An updated version of the class exists in the :class:`~langchain-openai package and should be used instead. To use it run `pip install -U :class:`~langchain-openai` and import as `from :class:`~langchain_openai import OpenAIEmbeddings``.\n",
      "  embedding=OpenAIEmbeddings(model=\"text-embedding-3-large\")\n"
     ]
    }
   ],
   "source": [
    "embedding=OpenAIEmbeddings(model=\"text-embedding-3-large\")"
   ]
  },
  {
   "cell_type": "markdown",
   "id": "e1d38885",
   "metadata": {},
   "source": [
    "#### Loading vector DB "
   ]
  },
  {
   "cell_type": "code",
   "execution_count": 6,
   "id": "8da4ee47",
   "metadata": {},
   "outputs": [],
   "source": [
    "db2=Chroma(persist_directory=\"../vector_data/Engineering_doc\",embedding_function=embedding)"
   ]
  },
  {
   "cell_type": "markdown",
   "id": "245bf2e3",
   "metadata": {},
   "source": [
    "#### Converted vector db into retriever "
   ]
  },
  {
   "cell_type": "code",
   "execution_count": 7,
   "id": "4a55a00f",
   "metadata": {},
   "outputs": [],
   "source": [
    "retriever=db2.as_retriever()"
   ]
  },
  {
   "cell_type": "code",
   "execution_count": 8,
   "id": "4fe14b7b",
   "metadata": {},
   "outputs": [],
   "source": [
    "output=retriever.invoke(\"Company Overview\")"
   ]
  },
  {
   "cell_type": "code",
   "execution_count": 9,
   "id": "c393b79c",
   "metadata": {},
   "outputs": [
    {
     "name": "stderr",
     "output_type": "stream",
     "text": [
      "/var/folders/dd/ffn14k7x4bz7kmmd0l7kmqg80000gn/T/ipykernel_10945/3935937752.py:1: LangChainDeprecationWarning: The method `BaseRetriever.get_relevant_documents` was deprecated in langchain-core 0.1.46 and will be removed in 1.0. Use :meth:`~invoke` instead.\n",
      "  retriever.get_relevant_documents(\"Company Overview \")\n"
     ]
    },
    {
     "data": {
      "text/plain": [
       "[Document(id='0f3aa999-943b-459a-ba0d-4360729afa02', metadata={'Header 1': 'FinSolve Technologies Engineering Document', 'Header 2': '1. Introduction', 'Header 3': '1.1 Company Overview'}, page_content='# FinSolve Technologies Engineering Document  \\n## 1. Introduction  \\n### 1.1 Company Overview\\nFinSolve Technologies is a leading FinTech company headquartered in Bangalore, India, with operations across North America, Europe, and Asia-Pacific. Founded in 2018, FinSolve provides innovative financial solutions, including digital banking, payment processing, wealth management, and enterprise financial analytics, serving over 2 million individual users and 10,000 businesses globally.'),\n",
       " Document(id='b3e5b5ea-ee0d-414e-a50f-1d7584e86ec1', metadata={'Header 1': 'FinSolve Technologies Engineering Document', 'Header 3': '9.2 Long-Term Strategic Direction (2026–2027)', 'Header 2': '9. Future Roadmap'}, page_content='### 9.2 Long-Term Strategic Direction (2026–2027)  \\n#### 9.2.1 Global Market Expansion\\n* **Geographic Targets**:\\n* Latin America (Brazil, Mexico)\\n* Africa (Nigeria, Kenya)\\n* Southeast Asia (Vietnam, Philippines)\\n* **Infrastructure**:\\n* Regional data centers\\n* Edge computing for lower latency\\n* Multi-region high availability  \\n#### 9.2.2 Open Banking Ecosystem\\n* **API Marketplace**:\\n* Developer portal and SDK\\n* Partner integration platform\\n* Revenue sharing model\\n* **Regulatory Compliance**:\\n* PSD2 and equivalent standards\\n* Strong Customer Authentication (SCA)\\n* Consent management framework  \\n#### 9.2.3 Next-Generation Infrastructure\\n* **Serverless Architecture**:\\n* Function-as-a-Service for suitable workloads\\n* Event-driven processing\\n* Pay-per-use cost model\\n* **Zero-Downtime Operations**:\\n* Advanced canary deployments with Istio\\n* Self-healing infrastructure\\n* Chaos engineering practice'),\n",
       " Document(id='472e1594-e5ea-45e8-9bf0-e95bcef7a53c', metadata={'Header 3': '2.3 Key Components', 'Header 1': 'FinSolve Technologies Engineering Document', 'Header 2': '2. System Architecture'}, page_content='### 2.3 Key Components  \\n#### 2.3.1 Client Applications\\n* **Mobile Apps**: Native mobile applications developed using Swift (iOS) and Kotlin (Android), providing a seamless user experience with biometric authentication, push notifications, and offline capabilities.\\n* **Web Application**: A responsive Single Page Application (SPA) built with React, Redux, and Tailwind CSS, optimized for various screen sizes and compliant with WCAG 2.1 accessibility standards.\\n* **API Interfaces**: RESTful and GraphQL APIs enabling third-party integrations, partner systems, and future expansions.  \\n#### 2.3.2 API Gateway\\n* Centralized entry point for all client requests\\n* Implements authentication, authorization, and rate limiting\\n* Provides API versioning and documentation via Swagger/OpenAPI\\n* Handles request logging and basic analytics\\n* AWS API Gateway with custom Lambda authorizers for sophisticated permission models  \\n#### 2.3.3 Microservices\\n* **Authentication Service**: Manages user identity, authentication (OAuth 2.0), and authorization using JWT tokens. Supports multi-factor authentication and Single Sign-On (SSO).\\n* **Payment Processing Service**: Handles domestic and international payment transactions, recurring payments, and reconciliation with multiple payment gateways.\\n* **Wealth Management Service**: Provides portfolio management, investment recommendations, and financial goal tracking.\\n* **Analytics Service**: Processes user financial data to deliver insights, spending patterns, and budgeting recommendations.\\n* **Notification Service**: Manages push notifications, emails, and SMS alerts based on user preferences and system events.  \\n#### 2.3.4 Data Layer\\n* **PostgreSQL**: Primary relational database for transactional data requiring ACID compliance.\\n* **MongoDB**: NoSQL database storing user profiles, preferences, and semi-structured data.\\n* **Redis**: In-memory data store for caching, session management, and pub/sub messaging between services.\\n* **Amazon S3**: Object storage for documents, statements, user uploads, and encrypted backups.  \\n#### 2.3.5 Infrastructure\\n* **AWS**: Primary cloud provider utilizing EC2, ECS, Lambda, RDS, S3, CloudFront, and other managed services.\\n* **Kubernetes**: Container orchestration platform managing microservices deployment, scaling, and failover.\\n* **Cloudflare**: Content Delivery Network (CDN) and security layer providing DDoS protection, Web Application Firewall (WAF), and edge caching.'),\n",
       " Document(id='b441aa1a-7e48-41c6-9791-6b3eb002e5c5', metadata={'Header 2': '1. Introduction', 'Header 3': '1.2 Purpose', 'Header 1': 'FinSolve Technologies Engineering Document'}, page_content='### 1.2 Purpose\\nThis engineering document outlines the technical architecture, development processes, and operational guidelines for FinSolve\\'s product ecosystem. It serves as a comprehensive guide for engineering teams, stakeholders, and partners to ensure alignment with FinSolve\\'s mission: \"To empower financial freedom through secure, scalable, and innovative technology solutions.\"')]"
      ]
     },
     "execution_count": 9,
     "metadata": {},
     "output_type": "execute_result"
    }
   ],
   "source": [
    "retriever.get_relevant_documents(\"Company Overview \")"
   ]
  },
  {
   "cell_type": "code",
   "execution_count": 10,
   "id": "62d9fb8a",
   "metadata": {},
   "outputs": [],
   "source": [
    "prompt=ChatPromptTemplate.from_template(\n",
    "    \"\"\"\n",
    "    You are a helpful assistant. Your name is FinSolve bot.\n",
    "    - output should be like first line user question must be there\n",
    "    - answer question of user using below context \n",
    "    <context>\n",
    "    {context}\n",
    "    </context>\n",
    "    <user_input>\n",
    "    {input}\n",
    "    </user_input>\n",
    "    \"\"\"\n",
    ")\n",
    "\n"
   ]
  },
  {
   "cell_type": "code",
   "execution_count": 11,
   "id": "064c7061",
   "metadata": {},
   "outputs": [],
   "source": [
    "chain=create_stuff_documents_chain(llm,prompt)"
   ]
  },
  {
   "cell_type": "code",
   "execution_count": 12,
   "id": "8df55739",
   "metadata": {},
   "outputs": [],
   "source": [
    "user=\"hi,i am abhijit and tell me about company\"\n",
    "\n",
    "result=chain.invoke({\"input\":user,\n",
    "                     \"context\":retriever.get_relevant_documents(user)\n",
    "})"
   ]
  },
  {
   "cell_type": "code",
   "execution_count": 13,
   "id": "cdd14b49",
   "metadata": {},
   "outputs": [
    {
     "name": "stdout",
     "output_type": "stream",
     "text": [
      "hi,i am abhijit and tell me about company\n",
      "\n",
      "Hi Abhijit! Here’s a quick overview of FinSolve Technologies:\n",
      "\n",
      "- Who we are: A leading FinTech company founded in 2018, headquartered in Bangalore, India, with operations across North America, Europe, and Asia-Pacific.\n",
      "- What we do: Digital banking, payment processing, wealth management, and enterprise financial analytics.\n",
      "- Who we serve: 2+ million individual users and 10,000 businesses globally.\n",
      "\n",
      "What’s coming next (Q2–Q4 2025):\n",
      "- AI/ML:\n",
      "  - Personalized financial insights (spending pattern recognition, fraud anomaly detection, budget recommendations)\n",
      "  - Chatbot/virtual financial assistant with multi-language support\n",
      "- Blockchain/Crypto:\n",
      "  - Crypto wallet integration; support for Bitcoin and Ethereum\n",
      "  - Blockchain-based transaction verification\n",
      "  - Smart contracts for automated lending and escrow with transparent audit trails\n",
      "- Localization:\n",
      "  - New languages: Hindi, Spanish, Mandarin, Arabic; RTL support\n",
      "  - Regional compliance adapters and local payment method integration\n",
      "\n",
      "Document scope covered internally:\n",
      "- Architecture, SDLC, tech stack, security/compliance, testing/QA, DevOps/deployment, monitoring/maintenance, and the roadmap.\n",
      "\n",
      "Key contacts (Response SLAs):\n",
      "- Engineering Lead: engineering@finsolve.com (4 hours)\n",
      "- Security Team: security@finsolve.com (1 hour)\n",
      "- DevOps Support: devops@finsolve.com (2 hours)\n",
      "- Data Protection Officer: dpo@finsolve.com (24 hours)\n",
      "- API Support: api-support@finsolve.com (8 hours)\n",
      "\n",
      "Note: This is a living document last updated May 14, 2025. For clarifications, contact the Engineering Lead at engineering@finsolve.com.\n"
     ]
    }
   ],
   "source": [
    "print(result)"
   ]
  },
  {
   "cell_type": "code",
   "execution_count": null,
   "id": "aef3ffe5",
   "metadata": {},
   "outputs": [],
   "source": []
  }
 ],
 "metadata": {
  "kernelspec": {
   "display_name": "Python 3",
   "language": "python",
   "name": "python3"
  },
  "language_info": {
   "codemirror_mode": {
    "name": "ipython",
    "version": 3
   },
   "file_extension": ".py",
   "mimetype": "text/x-python",
   "name": "python",
   "nbconvert_exporter": "python",
   "pygments_lexer": "ipython3",
   "version": "3.12.0"
  }
 },
 "nbformat": 4,
 "nbformat_minor": 5
}
